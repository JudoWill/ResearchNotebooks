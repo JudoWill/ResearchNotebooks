{
 "metadata": {
  "name": "HIVRate"
 },
 "nbformat": 3,
 "nbformat_minor": 0,
 "worksheets": [
  {
   "cells": [
    {
     "cell_type": "code",
     "collapsed": false,
     "input": [
      "import sys\n",
      "import os, os.path\n",
      "import pandas\n",
      "sys.path.append('/home/will/PySeqUtils/')\n",
      "from GeneralSeqTools import fasta_reader, seq_align_to_ref\n",
      "os.chdir('/home/will/HIVRate/')"
     ],
     "language": "python",
     "metadata": {},
     "outputs": [],
     "prompt_number": 10
    },
    {
     "cell_type": "code",
     "collapsed": false,
     "input": [
      "ltr_seqs = []\n",
      "with open('LTRsearch.fasta') as handle:\n",
      "    for name, seq in fasta_reader(handle):\n",
      "        gi = name.split('|')[1]\n",
      "        ltr_seqs.append((gi, seq.replace('-', '')))"
     ],
     "language": "python",
     "metadata": {},
     "outputs": [],
     "prompt_number": 94
    },
    {
     "cell_type": "code",
     "collapsed": false,
     "input": [
      "from Bio import SeqIO\n",
      "from dateutil import parser\n",
      "\n",
      "\n",
      "gi2date = {}\n",
      "with open('ltrsequence.gbx.xml') as handle:\n",
      "    for rec in SeqIO.parse(handle, 'genbank'):\n",
      "        tdate = parser.parse(rec.annotations['date'])\n",
      "        gi = rec.annotations['gi']\n",
      "        gi2date[gi] = tdate"
     ],
     "language": "python",
     "metadata": {},
     "outputs": [],
     "prompt_number": 95
    },
    {
     "cell_type": "code",
     "collapsed": false,
     "input": [
      "hxb2 = \"\"\"TGGAAGGGCTAATTCACTCCCAACGAAGACAAGATATCCTTGATCTGTGGATCTACCACACACAAGGCTACTTCCCT\n",
      "GATTAGCAGAACTACACACCAGGGCCAGGGATCAGATATCCACTGACCTTTGGATGGTGCTACAAGCTAGTACCAGT\n",
      "TGAGCCAGAGAAGTTAGAAGAAGCCAACAAAGGAGAGAACACCAGCTTGTTACACCCTGTGAGCCTGCATGGAATGGATG\n",
      "ACCCGGAGAGAGAAGTGTTAGAGTGGAGGTTTGACAGCCGCCTAGCATTT--CATCACATGGCCCGAG------------\n",
      "------------AGCTGCATCCGGAGTACTTC---------AAGAACTGCT-----------------------------\n",
      "-------GACATCGA------------------------GCTTG---CT----------------------ACAA---GG\n",
      "GACTTTCCGCTGGGGACTTTCCAG-------------GGAGGCGTGGCCTGGGCGGGACT---GGGGAGTGGCGA---GC\n",
      "CCTCAGATCCTGCATATAAGCAGC---TGCTTTTTGCCTGTACTGGGTCTCTCTGGTTAGACCAGATCTGAGCCTGGGAG\n",
      "CTCTCTGGCT---AACTAGGGAACCCACTGCTTAAGCCTCAATAAAGCTTGCCT---TGAGTGCTTC---AAGTAGTGTG\n",
      "TGC---CCGTCTG---TTGTGTGACTCTGGT---AACTAGAGATCCC---TCAGAC---CCT---TTTAGTCAGTGTGG-\n",
      "--AAAATCTCT\"\"\".replace('\\n', '').replace('-', '')"
     ],
     "language": "python",
     "metadata": {},
     "outputs": [],
     "prompt_number": 96
    },
    {
     "cell_type": "code",
     "collapsed": false,
     "input": [
      "aln_seqs = []\n",
      "for gi, aln_seq in seq_align_to_ref(ltr_seqs, hxb2, max_workers = 50):\n",
      "    try:\n",
      "        aln_seqs.append((gi2date[gi], aln_seq))\n",
      "    except KeyError:\n",
      "        pass"
     ],
     "language": "python",
     "metadata": {},
     "outputs": [],
     "prompt_number": 97
    },
    {
     "cell_type": "code",
     "collapsed": false,
     "input": [
      "sorted_alns = sorted(aln_seqs, key = lambda x: x[0])"
     ],
     "language": "python",
     "metadata": {},
     "outputs": [],
     "prompt_number": 98
    },
    {
     "cell_type": "code",
     "collapsed": false,
     "input": [
      "from itertools import groupby\n",
      "from collections import defaultdict\n",
      "\n",
      "found_seqs = set()\n",
      "nums = []\n",
      "\n",
      "\n",
      "for date, seq in sorted_alns:\n",
      "    isNew = False\n",
      "    if seq not in found_seqs:\n",
      "        new_seq_num += 1\n",
      "        found_seqs.add(seq)\n",
      "        isNew = True\n",
      "    nums.append((date, 1, isNew))\n",
      "    \n",
      "ltr_df = pandas.DataFrame(nums, columns = ['Date', 'isSeq', 'isNew'])"
     ],
     "language": "python",
     "metadata": {},
     "outputs": [],
     "prompt_number": 99
    },
    {
     "cell_type": "code",
     "collapsed": false,
     "input": [
      "nltr = ltr_df.groupby('Date').sum()\n",
      "nltr.cumsum().plot(legend = False)"
     ],
     "language": "python",
     "metadata": {},
     "outputs": [
      {
       "output_type": "pyout",
       "prompt_number": 107,
       "text": [
        "<matplotlib.axes.AxesSubplot at 0x7f69ac089490>"
       ]
      },
      {
       "output_type": "display_data",
       "png": "[encoded data removed]"
      }
     ],
     "prompt_number": 107
    },
    {
     "cell_type": "code",
     "collapsed": false,
     "input": [
      "hxb2"
     ],
     "language": "python",
     "metadata": {},
     "outputs": [
      {
       "output_type": "pyout",
       "prompt_number": 45,
       "text": [
        "'TGGAAGGGCTAATTCACTCCCAACGAAGACAAGATATCCTTGATCTGTGGATCTACCACACACAAGGCTACTTCCCTGATTAGCAGAACTACACACCAGGGCCAGGGATCAGATATCCACTGACCTTTGGATGGTGCTACAAGCTAGTACCAGTTGAGCCAGAGAAGTTAGAAGAAGCCAACAAAGGAGAGAACACCAGCTTGTTACACCCTGTGAGCCTGCATGGAATGGATGACCCGGAGAGAGAAGTGTTAGAGTGGAGGTTTGACAGCCGCCTAGCATTTCATCACATGGCCCGAGAGCTGCATCCGGAGTACTTCAAGAACTGCTGACATCGAGCTTGCTACAAGGGACTTTCCGCTGGGGACTTTCCAGGGAGGCGTGGCCTGGGCGGGACTGGGGAGTGGCGAGCCCTCAGATCCTGCATATAAGCAGCTGCTTTTTGCCTGTACTGGGTCTCTCTGGTTAGACCAGATCTGAGCCTGGGAGCTCTCTGGCTAACTAGGGAACCCACTGCTTAAGCCTCAATAAAGCTTGCCTTGAGTGCTTCAAGTAGTGTGTGCCCGTCTGTTGTGTGACTCTGGTAACTAGAGATCCCTCAGACCCTTTTAGTCAGTGTGGAAAATCTCT'"
       ]
      }
     ],
     "prompt_number": 45
    },
    {
     "cell_type": "code",
     "collapsed": false,
     "input": [
      "sorted_alns[-1]"
     ],
     "language": "python",
     "metadata": {},
     "outputs": [
      {
       "output_type": "pyout",
       "prompt_number": 46,
       "text": [
        "('2011',\n",
        " 'MGARASVLSGGELDSWEKIRLRPGGKKKYKLKHIVWASRELERFAVNPGLLETSEGCRQILGQLHPSLQTGSEELKSLYNTIAVLYCVHQRISIKDTKEALDQIEEEQNKCKKKAQQAAADTENNSQVSQNYPIVQNLQGQMVHQAISPRTLNAWVKVVEEKAFSPEVIPMFSALSEGATPQDLNTMLNTVGGHQAAMQMLKETINEEAAEWDRLHPVHAGPIAPGQMREPRGSDIAGTTSTLQEQIGWMTNNPPIPVGEIYKRWIILGLNKIVRMYSPTSILDIRQGPKEPFRDYVDRFYKTLRAEQASQEVKNWMTETLLVQNANPDCKTILKALGPAATLEEMMTACQGVGGPGHKARVLAEAMSQATNSAAIMMQRGNFKNQRKSVKCFNCGKEGHIARNCRAPRKKGCWKCGREGHQMKDCTERQANFLGKIWPSHKGRPGNFPQGRLEPTAPPEESFRFGGETATPSPRQEPIDKELYPTTSLRSLFGNDPSSQ')"
       ]
      }
     ],
     "prompt_number": 46
    },
    {
     "cell_type": "code",
     "collapsed": false,
     "input": [],
     "language": "python",
     "metadata": {},
     "outputs": []
    }
   ],
   "metadata": {}
  }
 ]
}