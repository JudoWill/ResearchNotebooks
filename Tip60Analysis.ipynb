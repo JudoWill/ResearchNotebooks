{
 "metadata": {
  "name": "Tip60Analysis"
 },
 "nbformat": 3,
 "nbformat_minor": 0,
 "worksheets": [
  {
   "cells": [
    {
     "cell_type": "code",
     "collapsed": false,
     "input": [
      "from __future__ import division\n",
      "from pandas import *\n",
      "import os, os.path\n",
      "import csv\n",
      "from itertools import product\n",
      "import numpy as np\n",
      "import matplotlib.pyplot as plt\n",
      "\n",
      "os.chdir('/home/will/Tip60Data/')"
     ],
     "language": "python",
     "metadata": {},
     "outputs": [],
     "prompt_number": 1
    },
    {
     "cell_type": "code",
     "collapsed": false,
     "input": [
      "microdata = read_csv('microdata.tsv', sep='\\t', index_col = 0)\n",
      "microdata.columns = MultiIndex.from_tuples([col.split('_') for col in microdata.columns], names = ['Experiment', 'Run'])\n",
      "agg_microdata = microdata.groupby(level = 'Experiment', axis = 1).mean()"
     ],
     "language": "python",
     "metadata": {},
     "outputs": [],
     "prompt_number": 2
    },
    {
     "cell_type": "code",
     "collapsed": false,
     "input": [
      "check_cols = ['dTIP60E431Q', 'dTIP60WT']\n",
      "fold_changes = agg_microdata.copy()\n",
      "for col in check_cols:\n",
      "    fold_changes[col] = agg_microdata[col]/agg_microdata['Control']\n",
      "    \n",
      "fold_changes = fold_changes.drop(['Control'], axis = 1).applymap(np.log2)"
     ],
     "language": "python",
     "metadata": {},
     "outputs": [],
     "prompt_number": 3
    },
    {
     "cell_type": "code",
     "collapsed": false,
     "input": [
      "microdata"
     ],
     "language": "python",
     "metadata": {},
     "outputs": [
      {
       "output_type": "pyout",
       "prompt_number": 4,
       "text": [
        "<class 'pandas.core.frame.DataFrame'>\n",
        "Index: 22636 entries, NM_001007095.2_at to NR_048526.1_at\n",
        "Data columns:\n",
        "('Control', '1')    22636  non-null values\n",
        "('Control', '2')    22636  non-null values\n",
        "('dTIP60E431Q', '1')22636  non-null values\n",
        "('dTIP60E431Q', '2')22636  non-null values\n",
        "('dTIP60WT', '1')   22636  non-null values\n",
        "('dTIP60WT', '2')   22636  non-null values\n",
        "dtypes: float64(6)"
       ]
      }
     ],
     "prompt_number": 4
    },
    {
     "cell_type": "code",
     "collapsed": false,
     "input": [
      "from scipy.stats import norm, ttest_1samp\n",
      "fold_changes.plot(kind = 'kde')\n",
      "plt.title('KS Density of fold-changes')\n"
     ],
     "language": "python",
     "metadata": {},
     "outputs": [
      {
       "output_type": "pyout",
       "prompt_number": 5,
       "text": [
        "<matplotlib.text.Text at 0x4025990>"
       ]
      },
      {
       "output_type": "display_data",
       "png": "[encoded data removed]"
      }
     ],
     "prompt_number": 5
    },
    {
     "cell_type": "code",
     "collapsed": false,
     "input": [
      "pvals = fold_changes.copy()\n",
      "for col in check_cols:\n",
      "    mval = fold_changes[col].mean()\n",
      "    stdval = fold_changes[col].std()\n",
      "    pvals[col] = 1 - norm.cdf(abs(fold_changes[col]), loc=mval, scale = stdval)"
     ],
     "language": "python",
     "metadata": {},
     "outputs": [],
     "prompt_number": 6
    },
    {
     "cell_type": "code",
     "collapsed": false,
     "input": [
      "cut = 0.05/len(pvals.index)\n",
      "good_mask = (pvals<cut).any(axis = 1)\n",
      "print pvals[good_mask].to_string()"
     ],
     "language": "python",
     "metadata": {},
     "outputs": [
      {
       "output_type": "stream",
       "stream": "stdout",
       "text": [
        "                    dTIP60E431Q      dTIP60WT\n",
        "RefSeq Genes                                 \n",
        "NM_001014489.2_at  2.356172e-02  4.055312e-12\n",
        "NM_001031943.2_at  3.833501e-08  2.203379e-01\n",
        "NM_001042847.2_at  2.273285e-01  1.351625e-10\n",
        "NM_001043100.2_at  8.350605e-08  5.585120e-02\n",
        "NM_001043144.1_at  5.481837e-12  5.072655e-10\n",
        "NM_001103387.1_at  2.990798e-09  4.257876e-01\n",
        "NM_001103616.1_at  2.193840e-06  1.457361e-03\n",
        "NM_001103691.2_at  8.163893e-07  3.011441e-01\n",
        "NM_001103928.1_at  4.012457e-12  1.334510e-01\n",
        "NM_001104314.1_at  4.487533e-10  2.462526e-01\n",
        "NM_001144423.2_at  1.335637e-07  4.256002e-01\n",
        "NM_001144585.1_at  2.926381e-08  5.280150e-01\n",
        "NM_001144751.1_at  1.367163e-01  1.718539e-06\n",
        "NM_001169156.1_at  2.990798e-09  4.257876e-01\n",
        "NM_001169518.1_at  2.008583e-07  3.381436e-01\n",
        "NM_001170058.1_at  2.959241e-09  1.237294e-01\n",
        "NM_001201799.1_at  8.063083e-07  1.587422e-02\n",
        "NM_001201830.1_at  4.529393e-01  3.354802e-10\n",
        "NM_001201871.1_at  2.037486e-07  5.515679e-09\n",
        "NM_001201917.1_at  2.356172e-02  4.055312e-12\n",
        "NM_001259447.1_at  6.809827e-05  3.996803e-14\n",
        "NM_001259735.1_at  1.791859e-07  1.224591e-01\n",
        "NM_001259896.1_at  1.304544e-07  3.929592e-01\n",
        "NM_057232.4_at     2.055494e-06  1.487686e-01\n",
        "NM_057444.3_at     6.440473e-07  1.793064e-02\n",
        "NM_057596.3_at     1.963133e-08  1.701901e-01\n",
        "NM_057930.3_at     5.637897e-04  6.898937e-10\n",
        "NM_057983.4_at     4.028546e-10  4.652948e-03\n",
        "NM_078583.2_at     0.000000e+00  3.943396e-01\n",
        "NM_078794.3_at     1.689416e-01  0.000000e+00\n",
        "NM_078798.4_at     0.000000e+00  3.033905e-01\n",
        "NM_078979.3_at     2.629112e-01  4.560506e-10\n",
        "NM_079005.4_at     1.982322e-02  0.000000e+00\n",
        "NM_079020.4_at     3.889064e-02  0.000000e+00\n",
        "NM_079021.4_at     2.910566e-08  6.220580e-13\n",
        "NM_079025.4_at     3.793505e-01  2.446226e-08\n",
        "NM_079028.2_at     2.093296e-01  0.000000e+00\n",
        "NM_079063.3_at     4.185310e-01  1.734091e-10\n",
        "NM_079143.2_at     3.871533e-07  2.834844e-01\n",
        "NM_079144.4_at     5.480438e-09  5.264376e-01\n",
        "NM_079157.2_at     7.764533e-02  6.533492e-08\n",
        "NM_079177.3_at     3.844084e-04  0.000000e+00\n",
        "NM_079397.2_at     3.735615e-07  1.813218e-01\n",
        "NM_079667.3_at     3.644359e-02  0.000000e+00\n",
        "NM_080077.2_at     0.000000e+00  3.780136e-01\n",
        "NM_080175.2_at     3.390765e-11  2.908292e-02\n",
        "NM_080275.2_at     2.530198e-05  2.631229e-14\n",
        "NM_130535.2_at     1.298192e-08  3.230222e-01\n",
        "NM_130687.2_at     4.254584e-02  0.000000e+00\n",
        "NM_130688.3_at     8.135292e-06  3.223885e-08\n",
        "NM_131923.3_at     1.188023e-10  0.000000e+00\n",
        "NM_131984.1_at     2.215918e-02  3.038787e-07\n",
        "NM_131995.1_at     4.773416e-03  2.664535e-15\n",
        "NM_132034.1_at     4.197962e-07  2.085042e-02\n",
        "NM_132038.2_at     3.802571e-07  6.174109e-02\n",
        "NM_132341.3_at     3.807480e-01  2.066508e-07\n",
        "NM_132525.2_at     1.773647e-06  2.438244e-01\n",
        "NM_132571.1_at     1.510675e-09  7.868153e-10\n",
        "NM_132713.2_at     1.931419e-03  7.986585e-08\n",
        "NM_132723.2_at     3.596828e-01  9.301443e-07\n",
        "NM_132749.1_at     6.337592e-03  9.734866e-10\n",
        "NM_132756.2_at     5.020939e-01  0.000000e+00\n",
        "NM_133117.2_at     7.289934e-05  0.000000e+00\n",
        "NM_134577.1_at     1.367163e-01  1.718539e-06\n",
        "NM_134601.2_at     2.262039e-01  6.639951e-07\n",
        "NM_134874.3_at     2.861012e-07  3.519407e-13\n",
        "NM_135030.2_at     2.193840e-06  1.457361e-03\n",
        "NM_135313.2_at     4.343668e-09  7.771561e-16\n",
        "NM_135329.2_at     4.330343e-01  3.219647e-15\n",
        "NM_135391.2_at     1.006245e-04  0.000000e+00\n",
        "NM_135456.3_at     4.529393e-01  3.354802e-10\n",
        "NM_135590.1_at     4.792157e-08  1.689561e-03\n",
        "NM_135844.3_at     2.037486e-07  5.515679e-09\n",
        "NM_135869.1_at     5.058593e-06  2.035039e-13\n",
        "NM_135952.1_at     2.008583e-07  3.381436e-01\n",
        "NM_136145.3_at     3.267393e-01  9.420130e-10\n",
        "NM_136240.2_at     1.923795e-06  4.479278e-01\n",
        "NM_136679.4_at     2.408938e-01  0.000000e+00\n",
        "NM_136685.2_at     6.683747e-03  1.196820e-13\n",
        "NM_136807.1_at     4.692797e-07  4.608663e-07\n",
        "NM_136841.2_at     3.936678e-10  4.308596e-03\n",
        "NM_137057.2_at     4.461884e-05  6.360726e-08\n",
        "NM_137115.2_at     1.940670e-13  4.153295e-01\n",
        "NM_137158.3_at     1.171421e-06  1.699542e-05\n",
        "NM_137176.2_at     6.171109e-03  1.029626e-09\n",
        "NM_137316.3_at     6.809827e-05  3.996803e-14\n",
        "NM_137361.3_at     2.512684e-06  1.145334e-08\n",
        "NM_137475.2_at     1.105960e-01  0.000000e+00\n",
        "NM_137559.1_at     3.716496e-01  2.220446e-16\n",
        "NM_137574.2_at     2.279996e-03  0.000000e+00\n",
        "NM_137608.2_at     2.993916e-11  0.000000e+00\n",
        "NM_137617.3_at     1.141288e-06  4.308357e-01\n",
        "NM_137639.1_at     7.676309e-08  6.428752e-02\n",
        "NM_137720.3_at     8.350605e-08  5.585120e-02\n",
        "NM_137738.2_at     2.158045e-06  5.078140e-01\n",
        "NM_137981.2_at     4.455170e-03  1.882435e-10\n",
        "NM_138241.3_at     9.508541e-07  5.075629e-01\n",
        "NM_139618.3_at     4.373576e-03  3.418604e-07\n",
        "NM_139633.2_at     1.341071e-07  2.084582e-01\n",
        "NM_139649.2_at     5.587037e-07  3.507513e-02\n",
        "NM_140154.2_at     1.588037e-04  2.383967e-08\n",
        "NM_140163.2_at     3.358859e-07  0.000000e+00\n",
        "NM_140165.1_at     2.942591e-04  0.000000e+00\n",
        "NM_140181.1_at     2.553775e-10  1.693416e-01\n",
        "NM_140273.2_at     9.212520e-11  5.053261e-01\n",
        "NM_140352.2_at     1.432445e-02  7.027712e-13\n",
        "NM_140603.1_at     3.033122e-04  3.302802e-12\n",
        "NM_140615.2_at     2.296140e-07  6.606651e-06\n",
        "NM_140621.1_at     5.481837e-12  5.072655e-10\n",
        "NM_140646.3_at     1.860773e-06  1.111205e-01\n",
        "NM_140660.3_at     4.977585e-01  2.729705e-11\n",
        "NM_140765.3_at     8.167295e-02  6.903345e-11\n",
        "NM_140776.2_at     4.973171e-07  3.004387e-01\n",
        "NM_140777.2_at     9.895291e-08  4.825707e-01\n",
        "NM_140805.1_at     1.304544e-07  3.929592e-01\n",
        "NM_141052.2_at     7.261217e-08  1.566699e-01\n",
        "NM_141088.1_at     4.525494e-03  4.299894e-13\n",
        "NM_141097.3_at     3.254931e-08  1.890024e-01\n",
        "NM_141098.2_at     6.304797e-09  4.188862e-02\n",
        "NM_141099.2_at     6.933233e-10  2.708588e-01\n",
        "NM_141103.3_at     2.035245e-09  1.142810e-01\n",
        "NM_141186.3_at     1.519759e-06  4.634838e-01\n",
        "NM_141189.1_at     1.275032e-07  3.052540e-09\n",
        "NM_141364.1_at     9.660518e-09  4.653146e-06\n",
        "NM_141368.2_at     5.632828e-12  0.000000e+00\n",
        "NM_141371.2_at     6.289524e-12  2.447679e-04\n",
        "NM_141379.1_at     1.120649e-03  0.000000e+00\n",
        "NM_141383.1_at     1.941259e-08  1.249429e-01\n",
        "NM_141384.3_at     2.183006e-06  3.457451e-02\n",
        "NM_141420.3_at     1.965321e-06  4.424078e-04\n",
        "NM_142057.2_at     1.642338e-07  7.828557e-03\n",
        "NM_142115.1_at     2.007161e-11  3.472339e-03\n",
        "NM_142187.2_at     2.926381e-08  5.280150e-01\n",
        "NM_142347.2_at     2.122845e-06  2.986960e-01\n",
        "NM_142349.2_at     1.185149e-05  0.000000e+00\n",
        "NM_142370.1_at     1.984570e-04  1.086850e-08\n",
        "NM_142380.3_at     4.011546e-09  3.108416e-01\n",
        "NM_142382.2_at     4.923609e-10  2.270048e-01\n",
        "NM_142881.3_at     1.586629e-06  2.725607e-04\n",
        "NM_142918.2_at     2.751782e-08  4.946202e-01\n",
        "NM_142963.3_at     7.897005e-11  2.880920e-01\n",
        "NM_142985.4_at     1.225356e-06  7.879686e-06\n",
        "NM_143112.2_at     1.653904e-06  3.776616e-02\n",
        "NM_143229.1_at     1.625380e-07  1.807443e-02\n",
        "NM_143233.2_at     4.872326e-08  6.015597e-03\n",
        "NM_143237.3_at     2.179724e-07  4.080528e-01\n",
        "NM_143456.2_at     3.632250e-11  4.374908e-01\n",
        "NM_143527.2_at     2.743180e-08  1.543248e-01\n",
        "NM_143635.1_at     6.229535e-07  8.881784e-16\n",
        "NM_143761.3_at     8.276158e-12  0.000000e+00\n",
        "NM_144109.1_at     2.974029e-03  2.285454e-10\n",
        "NM_144111.2_at     1.562655e-05  0.000000e+00\n",
        "NM_144191.4_at     1.791859e-07  1.224591e-01\n",
        "NM_144196.2_at     3.037068e-07  2.728767e-01\n",
        "NM_144368.2_at     1.128788e-06  4.901860e-01\n",
        "NM_144379.3_at     4.841584e-02  7.272382e-07\n",
        "NM_144380.2_at     1.488918e-01  0.000000e+00\n",
        "NM_164601.1_at     2.193840e-06  1.457361e-03\n",
        "NM_164602.1_at     2.193840e-06  1.457361e-03\n",
        "NM_164740.2_at     1.800838e-02  1.020003e-10\n",
        "NM_164888.3_at     1.770474e-01  3.377187e-12\n",
        "NM_165165.1_at     2.008583e-07  3.381436e-01\n",
        "NM_165362.1_at     1.747354e-03  0.000000e+00\n",
        "NM_165363.1_at     1.747354e-03  0.000000e+00\n",
        "NM_166277.2_at     4.561179e-03  1.675994e-08\n",
        "NM_166512.2_at     1.226739e-07  3.399438e-01\n",
        "NM_166957.1_at     4.789260e-02  7.236615e-10\n",
        "NM_167061.2_at     5.042538e-03  2.576828e-13\n",
        "NM_167540.3_at     5.534107e-06  2.512070e-07\n",
        "NM_168019.3_at     4.862777e-14  3.389933e-02\n",
        "NM_168078.1_at     1.341071e-07  2.084582e-01\n",
        "NM_168079.1_at     1.341071e-07  2.084582e-01\n",
        "NM_168244.2_at     8.111855e-02  0.000000e+00\n",
        "NM_168288.2_at     1.469648e-02  4.488694e-10\n",
        "NM_168396.1_at     3.404407e-02  6.398869e-07\n",
        "NM_168441.1_at     1.128722e-06  2.464024e-01\n",
        "NM_168657.1_at     3.033122e-04  3.302802e-12\n",
        "NM_168795.3_at     6.167814e-07  1.092393e-07\n",
        "NM_168796.3_at     6.167814e-07  1.092393e-07\n",
        "NM_168797.2_at     6.167814e-07  1.092393e-07\n",
        "NM_169130.1_at     9.660518e-09  4.653146e-06\n",
        "NM_169766.2_at     4.866276e-08  3.329687e-08\n",
        "NM_170211.2_at     5.935881e-07  4.464565e-01\n",
        "NM_170415.4_at     3.807880e-02  9.898543e-10\n",
        "NM_176222.1_at     3.478619e-08  4.015223e-01\n",
        "NM_176359.1_at     1.032578e-06  2.064449e-01\n",
        "NM_206133.3_at     1.515695e-04  2.080534e-10\n",
        "NM_206350.2_at     1.302702e-11  1.501247e-02\n"
       ]
      }
     ],
     "prompt_number": 7
    },
    {
     "cell_type": "code",
     "collapsed": false,
     "input": [
      "from operator import methodcaller\n",
      "from itertools import groupby\n",
      "from Bio.Seq import Seq\n",
      "from Bio import Motif\n",
      "from StringIO import StringIO\n",
      "\n",
      "def yield_motifs():\n",
      "    motifdir = '/home/will/Tip60Data/TFdata/'\n",
      "    with open(motifdir + 'matrix_only.txt') as handle:\n",
      "        for key, lines in groupby(handle, methodcaller('startswith', '>')):\n",
      "            if key:\n",
      "                name = lines.next().strip().split()[-1].lower()\n",
      "            else:\n",
      "                tmp = ''.join(lines)\n",
      "                mot = Motif.read(StringIO(tmp), 'jaspar-pfm')\n",
      "                yield name, mot\n",
      "                yield name+'-R', mot.reverse_complement()\n",
      "\n",
      "            \n",
      "pwm_dict = {}\n",
      "for num, (name, mot) in enumerate(yield_motifs()):\n",
      "    if num % 100 == 0:\n",
      "        print num\n",
      "    thresh = Motif.Thresholds.ScoreDistribution(mot, precision = 50).threshold_fpr(0.0001)\n",
      "    pwm_dict[name] = (mot, thresh)"
     ],
     "language": "python",
     "metadata": {},
     "outputs": [
      {
       "output_type": "stream",
       "stream": "stdout",
       "text": [
        "0\n",
        "100"
       ]
      },
      {
       "output_type": "stream",
       "stream": "stdout",
       "text": [
        "\n",
        "200"
       ]
      },
      {
       "output_type": "stream",
       "stream": "stdout",
       "text": [
        "\n"
       ]
      }
     ],
     "prompt_number": 8
    },
    {
     "cell_type": "code",
     "collapsed": false,
     "input": [
      "from itertools import imap\n",
      "from operator import itemgetter\n",
      "def unique_justseen(iterable, key=None):\n",
      "    \"List unique elements, preserving order. Remember only the element just seen.\"\n",
      "    # unique_justseen('AAAABBBCCDAABBB') --> A B C D A B\n",
      "    # unique_justseen('ABBCcAD', str.lower) --> A B C A D\n",
      "    return imap(next, imap(itemgetter(1), groupby(iterable, key)))\n",
      "\n",
      "def take(n, iterable):\n",
      "    \"Return first n items of the iterable as a list\"\n",
      "    return list(islice(iterable, n))"
     ],
     "language": "python",
     "metadata": {},
     "outputs": [],
     "prompt_number": 10
    },
    {
     "cell_type": "code",
     "collapsed": false,
     "input": [
      "def scan_seqs(tup):\n",
      "    pwm_tup, row = tup\n",
      "    seq = Seq(row['Seq'])\n",
      "    start = int(row['Start'])\n",
      "    ch = row['Chromosome']\n",
      "    strand = row['Strand']\n",
      "    name, (mot, thresh) = pwm_tup\n",
      "    results = []\n",
      "    for loc, m in mot.search_pwm(seq, threshold=thresh):\n",
      "        results.append((name, ch, start+loc, start+loc+len(mot), strand))\n",
      "    \n",
      "    return results\n",
      "    "
     ],
     "language": "python",
     "metadata": {},
     "outputs": [],
     "prompt_number": 11
    },
    {
     "cell_type": "code",
     "collapsed": false,
     "input": [
      "from concurrent.futures import ProcessPoolExecutor, as_completed\n",
      "from functools import partial\n",
      "from itertools import islice\n",
      "\n",
      "interval_fields = ['Chromosome','Start','Stop','Refseq','Junk1','Strand','Junk2','Junk3','Junk4','Junk5','Junk6','Junk7','Seq']\n",
      "\n",
      "with open('seqdata/PromoterSeqdata.interval') as handle:\n",
      "    with open('seqdata/TFBindingPos.interval', 'w') as ohandle:\n",
      "        reader = csv.DictReader(handle, delimiter = '\\t', fieldnames=interval_fields)\n",
      "        nreader = unique_justseen(reader, key = lambda x: x['Seq'])\n",
      "        \n",
      "        writer = csv.writer(ohandle, delimiter = '\\t')\n",
      "        writer.writerow(['TFname', 'Chr', 'Start', 'Stop', 'strand'])\n",
      "        \n",
      "        check_items = product(sorted(pwm_dict.items()), nreader)\n",
      "        blocksize = 50000\n",
      "        with ProcessPoolExecutor(max_workers = 30) as executor:\n",
      "            block = take(blocksize, check_items)\n",
      "            start = 0\n",
      "            while block:\n",
      "                res = executor.map(scan_seqs, block)\n",
      "                for r in res:\n",
      "                    if r:\n",
      "                        writer.writerows(r)\n",
      "                block = take(blocksize, check_items)    \n",
      "                start += blocksize\n",
      "                num = int(start/len(pwm_dict))\n",
      "                print num\n",
      "            \n"
     ],
     "language": "python",
     "metadata": {},
     "outputs": [
      {
       "output_type": "stream",
       "stream": "stdout",
       "text": [
        "192\n",
        "384"
       ]
      },
      {
       "output_type": "stream",
       "stream": "stdout",
       "text": [
        "\n",
        "576"
       ]
      },
      {
       "output_type": "stream",
       "stream": "stdout",
       "text": [
        "\n",
        "769"
       ]
      },
      {
       "output_type": "stream",
       "stream": "stdout",
       "text": [
        "\n",
        "961"
       ]
      },
      {
       "output_type": "stream",
       "stream": "stdout",
       "text": [
        "\n",
        "1153"
       ]
      },
      {
       "output_type": "stream",
       "stream": "stdout",
       "text": [
        "\n",
        "1346"
       ]
      },
      {
       "output_type": "stream",
       "stream": "stdout",
       "text": [
        "\n",
        "1538"
       ]
      },
      {
       "output_type": "stream",
       "stream": "stdout",
       "text": [
        "\n",
        "1730"
       ]
      },
      {
       "output_type": "stream",
       "stream": "stdout",
       "text": [
        "\n",
        "1923"
       ]
      },
      {
       "output_type": "stream",
       "stream": "stdout",
       "text": [
        "\n",
        "2115"
       ]
      },
      {
       "output_type": "stream",
       "stream": "stdout",
       "text": [
        "\n",
        "2307"
       ]
      },
      {
       "output_type": "stream",
       "stream": "stdout",
       "text": [
        "\n",
        "2500"
       ]
      },
      {
       "output_type": "stream",
       "stream": "stdout",
       "text": [
        "\n",
        "2692"
       ]
      },
      {
       "output_type": "stream",
       "stream": "stdout",
       "text": [
        "\n",
        "2884"
       ]
      },
      {
       "output_type": "stream",
       "stream": "stdout",
       "text": [
        "\n",
        "3076"
       ]
      },
      {
       "output_type": "stream",
       "stream": "stdout",
       "text": [
        "\n",
        "3269"
       ]
      },
      {
       "output_type": "stream",
       "stream": "stdout",
       "text": [
        "\n",
        "3461"
       ]
      },
      {
       "output_type": "stream",
       "stream": "stdout",
       "text": [
        "\n",
        "3653"
       ]
      },
      {
       "output_type": "stream",
       "stream": "stdout",
       "text": [
        "\n",
        "3846"
       ]
      },
      {
       "output_type": "stream",
       "stream": "stdout",
       "text": [
        "\n",
        "4038"
       ]
      },
      {
       "output_type": "stream",
       "stream": "stdout",
       "text": [
        "\n",
        "4230"
       ]
      },
      {
       "output_type": "stream",
       "stream": "stdout",
       "text": [
        "\n",
        "4423"
       ]
      },
      {
       "output_type": "stream",
       "stream": "stdout",
       "text": [
        "\n",
        "4615"
       ]
      },
      {
       "output_type": "stream",
       "stream": "stdout",
       "text": [
        "\n",
        "4807"
       ]
      },
      {
       "output_type": "stream",
       "stream": "stdout",
       "text": [
        "\n",
        "5000"
       ]
      },
      {
       "output_type": "stream",
       "stream": "stdout",
       "text": [
        "\n",
        "5192"
       ]
      },
      {
       "output_type": "stream",
       "stream": "stdout",
       "text": [
        "\n",
        "5384"
       ]
      },
      {
       "output_type": "stream",
       "stream": "stdout",
       "text": [
        "\n",
        "5576"
       ]
      },
      {
       "output_type": "stream",
       "stream": "stdout",
       "text": [
        "\n",
        "5769"
       ]
      },
      {
       "output_type": "stream",
       "stream": "stdout",
       "text": [
        "\n",
        "5961"
       ]
      },
      {
       "output_type": "stream",
       "stream": "stdout",
       "text": [
        "\n",
        "6153"
       ]
      },
      {
       "output_type": "stream",
       "stream": "stdout",
       "text": [
        "\n",
        "6346"
       ]
      },
      {
       "output_type": "stream",
       "stream": "stdout",
       "text": [
        "\n",
        "6538"
       ]
      },
      {
       "output_type": "stream",
       "stream": "stdout",
       "text": [
        "\n",
        "6730"
       ]
      },
      {
       "output_type": "stream",
       "stream": "stdout",
       "text": [
        "\n",
        "6923"
       ]
      },
      {
       "output_type": "stream",
       "stream": "stdout",
       "text": [
        "\n",
        "7115"
       ]
      },
      {
       "output_type": "stream",
       "stream": "stdout",
       "text": [
        "\n",
        "7307"
       ]
      },
      {
       "output_type": "stream",
       "stream": "stdout",
       "text": [
        "\n",
        "7500"
       ]
      },
      {
       "output_type": "stream",
       "stream": "stdout",
       "text": [
        "\n",
        "7692"
       ]
      },
      {
       "output_type": "stream",
       "stream": "stdout",
       "text": [
        "\n",
        "7884"
       ]
      },
      {
       "output_type": "stream",
       "stream": "stdout",
       "text": [
        "\n",
        "8076"
       ]
      },
      {
       "output_type": "stream",
       "stream": "stdout",
       "text": [
        "\n",
        "8269"
       ]
      },
      {
       "output_type": "stream",
       "stream": "stdout",
       "text": [
        "\n",
        "8461"
       ]
      },
      {
       "output_type": "stream",
       "stream": "stdout",
       "text": [
        "\n",
        "8653"
       ]
      },
      {
       "output_type": "stream",
       "stream": "stdout",
       "text": [
        "\n",
        "8846"
       ]
      },
      {
       "output_type": "stream",
       "stream": "stdout",
       "text": [
        "\n",
        "9038"
       ]
      },
      {
       "output_type": "stream",
       "stream": "stdout",
       "text": [
        "\n",
        "9230"
       ]
      },
      {
       "output_type": "stream",
       "stream": "stdout",
       "text": [
        "\n",
        "9423"
       ]
      },
      {
       "output_type": "stream",
       "stream": "stdout",
       "text": [
        "\n",
        "9615"
       ]
      },
      {
       "output_type": "stream",
       "stream": "stdout",
       "text": [
        "\n",
        "9807"
       ]
      },
      {
       "output_type": "stream",
       "stream": "stdout",
       "text": [
        "\n",
        "10000"
       ]
      },
      {
       "output_type": "stream",
       "stream": "stdout",
       "text": [
        "\n",
        "10192"
       ]
      },
      {
       "output_type": "stream",
       "stream": "stdout",
       "text": [
        "\n",
        "10384"
       ]
      },
      {
       "output_type": "stream",
       "stream": "stdout",
       "text": [
        "\n",
        "10576"
       ]
      },
      {
       "output_type": "stream",
       "stream": "stdout",
       "text": [
        "\n",
        "10769"
       ]
      },
      {
       "output_type": "stream",
       "stream": "stdout",
       "text": [
        "\n",
        "10961"
       ]
      },
      {
       "output_type": "stream",
       "stream": "stdout",
       "text": [
        "\n",
        "11153"
       ]
      },
      {
       "output_type": "stream",
       "stream": "stdout",
       "text": [
        "\n",
        "11346"
       ]
      },
      {
       "output_type": "stream",
       "stream": "stdout",
       "text": [
        "\n",
        "11538"
       ]
      },
      {
       "output_type": "stream",
       "stream": "stdout",
       "text": [
        "\n",
        "11730"
       ]
      },
      {
       "output_type": "stream",
       "stream": "stdout",
       "text": [
        "\n",
        "11923"
       ]
      },
      {
       "output_type": "stream",
       "stream": "stdout",
       "text": [
        "\n",
        "12115"
       ]
      },
      {
       "output_type": "stream",
       "stream": "stdout",
       "text": [
        "\n",
        "12307"
       ]
      },
      {
       "output_type": "stream",
       "stream": "stdout",
       "text": [
        "\n",
        "12500"
       ]
      },
      {
       "output_type": "stream",
       "stream": "stdout",
       "text": [
        "\n",
        "12692"
       ]
      },
      {
       "output_type": "stream",
       "stream": "stdout",
       "text": [
        "\n",
        "12884"
       ]
      },
      {
       "output_type": "stream",
       "stream": "stdout",
       "text": [
        "\n",
        "13076"
       ]
      },
      {
       "output_type": "stream",
       "stream": "stdout",
       "text": [
        "\n",
        "13269"
       ]
      },
      {
       "output_type": "stream",
       "stream": "stdout",
       "text": [
        "\n",
        "13461"
       ]
      },
      {
       "output_type": "stream",
       "stream": "stdout",
       "text": [
        "\n",
        "13653"
       ]
      },
      {
       "output_type": "stream",
       "stream": "stdout",
       "text": [
        "\n",
        "13846"
       ]
      },
      {
       "output_type": "stream",
       "stream": "stdout",
       "text": [
        "\n",
        "14038"
       ]
      },
      {
       "output_type": "stream",
       "stream": "stdout",
       "text": [
        "\n",
        "14230"
       ]
      },
      {
       "output_type": "stream",
       "stream": "stdout",
       "text": [
        "\n",
        "14423"
       ]
      },
      {
       "output_type": "stream",
       "stream": "stdout",
       "text": [
        "\n",
        "14615"
       ]
      },
      {
       "output_type": "stream",
       "stream": "stdout",
       "text": [
        "\n",
        "14807"
       ]
      },
      {
       "output_type": "stream",
       "stream": "stdout",
       "text": [
        "\n",
        "15000"
       ]
      },
      {
       "output_type": "stream",
       "stream": "stdout",
       "text": [
        "\n",
        "15192"
       ]
      },
      {
       "output_type": "stream",
       "stream": "stdout",
       "text": [
        "\n",
        "15384"
       ]
      },
      {
       "output_type": "stream",
       "stream": "stdout",
       "text": [
        "\n",
        "15576"
       ]
      },
      {
       "output_type": "stream",
       "stream": "stdout",
       "text": [
        "\n",
        "15769"
       ]
      },
      {
       "output_type": "stream",
       "stream": "stdout",
       "text": [
        "\n",
        "15961"
       ]
      },
      {
       "output_type": "stream",
       "stream": "stdout",
       "text": [
        "\n",
        "16153"
       ]
      },
      {
       "output_type": "stream",
       "stream": "stdout",
       "text": [
        "\n",
        "16346"
       ]
      },
      {
       "output_type": "stream",
       "stream": "stdout",
       "text": [
        "\n",
        "16538"
       ]
      },
      {
       "output_type": "stream",
       "stream": "stdout",
       "text": [
        "\n",
        "16730"
       ]
      },
      {
       "output_type": "stream",
       "stream": "stdout",
       "text": [
        "\n",
        "16923"
       ]
      },
      {
       "output_type": "stream",
       "stream": "stdout",
       "text": [
        "\n",
        "17115"
       ]
      },
      {
       "output_type": "stream",
       "stream": "stdout",
       "text": [
        "\n",
        "17307"
       ]
      },
      {
       "output_type": "stream",
       "stream": "stdout",
       "text": [
        "\n",
        "17500"
       ]
      },
      {
       "output_type": "stream",
       "stream": "stdout",
       "text": [
        "\n",
        "17692"
       ]
      },
      {
       "output_type": "stream",
       "stream": "stdout",
       "text": [
        "\n",
        "17884"
       ]
      },
      {
       "output_type": "stream",
       "stream": "stdout",
       "text": [
        "\n",
        "18076"
       ]
      },
      {
       "output_type": "stream",
       "stream": "stdout",
       "text": [
        "\n",
        "18269"
       ]
      },
      {
       "output_type": "stream",
       "stream": "stdout",
       "text": [
        "\n",
        "18461"
       ]
      },
      {
       "output_type": "stream",
       "stream": "stdout",
       "text": [
        "\n",
        "18653"
       ]
      },
      {
       "output_type": "stream",
       "stream": "stdout",
       "text": [
        "\n",
        "18846"
       ]
      },
      {
       "output_type": "stream",
       "stream": "stdout",
       "text": [
        "\n",
        "19038"
       ]
      },
      {
       "output_type": "stream",
       "stream": "stdout",
       "text": [
        "\n",
        "19230"
       ]
      },
      {
       "output_type": "stream",
       "stream": "stdout",
       "text": [
        "\n",
        "19423"
       ]
      },
      {
       "output_type": "stream",
       "stream": "stdout",
       "text": [
        "\n",
        "19615"
       ]
      },
      {
       "output_type": "stream",
       "stream": "stdout",
       "text": [
        "\n",
        "19807"
       ]
      },
      {
       "output_type": "stream",
       "stream": "stdout",
       "text": [
        "\n",
        "20000"
       ]
      },
      {
       "output_type": "stream",
       "stream": "stdout",
       "text": [
        "\n",
        "20192"
       ]
      },
      {
       "output_type": "stream",
       "stream": "stdout",
       "text": [
        "\n",
        "20384"
       ]
      },
      {
       "output_type": "stream",
       "stream": "stdout",
       "text": [
        "\n",
        "20576"
       ]
      },
      {
       "output_type": "stream",
       "stream": "stdout",
       "text": [
        "\n",
        "20769"
       ]
      },
      {
       "output_type": "stream",
       "stream": "stdout",
       "text": [
        "\n",
        "20961"
       ]
      },
      {
       "output_type": "stream",
       "stream": "stdout",
       "text": [
        "\n",
        "21153"
       ]
      },
      {
       "output_type": "stream",
       "stream": "stdout",
       "text": [
        "\n",
        "21346"
       ]
      },
      {
       "output_type": "stream",
       "stream": "stdout",
       "text": [
        "\n",
        "21538"
       ]
      },
      {
       "output_type": "stream",
       "stream": "stdout",
       "text": [
        "\n",
        "21730"
       ]
      },
      {
       "output_type": "stream",
       "stream": "stdout",
       "text": [
        "\n",
        "21923"
       ]
      },
      {
       "output_type": "stream",
       "stream": "stdout",
       "text": [
        "\n",
        "22115"
       ]
      },
      {
       "output_type": "stream",
       "stream": "stdout",
       "text": [
        "\n",
        "22307"
       ]
      },
      {
       "output_type": "stream",
       "stream": "stdout",
       "text": [
        "\n",
        "22500"
       ]
      },
      {
       "output_type": "stream",
       "stream": "stdout",
       "text": [
        "\n",
        "22692"
       ]
      },
      {
       "output_type": "stream",
       "stream": "stdout",
       "text": [
        "\n",
        "22884"
       ]
      },
      {
       "output_type": "stream",
       "stream": "stdout",
       "text": [
        "\n",
        "23076"
       ]
      },
      {
       "output_type": "stream",
       "stream": "stdout",
       "text": [
        "\n",
        "23269"
       ]
      },
      {
       "output_type": "stream",
       "stream": "stdout",
       "text": [
        "\n",
        "23461"
       ]
      },
      {
       "output_type": "stream",
       "stream": "stdout",
       "text": [
        "\n",
        "23653"
       ]
      },
      {
       "output_type": "stream",
       "stream": "stdout",
       "text": [
        "\n",
        "23846"
       ]
      },
      {
       "output_type": "stream",
       "stream": "stdout",
       "text": [
        "\n",
        "24038"
       ]
      },
      {
       "output_type": "stream",
       "stream": "stdout",
       "text": [
        "\n",
        "24230"
       ]
      },
      {
       "output_type": "stream",
       "stream": "stdout",
       "text": [
        "\n",
        "24423"
       ]
      },
      {
       "output_type": "stream",
       "stream": "stdout",
       "text": [
        "\n"
       ]
      }
     ],
     "prompt_number": 17
    },
    {
     "cell_type": "code",
     "collapsed": false,
     "input": [
      "def make_filename(inp):\n",
      "    return inp.replace(' ', '-').replace(':', '-')\n",
      "\n",
      "\n",
      "with open('seqdata/TFBindingPos.interval') as handle:\n",
      "    reader = csv.reader(handle, delimiter = '\\t')\n",
      "    junk = reader.next()\n",
      "    grouper = lambda x: x[0]\n",
      "    for key, rows in groupby(reader, key = grouper):\n",
      "        fname = make_filename(key)\n",
      "        with open('seqdata/TFhits/'+fname + '.bed', 'a') as ohandle:\n",
      "            writer = csv.writer(ohandle, delimiter = '\\t')\n",
      "            for row in rows:\n",
      "                if (int(row[2]) > 0) and (int(row[3]) > 0):\n",
      "                    writer.writerow(row[1:])"
     ],
     "language": "python",
     "metadata": {},
     "outputs": [],
     "prompt_number": 24
    },
    {
     "cell_type": "code",
     "collapsed": false,
     "input": [
      "wanted_genes = set([n.split('.')[0] for n in pvals[good_mask].index])\n",
      "\n",
      "with open('seqdata/PromoterInervals') as handle:\n",
      "    with open('seqdata/SigGenePromoters.bed', 'w') as ohandle:\n",
      "        reader = csv.reader(handle, delimiter = '\\t')\n",
      "        writer = csv.writer(ohandle, delimiter = '\\t')\n",
      "        for row in reader:\n",
      "            if row[3] in wanted_genes:\n",
      "                print row[3]\n",
      "                wanted = [row[0], row[1], row[2], row[5]]\n",
      "                writer.writerow(wanted)"
     ],
     "language": "python",
     "metadata": {},
     "outputs": [
      {
       "output_type": "stream",
       "stream": "stdout",
       "text": [
        "NM_001103387\n",
        "NM_001169156\n",
        "NM_057444\n",
        "NM_130535\n",
        "NM_130688\n",
        "NM_166957\n",
        "NM_130687\n",
        "NM_057596\n",
        "NM_131923\n",
        "NM_131984\n",
        "NM_131995\n",
        "NM_132038\n",
        "NM_132034\n",
        "NM_167061\n",
        "NM_132341\n",
        "NM_132525\n",
        "NM_132571\n",
        "NM_078583\n",
        "NM_132723\n",
        "NM_132713\n",
        "NM_132756\n",
        "NM_132749\n",
        "NM_167540\n",
        "NM_133117\n",
        "NM_134577\n",
        "NM_001144751\n",
        "NM_134601\n",
        "NM_001042847\n",
        "NM_135952\n",
        "NM_165165\n",
        "NM_001169518\n",
        "NM_165363\n",
        "NM_165362\n",
        "NM_134874\n",
        "NM_144380\n",
        "NM_164602\n",
        "NM_001103616\n",
        "NM_135030\n",
        "NM_164601\n",
        "NM_164740\n",
        "NM_135313\n",
        "NM_144379\n",
        "NM_135329\n",
        "NM_001201799\n",
        "NM_135391\n",
        "NM_078794\n",
        "NM_078798\n",
        "NM_135456\n",
        "NM_001201830\n",
        "NM_164888\n",
        "NM_135590\n",
        "NM_135844\n",
        "NM_001201871\n",
        "NM_135869\n",
        "NM_001103691\n",
        "NM_001201917\n",
        "NM_001014489\n",
        "NM_136145\n",
        "NM_136240\n",
        "NM_136685\n",
        "NM_136679\n",
        "NM_136807\n",
        "NM_136841\n",
        "NM_078979\n",
        "NM_079005\n",
        "NM_137057\n",
        "NM_137115\n",
        "NM_079021\n",
        "NM_079020\n",
        "NM_143761\n",
        "NM_079025\n",
        "NM_137158\n",
        "NM_137176\n",
        "NM_079028\n",
        "NM_206133\n",
        "NM_137316\n",
        "NM_001259447\n",
        "NM_137361\n",
        "NM_144111\n",
        "NM_144109\n",
        "NM_166277\n",
        "NM_137475\n",
        "NM_176222\n",
        "NM_079063\n",
        "NM_137559\n",
        "NM_137574\n",
        "NM_137608\n",
        "NM_137617\n",
        "NM_137639\n",
        "NM_001043100\n",
        "NM_137720\n",
        "NM_137738\n",
        "NM_001103928\n",
        "NM_166512\n",
        "NM_137981\n",
        "NM_079143\n",
        "NM_079144\n",
        "NM_079157\n",
        "NM_138241\n",
        "NM_168019\n",
        "NM_079177\n",
        "NM_057232\n",
        "NM_139633\n",
        "NM_168079\n",
        "NM_168078\n",
        "NM_139618\n",
        "NM_139649\n",
        "NM_057930\n",
        "NM_144196\n",
        "NM_001144423\n",
        "NM_168244\n",
        "NM_144191\n",
        "NM_001259735\n",
        "NM_168288\n",
        "NM_001031943\n",
        "NM_168396\n",
        "NM_140154\n",
        "NM_140163\n",
        "NM_140165\n",
        "NM_168441\n",
        "NM_140181\n",
        "NM_080275\n",
        "NM_140273\n",
        "NM_080077\n",
        "NM_140352\n",
        "NM_206350\n",
        "NM_140603\n",
        "NM_001043144\n",
        "NM_140621\n",
        "NM_168657\n",
        "NM_140615\n",
        "NM_140646\n",
        "NM_140660\n",
        "NM_079397\n",
        "NM_140765\n",
        "NM_140776\n",
        "NM_140777\n",
        "NM_001259896\n",
        "NM_140805\n",
        "NM_176359\n",
        "NM_168796\n",
        "NM_168795\n",
        "NM_168797\n",
        "NM_141052\n",
        "NM_141099\n",
        "NM_141097\n",
        "NM_141098\n",
        "NM_141103\n",
        "NM_141088\n",
        "NM_141186\n",
        "NM_141189\n",
        "NM_141364\n",
        "NM_169130\n",
        "NM_141368\n",
        "NM_141371\n",
        "NM_141384\n",
        "NM_141383\n",
        "NM_001170058\n",
        "NM_141379\n",
        "NM_141420\n",
        "NM_144368\n",
        "NM_080175\n",
        "NM_057983\n",
        "NM_142057\n",
        "NM_001104314\n",
        "NM_142115\n",
        "NM_001144585\n",
        "NM_142187\n",
        "NM_142347\n",
        "NM_142349\n",
        "NM_142370\n",
        "NM_079667\n",
        "NM_142380\n",
        "NM_169766\n",
        "NM_142382\n",
        "NM_142881\n",
        "NM_142918\n",
        "NM_142963\n",
        "NM_142985\n",
        "NM_143112\n",
        "NM_170211\n",
        "NM_143237\n",
        "NM_143229\n",
        "NM_143233\n",
        "NM_170415\n",
        "NM_143456\n",
        "NM_143527\n",
        "NM_143635\n"
       ]
      }
     ],
     "prompt_number": 23
    },
    {
     "cell_type": "code",
     "collapsed": false,
     "input": [
      "wanted_genes"
     ],
     "language": "python",
     "metadata": {},
     "outputs": [
      {
       "output_type": "pyout",
       "prompt_number": 22,
       "text": [
        "set(['NM_140273.2_at',\n",
        "     'NM_136685.2_at',\n",
        "     'NM_164888.3_at',\n",
        "     'NM_143237.3_at',\n",
        "     'NM_140615.2_at',\n",
        "     'NM_169130.1_at',\n",
        "     'NM_001201799.1_at',\n",
        "     'NM_137720.3_at',\n",
        "     'NM_142881.3_at',\n",
        "     'NM_139649.2_at',\n",
        "     'NM_001259896.1_at',\n",
        "     'NM_057596.3_at',\n",
        "     'NM_137738.2_at',\n",
        "     'NM_078794.3_at',\n",
        "     'NM_001031943.2_at',\n",
        "     'NM_132723.2_at',\n",
        "     'NM_001144751.1_at',\n",
        "     'NM_176222.1_at',\n",
        "     'NM_140660.3_at',\n",
        "     'NM_142382.2_at',\n",
        "     'NM_079157.2_at',\n",
        "     'NM_137176.2_at',\n",
        "     'NM_176359.1_at',\n",
        "     'NM_141099.2_at',\n",
        "     'NM_142347.2_at',\n",
        "     'NM_001170058.1_at',\n",
        "     'NM_143527.2_at',\n",
        "     'NM_079397.2_at',\n",
        "     'NM_001103691.2_at',\n",
        "     'NM_079063.3_at',\n",
        "     'NM_141383.1_at',\n",
        "     'NM_142187.2_at',\n",
        "     'NM_137115.2_at',\n",
        "     'NM_079667.3_at',\n",
        "     'NM_168441.1_at',\n",
        "     'NM_141098.2_at',\n",
        "     'NM_167540.3_at',\n",
        "     'NM_057232.4_at',\n",
        "     'NM_143112.2_at',\n",
        "     'NM_001042847.2_at',\n",
        "     'NM_168079.1_at',\n",
        "     'NM_079028.2_at',\n",
        "     'NM_137559.1_at',\n",
        "     'NM_136240.2_at',\n",
        "     'NM_144379.3_at',\n",
        "     'NM_144111.2_at',\n",
        "     'NM_140776.2_at',\n",
        "     'NM_138241.3_at',\n",
        "     'NM_141189.1_at',\n",
        "     'NM_135030.2_at',\n",
        "     'NM_141379.1_at',\n",
        "     'NM_165362.1_at',\n",
        "     'NM_080175.2_at',\n",
        "     'NM_130688.3_at',\n",
        "     'NM_206350.2_at',\n",
        "     'NM_166277.2_at',\n",
        "     'NM_137475.2_at',\n",
        "     'NM_137316.3_at',\n",
        "     'NM_135391.2_at',\n",
        "     'NM_078798.4_at',\n",
        "     'NM_139618.3_at',\n",
        "     'NM_135590.1_at',\n",
        "     'NM_079177.3_at',\n",
        "     'NM_140765.3_at',\n",
        "     'NM_142370.1_at',\n",
        "     'NM_135952.1_at',\n",
        "     'NM_137981.2_at',\n",
        "     'NM_001103616.1_at',\n",
        "     'NM_078583.2_at',\n",
        "     'NM_001104314.1_at',\n",
        "     'NM_131995.1_at',\n",
        "     'NM_001043100.2_at',\n",
        "     'NM_140777.2_at',\n",
        "     'NM_137057.2_at',\n",
        "     'NM_168797.2_at',\n",
        "     'NM_144196.2_at',\n",
        "     'NM_001043144.1_at',\n",
        "     'NM_141384.3_at',\n",
        "     'NM_001169518.1_at',\n",
        "     'NM_142057.2_at',\n",
        "     'NM_143233.2_at',\n",
        "     'NM_137574.2_at',\n",
        "     'NM_132034.1_at',\n",
        "     'NM_080275.2_at',\n",
        "     'NM_141371.2_at',\n",
        "     'NM_168288.2_at',\n",
        "     'NM_137617.3_at',\n",
        "     'NM_132749.1_at',\n",
        "     'NM_132341.3_at',\n",
        "     'NM_132038.2_at',\n",
        "     'NM_131923.3_at',\n",
        "     'NM_131984.1_at',\n",
        "     'NM_168657.1_at',\n",
        "     'NM_166512.2_at',\n",
        "     'NM_164601.1_at',\n",
        "     'NM_206133.3_at',\n",
        "     'NM_134577.1_at',\n",
        "     'NM_142985.4_at',\n",
        "     'NM_079025.4_at',\n",
        "     'NM_078979.3_at',\n",
        "     'NM_168795.3_at',\n",
        "     'NM_140646.3_at',\n",
        "     'NM_165363.1_at',\n",
        "     'NM_001103387.1_at',\n",
        "     'NM_001201871.1_at',\n",
        "     'NM_001169156.1_at',\n",
        "     'NM_079144.4_at',\n",
        "     'NM_001144585.1_at',\n",
        "     'NM_080077.2_at',\n",
        "     'NM_057983.4_at',\n",
        "     'NM_143456.2_at',\n",
        "     'NM_136145.3_at',\n",
        "     'NM_136807.1_at',\n",
        "     'NM_144191.4_at',\n",
        "     'NM_057444.3_at',\n",
        "     'NM_137158.3_at',\n",
        "     'NM_166957.1_at',\n",
        "     'NM_141186.3_at',\n",
        "     'NM_135869.1_at',\n",
        "     'NM_168396.1_at',\n",
        "     'NM_168796.3_at',\n",
        "     'NM_001144423.2_at',\n",
        "     'NM_133117.2_at',\n",
        "     'NM_079021.4_at',\n",
        "     'NM_170211.2_at',\n",
        "     'NM_001201830.1_at',\n",
        "     'NM_141103.3_at',\n",
        "     'NM_079005.4_at',\n",
        "     'NM_140163.2_at',\n",
        "     'NM_168019.3_at',\n",
        "     'NM_135313.2_at',\n",
        "     'NM_135844.3_at',\n",
        "     'NM_140181.1_at',\n",
        "     'NM_139633.2_at',\n",
        "     'NM_132713.2_at',\n",
        "     'NM_144109.1_at',\n",
        "     'NM_164602.1_at',\n",
        "     'NM_132571.1_at',\n",
        "     'NM_141420.3_at',\n",
        "     'NM_001014489.2_at',\n",
        "     'NM_142918.2_at',\n",
        "     'NM_142115.1_at',\n",
        "     'NM_130535.2_at',\n",
        "     'NM_144368.2_at',\n",
        "     'NM_170415.4_at',\n",
        "     'NM_134601.2_at',\n",
        "     'NM_142380.3_at',\n",
        "     'NM_001201917.1_at',\n",
        "     'NM_079020.4_at',\n",
        "     'NM_142963.3_at',\n",
        "     'NM_079143.2_at',\n",
        "     'NM_140154.2_at',\n",
        "     'NM_142349.2_at',\n",
        "     'NM_141364.1_at',\n",
        "     'NM_164740.2_at',\n",
        "     'NM_132525.2_at',\n",
        "     'NM_140805.1_at',\n",
        "     'NM_144380.2_at',\n",
        "     'NM_057930.3_at',\n",
        "     'NM_137361.3_at',\n",
        "     'NM_137639.1_at',\n",
        "     'NM_168244.2_at',\n",
        "     'NM_143229.1_at',\n",
        "     'NM_168078.1_at',\n",
        "     'NM_001259447.1_at',\n",
        "     'NM_135329.2_at',\n",
        "     'NM_132756.2_at',\n",
        "     'NM_141088.1_at',\n",
        "     'NM_136841.2_at',\n",
        "     'NM_140621.1_at',\n",
        "     'NM_140603.1_at',\n",
        "     'NM_130687.2_at',\n",
        "     'NM_134874.3_at',\n",
        "     'NM_165165.1_at',\n",
        "     'NM_140165.1_at',\n",
        "     'NM_141368.2_at',\n",
        "     'NM_135456.3_at',\n",
        "     'NM_136679.4_at',\n",
        "     'NM_137608.2_at',\n",
        "     'NM_141052.2_at',\n",
        "     'NM_001103928.1_at',\n",
        "     'NM_140352.2_at',\n",
        "     'NM_143635.1_at',\n",
        "     'NM_169766.2_at',\n",
        "     'NM_167061.2_at',\n",
        "     'NM_001259735.1_at',\n",
        "     'NM_143761.3_at',\n",
        "     'NM_141097.3_at'])"
       ]
      }
     ],
     "prompt_number": 22
    },
    {
     "cell_type": "code",
     "collapsed": false,
     "input": [],
     "language": "python",
     "metadata": {},
     "outputs": []
    }
   ],
   "metadata": {}
  }
 ]
}