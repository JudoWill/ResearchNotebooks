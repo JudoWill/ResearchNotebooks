{
 "metadata": {
  "name": "PSSMCluster"
 },
 "nbformat": 3,
 "nbformat_minor": 0,
 "worksheets": [
  {
   "cells": [
    {
     "cell_type": "code",
     "collapsed": false,
     "input": [
      "import sys\n",
      "sys.path.append('/home/will/PySeqUtils/')\n",
      "import os, os.path\n",
      "os.chdir('/home/will/HIVTropism/R5Cluster/')\n",
      "from itertools import islice\n",
      "import pandas as pd\n",
      "from GeneralSeqTools import fasta_reader, call_muscle"
     ],
     "language": "python",
     "metadata": {},
     "outputs": [],
     "prompt_number": 1
    },
    {
     "cell_type": "code",
     "collapsed": false,
     "input": [
      "autoreload?"
     ],
     "language": "python",
     "metadata": {},
     "outputs": [
      {
       "output_type": "stream",
       "stream": "stdout",
       "text": [
        "Object `autoreload` not found.\n"
       ]
      }
     ],
     "prompt_number": 2
    },
    {
     "cell_type": "code",
     "collapsed": false,
     "input": [
      "import autoreload\n",
      "import SeqSklearn\n",
      "%load_ext autoreload\n",
      "%autoreload 2"
     ],
     "language": "python",
     "metadata": {},
     "outputs": [],
     "prompt_number": 3
    },
    {
     "cell_type": "heading",
     "level": 2,
     "metadata": {},
     "source": [
      "Pulling out LANL Data"
     ]
    },
    {
     "cell_type": "code",
     "collapsed": false,
     "input": [
      "def decide_tropism(inval):\n",
      "    if inval < -6.95:\n",
      "        return 'R5'\n",
      "    elif inval > -2.88:\n",
      "        return 'X4'\n",
      "    elif inval < -4.92:\n",
      "        return 'R5-P'\n",
      "    elif inval >= -4.92:\n",
      "        return 'X4-P'\n",
      "    \n",
      "    return np.nan\n"
     ],
     "language": "python",
     "metadata": {},
     "outputs": [],
     "prompt_number": 4
    },
    {
     "cell_type": "code",
     "collapsed": false,
     "input": [
      "lanl_data = pd.read_csv('LANLResults.tsv', sep='\\t')"
     ],
     "language": "python",
     "metadata": {},
     "outputs": [],
     "prompt_number": 5
    },
    {
     "cell_type": "code",
     "collapsed": false,
     "input": [
      "from sklearn.preprocessing import label_binarize\n",
      "def safe_float(num):\n",
      "    \n",
      "    try:\n",
      "        return float(num)\n",
      "    except ValueError:\n",
      "        return np.nan\n",
      "    \n",
      "def convert_group_series(inser, cluster_only=False):\n",
      "    \n",
      "    groups = inser.dropna().unique()\n",
      "    c_col = inser.name+'-cluster'\n",
      "    if cluster_only:\n",
      "        odf = pd.DataFrame(np.nan, \n",
      "                           columns=[c_col],\n",
      "                           index=inser.index)\n",
      "        for cnum, ocol in enumerate(groups,1):\n",
      "            odf[c_col][inser==ocol] = cnum\n",
      "        \n",
      "    else:\n",
      "        new_labels = [inser.name+'-'+col for col in groups]\n",
      "        odf = pd.DataFrame(np.nan, \n",
      "                           columns=new_labels+[c_col],\n",
      "                           index=inser.index)\n",
      "    \n",
      "        for cnum, (ocol, ncol) in enumerate(zip(groups, new_labels),1):\n",
      "            odf[ncol] = (inser==ocol).astype(float)\n",
      "            odf[ncol][inser.isnull()] = np.nan\n",
      "            odf[c_col][inser==ocol] = cnum\n",
      "        \n",
      "    return odf\n",
      "    \n",
      "    \n",
      "    \n",
      "\n",
      "treated_lanl_dict = {'Log-CD8':lanl_data['CD8 count'].map(np.log10),\n",
      "                     'Log-CD4':lanl_data['CD4 count'].map(np.log10),\n",
      "                     'Log-VL':lanl_data['Viral load'].map(np.log10),\n",
      "                     'Years-Infected':lanl_data['Days from Infection']/365,\n",
      "                     'Years-Seropositve':lanl_data['Days from Seroconversion'].map(safe_float)/365,\n",
      "                     'Accession':lanl_data['Accession'],\n",
      "                     'Gender':lanl_data['Patient Sex'],\n",
      "                     'Tissue':lanl_data['Sample Tissue'],\n",
      "                     'STissue':lanl_data['NewSimpleTissue'],\n",
      "                     'DrugNaive':lanl_data['Drug Naive'],\n",
      "                     'GeoRegion':lanl_data['Georegion'],\n",
      "                     \n",
      "                }\n",
      "\n",
      "treated_lanl = pd.DataFrame(treated_lanl_dict)\n",
      "treated_lanl = pd.concat([treated_lanl, \n",
      "                          convert_group_series(treated_lanl['Gender']),\n",
      "                          convert_group_series(treated_lanl['Tissue'], cluster_only=True),\n",
      "                          convert_group_series(treated_lanl['STissue'], cluster_only=True),\n",
      "                          convert_group_series(treated_lanl['DrugNaive']),\n",
      "                          convert_group_series(treated_lanl['GeoRegion'], cluster_only=True),\n",
      "                          ], \n",
      "                         axis=1)\n",
      "treated_lanl"
     ],
     "language": "python",
     "metadata": {},
     "outputs": [
      {
       "html": [
        "<pre>\n",
        "&ltclass 'pandas.core.frame.DataFrame'&gt\n",
        "Int64Index: 199770 entries, 0 to 199769\n",
        "Data columns (total 20 columns):\n",
        "Accession            199770  non-null values\n",
        "DrugNaive            97267  non-null values\n",
        "Gender               75088  non-null values\n",
        "GeoRegion            189856  non-null values\n",
        "Log-CD4              29856  non-null values\n",
        "Log-CD8              3489  non-null values\n",
        "Log-VL               44978  non-null values\n",
        "STissue              134220  non-null values\n",
        "Tissue               134898  non-null values\n",
        "Years-Infected       4467  non-null values\n",
        "Years-Seropositve    30263  non-null values\n",
        "Gender-M             75088  non-null values\n",
        "Gender-F             75088  non-null values\n",
        "Gender-cluster       75088  non-null values\n",
        "Tissue-cluster       134898  non-null values\n",
        "STissue-cluster      134220  non-null values\n",
        "DrugNaive-no         97267  non-null values\n",
        "DrugNaive-yes        97267  non-null values\n",
        "DrugNaive-cluster    97267  non-null values\n",
        "GeoRegion-cluster    189856  non-null values\n",
        "dtypes: float64(14), object(6)\n",
        "</pre>"
       ],
       "metadata": {},
       "output_type": "pyout",
       "prompt_number": 6,
       "text": [
        "<class 'pandas.core.frame.DataFrame'>\n",
        "Int64Index: 199770 entries, 0 to 199769\n",
        "Data columns (total 20 columns):\n",
        "Accession            199770  non-null values\n",
        "DrugNaive            97267  non-null values\n",
        "Gender               75088  non-null values\n",
        "GeoRegion            189856  non-null values\n",
        "Log-CD4              29856  non-null values\n",
        "Log-CD8              3489  non-null values\n",
        "Log-VL               44978  non-null values\n",
        "STissue              134220  non-null values\n",
        "Tissue               134898  non-null values\n",
        "Years-Infected       4467  non-null values\n",
        "Years-Seropositve    30263  non-null values\n",
        "Gender-M             75088  non-null values\n",
        "Gender-F             75088  non-null values\n",
        "Gender-cluster       75088  non-null values\n",
        "Tissue-cluster       134898  non-null values\n",
        "STissue-cluster      134220  non-null values\n",
        "DrugNaive-no         97267  non-null values\n",
        "DrugNaive-yes        97267  non-null values\n",
        "DrugNaive-cluster    97267  non-null values\n",
        "GeoRegion-cluster    189856  non-null values\n",
        "dtypes: float64(14), object(6)"
       ]
      }
     ],
     "prompt_number": 6
    },
    {
     "cell_type": "code",
     "collapsed": false,
     "input": [
      "def safe_mean(inser):\n",
      "    return inser.mean()\n",
      "\n",
      "def most_common(inser):\n",
      "    try:\n",
      "        return inser.value_counts().index[0]\n",
      "    except IndexError:\n",
      "        return np.nan\n",
      "\n",
      "V3_tropism = pd.read_csv('LANLTropism.tsv', sep='\\t')\n",
      "V3_tropism = V3_tropism[V3_tropism['percentile']<0.95]\n",
      "trop_data = V3_tropism.groupby('name')['score'].mean()\n",
      "pssm_bins = [-15.0, -13.0, -11.0, -9.0, -6.96, -4.92, -2.88, 1]\n",
      "trop_data = pd.DataFrame({\n",
      "                           'PSSMScore':trop_data,\n",
      "                           'PSSMTrop':trop_data.map(decide_tropism),\n",
      "                           'PSSMSubs':pd.Series(np.digitize(trop_data.values, pssm_bins), \n",
      "                                                index=trop_data.index),\n",
      "                           })\n",
      "ntrop_data = pd.concat([trop_data, convert_group_series(trop_data['PSSMTrop'])], axis=1)\n",
      "print ntrop_data.head()"
     ],
     "language": "python",
     "metadata": {},
     "outputs": [
      {
       "output_type": "stream",
       "stream": "stdout",
       "text": [
        "          PSSMScore  PSSMSubs PSSMTrop  PSSMTrop-R5  PSSMTrop-R5-P  \\\n",
        "name                                                                 \n",
        "AB001137 -10.016667         3       R5            1              0   \n",
        "AB001138 -10.016667         3       R5            1              0   \n",
        "AB001139  -8.840000         4       R5            1              0   \n",
        "AB001140  -6.263333         5     R5-P            0              1   \n",
        "AB001141  -6.263333         5     R5-P            0              1   \n",
        "\n",
        "          PSSMTrop-X4-P  PSSMTrop-X4  PSSMTrop-cluster  \n",
        "name                                                    \n",
        "AB001137              0            0                 1  \n",
        "AB001138              0            0                 1  \n",
        "AB001139              0            0                 1  \n",
        "AB001140              0            0                 2  \n",
        "AB001141              0            0                 2  \n"
       ]
      }
     ],
     "prompt_number": 7
    },
    {
     "cell_type": "code",
     "collapsed": false,
     "input": [
      "nlanl_data = pd.merge(treated_lanl, ntrop_data,\n",
      "                      left_on='Accession',\n",
      "                      right_index=True, \n",
      "                      how='outer').groupby('Accession').first()\n",
      "nlanl_data"
     ],
     "language": "python",
     "metadata": {},
     "outputs": [
      {
       "html": [
        "<pre>\n",
        "&ltclass 'pandas.core.frame.DataFrame'&gt\n",
        "Index: 223154 entries, A04321 to Z95460\n",
        "Data columns (total 27 columns):\n",
        "DrugNaive            97267  non-null values\n",
        "Gender               75088  non-null values\n",
        "GeoRegion            189856  non-null values\n",
        "Log-CD4              29856  non-null values\n",
        "Log-CD8              3489  non-null values\n",
        "Log-VL               44978  non-null values\n",
        "STissue              134220  non-null values\n",
        "Tissue               134898  non-null values\n",
        "Years-Infected       4467  non-null values\n",
        "Years-Seropositve    30263  non-null values\n",
        "Gender-M             75088  non-null values\n",
        "Gender-F             75088  non-null values\n",
        "Gender-cluster       75088  non-null values\n",
        "Tissue-cluster       134898  non-null values\n",
        "STissue-cluster      134220  non-null values\n",
        "DrugNaive-no         97267  non-null values\n",
        "DrugNaive-yes        97267  non-null values\n",
        "DrugNaive-cluster    97267  non-null values\n",
        "GeoRegion-cluster    189856  non-null values\n",
        "PSSMScore            83916  non-null values\n",
        "PSSMSubs             83916  non-null values\n",
        "PSSMTrop             83916  non-null values\n",
        "PSSMTrop-R5          83916  non-null values\n",
        "PSSMTrop-R5-P        83916  non-null values\n",
        "PSSMTrop-X4-P        83916  non-null values\n",
        "PSSMTrop-X4          83916  non-null values\n",
        "PSSMTrop-cluster     83916  non-null values\n",
        "dtypes: float64(21), object(6)\n",
        "</pre>"
       ],
       "metadata": {},
       "output_type": "pyout",
       "prompt_number": 8,
       "text": [
        "<class 'pandas.core.frame.DataFrame'>\n",
        "Index: 223154 entries, A04321 to Z95460\n",
        "Data columns (total 27 columns):\n",
        "DrugNaive            97267  non-null values\n",
        "Gender               75088  non-null values\n",
        "GeoRegion            189856  non-null values\n",
        "Log-CD4              29856  non-null values\n",
        "Log-CD8              3489  non-null values\n",
        "Log-VL               44978  non-null values\n",
        "STissue              134220  non-null values\n",
        "Tissue               134898  non-null values\n",
        "Years-Infected       4467  non-null values\n",
        "Years-Seropositve    30263  non-null values\n",
        "Gender-M             75088  non-null values\n",
        "Gender-F             75088  non-null values\n",
        "Gender-cluster       75088  non-null values\n",
        "Tissue-cluster       134898  non-null values\n",
        "STissue-cluster      134220  non-null values\n",
        "DrugNaive-no         97267  non-null values\n",
        "DrugNaive-yes        97267  non-null values\n",
        "DrugNaive-cluster    97267  non-null values\n",
        "GeoRegion-cluster    189856  non-null values\n",
        "PSSMScore            83916  non-null values\n",
        "PSSMSubs             83916  non-null values\n",
        "PSSMTrop             83916  non-null values\n",
        "PSSMTrop-R5          83916  non-null values\n",
        "PSSMTrop-R5-P        83916  non-null values\n",
        "PSSMTrop-X4-P        83916  non-null values\n",
        "PSSMTrop-X4          83916  non-null values\n",
        "PSSMTrop-cluster     83916  non-null values\n",
        "dtypes: float64(21), object(6)"
       ]
      }
     ],
     "prompt_number": 8
    },
    {
     "cell_type": "heading",
     "level": 2,
     "metadata": {},
     "source": [
      "Bring in Seqs"
     ]
    },
    {
     "cell_type": "code",
     "collapsed": false,
     "input": [
      "import glob\n",
      "from Bio.Seq import Seq\n",
      "from Bio.Alphabet import generic_dna\n",
      "from GeneralSeqTools import fasta_writer, seq_align_to_ref, WebPSSM_V3_fasta\n",
      "from concurrent.futures import ThreadPoolExecutor\n",
      "import csv\n",
      "from itertools import imap\n",
      "import pickle\n",
      "\n",
      "\n",
      "\n",
      "def trans_seq(handle, wanted_seqs, trans=True):\n",
      "    for name, seq in fasta_reader(handle):\n",
      "        if name not in wanted_seqs:\n",
      "            continue\n",
      "            \n",
      "        tseq = ''.join(l for l in seq if l.isalpha())\n",
      "        if trans:\n",
      "            rseq = Seq(tseq, generic_dna).translate()\n",
      "            yield name, ''.join(l for l in rseq.tostring() if l.isalpha())\n",
      "        else:\n",
      "            yield name, tseq\n",
      "\n",
      "with open('/home/will/HIVReportGen/Data/BlastDB/ConBseqs.txt') as handle:\n",
      "    ref_seqs = dict()\n",
      "    for line in handle:\n",
      "        parts = line.strip().split('\\t')\n",
      "        ref_seqs[parts[0]] = parts[1]\n",
      "            \n",
      "\n",
      "files = glob.glob('/home/will/HIVTropism/LANLdata/SubB-*.fasta')\n",
      "oseqs = []\n",
      "if os.path.exists('aligned_seq.pkl'):\n",
      "    with open('aligned_seq.pkl') as handle:\n",
      "        oseqs = pickle.load(handle)\n",
      "else:\n",
      "    for f in files:\n",
      "        fname = f.rsplit(os.sep,1)[-1].split('.')[0]\n",
      "        parts = fname.split('-')\n",
      "        prot_name = parts[1].replace('_','-')\n",
      "        if prot_name == 'V3':\n",
      "            continue\n",
      "        with open(f) as handle:\n",
      "        \n",
      "            prot_seqs = list(trans_seq(handle, set(trop_data.index), trans=prot_name != 'LTR'))\n",
      "            print prot_name, len(prot_seqs)\n",
      "            aligned_seqs = seq_align_to_ref(prot_seqs, ref_seqs[prot_name], max_workers=20)\n",
      "            for name, seq in aligned_seqs:\n",
      "                oseqs.append({\n",
      "                              'Accession':name,\n",
      "                              'Seq':seq,\n",
      "                              'Prot':prot_name\n",
      "                              })\n",
      "            "
     ],
     "language": "python",
     "metadata": {},
     "outputs": [],
     "prompt_number": 9
    },
    {
     "cell_type": "code",
     "collapsed": false,
     "input": [
      "aligned_seqs = pd.pivot_table(pd.DataFrame(oseqs),\n",
      "                              rows='Accession',\n",
      "                              cols='Prot',\n",
      "                              values='Seq',\n",
      "                              aggfunc='first')"
     ],
     "language": "python",
     "metadata": {},
     "outputs": [],
     "prompt_number": 10
    },
    {
     "cell_type": "heading",
     "level": 3,
     "metadata": {},
     "source": [
      "Scanning Co-Linear"
     ]
    },
    {
     "cell_type": "code",
     "collapsed": false,
     "input": [
      "def var_func(X, y):\n",
      "    scores = np.squeeze(np.asarray(np.var(X, axis=0)))\n",
      "    pvals = np.ones_like(scores)\n",
      "    return scores, pvals"
     ],
     "language": "python",
     "metadata": {},
     "outputs": [],
     "prompt_number": 11
    },
    {
     "cell_type": "code",
     "collapsed": false,
     "input": [
      "from sklearn.pipeline import Pipeline\n",
      "from sklearn.grid_search import GridSearchCV, RandomizedSearchCV\n",
      "from sklearn.cluster import KMeans\n",
      "from sklearn.feature_selection import SelectPercentile, SelectKBest\n",
      "\n",
      "\n",
      "\n",
      "param_grid = {'n_clusters':range(2,30)}\n",
      "\n",
      "region_transform = Pipeline(steps = [('SeqTransormed', SeqSklearn.BioTransformer(typ='aa')),\n",
      "                                     ('VarFilter', SelectKBest(var_func, k=20))])\n",
      "\n",
      "region_predictor = GridSearchCV(KMeans(), \n",
      "                                param_grid, n_jobs=5, pre_dispatch=10)\n",
      "\n",
      "region_scorer = KMeans()\n"
     ],
     "language": "python",
     "metadata": {},
     "outputs": [],
     "prompt_number": 12
    },
    {
     "cell_type": "code",
     "collapsed": false,
     "input": [
      "from operator import itemgetter\n",
      "import warnings\n",
      "import csv\n",
      "\n",
      "#handle = open('cluster_dump.tsv', 'w')\n",
      "writer = csv.DictWriter(handle, ['Prot', 'Start', 'Accession', 'Cluster'])\n",
      "writer.writeheader()\n",
      "scan_width = 35\n",
      "out_data = []\n",
      "for col in ['Int', 'LTR', 'Nef', 'Tat-2', 'Tat-1', 'PR', 'RT', 'Vif', 'Vpr', 'gp120', 'gp41']:\n",
      "    break\n",
      "    seq_df, known_subs = aligned_seqs[col].dropna().align(nlanl_data['PSSMSubs'].dropna(), join='inner')\n",
      "    seq_list_seqs = [list(l) for l in seq_df.values]\n",
      "    seq_len = len(seq_list_seqs[0])\n",
      "    for start in range(0,seq_len-scan_width):\n",
      "        if start < 20:\n",
      "            print col, start\n",
      "        elif start > (seq_len-50):\n",
      "            print col, start-seq_len\n",
      "        getter = itemgetter(*range(start,start+scan_width))\n",
      "        seq_region = np.array(map(getter, seq_list_seqs))\n",
      "        with warnings.catch_warnings():\n",
      "            warnings.simplefilter(\"ignore\")\n",
      "            region_transform.fit(seq_region, np.ones((seq_region.shape[0], 1)))\n",
      "            seq_data = region_transform.transform(seq_region)\n",
      "        region_predictor.fit(seq_data)\n",
      "        clusters = region_predictor.predict(seq_data)\n",
      "        for c, acc in zip(clusters, seq_df.index):\n",
      "            out_data.append({\n",
      "                             'Prot':col,\n",
      "                             'Start':start,\n",
      "                             'Accession':acc,\n",
      "                             'Cluster':c\n",
      "                             })\n",
      "            writer.writerow({\n",
      "                             'Prot':col,\n",
      "                             'Start':start,\n",
      "                             'Accession':acc,\n",
      "                             'Cluster':c\n",
      "                             })\n",
      "        \n",
      "    "
     ],
     "language": "python",
     "metadata": {},
     "outputs": [
      {
       "ename": "ValueError",
       "evalue": "I/O operation on closed file",
       "output_type": "pyerr",
       "traceback": [
        "\u001b[1;31m---------------------------------------------------------------------------\u001b[0m\n\u001b[1;31mValueError\u001b[0m                                Traceback (most recent call last)",
        "\u001b[1;32m<ipython-input-13-a05f09bb5b69>\u001b[0m in \u001b[0;36m<module>\u001b[1;34m()\u001b[0m\n\u001b[0;32m      5\u001b[0m \u001b[1;31m#handle = open('cluster_dump.tsv', 'w')\u001b[0m\u001b[1;33m\u001b[0m\u001b[1;33m\u001b[0m\u001b[0m\n\u001b[0;32m      6\u001b[0m \u001b[0mwriter\u001b[0m \u001b[1;33m=\u001b[0m \u001b[0mcsv\u001b[0m\u001b[1;33m.\u001b[0m\u001b[0mDictWriter\u001b[0m\u001b[1;33m(\u001b[0m\u001b[0mhandle\u001b[0m\u001b[1;33m,\u001b[0m \u001b[1;33m[\u001b[0m\u001b[1;34m'Prot'\u001b[0m\u001b[1;33m,\u001b[0m \u001b[1;34m'Start'\u001b[0m\u001b[1;33m,\u001b[0m \u001b[1;34m'Accession'\u001b[0m\u001b[1;33m,\u001b[0m \u001b[1;34m'Cluster'\u001b[0m\u001b[1;33m]\u001b[0m\u001b[1;33m)\u001b[0m\u001b[1;33m\u001b[0m\u001b[0m\n\u001b[1;32m----> 7\u001b[1;33m \u001b[0mwriter\u001b[0m\u001b[1;33m.\u001b[0m\u001b[0mwriteheader\u001b[0m\u001b[1;33m(\u001b[0m\u001b[1;33m)\u001b[0m\u001b[1;33m\u001b[0m\u001b[0m\n\u001b[0m\u001b[0;32m      8\u001b[0m \u001b[0mscan_width\u001b[0m \u001b[1;33m=\u001b[0m \u001b[1;36m35\u001b[0m\u001b[1;33m\u001b[0m\u001b[0m\n\u001b[0;32m      9\u001b[0m \u001b[0mout_data\u001b[0m \u001b[1;33m=\u001b[0m \u001b[1;33m[\u001b[0m\u001b[1;33m]\u001b[0m\u001b[1;33m\u001b[0m\u001b[0m\n",
        "\u001b[1;32m/usr/lib/python2.7/csv.pyc\u001b[0m in \u001b[0;36mwriteheader\u001b[1;34m(self)\u001b[0m\n\u001b[0;32m    135\u001b[0m     \u001b[1;32mdef\u001b[0m \u001b[0mwriteheader\u001b[0m\u001b[1;33m(\u001b[0m\u001b[0mself\u001b[0m\u001b[1;33m)\u001b[0m\u001b[1;33m:\u001b[0m\u001b[1;33m\u001b[0m\u001b[0m\n\u001b[0;32m    136\u001b[0m         \u001b[0mheader\u001b[0m \u001b[1;33m=\u001b[0m \u001b[0mdict\u001b[0m\u001b[1;33m(\u001b[0m\u001b[0mzip\u001b[0m\u001b[1;33m(\u001b[0m\u001b[0mself\u001b[0m\u001b[1;33m.\u001b[0m\u001b[0mfieldnames\u001b[0m\u001b[1;33m,\u001b[0m \u001b[0mself\u001b[0m\u001b[1;33m.\u001b[0m\u001b[0mfieldnames\u001b[0m\u001b[1;33m)\u001b[0m\u001b[1;33m)\u001b[0m\u001b[1;33m\u001b[0m\u001b[0m\n\u001b[1;32m--> 137\u001b[1;33m         \u001b[0mself\u001b[0m\u001b[1;33m.\u001b[0m\u001b[0mwriterow\u001b[0m\u001b[1;33m(\u001b[0m\u001b[0mheader\u001b[0m\u001b[1;33m)\u001b[0m\u001b[1;33m\u001b[0m\u001b[0m\n\u001b[0m\u001b[0;32m    138\u001b[0m \u001b[1;33m\u001b[0m\u001b[0m\n\u001b[0;32m    139\u001b[0m     \u001b[1;32mdef\u001b[0m \u001b[0m_dict_to_list\u001b[0m\u001b[1;33m(\u001b[0m\u001b[0mself\u001b[0m\u001b[1;33m,\u001b[0m \u001b[0mrowdict\u001b[0m\u001b[1;33m)\u001b[0m\u001b[1;33m:\u001b[0m\u001b[1;33m\u001b[0m\u001b[0m\n",
        "\u001b[1;32m/usr/lib/python2.7/csv.pyc\u001b[0m in \u001b[0;36mwriterow\u001b[1;34m(self, rowdict)\u001b[0m\n\u001b[0;32m    146\u001b[0m \u001b[1;33m\u001b[0m\u001b[0m\n\u001b[0;32m    147\u001b[0m     \u001b[1;32mdef\u001b[0m \u001b[0mwriterow\u001b[0m\u001b[1;33m(\u001b[0m\u001b[0mself\u001b[0m\u001b[1;33m,\u001b[0m \u001b[0mrowdict\u001b[0m\u001b[1;33m)\u001b[0m\u001b[1;33m:\u001b[0m\u001b[1;33m\u001b[0m\u001b[0m\n\u001b[1;32m--> 148\u001b[1;33m         \u001b[1;32mreturn\u001b[0m \u001b[0mself\u001b[0m\u001b[1;33m.\u001b[0m\u001b[0mwriter\u001b[0m\u001b[1;33m.\u001b[0m\u001b[0mwriterow\u001b[0m\u001b[1;33m(\u001b[0m\u001b[0mself\u001b[0m\u001b[1;33m.\u001b[0m\u001b[0m_dict_to_list\u001b[0m\u001b[1;33m(\u001b[0m\u001b[0mrowdict\u001b[0m\u001b[1;33m)\u001b[0m\u001b[1;33m)\u001b[0m\u001b[1;33m\u001b[0m\u001b[0m\n\u001b[0m\u001b[0;32m    149\u001b[0m \u001b[1;33m\u001b[0m\u001b[0m\n\u001b[0;32m    150\u001b[0m     \u001b[1;32mdef\u001b[0m \u001b[0mwriterows\u001b[0m\u001b[1;33m(\u001b[0m\u001b[0mself\u001b[0m\u001b[1;33m,\u001b[0m \u001b[0mrowdicts\u001b[0m\u001b[1;33m)\u001b[0m\u001b[1;33m:\u001b[0m\u001b[1;33m\u001b[0m\u001b[0m\n",
        "\u001b[1;31mValueError\u001b[0m: I/O operation on closed file"
       ]
      }
     ],
     "prompt_number": 13
    },
    {
     "cell_type": "code",
     "collapsed": false,
     "input": [
      "handle.close()"
     ],
     "language": "python",
     "metadata": {},
     "outputs": []
    },
    {
     "cell_type": "code",
     "collapsed": false,
     "input": [
      "tmp = [len(aligned_seqs[col].dropna().values[0]) for col in aligned_seqs.columns]"
     ],
     "language": "python",
     "metadata": {},
     "outputs": []
    },
    {
     "cell_type": "code",
     "collapsed": false,
     "input": [
      "aligned_seqs.columns"
     ],
     "language": "python",
     "metadata": {},
     "outputs": []
    },
    {
     "cell_type": "code",
     "collapsed": false,
     "input": [
      "#from sklearn.cross_validation import permutation_test_score, Bootstrap\n",
      "##\n",
      "#\n",
      "#tregion = region_scorer.set_params(n_clusters=4)\n",
      "#ts, scores, pval = permutation_test_score(tregion, seq_data, y=known_subs.values,\n",
      "#                                          scoring = SeqSklearn.normalized_mutual_info_score_linker,                       \n",
      "#                                          n_permutations=100,\n",
      "#                                          cv=Bootstrap(seq_region.shape[0], train_size=0.7, n_iter=1))\n",
      "#print ts, pval\n"
     ],
     "language": "python",
     "metadata": {},
     "outputs": []
    },
    {
     "cell_type": "code",
     "collapsed": false,
     "input": [
      "seq_df, known_subs = aligned_seqs['Int'].dropna().align(nlanl_data['PSSMScore'].dropna(), join='inner')"
     ],
     "language": "python",
     "metadata": {},
     "outputs": [],
     "prompt_number": 14
    },
    {
     "cell_type": "code",
     "collapsed": false,
     "input": [
      "from SeqSklearn import BinBasedCluster\n",
      "\n",
      "clust = BinBasedCluster(bins=pssm_bins)\n",
      "getter = itemgetter(*range(109-17,109+17))\n",
      "seq_list_seqs = [list(l) for l in seq_df.values]\n",
      "seq_region = np.array(map(getter, seq_list_seqs))\n",
      "region_transform.fit(seq_region, np.ones((seq_region.shape[0], 1)))\n",
      "seq_data = region_transform.transform(seq_region)\n",
      "\n",
      "pca_trans, biny, xx, yy, Z = clust.make_vern_points(seq_data, known_subs.values)\n"
     ],
     "language": "python",
     "metadata": {},
     "outputs": [
      {
       "output_type": "stream",
       "stream": "stdout",
       "text": [
        "(1734, 20) (1734, 10)\n"
       ]
      },
      {
       "output_type": "stream",
       "stream": "stderr",
       "text": [
        "/usr/local/lib/python2.7/dist-packages/sklearn/feature_selection/univariate_selection.py:319: UserWarning: Duplicate scores. Result may depend on feature ordering.There are probably duplicate features, or you used a classification score for a regression task.\n",
        "  warn(\"Duplicate scores. Result may depend on feature ordering.\"\n"
       ]
      }
     ],
     "prompt_number": 15
    },
    {
     "cell_type": "code",
     "collapsed": false,
     "input": [
      "from pylab import get_cmap\n",
      "plt.figure(figsize=(10,10))\n",
      "jitter = 0.01*np.random.randn(*pca_trans.shape)+pca_trans\n",
      "plt.scatter(jitter[:,0], jitter[:,1], vmax = 0, c=known_subs, cmap=get_cmap('copper_r'), alpha=0.5)\n",
      "cbar = plt.colorbar()\n",
      "cbar.set_label('PSSMScore')\n",
      "plt.ylabel('PC-1')\n",
      "plt.xlabel('PC-2')"
     ],
     "language": "python",
     "metadata": {},
     "outputs": [
      {
       "metadata": {},
       "output_type": "pyout",
       "prompt_number": 16,
       "text": [
        "<matplotlib.text.Text at 0x85351d0>"
       ]
      },
      {
       "metadata": {},
       "output_type": "display_data",
       "png": "[encoded data removed]",
       "text": [
        "<matplotlib.figure.Figure at 0x8e9e390>"
       ]
      }
     ],
     "prompt_number": 16
    },
    {
     "cell_type": "code",
     "collapsed": false,
     "input": [
      "from sklearn.cross_validation import permutation_test_score, Bootstrap\n",
      "from SeqSklearn import silhouette_score_linker\n",
      "\n",
      "def check_num_clusts(X_data, n_clusts=range(2, 30), n_iter=10):\n",
      "    \n",
      "    cv = Bootstrap(X_data.shape[0], n_iter=n_iter, train_size=0.7)\n",
      "    \n",
      "    pred = GridSearchCV(KMeans(), {'n_clusters':n_clusts}, \n",
      "                        cv = cv,\n",
      "                        scoring=silhouette_score_linker,\n",
      "                        verbose=1,\n",
      "                        refit=True)\n",
      "    pred.fit(X_data)\n",
      "    res = []\n",
      "    for d in pred.grid_scores_:\n",
      "        for r in d.cv_validation_scores:\n",
      "            res.append((d.parameters['n_clusters'], r))\n",
      "    return pred, pd.DataFrame(res, columns=['n_clusters','score'])\n",
      "\n",
      "\n",
      "_, trop_data = check_num_clusts(seq_data, \n",
      "                                n_iter=5, \n",
      "                                n_clusts=range(2, 60))\n",
      "t = trop_data.groupby('n_clusters')['score'].mean()\n",
      "e = trop_data.groupby('n_clusters')['score'].std()\n",
      "plt.errorbar(t.index, t.values, yerr=e.values)\n",
      "#plt.title('Clustering of North American V3 sequnces')\n",
      "plt.xlabel('Cluster Size')\n",
      "plt.xlim([1.5, 60])\n",
      "plt.ylabel('Silhouette Score')"
     ],
     "language": "python",
     "metadata": {},
     "outputs": [
      {
       "output_type": "stream",
       "stream": "stderr",
       "text": [
        "[Parallel(n_jobs=1)]: Done   1 jobs       | elapsed:    0.1s\n",
        "[Parallel(n_jobs=1)]: Done  50 jobs       | elapsed:   12.2s\n"
       ]
      },
      {
       "output_type": "stream",
       "stream": "stderr",
       "text": [
        "[Parallel(n_jobs=1)]: Done 200 jobs       | elapsed:  1.9min\n",
        "[Parallel(n_jobs=1)]: Done 290 out of 290 | elapsed:  3.6min finished\n"
       ]
      },
      {
       "output_type": "stream",
       "stream": "stdout",
       "text": [
        "Fitting 5 folds for each of 58 candidates, totalling 290 fits\n"
       ]
      },
      {
       "metadata": {},
       "output_type": "pyout",
       "prompt_number": 20,
       "text": [
        "<matplotlib.text.Text at 0x9971c50>"
       ]
      },
      {
       "metadata": {},
       "output_type": "display_data",
       "png": "[encoded data removed]",
       "text": [
        "<matplotlib.figure.Figure at 0x5a29e50>"
       ]
      }
     ],
     "prompt_number": 20
    },
    {
     "cell_type": "code",
     "collapsed": false,
     "input": [
      "t = trop_data.groupby('n_clusters')['score'].mean()\n",
      "e = trop_data.groupby('n_clusters')['score'].std()\n",
      "plt.errorbar(t.index, t.values, yerr=e.values)\n",
      "#plt.title('Clustering of North American V3 sequnces')\n",
      "plt.xlabel('Cluster Size')\n",
      "plt.xlim([1.5, 60])\n",
      "plt.ylabel('Silhouette Score')"
     ],
     "language": "python",
     "metadata": {},
     "outputs": [
      {
       "metadata": {},
       "output_type": "pyout",
       "prompt_number": 21,
       "text": [
        "<matplotlib.text.Text at 0x5a1a550>"
       ]
      },
      {
       "metadata": {},
       "output_type": "display_data",
       "png": "[encoded data removed]",
       "text": [
        "<matplotlib.figure.Figure at 0x8e74590>"
       ]
      }
     ],
     "prompt_number": 21
    },
    {
     "cell_type": "code",
     "collapsed": false,
     "input": [
      "pd.DataFrame({\n",
      "              'val':t,\n",
      "              'err':e\n",
      "              }).to_csv('make_out.csv')"
     ],
     "language": "python",
     "metadata": {},
     "outputs": [],
     "prompt_number": 26
    },
    {
     "cell_type": "code",
     "collapsed": false,
     "input": [
      "t = pd.read_csv('make_out.csv', names = ['nc', 'err', 'val'])\n",
      "plt.errorbar(t['nc'], t['val'].values, yerr=t['err'].values)\n",
      "plt.xlabel('Cluster Size')\n",
      "plt.xlim([1.5, 60])\n",
      "plt.ylim([0,1])\n",
      "plt.ylabel('Silhouette Score')\n",
      "plt.savefig('final_figures/tall_int_109_clustering.png', dpi=1000)"
     ],
     "language": "python",
     "metadata": {},
     "outputs": [
      {
       "metadata": {},
       "output_type": "display_data",
       "png": "[encoded data removed]",
       "text": [
        "<matplotlib.figure.Figure at 0xa2bf7d0>"
       ]
      }
     ],
     "prompt_number": 33
    },
    {
     "cell_type": "code",
     "collapsed": false,
     "input": [],
     "language": "python",
     "metadata": {},
     "outputs": []
    }
   ],
   "metadata": {}
  }
 ]
}