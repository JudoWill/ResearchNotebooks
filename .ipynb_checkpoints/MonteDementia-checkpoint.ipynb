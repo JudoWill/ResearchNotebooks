{
 "metadata": {
  "name": "MonteDementia"
 },
 "nbformat": 3,
 "nbformat_minor": 0,
 "worksheets": [
  {
   "cells": [
    {
     "cell_type": "code",
     "collapsed": false,
     "input": [
      "from __future__ import division\n",
      "import numpy as np\n",
      "import pandas as pd\n",
      "import sys\n",
      "sys.path.append('/home/will/PatientPicker/')\n",
      "import LoadingTools"
     ],
     "language": "python",
     "metadata": {},
     "outputs": [],
     "prompt_number": 1
    },
    {
     "cell_type": "code",
     "collapsed": false,
     "input": [
      "redcap_data = LoadingTools.load_redcap_data()\n",
      "redcap_data = redcap_data.sort(['Patient ID', 'Date Of Visit'])\n",
      "baseline_date = redcap_data.groupby('Patient ID')['Date Of Visit'].first()"
     ],
     "language": "python",
     "metadata": {},
     "outputs": [],
     "prompt_number": 2
    },
    {
     "cell_type": "code",
     "collapsed": false,
     "input": [
      "def safe_days(inval):\n",
      "    try:\n",
      "        return inval.days\n",
      "    except:\n",
      "        return np.nan\n",
      "    \n",
      "baseline_dict = baseline_date.to_dict()\n",
      "redcap_data['BaseLineDate'] = redcap_data.apply(lambda x: baseline_dict[x['Patient ID']], axis=1)\n",
      "redcap_data['DaysSinceBaseline'] = (redcap_data['Date Of Visit'] - redcap_data['BaseLineDate']).map(safe_days)\n",
      "redcap_data['DaysSeropositive'] = (redcap_data['Date Of Visit'] - redcap_data['HIV Seropositive Date']).map(safe_days)\n",
      "redcap_data['IsMale'] = redcap_data['Gender'] == 'Male'\n",
      "redcap_data['BMI'] = (redcap_data['Weight']/2.2)/redcap_data['Height']**2"
     ],
     "language": "python",
     "metadata": {},
     "outputs": [],
     "prompt_number": 3
    },
    {
     "cell_type": "code",
     "collapsed": false,
     "input": [
      "delta_cols = ['DaysSinceBaseline', 'TMHDS', 'Constructional Score', 'Memory Recall Score', 'Psychomotor Speed Score']\n",
      "delta_scores = redcap_data.groupby('Patient ID')[delta_cols].transform(lambda x: pd.rolling_apply(x, 2, np.diff))\n",
      "rename_dict = dict([(col, 'Delta '+col) for col in delta_cols])\n",
      "delta_scores = delta_scores.rename(columns=rename_dict)"
     ],
     "language": "python",
     "metadata": {},
     "outputs": [],
     "prompt_number": 4
    },
    {
     "cell_type": "code",
     "collapsed": false,
     "input": [
      "train_redcap = pd.concat([redcap_data, delta_scores], axis=1)"
     ],
     "language": "python",
     "metadata": {},
     "outputs": [],
     "prompt_number": 5
    },
    {
     "cell_type": "code",
     "collapsed": false,
     "input": [
      "train_redcap"
     ],
     "language": "python",
     "metadata": {},
     "outputs": [
      {
       "html": [
        "<pre>\n",
        "&ltclass 'pandas.core.frame.DataFrame'&gt\n",
        "Int64Index: 1419 entries, 0 to 1418\n",
        "Columns: 440 entries, Patient ID to Delta Psychomotor Speed Score\n",
        "dtypes: bool(173), float64(157), object(110)\n",
        "</pre>"
       ],
       "metadata": {},
       "output_type": "pyout",
       "prompt_number": 6,
       "text": [
        "<class 'pandas.core.frame.DataFrame'>\n",
        "Int64Index: 1419 entries, 0 to 1418\n",
        "Columns: 440 entries, Patient ID to Delta Psychomotor Speed Score\n",
        "dtypes: bool(173), float64(157), object(110)"
       ]
      }
     ],
     "prompt_number": 6
    },
    {
     "cell_type": "code",
     "collapsed": false,
     "input": [
      "test_cols = [col for col in redcap_data.columns if col.startswith('Test-')]\n",
      "admit_cols = [col for col in redcap_data.columns if col.startswith('Admit-')]\n",
      "clinic_cols = ['Latest CD4 count (cells/uL)', 'Latest CD8 count (cells/uL)', 'Latest viral load']\n",
      "pat_cols = ['Age', 'IsMale', 'BMI']\n",
      "\n",
      "pred_cols = ['Delta TMHDS', 'Delta Constructional Score', 'Delta Memory Recall Score', 'Delta Psychomotor Speed Score']"
     ],
     "language": "python",
     "metadata": {},
     "outputs": [],
     "prompt_number": 7
    },
    {
     "cell_type": "code",
     "collapsed": false,
     "input": [
      "tdata = train_redcap[['Delta TMHDS', 'Delta DaysSinceBaseline']+pat_cols+admit_cols].dropna(axis=0)\n",
      "y = tdata['Delta TMHDS'].values.astype(float)\n",
      "X = tdata.drop(['Delta TMHDS'], axis=1).values.astype(float)"
     ],
     "language": "python",
     "metadata": {},
     "outputs": [],
     "prompt_number": 25
    },
    {
     "cell_type": "code",
     "collapsed": false,
     "input": [],
     "language": "python",
     "metadata": {},
     "outputs": [],
     "prompt_number": 23
    },
    {
     "cell_type": "code",
     "collapsed": false,
     "input": [
      "from sklearn.preprocessing import Normalizer\n",
      "from sklearn.pipeline import Pipeline\n",
      "from sklearn.linear_model import LinearRegression\n",
      "from sklearn.cross_validation import cross_val_score\n",
      "from sklearn.cross_validation import Bootstrap\n",
      "from sklearn.metrics import mean_absolute_error, make_scorer\n",
      "from sklearn.ensemble import AdaBoostRegressor\n",
      "from sklearn.dummy import DummyRegressor\n",
      "\n",
      "pipe = Pipeline(steps=[('Norm', Normalizer()),\n",
      "                       ('Regress', DummyRegressor())])\n",
      "\n",
      "cross_val_score(pipe, X, y, scoring=make_scorer(mean_absolute_error),\n",
      "                cv=Bootstrap(len(y), n_iter=10, train_size=0.6), \n",
      "                verbose=2)\n"
     ],
     "language": "python",
     "metadata": {},
     "outputs": [
      {
       "output_type": "stream",
       "stream": "stdout",
       "text": [
        "score: 1.576474\n",
        "score: 1.667163\n",
        "score: 1.566930\n",
        "score: 1.548607\n",
        "score: 1.384625\n",
        "score: 1.971408\n",
        "score: 1.299009\n",
        "score: 1.378101\n",
        "score: 1.537975\n",
        "score: 1.487758\n"
       ]
      },
      {
       "output_type": "stream",
       "stream": "stderr",
       "text": [
        "[Parallel(n_jobs=1)]: Done   1 jobs       | elapsed:    0.0s\n",
        "[Parallel(n_jobs=1)]: Done  10 out of  10 | elapsed:    0.0s finished\n"
       ]
      },
      {
       "metadata": {},
       "output_type": "pyout",
       "prompt_number": 28,
       "text": [
        "array([ 1.5764739 ,  1.66716334,  1.56692977,  1.54860664,  1.38462468,\n",
        "        1.97140786,  1.29900934,  1.37810084,  1.53797519,  1.48775773])"
       ]
      }
     ],
     "prompt_number": 28
    },
    {
     "cell_type": "code",
     "collapsed": false,
     "input": [],
     "language": "python",
     "metadata": {},
     "outputs": []
    }
   ],
   "metadata": {}
  }
 ]
}