{
 "metadata": {
  "name": "ClaudioGrant"
 },
 "nbformat": 3,
 "nbformat_minor": 0,
 "worksheets": [
  {
   "cells": [
    {
     "cell_type": "code",
     "collapsed": false,
     "input": [
      "from statsmodels.stats.power import tt_ind_solve_power"
     ],
     "language": "python",
     "metadata": {},
     "outputs": [],
     "prompt_number": 1
    },
    {
     "cell_type": "code",
     "collapsed": false,
     "input": [
      "\n",
      "normmean = 40\n",
      "normstd = 17\n",
      "admean = 55\n",
      "adstd = 20\n",
      "\n",
      "ef = abs(normmean-admean)/(adstd+normstd)\n",
      "ratio = 1.0\n",
      "alpha = 0.05\n",
      "power = 0.9\n",
      "\n",
      "n0 = tt_ind_solve_power(effect_size=ef, alpha = alpha, power = power, ratio = ratio)\n",
      "print n0"
     ],
     "language": "python",
     "metadata": {},
     "outputs": [
      {
       "output_type": "stream",
       "stream": "stdout",
       "text": [
        "[ 10.]\n"
       ]
      }
     ],
     "prompt_number": 5
    },
    {
     "cell_type": "code",
     "collapsed": false,
     "input": [
      "import pandas as pd"
     ],
     "language": "python",
     "metadata": {},
     "outputs": [],
     "prompt_number": 6
    },
    {
     "cell_type": "code",
     "collapsed": false,
     "input": [
      "data = pd.read_excel('/home/will/ClaudioStuff/TableData.xlsx', 'Sheet1')"
     ],
     "language": "python",
     "metadata": {},
     "outputs": [],
     "prompt_number": 21
    },
    {
     "cell_type": "code",
     "collapsed": false,
     "input": [
      "data['HIV'] = data['HIVInfected'] == 'pos'\n",
      "data['Aged'] = data['Age']>50"
     ],
     "language": "python",
     "metadata": {},
     "outputs": [],
     "prompt_number": 26
    },
    {
     "cell_type": "code",
     "collapsed": false,
     "input": [
      "tab = pd.pivot_table(data,\n",
      "                     cols = ['HIV', 'Impaired'],\n",
      "                     rows = 'Aged',\n",
      "                     values = 'ID',\n",
      "                     aggfunc = 'count').fillna(0)\n"
     ],
     "language": "python",
     "metadata": {},
     "outputs": [],
     "prompt_number": 28
    },
    {
     "cell_type": "code",
     "collapsed": false,
     "input": [
      "tab.to_excel('/home/will/ClaudioStuff/count_table.xlsx')"
     ],
     "language": "python",
     "metadata": {},
     "outputs": [],
     "prompt_number": 29
    },
    {
     "cell_type": "code",
     "collapsed": false,
     "input": [
      "tab"
     ],
     "language": "python",
     "metadata": {},
     "outputs": [
      {
       "html": [
        "<div style=\"max-height:1000px;max-width:1500px;overflow:auto;\">\n",
        "<table border=\"1\" class=\"dataframe\">\n",
        "  <thead>\n",
        "    <tr>\n",
        "      <th>HIV</th>\n",
        "      <th colspan=\"2\" halign=\"left\">False</th>\n",
        "      <th colspan=\"2\" halign=\"left\">True </th>\n",
        "    </tr>\n",
        "    <tr>\n",
        "      <th>Impaired</th>\n",
        "      <th>No</th>\n",
        "      <th>Yes</th>\n",
        "      <th>No</th>\n",
        "      <th>Yes</th>\n",
        "    </tr>\n",
        "    <tr>\n",
        "      <th>Aged</th>\n",
        "      <th></th>\n",
        "      <th></th>\n",
        "      <th></th>\n",
        "      <th></th>\n",
        "    </tr>\n",
        "  </thead>\n",
        "  <tbody>\n",
        "    <tr>\n",
        "      <th>False</th>\n",
        "      <td> 2</td>\n",
        "      <td> 1</td>\n",
        "      <td> 2</td>\n",
        "      <td> 23</td>\n",
        "    </tr>\n",
        "    <tr>\n",
        "      <th>True </th>\n",
        "      <td> 8</td>\n",
        "      <td> 4</td>\n",
        "      <td> 0</td>\n",
        "      <td>  2</td>\n",
        "    </tr>\n",
        "  </tbody>\n",
        "</table>\n",
        "</div>"
       ],
       "metadata": {},
       "output_type": "pyout",
       "prompt_number": 30,
       "text": [
        "HIV       False       True      \n",
        "Impaired     No  Yes     No  Yes\n",
        "Aged                            \n",
        "False         2    1      2   23\n",
        "True          8    4      0    2"
       ]
      }
     ],
     "prompt_number": 30
    },
    {
     "cell_type": "code",
     "collapsed": false,
     "input": [],
     "language": "python",
     "metadata": {},
     "outputs": []
    }
   ],
   "metadata": {}
  }
 ]
}