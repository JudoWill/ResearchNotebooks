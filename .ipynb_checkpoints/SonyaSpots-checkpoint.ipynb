{
 "metadata": {
  "name": "SonyaSpots"
 },
 "nbformat": 3,
 "nbformat_minor": 0,
 "worksheets": [
  {
   "cells": [
    {
     "cell_type": "code",
     "collapsed": false,
     "input": [
      "from __future__ import division\n",
      "from pandas import *\n",
      "import os, os.path\n",
      "import sys\n",
      "import numpy as np\n",
      "\n",
      "sys.path.append('/home/will/HIVReportGen/AnalysisCode/')\n",
      "sys.path.append('/home/will/PySeqUtils/')\n",
      "os.chdir('/home/will/HIVVariation/')\n",
      "from GeneralSeqTools import call_muscle"
     ],
     "language": "python",
     "metadata": {},
     "outputs": [],
     "prompt_number": 1
    },
    {
     "cell_type": "code",
     "collapsed": false,
     "input": [
      "from GeneralSeqTools import fasta_reader\n",
      "\n",
      "seq_data = []\n",
      "with open('PBMC_analyzed.clean.fasta') as handle:\n",
      "    for name, seq in fasta_reader(handle):\n",
      "        try:\n",
      "            pid, vn = name.split('-')[0:2]\n",
      "        except ValueError:\n",
      "            print name\n",
      "            raise ValueError\n",
      "        seq_data.append((pid, vn, seq))\n",
      "        \n",
      "seq_df = DataFrame(seq_data, columns=['Patient ID', 'VisitNum', 'Seq'])"
     ],
     "language": "python",
     "metadata": {},
     "outputs": [],
     "prompt_number": 2
    },
    {
     "cell_type": "code",
     "collapsed": false,
     "input": [
      "wanted_seq_cols = [340, 381] #1-based!!\n",
      "hxb2_ltr = \"\"\"TGGAAGGGCTAATTTACTCCCAAAAAAGACAAGATATCCTTGATCTGTGGGTC\n",
      "TACCACACACAAGGCTACTTCCCTGATTGGCAGAACTACACACCAGGGCCAGG\n",
      "GATCAGATATCCACTGACCTTTGGATGGTGCTTCAAGCTAGTACCAGTTGAGC\n",
      "CAGAGAAGGTAGAAGAGGCCAATGAAGGAGAGAACAACAGCTTGTTACACCCT\n",
      "ATGAGCCTGCATGGGATGGAGGACCCGGAGAAAGAAGTGTTAGTGTGGAAGTT\n",
      "TGACAGCCGCCTAGCATTTCATCACATGGCCCGAGAGCTGCATCCGGAGTACT\n",
      "ACAAGGACTGCTGACATCGAGCTTTCTACAAGGGACTTTCCGCTGGGGACTTT\n",
      "CCAGGGAGGCGTGGCCTGGGCGGGACTGGGGAGTGGCGAGCCCTCAGATGCTG\n",
      "CATATAAGCAGCTGCTTTTTGCCTGTACTGGGTCTCTCTGGTTAGACCAGATC\n",
      "TGAGCCTGGGAGCTCTCTGGCTAACTAGGGAACCCACTGCTTAAGCCTCAATA\n",
      "AAGCTTGCCTTGAGTGCTTCAAGTAGTGTGTGCCCGTCTGTTGTGTGACTCTG\n",
      "GTAACTAGAGATCCCTCAGACCCTTTTAGTCAGTGTGGAAAATCTCTAGCA\"\"\".replace('\\n', '')\n",
      "\n",
      "sp3_pos = hxb2_ltr.find('GAGGCGTGGC')\n",
      "sp2_pos = hxb2_ltr.find('TGGGCGGGAC')\n",
      "sp1_pos = hxb2_ltr.find('GGGGAGTGGC')\n",
      "\n",
      "sp3_locs = [sp3_pos+1+i for i in range(10)]\n",
      "sp2_locs = [sp2_pos+1+i for i in range(10)]\n",
      "sp1_locs = [sp1_pos+1+i for i in range(10)]\n",
      "\n",
      "wanted_seq_cols += sp3_locs+sp2_locs+sp1_locs\n",
      "\n",
      "\n",
      "def get_wanted_seq_cols(seq_series):\n",
      "    \n",
      "    nseqs = [('test', seq_series.values[0]),\n",
      "             ('hxb2', hxb2_ltr)]\n",
      "    daln = dict(call_muscle(nseqs))\n",
      "    out = dict([(str(x), None) for x in wanted_seq_cols])\n",
      "    scols = set(wanted_seq_cols)\n",
      "    hxb2pos = 0\n",
      "    for hxb2_l, test_l in zip(daln['hxb2'], daln['test']):\n",
      "        if hxb2_l != '-':\n",
      "            hxb2pos += 1 #1-based!\n",
      "            \n",
      "        if hxb2pos in scols:\n",
      "            out[str(hxb2pos)] = test_l\n",
      "    \n",
      "    out_ser = Series(out)\n",
      "    return out_ser\n",
      "out = seq_df[['Seq']].apply(get_wanted_seq_cols, axis = 1)\n"
     ],
     "language": "python",
     "metadata": {},
     "outputs": [],
     "prompt_number": 3
    },
    {
     "cell_type": "code",
     "collapsed": false,
     "input": [
      "col_groups = [('SP1', [str(x) for x in sp1_locs]),\n",
      "              ('SP2', [str(x) for x in sp2_locs]),\n",
      "              ('SP3', [str(x) for x in sp3_locs])]\n",
      "keep_cols = set(['340', '381'])\n",
      "for tf, group in col_groups:\n",
      "    \n",
      "    tmp = out[group].apply(lambda x: ''.join(x.values), axis=1)\n",
      "    out[tf] = tmp\n",
      "    wdrop = [col for col in group if col not in keep_cols]\n",
      "    out = out.drop(wdrop, axis=1)\n",
      "    "
     ],
     "language": "python",
     "metadata": {},
     "outputs": [],
     "prompt_number": 4
    },
    {
     "cell_type": "code",
     "collapsed": false,
     "input": [
      "nseq_df = concat([seq_df, out], axis=1)\n",
      "nseq_df['340-381'] = nseq_df[['340', '381']].apply(lambda x: ''.join(x.values), axis = 1)"
     ],
     "language": "python",
     "metadata": {},
     "outputs": [],
     "prompt_number": 5
    },
    {
     "cell_type": "code",
     "collapsed": false,
     "input": [
      "from itertools import product\n",
      "counts = []\n",
      "for col in ['340', '381']:\n",
      "    hxb2let = hxb2_ltr[int(col)-1]\n",
      "    ncol = str(col) + '-' + hxb2let\n",
      "    for let in 'ACGT':\n",
      "        count = (nseq_df[col] == let).sum()\n",
      "        counts.append((ncol, let, count))\n",
      "\n",
      "single_done = set()\n",
      "for l1, l2 in product('ACGT', 'ACGT'):\n",
      "    if (l1 == l2):\n",
      "        if l1 in single_done:\n",
      "            continue\n",
      "        single_done.add(l1)\n",
      "        \n",
      "    tmp = l1+l2\n",
      "    count = nseq_df['340-381'] == tmp\n",
      "    counts.append(('340-381', tmp, count.sum()))\n",
      "\n",
      "        \n",
      "df = DataFrame(counts, columns=['Col', 'Let', 'Count'])"
     ],
     "language": "python",
     "metadata": {},
     "outputs": [],
     "prompt_number": 6
    },
    {
     "cell_type": "code",
     "collapsed": false,
     "input": [
      "pos_counts = pivot_table(df, rows = ['Col', 'Let'], values='Count', aggfunc = 'sum')\n",
      "print pos_counts\n",
      "DataFrame({'Counts':pos_counts}).to_excel('CountsForSonya.xlsx')"
     ],
     "language": "python",
     "metadata": {},
     "outputs": [
      {
       "output_type": "stream",
       "stream": "stdout",
       "text": [
        "Col      Let\n",
        "340-381  AA       0\n",
        "         AC      67\n",
        "         AG       2\n",
        "         AT       2\n",
        "         CA      15\n",
        "         CC     536\n",
        "         CG       1\n",
        "         CT     282\n",
        "         GA       0\n",
        "         GC       4\n",
        "         GG       0\n",
        "         GT       0\n",
        "         TA       3\n",
        "         TC      48\n",
        "         TG       1\n",
        "         TT      11\n",
        "340-C    A       76\n",
        "         C      880\n",
        "         G        5\n",
        "         T       65\n",
        "381-C    A       18\n",
        "         C      671\n",
        "         G        5\n",
        "         T      296\n",
        "Name: Count, dtype: int64\n"
       ]
      }
     ],
     "prompt_number": 7
    },
    {
     "cell_type": "code",
     "collapsed": false,
     "input": [
      "pos_counts.groupby(level='Col').sum()"
     ],
     "language": "python",
     "metadata": {},
     "outputs": [
      {
       "metadata": {},
       "output_type": "pyout",
       "prompt_number": 8,
       "text": [
        "Col\n",
        "340-381     972\n",
        "340-C      1026\n",
        "381-C       990\n",
        "dtype: int64"
       ]
      }
     ],
     "prompt_number": 8
    },
    {
     "cell_type": "code",
     "collapsed": false,
     "input": [
      "wanted_pats = set(nseq_df['Patient ID'][nseq_df['340-381'] == 'TT'])\n",
      "wanted_seqs = nseq_df[nseq_df['Patient ID'].map(lambda x: x in wanted_pats)]\n",
      "print wanted_seqs.to_string()\n"
     ],
     "language": "python",
     "metadata": {},
     "outputs": [
      {
       "output_type": "stream",
       "stream": "stdout",
       "text": [
        "     Patient ID VisitNum                                                Seq 340 381         SP1         SP2         SP3 340-381\n",
        "117       A0333      R01  GATACCCACTGTGTTTTGGATGGTGCTTCAAACTATTACCAGTTGA...   T   T  GGGGAGTGGC  TGGGCGGGAC  GAGGTGTGGC      TT\n",
        "158       A0107      R05  TTGGATGGTGCTTCAAGTTAGTACCAGTTGATCAAGATAAGGTAGA...   T   T  GGGGAGTGGC  TGGGCGGGAC  GAGGTGTGGC      TT\n",
        "431       A0107      R00  GTAGAAGAGGCCAATGAAGGAGAGAACAACTGCCTGTTACACCCTA...   T   T  GGGGAGTGGC  TGGGCGGGAA  GAGGTGTGGC      TT\n",
        "432       A0107      R01  ACACACAAGGCTACTTCCCTGATTGGCAGAACTACACGCCAGGGCC...   T   T  GGGGAGTGGC  TGGGCGGGAC  GAGGTGTGGC      TT\n",
        "433       A0107      R02  ACTTCCCTGATTGGCAGAACTACACGCCAGGGCCAGGGGTCAGATA...   T   T  GGGGAGTGGC  TGGGCGGGAC  GAGGTGTGGC      TT\n",
        "437       A0110      R00  GGCTACTTCCCTGATTGGCAGAACTACACACCAGGGCCAGGGGTCA...   C   T  GGGGAGTGGC  TGGGCGGGAC  GAGGTGTGGC      CT\n",
        "545       A0213      R00  CTACTTCCCTGATTGGCAGAACTACACCCCAGGGCCAGGGATCAGA...   T   T  GGGGAGTGGC  TGGGCGGGAC  GAGGTGTGGT      TT\n",
        "622       A0333      R00  AATGGTGCTTCAAGCTAGTACCAGTTGAGCCAGAGAAAATAGAAGA...   C   C  AGGGAGTGGC  TGGGCGGGAC  GAGGCGTGGC      CC\n",
        "683       A0107      R03  CAGGGGTCAGATATCCACTGACCTTTGGATGGTGCTACAAGCTAGT...   T   C  GGGGAGTGGC  TGGGCGGGAC  GAGGCGTGGC      TC\n",
        "684       A0110      R01  AGTACCAGTTGAGCCAGAGAAGGTAGAAGAGGCCAATAAAGGAGAG...   T   T  GGGGAGTGGC  TGGGCGGGAC  GAGGTGTGGC      TT\n",
        "809       A0107      R04  AAGAAGTGTTGCAGTGGAAGTTTGACAGCCGCCTAGCATTTCATCA...   -   -  ----------  ----------  ----------      --\n",
        "884       A0110      R08  GATTTCCACTGACCTTTGGGTGGTGCTTCAAGCTAGTACCAGTTGA...   T   T  GGGGAGTGGC  TGGGCGGGAC  GAGGTGTGGC      TT\n",
        "948       A0333      R03  CTCCCAGGCTCAGATCTGGTCTAACAAGAGAGACCCAGTACAGGCA...   C   -  ----------  CATGCAGG--  --------TC      C-\n",
        "1029      A0107      R08  GATATCCACTGACCTTTGGATGGTGCTTCAAGTTAGTACCAGTCGA...   T   T  GGGGAGTGGC  TGGGCGGGAC  GAGGTGTGGC      TT\n",
        "1030      A0110      R05  AGGTAGAAGAGGCCAATGAAGGAGAGAACAACTGCCTGTTACACCC...   T   T  GGGGAGTGGC  TGGGCGGGAC  GAGGTGTGGC      TT\n",
        "1046      A0213      R01  TAGTACCAGTTGCGCCAGACAAAGTAGAGGAGGCCAATGAAGGAGA...   A   C  GGGGAGTGGC  TGGGCGGGGC  GAGGCGTGGC      AC\n",
        "1096      A0479      R00  AGATATCCACTGACCTTTGGATGGTGCTTCAAGCTAGTACCAGTTG...   T   T  GGGGAGTGGC  TGGGCGGGAC  GAGGTGTGGC      TT\n"
       ]
      }
     ],
     "prompt_number": 9
    },
    {
     "cell_type": "code",
     "collapsed": false,
     "input": [
      "store_loc = os.path.join('home', 'will', 'HIVReportGen', 'Data',\n",
      "                        'SplitRedcap', '2013-01-16',\n",
      "                        'EntireCohort.hdf')\n",
      "store = HDFStore('/'+store_loc)\n",
      "redcap_data = store['redcap']\n",
      "\n",
      "#fix the Visit Number issue\n",
      "t = redcap_data['Event Name'].dropna().apply(lambda x: x.split(' - ')[0])\n",
      "vnum_field = 'Patient visit number'\n",
      "redcap_data[vnum_field] = redcap_data[vnum_field].combine_first(t)\n",
      "\n",
      "#Fix the Other-drug issue\n",
      "ofield = \"Drugs used (choice='Other')\"\n",
      "redcap_data[ofield] = redcap_data[ofield].dropna() == 'Checked'"
     ],
     "language": "python",
     "metadata": {},
     "outputs": [],
     "prompt_number": 10
    },
    {
     "cell_type": "code",
     "collapsed": false,
     "input": [
      "wanted_cols = {'Patient ID':'Patient ID', \n",
      "                'Patient visit number':'VisitNum', \n",
      "                'Date of visit':'VisitDate',\n",
      "                'HIV seropositive date':'HIV seropositive date',\n",
      "                'Total Modified Hopkins Dementia Score':'HIVD'\n",
      "                }\n",
      "wanted_redcap = redcap_data[wanted_cols.keys()].rename(columns = wanted_cols)\n",
      "has_date_mask = wanted_redcap['HIV seropositive date'].notnull()\n",
      "\n",
      "wanted_redcap['YearsSeropositive'] = np.nan\n",
      "years_sero_func = lambda x: x['VisitDate'].year - x['HIV seropositive date'].year\n",
      "years_sero_data = wanted_redcap[['VisitDate', 'HIV seropositive date']].reset_index().dropna().apply(years_sero_func, axis = 1)\n",
      "years_sero_data.index = has_date_mask[has_date_mask].index\n",
      "wanted_redcap['YearsSeropositive'][has_date_mask] = years_sero_data\n",
      "\n",
      "wanted_redcap"
     ],
     "language": "python",
     "metadata": {},
     "outputs": [
      {
       "html": [
        "<pre>\n",
        "&ltclass 'pandas.core.frame.DataFrame'&gt\n",
        "Int64Index: 1419 entries, 0 to 1418\n",
        "Data columns (total 6 columns):\n",
        "Patient ID               1419  non-null values\n",
        "VisitNum                 1419  non-null values\n",
        "VisitDate                1419  non-null values\n",
        "HIV seropositive date    1410  non-null values\n",
        "HIVD                     1223  non-null values\n",
        "YearsSeropositive        1410  non-null values\n",
        "dtypes: float64(2), object(4)\n",
        "</pre>"
       ],
       "metadata": {},
       "output_type": "pyout",
       "prompt_number": 11,
       "text": [
        "<class 'pandas.core.frame.DataFrame'>\n",
        "Int64Index: 1419 entries, 0 to 1418\n",
        "Data columns (total 6 columns):\n",
        "Patient ID               1419  non-null values\n",
        "VisitNum                 1419  non-null values\n",
        "VisitDate                1419  non-null values\n",
        "HIV seropositive date    1410  non-null values\n",
        "HIVD                     1223  non-null values\n",
        "YearsSeropositive        1410  non-null values\n",
        "dtypes: float64(2), object(4)"
       ]
      }
     ],
     "prompt_number": 11
    },
    {
     "cell_type": "code",
     "collapsed": false,
     "input": [
      "wanted_red_pats = wanted_redcap[wanted_redcap['Patient ID'].map(lambda x: x in wanted_pats)]\n",
      "out_data = merge(wanted_red_pats, wanted_seqs.drop(['Seq'], axis = 1),\n",
      "                 left_on = ['Patient ID', 'VisitNum'],\n",
      "                 right_on = ['Patient ID', 'VisitNum'],\n",
      "                 how = 'outer')\n",
      "out_data.sort(['Patient ID', 'VisitNum'])\n",
      "print out_data.to_string()\n",
      "out_data.to_excel('ThreeFiveTPatInfo.xlsx')\n",
      "                 "
     ],
     "language": "python",
     "metadata": {},
     "outputs": [
      {
       "output_type": "stream",
       "stream": "stdout",
       "text": [
        "   Patient ID VisitNum            VisitDate HIV seropositive date  HIVD  YearsSeropositive  340  381         SP1         SP2         SP3 340-381\n",
        "0       A0107      R00  2007-07-17 00:00:00   2004-02-19 00:00:00   NaN                  3    T    T  GGGGAGTGGC  TGGGCGGGAA  GAGGTGTGGC      TT\n",
        "1       A0107      R01  2008-09-03 00:00:00   2005-02-19 00:00:00  12.0                  3    T    T  GGGGAGTGGC  TGGGCGGGAC  GAGGTGTGGC      TT\n",
        "2       A0107      R02  2008-12-16 00:00:00   2005-02-19 00:00:00   8.0                  3    T    T  GGGGAGTGGC  TGGGCGGGAC  GAGGTGTGGC      TT\n",
        "3       A0107      R03  2009-12-01 00:00:00   2004-02-19 00:00:00   9.5                  5    T    C  GGGGAGTGGC  TGGGCGGGAC  GAGGCGTGGC      TC\n",
        "4       A0107      R04  2010-06-09 00:00:00   2003-02-19 00:00:00  10.0                  7    -    -  ----------  ----------  ----------      --\n",
        "5       A0107      R05  2010-09-28 00:00:00   2006-02-19 00:00:00  11.5                  4    T    T  GGGGAGTGGC  TGGGCGGGAC  GAGGTGTGGC      TT\n",
        "6       A0107      R06  2011-03-02 00:00:00   2005-02-19 00:00:00  10.5                  6  NaN  NaN         NaN         NaN         NaN     NaN\n",
        "7       A0107      R07  2011-09-14 00:00:00   2005-02-19 00:00:00  11.0                  6  NaN  NaN         NaN         NaN         NaN     NaN\n",
        "8       A0107      R08  2012-03-06 00:00:00   2005-02-19 00:00:00   9.0                  7    T    T  GGGGAGTGGC  TGGGCGGGAC  GAGGTGTGGC      TT\n",
        "9       A0107      R09  2012-09-12 00:00:00   2005-02-19 00:00:00  12.0                  7  NaN  NaN         NaN         NaN         NaN     NaN\n",
        "10      A0110      R00  2007-07-31 00:00:00   2000-02-19 00:00:00   NaN                  7    C    T  GGGGAGTGGC  TGGGCGGGAC  GAGGTGTGGC      CT\n",
        "11      A0110      R01  2008-07-08 00:00:00   2000-02-19 00:00:00   1.5                  8    T    T  GGGGAGTGGC  TGGGCGGGAC  GAGGTGTGGC      TT\n",
        "12      A0110      R02  2008-10-08 00:00:00   2000-02-19 00:00:00   4.0                  8  NaN  NaN         NaN         NaN         NaN     NaN\n",
        "13      A0110      R03  2009-10-14 00:00:00   2000-02-19 00:00:00   8.0                  9  NaN  NaN         NaN         NaN         NaN     NaN\n",
        "14      A0110      R04  2010-04-28 00:00:00   2000-02-19 00:00:00  12.0                 10  NaN  NaN         NaN         NaN         NaN     NaN\n",
        "15      A0110      R05  2010-10-06 00:00:00   2000-02-19 00:00:00   7.5                 10    T    T  GGGGAGTGGC  TGGGCGGGAC  GAGGTGTGGC      TT\n",
        "16      A0110      R06  2011-04-06 00:00:00   2000-02-19 00:00:00  11.5                 11  NaN  NaN         NaN         NaN         NaN     NaN\n",
        "17      A0110      R07  2011-10-12 00:00:00   2000-02-19 00:00:00   6.0                 11  NaN  NaN         NaN         NaN         NaN     NaN\n",
        "18      A0110      R08  2012-04-03 00:00:00   2000-02-19 00:00:00  11.0                 12    T    T  GGGGAGTGGC  TGGGCGGGAC  GAGGTGTGGC      TT\n",
        "19      A0110      R09  2012-10-10 00:00:00   2000-02-19 00:00:00  12.0                 12  NaN  NaN         NaN         NaN         NaN     NaN\n",
        "20      A0213      R00  2008-11-12 00:00:00   1995-02-19 00:00:00  11.0                 13    T    T  GGGGAGTGGC  TGGGCGGGAC  GAGGTGTGGT      TT\n",
        "21      A0213      R01  2011-11-09 00:00:00   1996-02-19 00:00:00  11.0                 15    A    C  GGGGAGTGGC  TGGGCGGGGC  GAGGCGTGGC      AC\n",
        "22      A0213      R02  2012-05-09 00:00:00   1996-02-19 00:00:00  12.0                 16  NaN  NaN         NaN         NaN         NaN     NaN\n",
        "23      A0333      R00  2009-09-09 00:00:00   1993-09-19 00:00:00  11.0                 16    C    C  AGGGAGTGGC  TGGGCGGGAC  GAGGCGTGGC      CC\n",
        "24      A0333      R01  2010-03-16 00:00:00   1993-02-19 00:00:00  11.0                 17    T    T  GGGGAGTGGC  TGGGCGGGAC  GAGGTGTGGC      TT\n",
        "25      A0333      R02  2011-03-23 00:00:00   1993-09-19 00:00:00  12.0                 18  NaN  NaN         NaN         NaN         NaN     NaN\n",
        "26      A0333      R03  2012-03-06 00:00:00   1993-02-19 00:00:00  11.0                 19    C    -  ----------  CATGCAGG--  --------TC      C-\n",
        "27      A0333      R04  2012-11-28 00:00:00   1993-09-19 00:00:00  12.0                 19  NaN  NaN         NaN         NaN         NaN     NaN\n",
        "28      A0333      R05  2013-02-19 00:00:00   1993-09-19 00:00:00   NaN                 20  NaN  NaN         NaN         NaN         NaN     NaN\n",
        "29      A0479      R00  2011-11-30 00:00:00   1999-02-19 00:00:00  10.0                 12    T    T  GGGGAGTGGC  TGGGCGGGAC  GAGGTGTGGC      TT\n",
        "30      A0479      R01  2012-11-15 00:00:00   1999-02-19 00:00:00  10.5                 13  NaN  NaN         NaN         NaN         NaN     NaN\n"
       ]
      }
     ],
     "prompt_number": 12
    },
    {
     "cell_type": "code",
     "collapsed": false,
     "input": [
      "from Bio import Motif\n",
      "from Bio.Seq import Seq, Alphabet\n",
      "from StringIO import StringIO\n",
      "\n",
      "def make_seq(seq, comp = False):\n",
      "    if comp:\n",
      "        return Seq(seq,Alphabet.IUPAC.unambiguous_dna).reverse_complement()\n",
      "    else:\n",
      "        return Seq(seq,Alphabet.IUPAC.unambiguous_dna) \n",
      "\n",
      "def score_seq(mot, seq, comp = False):\n",
      "    return mot.scanPWM(make_seq(seq, comp = comp))[0]\n",
      "\n",
      "\n",
      "tmp = u\"\"\"A 1 2 0 0 0 2 0 0 1 2 \n",
      "C 1 1 0 0 5 0 1 0 1 0\n",
      "G 4 4 8 8 2 4 5 6 6 0\n",
      "T 2 1 0 0 1 2 2 2 0 6\"\"\"\n",
      "\n",
      "sp1_mot = Motif.read(StringIO(tmp), 'jaspar-pfm')\n"
     ],
     "language": "python",
     "metadata": {},
     "outputs": [],
     "prompt_number": 13
    },
    {
     "cell_type": "code",
     "collapsed": false,
     "input": [
      "test_seqs = [('sp3', 'GAGGCGTGGC'),\n",
      "             ('sp2', 'TGGGCGGGAC'),\n",
      "             ('sp1', 'GGGGAGTGGC')]\n",
      "res = []\n",
      "for name, base_seq in test_seqs:\n",
      "    bs = list(base_seq)\n",
      "    \n",
      "    mat = np.zeros((6, len(bs)+2))\n",
      "    for n in range(len(bs)):\n",
      "        olet = bs[n]\n",
      "        for ln, let in enumerate('ACTG'):\n",
      "            bs[n] = let\n",
      "            mat[ln+1, n+1] = score_seq(sp1_mot, ''.join(bs))\n",
      "        bs[n] = olet\n",
      "    res.append((name, base_seq, mat.copy(), score_seq(sp1_mot, base_seq)))"
     ],
     "language": "python",
     "metadata": {},
     "outputs": [],
     "prompt_number": 28
    },
    {
     "cell_type": "code",
     "collapsed": false,
     "input": [
      "def add_letters(lets):\n",
      "    yvals = {'A':1, 'C':2, 'T':3,'G':4}\n",
      "    for n, l in enumerate(lets):\n",
      "        yval = yvals[l]\n",
      "        plt.annotate(l, xy=(n+1, yval), fontsize=60)\n",
      "\n",
      "def add_sig(sig_mask):\n",
      "    nrows, ncols = sig_mask.shape\n",
      "    rows, cols = np.where(sig_mask)\n",
      "    for row, col in zip(rows, cols):\n",
      "        plt.annotate('*', xy=(col, row), fontsize=60)\n",
      "        "
     ],
     "language": "python",
     "metadata": {},
     "outputs": [],
     "prompt_number": 29
    },
    {
     "cell_type": "code",
     "collapsed": false,
     "input": [
      "from pylab import get_cmap\n",
      "\n",
      "#plt.figure(figsize = (10, 90))\n",
      "#fig, subs = plt.subplots(3,1, figsize = (5,15))\n",
      "width_per_let = 0.75\n",
      "for name, seq, r, conB_score in res:\n",
      "    if True:\n",
      "        plt.figure(figsize = (width_per_let*len(seq),3.4))\n",
      "        plt.title(name)\n",
      "        plt.pcolor(-(r-conB_score), cmap = get_cmap('RdBu'))\n",
      "        plt.yticks([1.5,2.5,3.5,4.5], ('A', 'C', 'T', 'G'))\n",
      "        plt.xticks(np.arange(1.5, len(seq)+1), range(1,len(seq)+1))\n",
      "        plt.ylim([1,5])\n",
      "        plt.xlim([1,len(seq)+1])\n",
      "        plt.clim([-10, 10])\n",
      "        add_letters(seq)\n",
      "        add_sig(abs(r[0:-1, 0:-1]-conB_score)>3.84)\n",
      "        plt.savefig('vSNP-%s.png' % name)\n",
      "        plt.close()"
     ],
     "language": "python",
     "metadata": {},
     "outputs": [],
     "prompt_number": 31
    },
    {
     "cell_type": "code",
     "collapsed": false,
     "input": [
      "from functools import partial\n",
      "\n",
      "calc_sp_val = partial(score_seq, sp1_mot)\n",
      "for col in ['SP1', 'SP2', 'SP3']:\n",
      "    wmask = nseq_df[col].map(lambda x: '-' not in x)\n",
      "    nseq_df[col+'-bind'] = np.nan\n",
      "    nseq_df[col+'-bind'][wmask] = nseq_df[col][wmask].map(calc_sp_val)\n",
      "    \n",
      "    \n",
      "    "
     ],
     "language": "python",
     "metadata": {},
     "outputs": [],
     "prompt_number": 14
    },
    {
     "cell_type": "code",
     "collapsed": false,
     "input": [
      "cbseq = 'GAGGCGTGGC'\n",
      "cb_bind = calc_sp_val(cbseq)\n",
      "\n",
      "variants = []\n",
      "for key, df in nseq_df.groupby('SP3'):\n",
      "    if '-' not in key:\n",
      "        d = ''\n",
      "        for num, (c, k) in enumerate(zip(cbseq, key),1):\n",
      "            if c != k:\n",
      "                d += str(num)+k\n",
      "        variants.append((key, d, cb_bind, df['SP3-bind'].mean(), len(df)))\n",
      "var_df = DataFrame(variants, columns = ['SP3-Seq', \n",
      "                                        'SP3-Variant',\n",
      "                                        'ConB-Binding',\n",
      "                                        'Variant-Binding',\n",
      "                                        'NumSamples'])\n",
      "var_df.to_excel('sp3_variants.xlsx', index = False)"
     ],
     "language": "python",
     "metadata": {},
     "outputs": [],
     "prompt_number": 40
    },
    {
     "cell_type": "code",
     "collapsed": false,
     "input": [
      "cols = ['SP1-bind', 'SP2-bind', 'SP3-bind']\n",
      "lets = 'ACGT'\n",
      "bins = np.linspace(-5,10, 20)\n",
      "tit = '%s-%s %s N:%i'\n",
      "for pos in ['340', '381']:\n",
      "    fig, axs = plt.subplots(4,3, sharex=True, sharey=True, figsize=(10,10))\n",
      "    for ax, (let, col) in zip(axs.flatten(), product(lets, cols)):\n",
      "\n",
      "        mask = nseq_df[pos] == let\n",
      "        counts, _ = np.histogram(nseq_df[col][mask].dropna().values, bins=bins)\n",
      "        fracs = counts / counts.sum()\n",
      "        ax.bar(bins[1:], fracs, bins[1]-bins[0])\n",
      "        ntit = tit % (pos, let, col, len(nseq_df[col][mask].dropna()))\n",
      "        ax.set_title(ntit)\n",
      "        if col == 'SP1-bind':\n",
      "            ax.set_ylabel('Frequency')\n",
      "        if let == 'T':\n",
      "            ax.set_xlabel('Binding score')\n",
      "    fig.tight_layout()\n",
      "    plt.savefig('binding-' + pos + '-fig.png')"
     ],
     "language": "python",
     "metadata": {},
     "outputs": [
      {
       "metadata": {},
       "output_type": "display_data",
       "png": "[encoded data removed]",
       "text": [
        "<matplotlib.figure.Figure at 0x4cd8e10>"
       ]
      },
      {
       "metadata": {},
       "output_type": "display_data",
       "png": "[encoded data removed]",
       "text": [
        "<matplotlib.figure.Figure at 0x613cdd0>"
       ]
      }
     ],
     "prompt_number": 15
    },
    {
     "cell_type": "code",
     "collapsed": false,
     "input": [],
     "language": "python",
     "metadata": {},
     "outputs": [],
     "prompt_number": 15
    }
   ],
   "metadata": {}
  }
 ]
}