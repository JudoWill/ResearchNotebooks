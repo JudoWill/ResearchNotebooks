{
 "metadata": {
  "name": "SmokingAnalysis"
 },
 "nbformat": 3,
 "nbformat_minor": 0,
 "worksheets": [
  {
   "cells": [
    {
     "cell_type": "code",
     "collapsed": false,
     "input": [
      "from __future__ import division\n",
      "import numpy as np\n",
      "from scipy.stats import linregress\n",
      "import matplotlib.pyplot as plt\n",
      "from matplotlib import dates\n",
      "import pandas as pd\n",
      "import gspread\n",
      "from StringIO import StringIO\n",
      "import csv\n",
      "import sys\n",
      "sys.path.append('/home/will/PatientPicker/')\n",
      "sys.path.append('/home/will/PySeqUtils/')\n",
      "import LoadingTools\n",
      "from GeneralSeqTools import fasta_reader, fasta_writer, seq_align_to_ref\n",
      "%matplotlib inline"
     ],
     "language": "python",
     "metadata": {},
     "outputs": [
      {
       "output_type": "stream",
       "stream": "stderr",
       "text": [
        "ERROR: Line magic function `%matplotlib` not found.\n"
       ]
      }
     ],
     "prompt_number": 6
    },
    {
     "cell_type": "code",
     "collapsed": false,
     "input": [
      "pat_data = LoadingTools.load_redcap_data().groupby(['Patient ID', 'VisitNum']).first()"
     ],
     "language": "python",
     "metadata": {},
     "outputs": [],
     "prompt_number": 2
    },
    {
     "cell_type": "code",
     "collapsed": false,
     "input": [
      "mask = pat_data['Current Tobacco Use'] == 'No'\n",
      "pat_data['Tobacco Use (packs/year)'][mask] = pat_data['Tobacco Use (packs/year)'][mask].fillna(0)\n",
      "pat_data['Tobacco Use (packs/year)'].describe()\n"
     ],
     "language": "python",
     "metadata": {},
     "outputs": [
      {
       "metadata": {},
       "output_type": "pyout",
       "prompt_number": 3,
       "text": [
        "count    1215.000000\n",
        "mean      168.701599\n",
        "std       151.579513\n",
        "min         0.000000\n",
        "25%        54.786330\n",
        "50%       127.834770\n",
        "75%       182.621099\n",
        "max      1095.726596\n",
        "dtype: float64"
       ]
      }
     ],
     "prompt_number": 3
    },
    {
     "cell_type": "code",
     "collapsed": false,
     "input": [
      "grouper = pat_data[['Tobacco Use (packs/year)', 'Date Of Visit']].groupby(level = 'Patient ID')\n",
      "fig, ax = plt.subplots(figsize = (10, 5))\n",
      "plt.sca(ax)\n",
      "for pat, group in grouper:\n",
      "    if len(group) > 3:\n",
      "        plt.plot_date(group['Date Of Visit'], group['Tobacco Use (packs/year)'], '-')"
     ],
     "language": "python",
     "metadata": {},
     "outputs": [
      {
       "metadata": {},
       "output_type": "pyout",
       "prompt_number": 9,
       "text": [
        "[<matplotlib.lines.Line2D at 0x5439b90>]"
       ]
      },
      {
       "metadata": {},
       "output_type": "display_data",
       "text": [
        "<matplotlib.figure.Figure at 0x5799f50>"
       ]
      }
     ],
     "prompt_number": 9
    },
    {
     "cell_type": "code",
     "collapsed": false,
     "input": [
      "fig"
     ],
     "language": "python",
     "metadata": {},
     "outputs": [
      {
       "metadata": {},
       "output_type": "pyout",
       "prompt_number": 14,
       "text": [
        "<matplotlib.figure.Figure at 0x6556650>"
       ]
      }
     ],
     "prompt_number": 14
    },
    {
     "cell_type": "code",
     "collapsed": false,
     "input": [],
     "language": "python",
     "metadata": {},
     "outputs": []
    }
   ],
   "metadata": {}
  }
 ]
}