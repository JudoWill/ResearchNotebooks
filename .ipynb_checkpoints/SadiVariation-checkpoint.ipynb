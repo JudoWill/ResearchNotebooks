{
 "metadata": {
  "name": "SadiVariation"
 },
 "nbformat": 3,
 "nbformat_minor": 0,
 "worksheets": [
  {
   "cells": [
    {
     "cell_type": "code",
     "collapsed": false,
     "input": [
      "import os, os.path\n",
      "import sys\n",
      "import pandas as pd\n",
      "import numpy as np\n",
      "\n",
      "os.chdir('/home/will/SadiVariation/')\n",
      "sys.path.append('/home/will/PySeqUtils/')"
     ],
     "language": "python",
     "metadata": {},
     "outputs": [],
     "prompt_number": 1
    },
    {
     "cell_type": "code",
     "collapsed": false,
     "input": [
      "from GeneralSeqTools import fasta_reader, fasta_writer, WebPSSM_V3_series\n",
      "import glob"
     ],
     "language": "python",
     "metadata": {},
     "outputs": [],
     "prompt_number": 2
    },
    {
     "cell_type": "code",
     "collapsed": false,
     "input": [
      "files = [('x4_seqs.fasta.old', 'x4_seqs.fasta'),\n",
      "         ('r5_seqs.fasta.old', 'r5_seqs.fasta')]\n",
      "for ifile, ofile in files:\n",
      "    with open(ifile) as handle:\n",
      "        with open(ofile, 'w') as ohandle:\n",
      "            for name, seq in fasta_reader(handle):\n",
      "                fasta_writer(ohandle, [(name, seq[1:-1])])"
     ],
     "language": "python",
     "metadata": {},
     "outputs": [],
     "prompt_number": 3
    },
    {
     "cell_type": "code",
     "collapsed": false,
     "input": [
      "subtype_files = glob.glob('/home/will/WLAHDB_data/SubtypeGuess/*.gb')\n",
      "subtypes = []\n",
      "for f in subtype_files:\n",
      "    gb = f.rsplit(os.sep, 1)[-1].split('.')[0]\n",
      "    with open(f) as handle:\n",
      "        subtype = handle.next().strip()\n",
      "        if subtype != 'Unk':\n",
      "            subtypes.append((int(gb), subtype))\n",
      "subtype_df = pd.DataFrame(subtypes, columns = ['GI', 'Subtype'])\n",
      "\n",
      "subtype_ser = subtype_df.groupby('GI')['Subtype'].first()"
     ],
     "language": "python",
     "metadata": {},
     "outputs": [
      {
       "ename": "KeyboardInterrupt",
       "evalue": "",
       "output_type": "pyerr",
       "traceback": [
        "\u001b[1;31m---------------------------------------------------------------------------\u001b[0m\n\u001b[1;31mKeyboardInterrupt\u001b[0m                         Traceback (most recent call last)",
        "\u001b[1;32m<ipython-input-4-5d88017929c9>\u001b[0m in \u001b[0;36m<module>\u001b[1;34m()\u001b[0m\n\u001b[0;32m      4\u001b[0m     \u001b[0mgb\u001b[0m \u001b[1;33m=\u001b[0m \u001b[0mf\u001b[0m\u001b[1;33m.\u001b[0m\u001b[0mrsplit\u001b[0m\u001b[1;33m(\u001b[0m\u001b[0mos\u001b[0m\u001b[1;33m.\u001b[0m\u001b[0msep\u001b[0m\u001b[1;33m,\u001b[0m \u001b[1;36m1\u001b[0m\u001b[1;33m)\u001b[0m\u001b[1;33m[\u001b[0m\u001b[1;33m-\u001b[0m\u001b[1;36m1\u001b[0m\u001b[1;33m]\u001b[0m\u001b[1;33m.\u001b[0m\u001b[0msplit\u001b[0m\u001b[1;33m(\u001b[0m\u001b[1;34m'.'\u001b[0m\u001b[1;33m)\u001b[0m\u001b[1;33m[\u001b[0m\u001b[1;36m0\u001b[0m\u001b[1;33m]\u001b[0m\u001b[1;33m\u001b[0m\u001b[0m\n\u001b[0;32m      5\u001b[0m     \u001b[1;32mwith\u001b[0m \u001b[0mopen\u001b[0m\u001b[1;33m(\u001b[0m\u001b[0mf\u001b[0m\u001b[1;33m)\u001b[0m \u001b[1;32mas\u001b[0m \u001b[0mhandle\u001b[0m\u001b[1;33m:\u001b[0m\u001b[1;33m\u001b[0m\u001b[0m\n\u001b[1;32m----> 6\u001b[1;33m         \u001b[0msubtype\u001b[0m \u001b[1;33m=\u001b[0m \u001b[0mhandle\u001b[0m\u001b[1;33m.\u001b[0m\u001b[0mnext\u001b[0m\u001b[1;33m(\u001b[0m\u001b[1;33m)\u001b[0m\u001b[1;33m.\u001b[0m\u001b[0mstrip\u001b[0m\u001b[1;33m(\u001b[0m\u001b[1;33m)\u001b[0m\u001b[1;33m\u001b[0m\u001b[0m\n\u001b[0m\u001b[0;32m      7\u001b[0m         \u001b[1;32mif\u001b[0m \u001b[0msubtype\u001b[0m \u001b[1;33m!=\u001b[0m \u001b[1;34m'Unk'\u001b[0m\u001b[1;33m:\u001b[0m\u001b[1;33m\u001b[0m\u001b[0m\n\u001b[0;32m      8\u001b[0m             \u001b[0msubtypes\u001b[0m\u001b[1;33m.\u001b[0m\u001b[0mappend\u001b[0m\u001b[1;33m(\u001b[0m\u001b[1;33m(\u001b[0m\u001b[0mint\u001b[0m\u001b[1;33m(\u001b[0m\u001b[0mgb\u001b[0m\u001b[1;33m)\u001b[0m\u001b[1;33m,\u001b[0m \u001b[0msubtype\u001b[0m\u001b[1;33m)\u001b[0m\u001b[1;33m)\u001b[0m\u001b[1;33m\u001b[0m\u001b[0m\n",
        "\u001b[1;31mKeyboardInterrupt\u001b[0m: "
       ]
      }
     ],
     "prompt_number": 4
    },
    {
     "cell_type": "code",
     "collapsed": false,
     "input": [
      "with open('hxb2.needle') as handle:\n",
      "    aligned_seqs = list(fasta_reader(handle))"
     ],
     "language": "python",
     "metadata": {},
     "outputs": []
    },
    {
     "cell_type": "code",
     "collapsed": false,
     "input": [
      "from scipy.stats import linregress\n",
      "\n",
      "hxb2_inds = [350, 364, 375, 388, 398, 456]\n",
      "our_inds = [-103, -99, -85, -74, -63, 0]\n",
      "m, b, _, _, _ = linregress(hxb2_inds, our_inds)\n",
      "new_our_inds = np.arange(0, 634)\n",
      "new_hxb2_inds = np.ceil(m*new_our_inds+b)"
     ],
     "language": "python",
     "metadata": {},
     "outputs": []
    },
    {
     "cell_type": "code",
     "collapsed": false,
     "input": [
      "starts = range(0, len(aligned_seqs), 2)\n",
      "aligned = []\n",
      "for s in starts:\n",
      "    _, hxb2_seq = aligned_seqs[s]\n",
      "    gi, gi_seq = aligned_seqs[s+1]\n",
      "    aseq = ''.join(q for q, r in zip(gi_seq, hxb2_seq) if r.isalpha())\n",
      "    aligned.append((int(gi), np.array(list(aseq))))"
     ],
     "language": "python",
     "metadata": {},
     "outputs": []
    },
    {
     "cell_type": "code",
     "collapsed": false,
     "input": [
      "aligned_ser = pd.DataFrame(aligned, columns=['GI', 'alignment']).groupby('GI').first()['alignment']\n",
      "subs, _ = subtype_ser.align(aligned_ser, join='right')"
     ],
     "language": "python",
     "metadata": {},
     "outputs": []
    },
    {
     "cell_type": "code",
     "collapsed": false,
     "input": [
      "subs.value_counts()"
     ],
     "language": "python",
     "metadata": {},
     "outputs": []
    },
    {
     "cell_type": "code",
     "collapsed": false,
     "input": [
      "aset = set(gi for gi, _ in aligned)\n",
      "with open('/home/will/WLAHDB_data/SeqDump/B_v3.fasta') as handle:\n",
      "    v3_seqs = []\n",
      "    for gi, seq in fasta_reader(handle):\n",
      "        if int(gi) in aset:\n",
      "            v3_seqs.append((int(gi), seq))\n",
      "    print len(v3_seqs)"
     ],
     "language": "python",
     "metadata": {},
     "outputs": []
    },
    {
     "cell_type": "code",
     "collapsed": false,
     "input": [
      "trop_dict = dict((int(gi), 'X4' if trop > 0.5 else 'R5') for gi, trop in WebPSSM_V3_series(v3_seqs))\n",
      "v3_ser = pd.Series(trop_dict)\n",
      "trop_data, _ = v3_ser.align(aligned_ser, join='right')"
     ],
     "language": "python",
     "metadata": {},
     "outputs": []
    },
    {
     "cell_type": "code",
     "collapsed": false,
     "input": [
      "trop_data.value_counts()"
     ],
     "language": "python",
     "metadata": {},
     "outputs": []
    },
    {
     "cell_type": "code",
     "collapsed": false,
     "input": [
      "lanl_data = pd.read_csv('/home/will/HIVTropism/R5Cluster/LANLResults.tsv', sep = '\\t')"
     ],
     "language": "python",
     "metadata": {},
     "outputs": []
    },
    {
     "cell_type": "code",
     "collapsed": false,
     "input": [
      "wtissue, _ = lanl_data['NewSimpleTissue'].dropna().align(aligned_ser, join = 'right')\n",
      "wcor_receptor, _ = lanl_data['Coreceptor'].dropna().align(aligned_ser, join = 'right')"
     ],
     "language": "python",
     "metadata": {},
     "outputs": []
    },
    {
     "cell_type": "code",
     "collapsed": false,
     "input": [
      "check_seqs = [('CEBP-US2', 'ATTTCATCA', -170, -162),\n",
      "              ('ATF-CREB', 'CTGACATCG', -123, -115),\n",
      "              ('CEBP-US1', 'AGCTTTCTACAA', -114, -103),\n",
      "              ('NFKB-II', 'AGGGACTTTCC', -103, -93),\n",
      "              ('NFKB-I', 'GGGGACTTTCC', -99, -89),\n",
      "              ('SP-III', 'GAGGCGTGG', -85, -77),\n",
      "              ('SP-II', 'TGGGCGGGA', -74, -66),\n",
      "              ('SP-I', 'GGGGAGTGG', -63, -55),\n",
      "              ('AP1-I', 'TTGAGTGCT', 85, 93),\n",
      "              ('AP1-II', 'TGTTGTGTGAC', 121, 138),\n",
      "              ('AP1-III', 'TTTAGTCAG', 153, 161),\n",
      "              ('DS3-B', 'TCAGTGTGGAAAATC', 158, 175),\n",
      "              ('DS3-C', 'GTAGTGTGGAAAATC', 158, 175),\n",
      "              ('DS3-D', 'TCAGTGTGGAAAATC', 158, 175),\n",
      "              ('DS3-A', 'ACTGTGTAAAAATC', 158, 175)\n",
      "              ]\n",
      "slop = 20\n",
      "check_dict = {'Subs':subs, 'tissue': wtissue, 'Coreceptor': trop_data}\n",
      "for name, seq, start, stop in check_seqs:\n",
      "    mask = (new_hxb2_inds>(start-slop)) & (new_hxb2_inds<(stop+slop))\n",
      "    extracted = aligned_ser.map(lambda x: ''.join(x[mask]).replace('-', ''))\n",
      "    \n",
      "    check_dict[name] = extracted.map(lambda x: seq in x).map(float)\n",
      "    check_dict[name][extracted.map(len)==0] = np.nan\n",
      "df = pd.DataFrame(check_dict)"
     ],
     "language": "python",
     "metadata": {},
     "outputs": []
    },
    {
     "cell_type": "code",
     "collapsed": false,
     "input": [],
     "language": "python",
     "metadata": {},
     "outputs": []
    },
    {
     "cell_type": "code",
     "collapsed": false,
     "input": [
      "print pd.pivot_table(df, rows = 'Subs', aggfunc='mean').T*100"
     ],
     "language": "python",
     "metadata": {},
     "outputs": []
    },
    {
     "cell_type": "code",
     "collapsed": false,
     "input": [
      "print 9.0/290"
     ],
     "language": "python",
     "metadata": {},
     "outputs": []
    },
    {
     "cell_type": "code",
     "collapsed": false,
     "input": [
      "print pd.pivot_table(df, rows = 'Coreceptor', aggfunc='mean').T*100"
     ],
     "language": "python",
     "metadata": {},
     "outputs": []
    },
    {
     "cell_type": "code",
     "collapsed": false,
     "input": [
      "def find_best(tf_seq, ltr_seq):\n",
      "    width = len(tf_seq)\n",
      "    scores = []\n",
      "    for start in range(0, len(ltr_seq)-width):\n",
      "        scores.append(sum(s == t for s, t in zip(tf_seq, ltr_seq[start:(start+width)])))\n",
      "    if scores:\n",
      "        return max(scores)/float(width)\n",
      "    else:\n",
      "        return np.nan\n",
      "\n",
      "best_dict = {'Subs':subs, 'tissue': wtissue, 'Coreceptor': trop_data}\n",
      "for name, seq, start, stop in check_seqs:\n",
      "    print name\n",
      "    mask = (new_hxb2_inds>(start-slop)) & (new_hxb2_inds<(stop+slop))\n",
      "    extracted = aligned_ser.map(lambda x: ''.join(x[mask]).replace('-', ''))\n",
      "    best_dict[name] = extracted.map(lambda x: find_best(seq, x))\n",
      "bdf = pd.DataFrame(best_dict)"
     ],
     "language": "python",
     "metadata": {},
     "outputs": []
    },
    {
     "cell_type": "code",
     "collapsed": false,
     "input": [
      "print (1-pd.pivot_table(bdf, rows = 'Subs')).T*100"
     ],
     "language": "python",
     "metadata": {},
     "outputs": []
    },
    {
     "cell_type": "code",
     "collapsed": false,
     "input": [
      "print (1-pd.pivot_table(bdf, rows = 'Coreceptor')).T*100"
     ],
     "language": "python",
     "metadata": {},
     "outputs": []
    },
    {
     "cell_type": "code",
     "collapsed": false,
     "input": [
      "slop=5\n",
      "mask = (new_hxb2_inds>(159-slop)) & (new_hxb2_inds<(174+slop))\n",
      "ds3_ser = aligned_ser.map(lambda x: ''.join(x[mask]).replace('-', ''))\n",
      "ds3_ser[ds3_ser.map(len)==0] = np.nan\n",
      "with open('r5_seqs.fasta', 'w') as handle:\n",
      "    fasta_writer(handle, ds3_ser[trop_data == 'R5'].dropna().to_dict().items())\n",
      "\n",
      "with open('x4_seqs.fasta', 'w') as handle:\n",
      "    fasta_writer(handle, ds3_ser[trop_data == 'X4'].dropna().to_dict().items())\n",
      "    \n",
      "with open('subC_seqs.fasta', 'w') as handle:\n",
      "    fasta_writer(handle, ds3_ser[subs == 'C'].dropna().to_dict().items())\n",
      "          \n",
      "#print ds3_ser[trop_data == 'X4'].dropna()"
     ],
     "language": "python",
     "metadata": {},
     "outputs": [],
     "prompt_number": 109
    },
    {
     "cell_type": "code",
     "collapsed": false,
     "input": [
      "quick_seqs = []\n",
      "with open('r5_seqs.fasta') as handle:\n",
      "    for name, seq in fasta_reader(handle):\n",
      "        quick_seqs.append({\n",
      "                           'Name':name,\n",
      "                           'Trop':'R5',\n",
      "                           'Seq':seq\n",
      "                           })\n",
      "with open('x4_seqs.fasta') as handle:\n",
      "    for name, seq in fasta_reader(handle):\n",
      "        quick_seqs.append({\n",
      "                           'Name':name,\n",
      "                           'Trop':'X4',\n",
      "                           'Seq':seq\n",
      "                           })"
     ],
     "language": "python",
     "metadata": {},
     "outputs": [],
     "prompt_number": 5
    },
    {
     "cell_type": "code",
     "collapsed": false,
     "input": [
      "from Bio.Seq import Seq\n",
      "from Bio import Motif\n",
      "from StringIO import StringIO\n",
      "from itertools import groupby\n",
      "from operator import methodcaller\n",
      "from Bio.Alphabet import IUPAC\n",
      "\n",
      "def yield_motifs():\n",
      "    with open('/home/will/LTRtfAnalysis/Jaspar_PWMs.txt') as handle:\n",
      "        for key, lines in groupby(handle, methodcaller('startswith', '>')):\n",
      "            if key:\n",
      "                name = lines.next().strip().split()[-1].lower()\n",
      "            else:\n",
      "                tmp = ''.join(lines)\n",
      "                mot = Motif.read(StringIO(tmp), 'jaspar-pfm')\n",
      "                yield name, mot\n",
      "                yield name+'-R', mot.reverse_complement()\n",
      "pwm_dict = {}\n",
      "for num, (name, mot) in enumerate(yield_motifs()):\n",
      "    if num % 100 == 0:\n",
      "        print num\n",
      "    pwm_dict[name] = mot"
     ],
     "language": "python",
     "metadata": {},
     "outputs": [
      {
       "output_type": "stream",
       "stream": "stdout",
       "text": [
        "0\n",
        "100\n",
        "200\n"
       ]
      }
     ],
     "prompt_number": 9
    },
    {
     "cell_type": "code",
     "collapsed": false,
     "input": [
      "from functools import partial\n",
      "from scipy.stats import ttest_ind, gaussian_kde, chi2_contingency\n",
      "\n",
      "def score_seq(mot, seq):\n",
      "    bseq = Seq(seq, alphabet=IUPAC.unambiguous_dna)\n",
      "    scores = mot.scanPWM(bseq)\n",
      "    return np.max(scores)\n",
      "\n",
      "def make_cdfs(kde, points):\n",
      "    \n",
      "    cdf = []\n",
      "    for point in points:\n",
      "        cdf.append(kde.integrate_box_1d(-np.inf, point))\n",
      "    return 1-np.array(cdf)\n",
      "    \n",
      "    \n",
      "wanted_mots = ['cebpa-R',\n",
      "               #'nfatc2',\n",
      "               'nfatc2-R']\n",
      "fig, axs = plt.subplots(2,1, sharex=True, figsize = (10, 5))\n",
      "quick_seqs_df = pd.DataFrame(quick_seqs)\n",
      "\n",
      "r5_mask = quick_seqs_df['Trop'] == 'R5'\n",
      "x4_mask = quick_seqs_df['Trop'] == 'X4'\n",
      "for ax, mot in zip(axs.flatten(), wanted_mots):\n",
      "    quick_seqs_df[mot] = quick_seqs_df['Seq'].map(partial(score_seq, pwm_dict[mot]))\n",
      "    \n",
      "    r5_vals = quick_seqs_df[mot][r5_mask].dropna().values\n",
      "    x4_vals = quick_seqs_df[mot][x4_mask].dropna().values\n",
      "    \n",
      "    r5_kde = gaussian_kde(r5_vals)\n",
      "    x4_kde = gaussian_kde(x4_vals)\n",
      "    \n",
      "    points = np.linspace(0, 15)\n",
      "    ax.plot(points, make_cdfs(r5_kde, points), 'b', label = 'R5')\n",
      "    ax.plot(points, make_cdfs(x4_kde, points), 'g', label = 'X4')\n",
      "    ax.set_title(mot)\n",
      "    if ax.is_last_row():\n",
      "        ax.set_xlabel('TF Score')\n",
      "    else:\n",
      "        ax.legend()\n",
      "    \n",
      "    ax.set_ylabel('Frac Sequences')\n",
      "    thresh = Motif.Thresholds.ScoreDistribution(pwm_dict[mot], precision = 100).threshold_fpr(0.005)\n",
      "    ax.vlines(thresh, 0, 1)\n",
      "    \n",
      "    ch2table = [[(r5_vals>thresh).sum(), (r5_vals<=thresh).sum()],\n",
      "                [(x4_vals>thresh).sum(), (x4_vals<=thresh).sum()],]\n",
      "    \n",
      "    _, pval, _, _ = chi2_contingency(ch2table)\n",
      "    print mot, np.mean(r5_vals), np.mean(x4_vals), pval\n",
      "plt.tight_layout()\n",
      "#plt.savefig('/home/will/Dropbox/Wigdahl HIV Lab/SadiTFFigure/TFscores.png', dpi = 300)"
     ],
     "language": "python",
     "metadata": {},
     "outputs": [
      {
       "output_type": "stream",
       "stream": "stdout",
       "text": [
        "cebpa-R 3.25429779065 2.42559581026 0.000490673533494\n",
        "nfatc2-R 9.56427351272 11.4786407471 0.243616994612\n"
       ]
      },
      {
       "metadata": {},
       "output_type": "display_data",
       "png": "[encoded data removed]",
       "text": [
        "<matplotlib.figure.Figure at 0x40cb8d0>"
       ]
      }
     ],
     "prompt_number": 53
    },
    {
     "cell_type": "code",
     "collapsed": false,
     "input": [
      "ax.vlines?"
     ],
     "language": "python",
     "metadata": {},
     "outputs": [],
     "prompt_number": 30
    },
    {
     "cell_type": "code",
     "collapsed": false,
     "input": [
      "from sklearn.svm import OneClassSVM\n",
      "\n",
      "data = np.array([2,5,30,4,8,3,5,4,2,5,3,4,5,4]).reshape((-1, 1))\n",
      "tmp = OneClassSVM().fit(data).predict(data)\n",
      "data[tmp>0]"
     ],
     "language": "python",
     "metadata": {},
     "outputs": [
      {
       "metadata": {},
       "output_type": "pyout",
       "prompt_number": 119,
       "text": [
        "array([[5],\n",
        "       [5],\n",
        "       [5],\n",
        "       [5]])"
       ]
      }
     ],
     "prompt_number": 119
    },
    {
     "cell_type": "code",
     "collapsed": false,
     "input": [
      "count = 0\n",
      "for num, f in enumerate(glob.glob('/home/will/WLAHDB_data/RegionSplit/ltr/*.fasta')):\n",
      "    if num % 5000 == 0:\n",
      "        print num, count\n",
      "    with open(f) as handle:\n",
      "        if len(handle.read()) > 10:\n",
      "            count += 1"
     ],
     "language": "python",
     "metadata": {},
     "outputs": [
      {
       "output_type": "stream",
       "stream": "stdout",
       "text": [
        "0 0\n",
        "5000"
       ]
      },
      {
       "output_type": "stream",
       "stream": "stdout",
       "text": [
        " 98\n",
        "10000"
       ]
      },
      {
       "output_type": "stream",
       "stream": "stdout",
       "text": [
        " 175\n",
        "15000"
       ]
      },
      {
       "output_type": "stream",
       "stream": "stdout",
       "text": [
        " 250\n",
        "20000"
       ]
      },
      {
       "output_type": "stream",
       "stream": "stdout",
       "text": [
        " 346\n",
        "25000"
       ]
      },
      {
       "output_type": "stream",
       "stream": "stdout",
       "text": [
        " 444\n",
        "30000"
       ]
      },
      {
       "output_type": "stream",
       "stream": "stdout",
       "text": [
        " 536\n",
        "35000"
       ]
      },
      {
       "output_type": "stream",
       "stream": "stdout",
       "text": [
        " 623\n",
        "40000"
       ]
      },
      {
       "output_type": "stream",
       "stream": "stdout",
       "text": [
        " 706\n",
        "45000"
       ]
      },
      {
       "output_type": "stream",
       "stream": "stdout",
       "text": [
        " 793\n",
        "50000"
       ]
      },
      {
       "output_type": "stream",
       "stream": "stdout",
       "text": [
        " 887\n",
        "55000"
       ]
      },
      {
       "output_type": "stream",
       "stream": "stdout",
       "text": [
        " 970\n",
        "60000"
       ]
      },
      {
       "output_type": "stream",
       "stream": "stdout",
       "text": [
        " 1055\n",
        "65000"
       ]
      },
      {
       "output_type": "stream",
       "stream": "stdout",
       "text": [
        " 1151\n",
        "70000"
       ]
      },
      {
       "output_type": "stream",
       "stream": "stdout",
       "text": [
        " 1247\n",
        "75000"
       ]
      },
      {
       "output_type": "stream",
       "stream": "stdout",
       "text": [
        " 1343\n",
        "80000"
       ]
      },
      {
       "output_type": "stream",
       "stream": "stdout",
       "text": [
        " 1445\n",
        "85000"
       ]
      },
      {
       "output_type": "stream",
       "stream": "stdout",
       "text": [
        " 1541\n",
        "90000"
       ]
      },
      {
       "output_type": "stream",
       "stream": "stdout",
       "text": [
        " 1636\n",
        "95000"
       ]
      },
      {
       "output_type": "stream",
       "stream": "stdout",
       "text": [
        " 1729\n",
        "100000"
       ]
      },
      {
       "output_type": "stream",
       "stream": "stdout",
       "text": [
        " 1837\n",
        "105000"
       ]
      },
      {
       "output_type": "stream",
       "stream": "stdout",
       "text": [
        " 1933\n",
        "110000"
       ]
      },
      {
       "output_type": "stream",
       "stream": "stdout",
       "text": [
        " 2030\n",
        "115000"
       ]
      },
      {
       "output_type": "stream",
       "stream": "stdout",
       "text": [
        " 2128\n",
        "120000"
       ]
      },
      {
       "output_type": "stream",
       "stream": "stdout",
       "text": [
        " 2227\n",
        "125000"
       ]
      },
      {
       "output_type": "stream",
       "stream": "stdout",
       "text": [
        " 2297\n",
        "130000"
       ]
      },
      {
       "output_type": "stream",
       "stream": "stdout",
       "text": [
        " 2395\n",
        "135000"
       ]
      },
      {
       "output_type": "stream",
       "stream": "stdout",
       "text": [
        " 2494\n",
        "140000"
       ]
      },
      {
       "output_type": "stream",
       "stream": "stdout",
       "text": [
        " 2588\n",
        "145000"
       ]
      },
      {
       "output_type": "stream",
       "stream": "stdout",
       "text": [
        " 2678\n",
        "150000"
       ]
      },
      {
       "output_type": "stream",
       "stream": "stdout",
       "text": [
        " 2767\n",
        "155000"
       ]
      },
      {
       "output_type": "stream",
       "stream": "stdout",
       "text": [
        " 2870\n",
        "160000"
       ]
      },
      {
       "output_type": "stream",
       "stream": "stdout",
       "text": [
        " 2962\n",
        "165000"
       ]
      },
      {
       "output_type": "stream",
       "stream": "stdout",
       "text": [
        " 3050\n",
        "170000"
       ]
      },
      {
       "output_type": "stream",
       "stream": "stdout",
       "text": [
        " 3130\n",
        "175000"
       ]
      },
      {
       "output_type": "stream",
       "stream": "stdout",
       "text": [
        " 3224\n",
        "180000"
       ]
      },
      {
       "output_type": "stream",
       "stream": "stdout",
       "text": [
        " 3327\n",
        "185000"
       ]
      },
      {
       "output_type": "stream",
       "stream": "stdout",
       "text": [
        " 3416\n",
        "190000"
       ]
      },
      {
       "output_type": "stream",
       "stream": "stdout",
       "text": [
        " 3511\n",
        "195000"
       ]
      },
      {
       "output_type": "stream",
       "stream": "stdout",
       "text": [
        " 3602\n",
        "200000"
       ]
      },
      {
       "output_type": "stream",
       "stream": "stdout",
       "text": [
        " 3704\n",
        "205000"
       ]
      },
      {
       "output_type": "stream",
       "stream": "stdout",
       "text": [
        " 3804\n",
        "210000"
       ]
      },
      {
       "output_type": "stream",
       "stream": "stdout",
       "text": [
        " 3905\n",
        "215000"
       ]
      },
      {
       "output_type": "stream",
       "stream": "stdout",
       "text": [
        " 3997\n",
        "220000"
       ]
      },
      {
       "output_type": "stream",
       "stream": "stdout",
       "text": [
        " 4077\n",
        "225000"
       ]
      },
      {
       "output_type": "stream",
       "stream": "stdout",
       "text": [
        " 4166\n",
        "230000"
       ]
      },
      {
       "output_type": "stream",
       "stream": "stdout",
       "text": [
        " 4256\n",
        "235000"
       ]
      },
      {
       "output_type": "stream",
       "stream": "stdout",
       "text": [
        " 4350\n",
        "240000"
       ]
      },
      {
       "output_type": "stream",
       "stream": "stdout",
       "text": [
        " 4442\n",
        "245000"
       ]
      },
      {
       "output_type": "stream",
       "stream": "stdout",
       "text": [
        " 4524\n",
        "250000"
       ]
      },
      {
       "output_type": "stream",
       "stream": "stdout",
       "text": [
        " 4605\n",
        "255000"
       ]
      },
      {
       "output_type": "stream",
       "stream": "stdout",
       "text": [
        " 4706\n",
        "260000"
       ]
      },
      {
       "output_type": "stream",
       "stream": "stdout",
       "text": [
        " 4812\n",
        "265000"
       ]
      },
      {
       "output_type": "stream",
       "stream": "stdout",
       "text": [
        " 4917\n",
        "270000"
       ]
      },
      {
       "output_type": "stream",
       "stream": "stdout",
       "text": [
        " 5013\n",
        "275000"
       ]
      },
      {
       "output_type": "stream",
       "stream": "stdout",
       "text": [
        " 5119\n",
        "280000"
       ]
      },
      {
       "output_type": "stream",
       "stream": "stdout",
       "text": [
        " 5222\n",
        "285000"
       ]
      },
      {
       "output_type": "stream",
       "stream": "stdout",
       "text": [
        " 5304\n",
        "290000"
       ]
      },
      {
       "output_type": "stream",
       "stream": "stdout",
       "text": [
        " 5404\n",
        "295000"
       ]
      },
      {
       "output_type": "stream",
       "stream": "stdout",
       "text": [
        " 5506\n",
        "300000"
       ]
      },
      {
       "output_type": "stream",
       "stream": "stdout",
       "text": [
        " 5607\n",
        "305000"
       ]
      },
      {
       "output_type": "stream",
       "stream": "stdout",
       "text": [
        " 5693\n",
        "310000"
       ]
      },
      {
       "output_type": "stream",
       "stream": "stdout",
       "text": [
        " 5793\n",
        "315000"
       ]
      },
      {
       "output_type": "stream",
       "stream": "stdout",
       "text": [
        " 5881\n",
        "320000"
       ]
      },
      {
       "output_type": "stream",
       "stream": "stdout",
       "text": [
        " 5988\n",
        "325000"
       ]
      },
      {
       "output_type": "stream",
       "stream": "stdout",
       "text": [
        " 6090\n",
        "330000"
       ]
      },
      {
       "output_type": "stream",
       "stream": "stdout",
       "text": [
        " 6198\n",
        "335000"
       ]
      },
      {
       "output_type": "stream",
       "stream": "stdout",
       "text": [
        " 6300\n",
        "340000"
       ]
      },
      {
       "output_type": "stream",
       "stream": "stdout",
       "text": [
        " 6398\n",
        "345000"
       ]
      },
      {
       "output_type": "stream",
       "stream": "stdout",
       "text": [
        " 6507\n",
        "350000"
       ]
      },
      {
       "output_type": "stream",
       "stream": "stdout",
       "text": [
        " 6584\n",
        "355000"
       ]
      },
      {
       "output_type": "stream",
       "stream": "stdout",
       "text": [
        " 6659\n",
        "360000"
       ]
      },
      {
       "output_type": "stream",
       "stream": "stdout",
       "text": [
        " 6763\n",
        "365000"
       ]
      },
      {
       "output_type": "stream",
       "stream": "stdout",
       "text": [
        " 6863\n",
        "370000"
       ]
      },
      {
       "output_type": "stream",
       "stream": "stdout",
       "text": [
        " 6959\n",
        "375000"
       ]
      },
      {
       "output_type": "stream",
       "stream": "stdout",
       "text": [
        " 7053\n",
        "380000"
       ]
      },
      {
       "output_type": "stream",
       "stream": "stdout",
       "text": [
        " 7141\n",
        "385000"
       ]
      },
      {
       "output_type": "stream",
       "stream": "stdout",
       "text": [
        " 7223\n",
        "390000"
       ]
      },
      {
       "output_type": "stream",
       "stream": "stdout",
       "text": [
        " 7328\n",
        "395000"
       ]
      },
      {
       "output_type": "stream",
       "stream": "stdout",
       "text": [
        " 7421\n",
        "400000"
       ]
      },
      {
       "output_type": "stream",
       "stream": "stdout",
       "text": [
        " 7532\n",
        "405000"
       ]
      },
      {
       "output_type": "stream",
       "stream": "stdout",
       "text": [
        " 7631\n",
        "410000"
       ]
      },
      {
       "output_type": "stream",
       "stream": "stdout",
       "text": [
        " 7755\n",
        "415000"
       ]
      },
      {
       "output_type": "stream",
       "stream": "stdout",
       "text": [
        " 7846\n",
        "420000"
       ]
      },
      {
       "output_type": "stream",
       "stream": "stdout",
       "text": [
        " 7958\n",
        "425000"
       ]
      },
      {
       "output_type": "stream",
       "stream": "stdout",
       "text": [
        " 8072\n",
        "430000"
       ]
      },
      {
       "output_type": "stream",
       "stream": "stdout",
       "text": [
        " 8173\n",
        "435000"
       ]
      },
      {
       "output_type": "stream",
       "stream": "stdout",
       "text": [
        " 8271\n",
        "440000"
       ]
      },
      {
       "output_type": "stream",
       "stream": "stdout",
       "text": [
        " 8349\n",
        "445000"
       ]
      },
      {
       "output_type": "stream",
       "stream": "stdout",
       "text": [
        " 8454\n",
        "450000"
       ]
      },
      {
       "output_type": "stream",
       "stream": "stdout",
       "text": [
        " 8544\n",
        "455000"
       ]
      },
      {
       "output_type": "stream",
       "stream": "stdout",
       "text": [
        " 8631\n",
        "460000"
       ]
      },
      {
       "output_type": "stream",
       "stream": "stdout",
       "text": [
        " 8744\n",
        "465000"
       ]
      },
      {
       "output_type": "stream",
       "stream": "stdout",
       "text": [
        " 8834\n",
        "470000"
       ]
      },
      {
       "output_type": "stream",
       "stream": "stdout",
       "text": [
        " 8935\n",
        "475000"
       ]
      },
      {
       "output_type": "stream",
       "stream": "stdout",
       "text": [
        " 9032\n",
        "480000"
       ]
      },
      {
       "output_type": "stream",
       "stream": "stdout",
       "text": [
        " 9132\n",
        "485000"
       ]
      },
      {
       "output_type": "stream",
       "stream": "stdout",
       "text": [
        " 9220\n",
        "490000"
       ]
      },
      {
       "output_type": "stream",
       "stream": "stdout",
       "text": [
        " 9330\n",
        "495000"
       ]
      },
      {
       "output_type": "stream",
       "stream": "stdout",
       "text": [
        " 9406\n",
        "500000"
       ]
      },
      {
       "output_type": "stream",
       "stream": "stdout",
       "text": [
        " 9509\n",
        "505000"
       ]
      },
      {
       "output_type": "stream",
       "stream": "stdout",
       "text": [
        " 9614\n",
        "510000"
       ]
      },
      {
       "output_type": "stream",
       "stream": "stdout",
       "text": [
        " 9712\n"
       ]
      }
     ],
     "prompt_number": 121
    },
    {
     "cell_type": "code",
     "collapsed": false,
     "input": [],
     "language": "python",
     "metadata": {},
     "outputs": []
    }
   ],
   "metadata": {}
  }
 ]
}