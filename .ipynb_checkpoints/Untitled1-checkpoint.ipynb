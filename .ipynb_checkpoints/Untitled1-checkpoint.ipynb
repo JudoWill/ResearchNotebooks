{
 "metadata": {
  "name": "Untitled1"
 },
 "nbformat": 3,
 "nbformat_minor": 0,
 "worksheets": [
  {
   "cells": [
    {
     "cell_type": "code",
     "collapsed": false,
     "input": [
      "import pandas as pd\n",
      "import os, os.path\n",
      "from itertools import islice\n",
      "from StringIO import StringIO\n",
      "os.chdir('/home/will/Documents/MATLAB/')"
     ],
     "language": "python",
     "metadata": {},
     "outputs": [],
     "prompt_number": 1
    },
    {
     "cell_type": "code",
     "collapsed": false,
     "input": [
      "def treat_sample_lines(lines):\n",
      "    \n",
      "    out_data = []\n",
      "    titles = None\n",
      "    for line in lines:\n",
      "        line = line.replace('\"', '').strip()\n",
      "        if not line.startswith('!Sample'):\n",
      "            break\n",
      "        elif line.startswith('!Sample_title'):\n",
      "            titles = line.split('\\t')[1:]\n",
      "        elif line.startswith('!Sample_characteristics_ch1'):\n",
      "            kv_pairs = line.split('\\t')\n",
      "            for num, (pair, sample) in enumerate(zip(kv_pairs[1:], titles)):\n",
      "                try:\n",
      "                    key, val = pair.split(':',1)\n",
      "                except ValueError:\n",
      "                    continue\n",
      "                out_data.append((sample, key, val))\n",
      "        elif line.startswith('!Sample_'):\n",
      "            parts = line.split('\\t')\n",
      "            key = parts[0].replace('!Sample_', '')\n",
      "            for val, sample in zip(parts[1:], titles):\n",
      "                out_data.append((sample, key, val))\n",
      "    return out_data\n",
      "        "
     ],
     "language": "python",
     "metadata": {},
     "outputs": [],
     "prompt_number": 2
    },
    {
     "cell_type": "code",
     "collapsed": false,
     "input": [
      "def load_data(fname):\n",
      "    \n",
      "    sample_char_lines = []\n",
      "    \n",
      "    with open(fname) as handle:\n",
      "        for line in handle:\n",
      "            if len(line.strip()) == 0:\n",
      "                pass\n",
      "            elif line.startswith('!Series'):\n",
      "                pass\n",
      "            elif line.startswith('!Sample'):\n",
      "                sample_char_lines.append(line.strip())\n",
      "            elif line.startswith('!series_matrix_table_begin'):\n",
      "                micro_data = pd.read_csv(StringIO(''.join(handle)), index_col=0, delimiter='\\t')\n",
      "                break\n",
      "                \n",
      "    \n",
      "    out_data = treat_sample_lines(sample_char_lines)\n",
      "    char_data = pd.DataFrame(out_data, columns = ['Sample', 'Measurement', 'Value'])\n",
      "    nchar_data = pd.pivot_table(char_data, rows = 'Sample', cols = 'Measurement', values = 'Value', aggfunc = 'first')\n",
      "    \n",
      "    return micro_data, nchar_data\n",
      "    \n",
      "micro_a, char_a = load_data('GSE1133-GPL96_series_matrix.txt')\n",
      "            \n",
      "            "
     ],
     "language": "python",
     "metadata": {},
     "outputs": [],
     "prompt_number": 3
    },
    {
     "cell_type": "code",
     "collapsed": false,
     "input": [
      "groups = [('brain', set(['globus_pallidus', 'ParietalLobe', 'brainThalamus', 'Medulla_Oblongata', \n",
      "                         'CerebellumPeduncles', 'OlfactoryBulb', 'OccipitalLobe','Pons', \n",
      "                         'brain, caudate nucleus', 'Pituitary', 'wholebrain', 'PrefrontalCortex',\n",
      "                         'Hypothalamus', 'TemporalLobe', 'Brain Amygdala', 'AdrenalCortex', 'pituitary', \n",
      "                         'CingulateCortex', 'cerebellum', 'Whole Brain'])),\n",
      "          ('muscle', set(['SmoothMuscle', 'Skeletal_Muscle_Psoas', 'HEART', 'CardiacMyocytes',\n",
      "                          'atrioventricular_node', 'Heart'])),\n",
      "          ('blood', set(['peripheral blood-CD8TCells', 'WHOLEBLOOD', 'peripheral blood-CD19BCells',\n",
      "                         'peripheral blood-CD14Monocytes', 'peripheral blood-BDCA4DentriticCells',\n",
      "                         'peripheral blood-CD56NKCells', 'peripheral blood-BDCA4DentriticCells', \n",
      "                         'peripheral blood-CD4TCells', '721_BLymphoblasts', ])),\n",
      "          ('bone marrow', set(['bone marrow', 'bonemarrow', 'bone marrow-CD34', \n",
      "                               'bone marrow-CD105Endothelial', 'bone marrow-CD33Myeloid',\n",
      "                               'bone marrow-CD71EarlyErythroid']))\n",
      "          ]\n",
      "\n",
      "char_a['Group'] = ''\n",
      "for name, s in groups:\n",
      "    mask = char_a['description'].map(lambda x: x in s)\n",
      "    char_a['Group'][mask] = name\n",
      "    \n",
      "char_a.set_index('geo_accession', inplace=True)"
     ],
     "language": "python",
     "metadata": {},
     "outputs": [],
     "prompt_number": 4
    },
    {
     "cell_type": "code",
     "collapsed": false,
     "input": [
      "import csv\n",
      "with open('GSE1133_family.soft') as handle:\n",
      "    for line in handle:\n",
      "        if line.startswith('!platform_table_begin'):\n",
      "            break\n",
      "    go_data = []\n",
      "    for row in csv.DictReader(handle, delimiter='\\t'):\n",
      "        gid = row['ID']\n",
      "        if row['Gene Ontology Biological Process'] is not None:\n",
      "            for parts in row['Gene Ontology Biological Process'].split(' /// '):\n",
      "                try:\n",
      "                    _, name, _ = parts.split(' // ')\n",
      "                    go_data.append((gid, name))\n",
      "                except ValueError:\n",
      "                    pass\n",
      "            \n",
      "len(go_data)"
     ],
     "language": "python",
     "metadata": {},
     "outputs": [
      {
       "metadata": {},
       "output_type": "pyout",
       "prompt_number": 5,
       "text": [
        "138257"
       ]
      }
     ],
     "prompt_number": 5
    },
    {
     "cell_type": "code",
     "collapsed": false,
     "input": [
      "gene_var = micro_a.var(axis = 1)\n",
      "wanted_gene_rows = gene_var.rank(ascending=False) < 2000\n",
      "wanted_data = micro_a[wanted_gene_rows]\n",
      "wanted_genes = set(wanted_gene_rows[wanted_gene_rows].index)"
     ],
     "language": "python",
     "metadata": {},
     "outputs": [],
     "prompt_number": 14
    },
    {
     "cell_type": "code",
     "collapsed": false,
     "input": [
      "wanted_char = char_a[['description']].ix[[x.strip() for x in wanted_data.columns]]\n",
      "wanted_char.to_csv('micro_group_names.csv')\n",
      "wanted_data.to_csv('micro_data.csv', index=False, header=False)\n",
      "with open('gene_ids.csv', 'w') as handle:\n",
      "    handle.write('\\n'.join(wanted_data.index))\n",
      "with open('micro_headers.csv', 'w') as handle:\n",
      "    handle.write('\\n'.join(wanted_data.columns))\n",
      "    \n",
      "with open('go_data.csv', 'w') as handle:\n",
      "    writer = csv.writer(handle, delimiter='\\t')\n",
      "    wanted_genes = set(wanted_data.index)\n",
      "    output_already = set()\n",
      "    for gid, name in go_data:\n",
      "        if (gid in wanted_genes) and ((gid, name) not in output_already):\n",
      "            writer.writerow((gid, name))\n",
      "            output_already.add((gid, name))\n",
      "            "
     ],
     "language": "python",
     "metadata": {},
     "outputs": [],
     "prompt_number": 23
    },
    {
     "cell_type": "code",
     "collapsed": false,
     "input": [],
     "language": "python",
     "metadata": {},
     "outputs": []
    }
   ],
   "metadata": {}
  }
 ]
}