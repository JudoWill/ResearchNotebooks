{
 "metadata": {
  "name": "RedcapQC"
 },
 "nbformat": 3,
 "nbformat_minor": 0,
 "worksheets": [
  {
   "cells": [
    {
     "cell_type": "code",
     "collapsed": false,
     "input": [
      "import pandas as pd\n",
      "import os, os.path\n",
      "import numpy as np\n",
      "os.chdir('/home/will/RedcapQC/')"
     ],
     "language": "python",
     "metadata": {},
     "outputs": [],
     "prompt_number": 15
    },
    {
     "cell_type": "code",
     "collapsed": false,
     "input": [
      "raw_data = pd.read_csv('/home/will/HIVReportGen/Data/RedcapDumps/HIVAIDSGeneticAnalys_DATA_LABELS_2013-01-16_1211.csv')\n",
      "raw_data.rename(columns={raw_data.columns[0]:'Patient ID'}, inplace=True)"
     ],
     "language": "python",
     "metadata": {},
     "outputs": [],
     "prompt_number": 16
    },
    {
     "cell_type": "code",
     "collapsed": false,
     "input": [
      "from collections import Counter\n",
      "\n",
      "def get_common(inser):\n",
      "    counts = Counter(inser.values)\n",
      "    return counts.most_common(1)[0][0]\n",
      "\n",
      "ident_cols = ['Gender', 'Year of Birth', 'Ethnicity']\n",
      "ident_cols += [col for col in raw_data.columns if col.startswith('Race ')]\n",
      "ident_cols += [col for col in raw_data.columns if col.startswith('Exposure ')]\n",
      "\n",
      "\n",
      "#PatID, VisitNum, VisitDate, Field, ActualValue, ExpectedValue\n",
      "common_fixing = []\n",
      "all_count = 0\n",
      "for pat_id, group in raw_data.groupby('Patient ID'):\n",
      "    \n",
      "    for field in ident_cols:\n",
      "        if len(group[field].dropna()) == 0:\n",
      "            common = np.nan\n",
      "        else:\n",
      "            common = get_common(group[field].dropna())\n",
      "            \n",
      "        for _, row in group[['Event Name', field, 'Date of visit']].iterrows():\n",
      "            all_count += 1\n",
      "            if row[field] != common:\n",
      "                expected = 'missing' if row[field] != row[field] else common\n",
      "                if expected == 'missing':\n",
      "                    common_fixing.append({\n",
      "                                          'Patient ID':pat_id,\n",
      "                                          'VisitNum':row['Event Name'].split()[0],\n",
      "                                          'VisitDate':row['Date of visit'],\n",
      "                                          'FieldToFix':field,\n",
      "                                          'ActualValue':'missing',\n",
      "                                          'ExpectedValue':'a valid value'\n",
      "                                          })\n",
      "                else:\n",
      "                    common_fixing.append({\n",
      "                                          'Patient ID':pat_id,\n",
      "                                          'VisitNum':row['Event Name'].split()[0],\n",
      "                                          'VisitDate':row['Date of visit'],\n",
      "                                          'FieldToFix':field,\n",
      "                                          'ActualValue':row[field],\n",
      "                                          'ExpectedValue':expected\n",
      "                                          })\n",
      "\n"
     ],
     "language": "python",
     "metadata": {},
     "outputs": [],
     "prompt_number": 17
    },
    {
     "cell_type": "code",
     "collapsed": false,
     "input": [
      "from dateutil import parser\n",
      "from copy import deepcopy\n",
      "\n",
      "date_fields = [('CD4', 'Date of latest CD4 count'),\n",
      "               ('CD8', 'Date of latest CD8 count'),\n",
      "               ('VL', 'Date of latest viral load')]\n",
      "\n",
      "#PatID, VisitNum, VisitDate, Field, ActualValue, ExpectedValue\n",
      "param_fixing = []\n",
      "for _, row in raw_data.iterrows():\n",
      "    \n",
      "    for name, field in date_fields:\n",
      "        tdict = {\n",
      "                 'Patient ID':row['Patient ID'],\n",
      "                 'VisitNum':row['Event Name'].split()[0],\n",
      "                 'ActualValue':None,\n",
      "                 'ExpectedValue':None\n",
      "                 }\n",
      "        date_dict = {}\n",
      "        for nfield in [field, 'Date of visit']:\n",
      "            all_count += 1\n",
      "            if row[nfield] != row[nfield]:\n",
      "                date_dict[nfield] = None\n",
      "                ndict = {\n",
      "                         'VisitDate':row['Date of visit'],\n",
      "                         'FieldToFix':nfield,\n",
      "                         'ActualValue':'Missing!!',\n",
      "                         'ExpectedValue':'Anything'\n",
      "                     }\n",
      "                param_fixing.append(deepcopy(tdict).update(ndict))\n",
      "            else:\n",
      "                try:\n",
      "                    date_dict[nfield] = parser.parse(row[nfield])\n",
      "                except ValueError:\n",
      "                    date_dict[nfield] = None\n",
      "                    ndict = {\n",
      "                         'VisitDate':row['Date of visit'],\n",
      "                         'FieldToFix':nfield,\n",
      "                         'ActualValue':row[nfield],\n",
      "                         'ExpectedValue':'Invalid Date Format!!'\n",
      "                         }\n",
      "                    param_fixing.append(deepcopy(tdict).update(ndict))\n",
      "            \n",
      "        vdate, fdate = date_dict['Date of visit'], date_dict[field]\n",
      "        \n",
      "            \n",
      "        if (vdate is not None) and (fdate is not None):\n",
      "            dif_date = abs((vdate - fdate).days/30)\n",
      "            if dif_date > 3:\n",
      "                param_fixing.append({\n",
      "                                 'Patient ID':row['Patient ID'],\n",
      "                                 'VisitNum':row['Event Name'].split()[0],\n",
      "                                 'VisitDate':row['Date of visit'],\n",
      "                                 'FieldToFix':name  + ' too distantly measured!',\n",
      "                                 'ActualValue':'%i months' % dif_date,\n",
      "                                 'ExpectedValue':row[field]\n",
      "                                 })\n",
      "        \n",
      "        "
     ],
     "language": "python",
     "metadata": {},
     "outputs": [],
     "prompt_number": 18
    },
    {
     "cell_type": "code",
     "collapsed": false,
     "input": [
      "paired_cols = [('Hepatitis B status (HBV)','Year diagnosed HBV positive'),\n",
      "               ('Hepatitis C status (HCV)','Year diagnosed HCV positive'),\n",
      "               ('Cytomegalovirus (CMV)','Year diagnosed CMV positive'),\n",
      "               ('Human Papillomavirus (HPV)','Year diagnosed HPV positive'),\n",
      "               ('Herpes Simplex Virus Type 1 (HSV 1)','Year diagnosed HSV 1 positive'),\n",
      "               ('Herpes Simplex Virus Type 2 (HSV 2)','Year diagnosed HSV 2 positive'),\n",
      "               ('Tuberculosis','Year diagnosed tuberculosis positive'),\n",
      "               ('Hypertension','Year diagnosed with hypertension'),\n",
      "               ('Diabetes','Year diagnosed with diabetes'),\n",
      "               ('Elevated lipids','Year diagnosed with elevated lipids'),\n",
      "               ('Asthma','Year diagnosed with asthma'),\n",
      "               ('Chronic obstructive pulmonary disease (COPD)','Year diagnosed with COPD')]\n",
      "\n",
      "\n",
      "for pat_id, group in raw_data.groupby('Patient ID'):\n",
      "    \n",
      "    for data_col, date_col in paired_cols:\n",
      "        group[data_col] = group[data_col].replace('ND', np.nan)\n",
      "        group[date_col] = group[date_col].replace('ND', np.nan)\n",
      "            \n",
      "        for field in [data_col, date_col]:\n",
      "            if len(group[field].dropna()) == 0:\n",
      "                common = np.nan\n",
      "            else:\n",
      "                common = get_common(group[field].dropna())\n",
      "            if common != common:\n",
      "                continue\n",
      "            for _, row in group[['Event Name', field, 'Date of visit']].iterrows():\n",
      "                all_count += 1\n",
      "                if row[field] != common:\n",
      "                    if row[field] != row[field]:\n",
      "                        actual = 'missing'\n",
      "                    else:\n",
      "                        actual = row[field]\n",
      "                    common_fixing.append({\n",
      "                                          'Patient ID':pat_id,\n",
      "                                          'VisitNum':row['Event Name'].split()[0],\n",
      "                                          'VisitDate':row['Date of visit'],\n",
      "                                          'FieldToFix':field,\n",
      "                                          'ActualValue':actual,\n",
      "                                          'ExpectedValue':common\n",
      "                                          })\n",
      "\n",
      "\n",
      "    \n",
      "    "
     ],
     "language": "python",
     "metadata": {},
     "outputs": [],
     "prompt_number": 19
    },
    {
     "cell_type": "code",
     "collapsed": false,
     "input": [
      "from operator import itemgetter\n",
      "\n",
      "sort_fields = ['Patient ID', 'VisitNum', 'VisitDate', 'FieldToFix']\n",
      "ordered_fixes = sorted([row for row in (param_fixing + common_fixing) if row is not None], key = itemgetter(*sort_fields))"
     ],
     "language": "python",
     "metadata": {},
     "outputs": [],
     "prompt_number": 20
    },
    {
     "cell_type": "code",
     "collapsed": false,
     "input": [
      "\n",
      "fields = ['Patient ID', 'VisitNum', 'VisitDate', 'FieldToFix', 'ActualValue', 'ExpectedValue']\n",
      "\n",
      "df = pd.DataFrame(ordered_fixes)\n",
      "#df[fields].to_excel('/home/will/HIVVariation/redcap_QC.xlsx', index = False)"
     ],
     "language": "python",
     "metadata": {},
     "outputs": [],
     "prompt_number": 21
    },
    {
     "cell_type": "code",
     "collapsed": false,
     "input": [
      "for pat, rows in df.groupby('Patient ID'):\n",
      "    rows.to_excel('PatsToFix/%s-%i.xlsx' % (pat, len(rows)), index=False)\n",
      "    "
     ],
     "language": "python",
     "metadata": {},
     "outputs": [],
     "prompt_number": 9
    },
    {
     "cell_type": "code",
     "collapsed": false,
     "input": [
      "num_pats = len(list(df.groupby('Patient ID')))"
     ],
     "language": "python",
     "metadata": {},
     "outputs": [],
     "prompt_number": 11
    },
    {
     "cell_type": "code",
     "collapsed": false,
     "input": [
      "num_pats/5"
     ],
     "language": "python",
     "metadata": {},
     "outputs": [
      {
       "metadata": {},
       "output_type": "pyout",
       "prompt_number": 12,
       "text": [
        "71"
       ]
      }
     ],
     "prompt_number": 12
    },
    {
     "cell_type": "code",
     "collapsed": false,
     "input": [
      "num_pats"
     ],
     "language": "python",
     "metadata": {},
     "outputs": [
      {
       "metadata": {},
       "output_type": "pyout",
       "prompt_number": 14,
       "text": [
        "357"
       ]
      }
     ],
     "prompt_number": 14
    },
    {
     "cell_type": "code",
     "collapsed": false,
     "input": [
      "print all_count, float(len(ordered_fixes))/float(all_count)"
     ],
     "language": "python",
     "metadata": {},
     "outputs": [
      {
       "output_type": "stream",
       "stream": "stdout",
       "text": [
        "50540 0.163514048279\n"
       ]
      }
     ],
     "prompt_number": 23
    },
    {
     "cell_type": "code",
     "collapsed": false,
     "input": [],
     "language": "python",
     "metadata": {},
     "outputs": []
    }
   ],
   "metadata": {}
  }
 ]
}