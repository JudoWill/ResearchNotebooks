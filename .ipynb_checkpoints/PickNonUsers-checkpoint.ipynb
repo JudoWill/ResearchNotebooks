{
 "metadata": {
  "name": "PickNonUsers"
 },
 "nbformat": 3,
 "nbformat_minor": 0,
 "worksheets": [
  {
   "cells": [
    {
     "cell_type": "code",
     "collapsed": false,
     "input": [
      "import pandas as pd\n",
      "import sys\n",
      "import os, os.path\n",
      "\n",
      "sys.path.append('/home/will/PatientPicker/')"
     ],
     "language": "python",
     "metadata": {},
     "outputs": [],
     "prompt_number": 1
    },
    {
     "cell_type": "code",
     "collapsed": false,
     "input": [
      "import LoadingTools"
     ],
     "language": "python",
     "metadata": {},
     "outputs": [],
     "prompt_number": 2
    },
    {
     "cell_type": "code",
     "collapsed": false,
     "input": [
      "redcap_data = LoadingTools.load_redcap_data().set_index(['Patient ID', 'VisitNum'])\n",
      "cyto_data = pd.read_csv('/home/will/HIVSystemsBio/NewCytokineAnalysis/CytoRawData.csv', sep='\\t')\n",
      "cyto_data['HasCyto'] = True\n",
      "has_cyto = cyto_data.groupby(['Patient ID', 'VisitNum'])[['HasCyto']].all()"
     ],
     "language": "python",
     "metadata": {},
     "outputs": [],
     "prompt_number": 3
    },
    {
     "cell_type": "code",
     "collapsed": false,
     "input": [
      "tmp = pd.read_csv('/home/will/HIVSystemsBio/NewCytokineAnalysis/CytoPatData.csv', sep='\\t')\n",
      "ages = tmp.groupby('Patient ID')['Age'].first()\n",
      "print ages.max(), ages.min()"
     ],
     "language": "python",
     "metadata": {},
     "outputs": [
      {
       "output_type": "stream",
       "stream": "stdout",
       "text": [
        "71 20\n"
       ]
      }
     ],
     "prompt_number": 19
    },
    {
     "cell_type": "code",
     "collapsed": false,
     "input": [
      "import glob\n",
      "files = glob.glob('/home/will/HIVReportGen/Data/PatientFasta/*.fasta')\n",
      "seqs = []\n",
      "for f in files:\n",
      "    fname = f.split('/')[-1]\n",
      "    try:\n",
      "        pid, vn, prot = fname.split('.')[0].split('-', 2)\n",
      "    except ValueError:\n",
      "        print fname\n",
      "    seqs.append((pid, vn, prot, 1))\n",
      "    \n",
      "df = pd.DataFrame(seqs, columns = ['Patient ID', 'VisitNum', 'Prot', 'HasSeq'])\n",
      "has_seq = pd.pivot_table(df, rows = ['Patient ID', 'VisitNum'], cols = 'Prot', values='HasSeq')"
     ],
     "language": "python",
     "metadata": {},
     "outputs": [],
     "prompt_number": 4
    },
    {
     "cell_type": "code",
     "collapsed": false,
     "input": [
      "redcap_data = pd.merge(redcap_data, has_cyto,\n",
      "                       left_index=True, right_index=True,\n",
      "                       how='outer')\n",
      "redcap_data = pd.merge(redcap_data, has_seq,\n",
      "                       left_index=True, right_index=True,\n",
      "                       how='outer')\n",
      "redcap_data = redcap_data.drop(['VisitNum', 'Patient ID'], axis=1)"
     ],
     "language": "python",
     "metadata": {},
     "outputs": [],
     "prompt_number": 5
    },
    {
     "cell_type": "code",
     "collapsed": false,
     "input": [
      "import numpy\n",
      "def safe_mean(col):\n",
      "    ncol = col.dropna()\n",
      "    if len(ncol) == 0:\n",
      "        return np.nan\n",
      "    return ncol.mean()\n",
      "\n",
      "def safe_col_apply_mean(col, func, indf):\n",
      "    return indf[col].dropna().map(func).mean()"
     ],
     "language": "python",
     "metadata": {},
     "outputs": [],
     "prompt_number": 6
    },
    {
     "cell_type": "code",
     "collapsed": false,
     "input": [
      "from functools import partial\n",
      "seq_cols = list(has_seq.columns)\n",
      "test_drug_cols = [col for col in redcap_data.columns if col.startswith('Test-')]\n",
      "admit_drug_cols = [col for col in redcap_data.columns if col.startswith('Admit-')]\n",
      "race_cols = [col for col in redcap_data.columns if col.startswith('Race-')]\n",
      "\n",
      "mean_cols = test_drug_cols+admit_drug_cols+seq_cols+race_cols\n",
      "agg_dict = dict([(col, safe_mean) for col in mean_cols])\n",
      "agg_dict['VisitNum'] = 'count'\n",
      "\n",
      "cut_list = [('%LowVL', 'Latest viral load', 50),\n",
      "              ('%LowCD4', 'Latest CD4 count (cells/uL)', 200)]\n",
      "\n"
     ],
     "language": "python",
     "metadata": {},
     "outputs": [],
     "prompt_number": 7
    },
    {
     "cell_type": "code",
     "collapsed": false,
     "input": [
      "pat_sum = redcap_data.reset_index().groupby('Patient ID').agg(agg_dict)\n",
      "for ncol, tcol, cut in cut_list:\n",
      "    pat_sum[ncol] = (redcap_data[tcol]<cut).groupby(level='Patient ID').agg(mean)\n",
      "pat_sum"
     ],
     "language": "python",
     "metadata": {},
     "outputs": [
      {
       "html": [
        "<pre>\n",
        "&ltclass 'pandas.core.frame.DataFrame'&gt\n",
        "Index: 508 entries, A0001 to A0514\n",
        "Data columns (total 33 columns):\n",
        "Admit-Cocaine           507  non-null values\n",
        "Admit-Cannabinoid       507  non-null values\n",
        "Test-Cannabinoid        470  non-null values\n",
        "Admit-Heroin            507  non-null values\n",
        "Race-Indian             507  non-null values\n",
        "Admit-Narcotics         507  non-null values\n",
        "Race-Black              507  non-null values\n",
        "Vpr                     57  non-null values\n",
        "Test-Opiates            470  non-null values\n",
        "V3                      60  non-null values\n",
        "Admit-None              507  non-null values\n",
        "Admit-Ritalin           507  non-null values\n",
        "Admit-Benzodiazapine    507  non-null values\n",
        "LTR                     454  non-null values\n",
        "Test-Amphetamines       470  non-null values\n",
        "Admit-Ecstasy           507  non-null values\n",
        "Test-Phencyclidine      470  non-null values\n",
        "Race-Multiple           507  non-null values\n",
        "Race-Unknown            507  non-null values\n",
        "Race-Hawaiian           507  non-null values\n",
        "Admit-Amphetamines      507  non-null values\n",
        "Race-White              507  non-null values\n",
        "Test-Barbiturates       470  non-null values\n",
        "Race-Asian              507  non-null values\n",
        "VisitNum                508  non-null values\n",
        "Admit-Other             507  non-null values\n",
        "Admit-PCP               507  non-null values\n",
        "Test-Cocaine            470  non-null values\n",
        "Test-Benzodiazepine     470  non-null values\n",
        "Tat-1                   57  non-null values\n",
        "Tat-2                   58  non-null values\n",
        "%LowVL                  508  non-null values\n",
        "%LowCD4                 508  non-null values\n",
        "dtypes: float64(32), int64(1)\n",
        "</pre>"
       ],
       "metadata": {},
       "output_type": "pyout",
       "prompt_number": 8,
       "text": [
        "<class 'pandas.core.frame.DataFrame'>\n",
        "Index: 508 entries, A0001 to A0514\n",
        "Data columns (total 33 columns):\n",
        "Admit-Cocaine           507  non-null values\n",
        "Admit-Cannabinoid       507  non-null values\n",
        "Test-Cannabinoid        470  non-null values\n",
        "Admit-Heroin            507  non-null values\n",
        "Race-Indian             507  non-null values\n",
        "Admit-Narcotics         507  non-null values\n",
        "Race-Black              507  non-null values\n",
        "Vpr                     57  non-null values\n",
        "Test-Opiates            470  non-null values\n",
        "V3                      60  non-null values\n",
        "Admit-None              507  non-null values\n",
        "Admit-Ritalin           507  non-null values\n",
        "Admit-Benzodiazapine    507  non-null values\n",
        "LTR                     454  non-null values\n",
        "Test-Amphetamines       470  non-null values\n",
        "Admit-Ecstasy           507  non-null values\n",
        "Test-Phencyclidine      470  non-null values\n",
        "Race-Multiple           507  non-null values\n",
        "Race-Unknown            507  non-null values\n",
        "Race-Hawaiian           507  non-null values\n",
        "Admit-Amphetamines      507  non-null values\n",
        "Race-White              507  non-null values\n",
        "Test-Barbiturates       470  non-null values\n",
        "Race-Asian              507  non-null values\n",
        "VisitNum                508  non-null values\n",
        "Admit-Other             507  non-null values\n",
        "Admit-PCP               507  non-null values\n",
        "Test-Cocaine            470  non-null values\n",
        "Test-Benzodiazepine     470  non-null values\n",
        "Tat-1                   57  non-null values\n",
        "Tat-2                   58  non-null values\n",
        "%LowVL                  508  non-null values\n",
        "%LowCD4                 508  non-null values\n",
        "dtypes: float64(32), int64(1)"
       ]
      }
     ],
     "prompt_number": 8
    },
    {
     "cell_type": "code",
     "collapsed": false,
     "input": [
      "twpats = ['A0014','A0037','A0041','A0052','A0071','A0110','A0128','A0278','A0281','A0365']\n",
      "pat_sum.ix[twpats][['LTR', 'V3']]"
     ],
     "language": "python",
     "metadata": {},
     "outputs": [
      {
       "html": [
        "<div style=\"max-height:1000px;max-width:1500px;overflow:auto;\">\n",
        "<table border=\"1\" class=\"dataframe\">\n",
        "  <thead>\n",
        "    <tr style=\"text-align: right;\">\n",
        "      <th></th>\n",
        "      <th>LTR</th>\n",
        "      <th>V3</th>\n",
        "    </tr>\n",
        "  </thead>\n",
        "  <tbody>\n",
        "    <tr>\n",
        "      <th>A0014</th>\n",
        "      <td> 1</td>\n",
        "      <td>NaN</td>\n",
        "    </tr>\n",
        "    <tr>\n",
        "      <th>A0037</th>\n",
        "      <td> 1</td>\n",
        "      <td>  1</td>\n",
        "    </tr>\n",
        "    <tr>\n",
        "      <th>A0041</th>\n",
        "      <td> 1</td>\n",
        "      <td>  1</td>\n",
        "    </tr>\n",
        "    <tr>\n",
        "      <th>A0052</th>\n",
        "      <td> 1</td>\n",
        "      <td>NaN</td>\n",
        "    </tr>\n",
        "    <tr>\n",
        "      <th>A0071</th>\n",
        "      <td> 1</td>\n",
        "      <td>NaN</td>\n",
        "    </tr>\n",
        "    <tr>\n",
        "      <th>A0110</th>\n",
        "      <td> 1</td>\n",
        "      <td>  1</td>\n",
        "    </tr>\n",
        "    <tr>\n",
        "      <th>A0128</th>\n",
        "      <td> 1</td>\n",
        "      <td>  1</td>\n",
        "    </tr>\n",
        "    <tr>\n",
        "      <th>A0278</th>\n",
        "      <td> 1</td>\n",
        "      <td>NaN</td>\n",
        "    </tr>\n",
        "    <tr>\n",
        "      <th>A0281</th>\n",
        "      <td> 1</td>\n",
        "      <td>NaN</td>\n",
        "    </tr>\n",
        "    <tr>\n",
        "      <th>A0365</th>\n",
        "      <td> 1</td>\n",
        "      <td>NaN</td>\n",
        "    </tr>\n",
        "  </tbody>\n",
        "</table>\n",
        "</div>"
       ],
       "metadata": {},
       "output_type": "pyout",
       "prompt_number": 11,
       "text": [
        "       LTR  V3\n",
        "A0014    1 NaN\n",
        "A0037    1   1\n",
        "A0041    1   1\n",
        "A0052    1 NaN\n",
        "A0071    1 NaN\n",
        "A0110    1   1\n",
        "A0128    1   1\n",
        "A0278    1 NaN\n",
        "A0281    1 NaN\n",
        "A0365    1 NaN"
       ]
      }
     ],
     "prompt_number": 11
    },
    {
     "cell_type": "code",
     "collapsed": false,
     "input": [
      "non_users = pat_sum[(pat_sum[test_drug_cols]==0).all(axis=1)]\n",
      "\n",
      "PN_pats = non_users.drop(test_drug_cols, axis=1)"
     ],
     "language": "python",
     "metadata": {},
     "outputs": [],
     "prompt_number": 13
    },
    {
     "cell_type": "code",
     "collapsed": false,
     "input": [
      "#PN_pats.to_excel('/home/will/HIVTropism/PN_pats.xlsx')"
     ],
     "language": "python",
     "metadata": {},
     "outputs": [],
     "prompt_number": 15
    },
    {
     "cell_type": "code",
     "collapsed": false,
     "input": [
      "import pickle\n",
      "\n",
      "with open('/home/will/HIVTropism/trop_dict.pkl') as handle:\n",
      "    trop_data = pickle.load(handle)\n",
      "tmp = list(trop_data.items())"
     ],
     "language": "python",
     "metadata": {},
     "outputs": [],
     "prompt_number": 20
    },
    {
     "cell_type": "code",
     "collapsed": false,
     "input": [
      "\n",
      "for key, val in tmp:\n",
      "    if key.startswith('A0'):\n",
      "        print key, val"
     ],
     "language": "python",
     "metadata": {},
     "outputs": [
      {
       "ename": "AttributeError",
       "evalue": "'numpy.int64' object has no attribute 'startswith'",
       "output_type": "pyerr",
       "traceback": [
        "\u001b[1;31m---------------------------------------------------------------------------\u001b[0m\n\u001b[1;31mAttributeError\u001b[0m                            Traceback (most recent call last)",
        "\u001b[1;32m<ipython-input-17-3885af77b414>\u001b[0m in \u001b[0;36m<module>\u001b[1;34m()\u001b[0m\n\u001b[0;32m      1\u001b[0m \u001b[1;32mfor\u001b[0m \u001b[0mkey\u001b[0m\u001b[1;33m,\u001b[0m \u001b[0mval\u001b[0m \u001b[1;32min\u001b[0m \u001b[0mtrop_data\u001b[0m\u001b[1;33m.\u001b[0m\u001b[0mitems\u001b[0m\u001b[1;33m(\u001b[0m\u001b[1;33m)\u001b[0m\u001b[1;33m:\u001b[0m\u001b[1;33m\u001b[0m\u001b[0m\n\u001b[1;32m----> 2\u001b[1;33m     \u001b[1;32mif\u001b[0m \u001b[0mkey\u001b[0m\u001b[1;33m.\u001b[0m\u001b[0mstartswith\u001b[0m\u001b[1;33m(\u001b[0m\u001b[1;34m'A0'\u001b[0m\u001b[1;33m)\u001b[0m\u001b[1;33m:\u001b[0m\u001b[1;33m\u001b[0m\u001b[0m\n\u001b[0m\u001b[0;32m      3\u001b[0m         \u001b[1;32mprint\u001b[0m \u001b[0mkey\u001b[0m\u001b[1;33m,\u001b[0m \u001b[0mval\u001b[0m\u001b[1;33m\u001b[0m\u001b[0m\n",
        "\u001b[1;31mAttributeError\u001b[0m: 'numpy.int64' object has no attribute 'startswith'"
       ]
      }
     ],
     "prompt_number": 17
    },
    {
     "cell_type": "code",
     "collapsed": false,
     "input": [
      "(PN_pats['VisitNum']>=3).sum()"
     ],
     "language": "python",
     "metadata": {},
     "outputs": [
      {
       "metadata": {},
       "output_type": "pyout",
       "prompt_number": 27,
       "text": [
        "105"
       ]
      }
     ],
     "prompt_number": 27
    },
    {
     "cell_type": "code",
     "collapsed": false,
     "input": [
      "len(PN_pats)"
     ],
     "language": "python",
     "metadata": {},
     "outputs": [
      {
       "metadata": {},
       "output_type": "pyout",
       "prompt_number": 25,
       "text": [
        "275"
       ]
      }
     ],
     "prompt_number": 25
    },
    {
     "cell_type": "code",
     "collapsed": false,
     "input": [],
     "language": "python",
     "metadata": {},
     "outputs": []
    }
   ],
   "metadata": {}
  }
 ]
}