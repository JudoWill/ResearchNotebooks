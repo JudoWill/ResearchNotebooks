{
 "metadata": {
  "name": "Untitled1"
 },
 "nbformat": 3,
 "nbformat_minor": 0,
 "worksheets": [
  {
   "cells": [
    {
     "cell_type": "code",
     "collapsed": false,
     "input": [
      "import sys\n",
      "sys.path.append('/home/will/PySeqUtils/')\n",
      "from GeneralSeqTools import fasta_reader, fasta_writer\n",
      "import os\n",
      "os.chdir('/home/will/PySeqUtils/TransToolStuff/')"
     ],
     "language": "python",
     "metadata": {},
     "outputs": [],
     "prompt_number": 3
    },
    {
     "cell_type": "code",
     "collapsed": false,
     "input": [
      "from itertools import islice\n",
      "start = 806\n",
      "stop = -1\n",
      "path = 'HIV1_ALL_2012_env_PRO.fasta'\n",
      "outpath = 'HIV1_ALL_2012_gp41_PRO.fasta'\n",
      "with open(path) as handle:\n",
      "    for name, seq in islice(fasta_reader(handle), 20):\n",
      "        tseq = seq[start:stop] \n",
      "        print tseq[:5], tseq[-5:]"
     ],
     "language": "python",
     "metadata": {},
     "outputs": [
      {
       "output_type": "stream",
       "stream": "stdout",
       "text": [
        "A-VG- I--LL\n",
        "A-VG- A--LL\n",
        "A-VG- A--LL\n",
        "A-VG- A--LL\n",
        "A-VG- A--LV\n",
        "A-VG- A--LL\n",
        "A-VG- A--WL\n",
        "A-VVG A--LI\n",
        "A-VVG A--LL\n",
        "A-VG- A--LL\n",
        "A-VG- A--LL\n",
        "A-VG- A--LL\n",
        "A-VG- A--LL\n",
        "A-VG- A--LL\n",
        "A-VG- A--LL\n",
        "A-G-- L--LL\n",
        "A-VG- A--LL\n",
        "A-VG- A--LL\n",
        "A-VG- A--LL\n",
        "A-VG- A--WL\n"
       ]
      }
     ],
     "prompt_number": 13
    },
    {
     "cell_type": "code",
     "collapsed": false,
     "input": [
      "seqs = []\n",
      "with open(path) as handle:\n",
      "    for name, seq in fasta_reader(handle):\n",
      "        seqs.append((name, seq[start:stop]))\n",
      "with open(outpath, 'w') as handle:\n",
      "    fasta_writer(handle, seqs)"
     ],
     "language": "python",
     "metadata": {},
     "outputs": [],
     "prompt_number": 14
    },
    {
     "cell_type": "code",
     "collapsed": false,
     "input": [
      "from Bio import Entrez\n",
      "from Bio import SeqIO\n",
      "ids = '544451412,544451410,544451408,544451406,544451404,544451402,544451400,544451398,544451396'\n",
      "\n",
      "fetch_handle = Entrez.efetch(db=\"nucleotide\", rettype=\"gb\", retmode=\"text\",\n",
      "                             id=ids)\n",
      "records = list(SeqIO.parse(fetch_handle, \"gb\"))"
     ],
     "language": "python",
     "metadata": {},
     "outputs": [
      {
       "output_type": "stream",
       "stream": "stderr",
       "text": [
        "/usr/local/lib/python2.7/dist-packages/Bio/Entrez/__init__.py:442: UserWarning: \n",
        "Email address is not specified.\n",
        "\n",
        "To make use of NCBI's E-utilities, NCBI strongly recommends you to specify\n",
        "your email address with each request. From June 1, 2010, this will be\n",
        "mandatory. As an example, if your email address is A.N.Other@example.com, you\n",
        "can specify it as follows:\n",
        "   from Bio import Entrez\n",
        "   Entrez.email = 'A.N.Other@example.com'\n",
        "In case of excessive usage of the E-utilities, NCBI will attempt to contact\n",
        "a user at the email address provided before blocking access to the\n",
        "E-utilities.\n",
        "  E-utilities.\"\"\", UserWarning)\n"
       ]
      }
     ],
     "prompt_number": 16
    },
    {
     "cell_type": "code",
     "collapsed": false,
     "input": [
      "rec = records[0]"
     ],
     "language": "python",
     "metadata": {},
     "outputs": [],
     "prompt_number": 18
    },
    {
     "cell_type": "code",
     "collapsed": false,
     "input": [
      "rec.annotations['gi']"
     ],
     "language": "python",
     "metadata": {},
     "outputs": [
      {
       "metadata": {},
       "output_type": "pyout",
       "prompt_number": 24,
       "text": [
        "'544451412'"
       ]
      }
     ],
     "prompt_number": 24
    },
    {
     "cell_type": "code",
     "collapsed": false,
     "input": [
      "batch_size = 1000\n",
      "num_res = 1300\n",
      "inds = range(0, num_res, batch_size)+[num_res]\n",
      "start_inds = inds\n",
      "stop_inds = inds[1:]\n",
      "zip(start_inds, stop_inds)"
     ],
     "language": "python",
     "metadata": {},
     "outputs": [
      {
       "metadata": {},
       "output_type": "pyout",
       "prompt_number": 28,
       "text": [
        "[(0, 1000), (1000, 1300)]"
       ]
      }
     ],
     "prompt_number": 28
    },
    {
     "cell_type": "code",
     "collapsed": false,
     "input": [
      "from collections import defaultdict\n",
      "\n",
      "counts = defaultdict(int)\n",
      "seqs = []\n",
      "with open('/home/will/WLAHDB_data/RegionDBs/LTR/HIV1_ALL_2012_ltr_DNA.fasta') as handle:\n",
      "    for name, seq in fasta_reader(handle):\n",
      "        seqs.append((name, seq.replace('-', '')))\n",
      "\n",
      "with open('/home/will/WLAHDB_data/RegionDBs/LTR/LTR.fasta', 'w') as handle:\n",
      "    fasta_writer(handle, seqs)\n"
     ],
     "language": "python",
     "metadata": {},
     "outputs": [],
     "prompt_number": 62
    },
    {
     "cell_type": "code",
     "collapsed": false,
     "input": [
      "max(len(s) for _, s in seqs)"
     ],
     "language": "python",
     "metadata": {},
     "outputs": [
      {
       "metadata": {},
       "output_type": "pyout",
       "prompt_number": 65,
       "text": [
        "675"
       ]
      }
     ],
     "prompt_number": 65
    },
    {
     "cell_type": "code",
     "collapsed": false,
     "input": [
      "from Bio import SeqIO\n",
      "from Bio.Alphabet import generic_dna\n",
      "with open('/home/will/WLAHDB_data/SubtypeDB/HIV1_genome_DNA.fasta') as handle:\n",
      "    seqs = list(SeqIO.parse(handle, 'fasta', generic_dna))\n",
      "    "
     ],
     "language": "python",
     "metadata": {},
     "outputs": [],
     "prompt_number": 76
    },
    {
     "cell_type": "code",
     "collapsed": false,
     "input": [
      "import glob\n",
      "\n",
      "files = glob.glob('/home/will/WLAHDB_data/GenbankDL/*.gb')\n",
      "\n",
      "counts = []\n",
      "for fnum, f in enumerate(files):\n",
      "    if fnum % 10000 == 0:\n",
      "        print fnum, sum(counts)\n",
      "    with open(f) as handle:\n",
      "        for num, seq in enumerate(SeqIO.parse(handle, 'gb'), 1):\n",
      "            pass\n",
      "        counts.append(num)\n",
      "\n"
     ],
     "language": "python",
     "metadata": {},
     "outputs": [
      {
       "output_type": "stream",
       "stream": "stdout",
       "text": [
        "0 0.0\n",
        "10000"
       ]
      },
      {
       "output_type": "stream",
       "stream": "stdout",
       "text": [
        " 10000\n",
        "20000"
       ]
      },
      {
       "output_type": "stream",
       "stream": "stdout",
       "text": [
        " 20000\n",
        "30000"
       ]
      },
      {
       "output_type": "stream",
       "stream": "stdout",
       "text": [
        " 30000\n",
        "40000"
       ]
      },
      {
       "output_type": "stream",
       "stream": "stdout",
       "text": [
        " 40000\n",
        "50000"
       ]
      },
      {
       "output_type": "stream",
       "stream": "stdout",
       "text": [
        " 50000\n",
        "60000"
       ]
      },
      {
       "output_type": "stream",
       "stream": "stdout",
       "text": [
        " 60000\n",
        "70000"
       ]
      },
      {
       "output_type": "stream",
       "stream": "stdout",
       "text": [
        " 70000\n",
        "80000"
       ]
      },
      {
       "output_type": "stream",
       "stream": "stdout",
       "text": [
        " 80000\n",
        "90000"
       ]
      },
      {
       "output_type": "stream",
       "stream": "stdout",
       "text": [
        " 90000\n",
        "100000"
       ]
      },
      {
       "output_type": "stream",
       "stream": "stdout",
       "text": [
        " 100000\n",
        "110000"
       ]
      },
      {
       "output_type": "stream",
       "stream": "stdout",
       "text": [
        " 110000\n",
        "120000"
       ]
      },
      {
       "output_type": "stream",
       "stream": "stdout",
       "text": [
        " 120000\n",
        "130000"
       ]
      },
      {
       "output_type": "stream",
       "stream": "stdout",
       "text": [
        " 130000\n",
        "140000"
       ]
      },
      {
       "output_type": "stream",
       "stream": "stdout",
       "text": [
        " 140000\n",
        "150000"
       ]
      },
      {
       "output_type": "stream",
       "stream": "stdout",
       "text": [
        " 150000\n",
        "160000"
       ]
      },
      {
       "output_type": "stream",
       "stream": "stdout",
       "text": [
        " 160000\n",
        "170000"
       ]
      },
      {
       "output_type": "stream",
       "stream": "stdout",
       "text": [
        " 170000\n",
        "180000"
       ]
      },
      {
       "output_type": "stream",
       "stream": "stdout",
       "text": [
        " 180000\n",
        "190000"
       ]
      },
      {
       "output_type": "stream",
       "stream": "stdout",
       "text": [
        " 190000\n",
        "200000"
       ]
      },
      {
       "output_type": "stream",
       "stream": "stdout",
       "text": [
        " 200000\n",
        "210000"
       ]
      },
      {
       "output_type": "stream",
       "stream": "stdout",
       "text": [
        " 210000\n",
        "220000"
       ]
      },
      {
       "output_type": "stream",
       "stream": "stdout",
       "text": [
        " 220000\n",
        "230000"
       ]
      },
      {
       "output_type": "stream",
       "stream": "stdout",
       "text": [
        " 230000\n",
        "240000"
       ]
      },
      {
       "output_type": "stream",
       "stream": "stdout",
       "text": [
        " 240000\n",
        "250000"
       ]
      },
      {
       "output_type": "stream",
       "stream": "stdout",
       "text": [
        " 250000\n",
        "260000"
       ]
      },
      {
       "output_type": "stream",
       "stream": "stdout",
       "text": [
        " 260000\n",
        "270000"
       ]
      },
      {
       "output_type": "stream",
       "stream": "stdout",
       "text": [
        " 270000\n",
        "280000"
       ]
      },
      {
       "output_type": "stream",
       "stream": "stdout",
       "text": [
        " 280000\n",
        "290000"
       ]
      },
      {
       "output_type": "stream",
       "stream": "stdout",
       "text": [
        " 290000\n",
        "300000"
       ]
      },
      {
       "output_type": "stream",
       "stream": "stdout",
       "text": [
        " 300000\n",
        "310000"
       ]
      },
      {
       "output_type": "stream",
       "stream": "stdout",
       "text": [
        " 310000\n",
        "320000"
       ]
      },
      {
       "output_type": "stream",
       "stream": "stdout",
       "text": [
        " 320000\n",
        "330000"
       ]
      },
      {
       "output_type": "stream",
       "stream": "stdout",
       "text": [
        " 330000\n",
        "340000"
       ]
      },
      {
       "output_type": "stream",
       "stream": "stdout",
       "text": [
        " 340000\n",
        "350000"
       ]
      },
      {
       "output_type": "stream",
       "stream": "stdout",
       "text": [
        " 350000\n",
        "360000"
       ]
      },
      {
       "output_type": "stream",
       "stream": "stdout",
       "text": [
        " 360000\n",
        "370000"
       ]
      },
      {
       "output_type": "stream",
       "stream": "stdout",
       "text": [
        " 370000\n",
        "380000"
       ]
      },
      {
       "output_type": "stream",
       "stream": "stdout",
       "text": [
        " 380000\n",
        "390000"
       ]
      },
      {
       "output_type": "stream",
       "stream": "stdout",
       "text": [
        " 390000\n",
        "400000"
       ]
      },
      {
       "output_type": "stream",
       "stream": "stdout",
       "text": [
        " 400000\n",
        "410000"
       ]
      },
      {
       "output_type": "stream",
       "stream": "stdout",
       "text": [
        " 410000\n",
        "420000"
       ]
      },
      {
       "output_type": "stream",
       "stream": "stdout",
       "text": [
        " 420000\n",
        "430000"
       ]
      },
      {
       "output_type": "stream",
       "stream": "stdout",
       "text": [
        " 430000\n",
        "440000"
       ]
      },
      {
       "output_type": "stream",
       "stream": "stdout",
       "text": [
        " 440000\n",
        "450000"
       ]
      },
      {
       "output_type": "stream",
       "stream": "stdout",
       "text": [
        " 450000\n",
        "460000"
       ]
      },
      {
       "output_type": "stream",
       "stream": "stdout",
       "text": [
        " 460000\n",
        "470000"
       ]
      },
      {
       "output_type": "stream",
       "stream": "stdout",
       "text": [
        " 470000\n",
        "480000"
       ]
      },
      {
       "output_type": "stream",
       "stream": "stdout",
       "text": [
        " 480000\n",
        "490000"
       ]
      },
      {
       "output_type": "stream",
       "stream": "stdout",
       "text": [
        " 490000\n",
        "500000"
       ]
      },
      {
       "output_type": "stream",
       "stream": "stdout",
       "text": [
        " 500000\n",
        "510000"
       ]
      },
      {
       "output_type": "stream",
       "stream": "stdout",
       "text": [
        " 510000\n"
       ]
      }
     ],
     "prompt_number": 80
    },
    {
     "cell_type": "code",
     "collapsed": false,
     "input": [
      "from Bio.Blast import NCBIXML\n",
      "from Bio.Blast.Applications import NcbiblastxCommandline, NcbiblastnCommandline\n",
      "from tempfile import NamedTemporaryFile\n",
      "from StringIO import StringIO\n",
      "\n",
      "window_size = 500\n",
      "inds = range(0, len(seq), window_size) + [len(seq)]\n",
      "seq = seqs[0]\n",
      "blocks = []\n",
      "for start, stop in zip(inds, inds[1:]):\n",
      "    blocks.append(seq[start:stop])\n",
      "\n",
      "with NamedTemporaryFile(suffix='.fasta', delete=False) as handle:\n",
      "    with NamedTemporaryFile() as ohandle:\n",
      "    \n",
      "        SeqIO.write(blocks, handle, 'fasta')\n",
      "        handle.flush()\n",
      "        os.fsync(handle.fileno())\n",
      "    \n",
      "        cline = NcbiblastnCommandline(db='/home/will/WLAHDB_data/SubtypeDB/HIV1_genome_DNA.fasta',\n",
      "                                      query=handle.name,\n",
      "                                      out=ohandle.name,\n",
      "                                      outfmt=5)\n",
      "        _, _ = cline()\n",
      "        records = list(NCBIXML.parse(ohandle))\n",
      "\n"
     ],
     "language": "python",
     "metadata": {},
     "outputs": [],
     "prompt_number": 54
    },
    {
     "cell_type": "code",
     "collapsed": false,
     "input": [
      "rec = records[0]\n",
      "align = rec.alignments[0]"
     ],
     "language": "python",
     "metadata": {},
     "outputs": [],
     "prompt_number": 57
    },
    {
     "cell_type": "code",
     "collapsed": false,
     "input": [
      "rec.query"
     ],
     "language": "python",
     "metadata": {},
     "outputs": [
      {
       "metadata": {},
       "output_type": "pyout",
       "prompt_number": 56,
       "text": [
        "u'A1-1'"
       ]
      }
     ],
     "prompt_number": 56
    },
    {
     "cell_type": "code",
     "collapsed": false,
     "input": [
      "align.hit_def"
     ],
     "language": "python",
     "metadata": {},
     "outputs": [
      {
       "metadata": {},
       "output_type": "pyout",
       "prompt_number": 61,
       "text": [
        "u'A1-1'"
       ]
      }
     ],
     "prompt_number": 61
    },
    {
     "cell_type": "code",
     "collapsed": false,
     "input": [],
     "language": "python",
     "metadata": {},
     "outputs": []
    }
   ],
   "metadata": {}
  }
 ]
}