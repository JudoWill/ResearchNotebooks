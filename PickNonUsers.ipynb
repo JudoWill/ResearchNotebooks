{
 "metadata": {
  "name": "PickNonUsers"
 },
 "nbformat": 3,
 "nbformat_minor": 0,
 "worksheets": [
  {
   "cells": [
    {
     "cell_type": "code",
     "collapsed": false,
     "input": [
      "import pandas as pd\n",
      "import sys\n",
      "import os, os.path\n",
      "\n",
      "sys.path.append('/home/will/PatientPicker/')"
     ],
     "language": "python",
     "metadata": {},
     "outputs": [],
     "prompt_number": 1
    },
    {
     "cell_type": "code",
     "collapsed": false,
     "input": [
      "import LoadingTools"
     ],
     "language": "python",
     "metadata": {},
     "outputs": [],
     "prompt_number": 2
    },
    {
     "cell_type": "code",
     "collapsed": false,
     "input": [
      "redcap_data = LoadingTools.load_redcap_data().set_index(['Patient ID', 'VisitNum'])\n",
      "cyto_data = pd.read_csv('/home/will/HIVSystemsBio/NewCytokineAnalysis/CytoRawData.csv', sep='\\t')\n",
      "cyto_data['HasCyto'] = True\n",
      "has_cyto = cyto_data.groupby(['Patient ID', 'VisitNum'])[['HasCyto']].all()"
     ],
     "language": "python",
     "metadata": {},
     "outputs": [],
     "prompt_number": 3
    },
    {
     "cell_type": "code",
     "collapsed": false,
     "input": [
      "cols = ['Psychomotor Speed Score',\n",
      " 'Memory Recall Score',\n",
      " 'Constructional Score',\n",
      " 'TMHDS']\n",
      "redcap_data['Psychomotor Speed Score'].unique()"
     ],
     "language": "python",
     "metadata": {},
     "outputs": [
      {
       "metadata": {},
       "output_type": "pyout",
       "prompt_number": 17,
       "text": [
        "array([ nan,  0. ,  1. ,  6. ,  3. ,  5. ,  4. ,  2. ,  5.5,  3.5])"
       ]
      }
     ],
     "prompt_number": 17
    },
    {
     "cell_type": "code",
     "collapsed": false,
     "input": [
      "import glob\n",
      "files = glob.glob('/home/will/HIVReportGen/Data/PatientFasta/*.fasta')\n",
      "seqs = []\n",
      "for f in files:\n",
      "    fname = f.split('/')[-1]\n",
      "    try:\n",
      "        pid, vn, prot = fname.split('.')[0].split('-', 2)\n",
      "    except ValueError:\n",
      "        print fname\n",
      "    seqs.append((pid, vn, prot, 1))\n",
      "    \n",
      "df = pd.DataFrame(seqs, columns = ['Patient ID', 'VisitNum', 'Prot', 'HasSeq'])\n",
      "has_seq = pd.pivot_table(df, rows = ['Patient ID', 'VisitNum'], cols = 'Prot', values='HasSeq')"
     ],
     "language": "python",
     "metadata": {},
     "outputs": [],
     "prompt_number": 4
    },
    {
     "cell_type": "code",
     "collapsed": false,
     "input": [
      "import sys\n",
      "sys.path.append('/home/will/PySeqUtils/')\n",
      "import GeneralSeqTools\n",
      "\n",
      "with open('/home/will/DrugStuff/pat_data.fasta') as handle:\n",
      "    seqs = list(GeneralSeqTools.fasta_reader(handle))\n",
      "    out = GeneralSeqTools.WebPSSM_V3_fasta(seqs)\n",
      "    \n"
     ],
     "language": "python",
     "metadata": {},
     "outputs": [],
     "prompt_number": 5
    },
    {
     "cell_type": "code",
     "collapsed": false,
     "input": [
      "tmp = []\n",
      "for row in out:\n",
      "    parts = row[0].split('-')\n",
      "    if len(parts) == 2:\n",
      "        pat, vnum = parts\n",
      "    else:\n",
      "        pat, vnum, _ = parts\n",
      "    tmp.append({'Patient ID':pat,\n",
      "                'VisitNum':vnum,\n",
      "                'IsR5':row[2]=='0',\n",
      "                'IsX4':row[2]=='1',\n",
      "                })\n",
      "tropism = pd.DataFrame(tmp).groupby(['Patient ID', 'VisitNum']).first()"
     ],
     "language": "python",
     "metadata": {},
     "outputs": [],
     "prompt_number": 6
    },
    {
     "cell_type": "code",
     "collapsed": false,
     "input": [
      "redcap_data = pd.merge(redcap_data, has_cyto,\n",
      "                       left_index=True, right_index=True,\n",
      "                       how='outer')\n",
      "redcap_data = pd.merge(redcap_data, has_seq,\n",
      "                       left_index=True, right_index=True,\n",
      "                       how='outer')\n",
      "redcap_data = pd.merge(redcap_data, tropism,\n",
      "                       left_index=True, right_index=True,\n",
      "                       how='outer')\n",
      "redcap_data = redcap_data.drop(['VisitNum', 'Patient ID'], axis=1)"
     ],
     "language": "python",
     "metadata": {},
     "outputs": [],
     "prompt_number": 7
    },
    {
     "cell_type": "code",
     "collapsed": false,
     "input": [
      "import numpy\n",
      "def safe_sum(col):\n",
      "    ncol = col.dropna()\n",
      "    if len(ncol) == 0:\n",
      "        return np.nan\n",
      "    return ncol.sum()\n",
      "\n",
      "def safe_col_apply_mean(col, func, indf):\n",
      "    return indf[col].dropna().map(func).mean()"
     ],
     "language": "python",
     "metadata": {},
     "outputs": [],
     "prompt_number": 8
    },
    {
     "cell_type": "code",
     "collapsed": false,
     "input": [
      "from functools import partial\n",
      "seq_cols = list(has_seq.columns)\n",
      "test_drug_cols = [col for col in redcap_data.columns if col.startswith('Test-')]\n",
      "admit_drug_cols = [col for col in redcap_data.columns if col.startswith('Admit-')]\n",
      "race_cols = [col for col in redcap_data.columns if col.startswith('Race-')]\n",
      "gender_cols = ['Male', 'Female']\n",
      "mean_cols = test_drug_cols+admit_drug_cols+race_cols+seq_cols+['HasCyto', 'IsR5', 'IsX4', 'Hepatitis C status (HCV)']\n",
      "agg_dict = dict([(col, safe_sum) for col in mean_cols])\n",
      "agg_dict['VisitNum'] = 'count'\n",
      "\n",
      "cut_list = [('%LowVL', 'Latest viral load', 50),\n",
      "              ('%LowCD4', 'Latest CD4 count (cells/uL)', 200)]\n",
      "\n"
     ],
     "language": "python",
     "metadata": {},
     "outputs": [],
     "prompt_number": 12
    },
    {
     "cell_type": "code",
     "collapsed": false,
     "input": [
      "redcap_data['Male'] = redcap_data['Gender'] == 'Male'\n",
      "redcap_data['Female'] = redcap_data['Gender'] == 'Female'\n",
      "redcap_data[mean_cols] = redcap_data[mean_cols].applymap(float)\n",
      "pat_sum = redcap_data.reset_index().groupby('Patient ID').agg(agg_dict)\n",
      "for ncol, tcol, cut in cut_list:\n",
      "    pat_sum[ncol] = (redcap_data[tcol]<cut).groupby(level='Patient ID').agg(mean)\n",
      "pat_sum"
     ],
     "language": "python",
     "metadata": {},
     "outputs": [
      {
       "html": [
        "<pre>\n",
        "&ltclass 'pandas.core.frame.DataFrame'&gt\n",
        "Index: 508 entries, A0001 to A0514\n",
        "Data columns (total 37 columns):\n",
        "Admit-Cocaine               507  non-null values\n",
        "Admit-Cannabinoid           507  non-null values\n",
        "IsR5                        60  non-null values\n",
        "IsX4                        60  non-null values\n",
        "Admit-Heroin                507  non-null values\n",
        "Race-Indian                 507  non-null values\n",
        "Admit-Narcotics             507  non-null values\n",
        "Race-Black                  507  non-null values\n",
        "Vpr                         57  non-null values\n",
        "HasCyto                     113  non-null values\n",
        "Test-Opiates                470  non-null values\n",
        "V3                          60  non-null values\n",
        "Hepatitis C status (HCV)    479  non-null values\n",
        "Test-Cannabinoid            470  non-null values\n",
        "Admit-None                  507  non-null values\n",
        "Admit-Ritalin               507  non-null values\n",
        "Admit-Benzodiazapine        507  non-null values\n",
        "LTR                         454  non-null values\n",
        "Test-Amphetamines           470  non-null values\n",
        "Admit-Ecstasy               507  non-null values\n",
        "Test-Phencyclidine          470  non-null values\n",
        "Race-Multiple               507  non-null values\n",
        "Race-Unknown                507  non-null values\n",
        "Race-Hawaiian               507  non-null values\n",
        "Admit-Amphetamines          507  non-null values\n",
        "Race-White                  507  non-null values\n",
        "Test-Barbiturates           470  non-null values\n",
        "Race-Asian                  507  non-null values\n",
        "VisitNum                    508  non-null values\n",
        "Admit-Other                 507  non-null values\n",
        "Admit-PCP                   507  non-null values\n",
        "Test-Cocaine                470  non-null values\n",
        "Test-Benzodiazepine         470  non-null values\n",
        "Tat-1                       57  non-null values\n",
        "Tat-2                       58  non-null values\n",
        "%LowVL                      508  non-null values\n",
        "%LowCD4                     508  non-null values\n",
        "dtypes: float64(36), int64(1)\n",
        "</pre>"
       ],
       "metadata": {},
       "output_type": "pyout",
       "prompt_number": 13,
       "text": [
        "<class 'pandas.core.frame.DataFrame'>\n",
        "Index: 508 entries, A0001 to A0514\n",
        "Data columns (total 37 columns):\n",
        "Admit-Cocaine               507  non-null values\n",
        "Admit-Cannabinoid           507  non-null values\n",
        "IsR5                        60  non-null values\n",
        "IsX4                        60  non-null values\n",
        "Admit-Heroin                507  non-null values\n",
        "Race-Indian                 507  non-null values\n",
        "Admit-Narcotics             507  non-null values\n",
        "Race-Black                  507  non-null values\n",
        "Vpr                         57  non-null values\n",
        "HasCyto                     113  non-null values\n",
        "Test-Opiates                470  non-null values\n",
        "V3                          60  non-null values\n",
        "Hepatitis C status (HCV)    479  non-null values\n",
        "Test-Cannabinoid            470  non-null values\n",
        "Admit-None                  507  non-null values\n",
        "Admit-Ritalin               507  non-null values\n",
        "Admit-Benzodiazapine        507  non-null values\n",
        "LTR                         454  non-null values\n",
        "Test-Amphetamines           470  non-null values\n",
        "Admit-Ecstasy               507  non-null values\n",
        "Test-Phencyclidine          470  non-null values\n",
        "Race-Multiple               507  non-null values\n",
        "Race-Unknown                507  non-null values\n",
        "Race-Hawaiian               507  non-null values\n",
        "Admit-Amphetamines          507  non-null values\n",
        "Race-White                  507  non-null values\n",
        "Test-Barbiturates           470  non-null values\n",
        "Race-Asian                  507  non-null values\n",
        "VisitNum                    508  non-null values\n",
        "Admit-Other                 507  non-null values\n",
        "Admit-PCP                   507  non-null values\n",
        "Test-Cocaine                470  non-null values\n",
        "Test-Benzodiazepine         470  non-null values\n",
        "Tat-1                       57  non-null values\n",
        "Tat-2                       58  non-null values\n",
        "%LowVL                      508  non-null values\n",
        "%LowCD4                     508  non-null values\n",
        "dtypes: float64(36), int64(1)"
       ]
      }
     ],
     "prompt_number": 13
    },
    {
     "cell_type": "code",
     "collapsed": false,
     "input": [
      "pat_sum[sorted(pat_sum.columns)].to_excel('/home/will/DrugStuff/large_pat_group.xlsx')"
     ],
     "language": "python",
     "metadata": {},
     "outputs": [],
     "prompt_number": 14
    },
    {
     "cell_type": "code",
     "collapsed": false,
     "input": [
      "non_users = pat_sum[(pat_sum[test_drug_cols]==0).all(axis=1)]\n",
      "\n",
      "PN_pats = non_users.drop(test_drug_cols, axis=1)"
     ],
     "language": "python",
     "metadata": {},
     "outputs": [],
     "prompt_number": 13
    },
    {
     "cell_type": "code",
     "collapsed": false,
     "input": [
      "#PN_pats.to_excel('/home/will/HIVTropism/PN_pats.xlsx')"
     ],
     "language": "python",
     "metadata": {},
     "outputs": [],
     "prompt_number": 15
    },
    {
     "cell_type": "code",
     "collapsed": false,
     "input": [
      "import pickle\n",
      "\n",
      "with open('/home/will/HIVTropism/trop_dict.pkl') as handle:\n",
      "    trop_data = pickle.load(handle)\n",
      "tmp = list(trop_data.items())"
     ],
     "language": "python",
     "metadata": {},
     "outputs": [],
     "prompt_number": 20
    },
    {
     "cell_type": "code",
     "collapsed": false,
     "input": [
      "\n",
      "for key, val in tmp:\n",
      "    if key.startswith('A0'):\n",
      "        print key, val"
     ],
     "language": "python",
     "metadata": {},
     "outputs": [
      {
       "ename": "AttributeError",
       "evalue": "'numpy.int64' object has no attribute 'startswith'",
       "output_type": "pyerr",
       "traceback": [
        "\u001b[1;31m---------------------------------------------------------------------------\u001b[0m\n\u001b[1;31mAttributeError\u001b[0m                            Traceback (most recent call last)",
        "\u001b[1;32m<ipython-input-17-3885af77b414>\u001b[0m in \u001b[0;36m<module>\u001b[1;34m()\u001b[0m\n\u001b[0;32m      1\u001b[0m \u001b[1;32mfor\u001b[0m \u001b[0mkey\u001b[0m\u001b[1;33m,\u001b[0m \u001b[0mval\u001b[0m \u001b[1;32min\u001b[0m \u001b[0mtrop_data\u001b[0m\u001b[1;33m.\u001b[0m\u001b[0mitems\u001b[0m\u001b[1;33m(\u001b[0m\u001b[1;33m)\u001b[0m\u001b[1;33m:\u001b[0m\u001b[1;33m\u001b[0m\u001b[0m\n\u001b[1;32m----> 2\u001b[1;33m     \u001b[1;32mif\u001b[0m \u001b[0mkey\u001b[0m\u001b[1;33m.\u001b[0m\u001b[0mstartswith\u001b[0m\u001b[1;33m(\u001b[0m\u001b[1;34m'A0'\u001b[0m\u001b[1;33m)\u001b[0m\u001b[1;33m:\u001b[0m\u001b[1;33m\u001b[0m\u001b[0m\n\u001b[0m\u001b[0;32m      3\u001b[0m         \u001b[1;32mprint\u001b[0m \u001b[0mkey\u001b[0m\u001b[1;33m,\u001b[0m \u001b[0mval\u001b[0m\u001b[1;33m\u001b[0m\u001b[0m\n",
        "\u001b[1;31mAttributeError\u001b[0m: 'numpy.int64' object has no attribute 'startswith'"
       ]
      }
     ],
     "prompt_number": 17
    },
    {
     "cell_type": "code",
     "collapsed": false,
     "input": [
      "(PN_pats['VisitNum']>=3).sum()"
     ],
     "language": "python",
     "metadata": {},
     "outputs": [
      {
       "metadata": {},
       "output_type": "pyout",
       "prompt_number": 27,
       "text": [
        "105"
       ]
      }
     ],
     "prompt_number": 27
    },
    {
     "cell_type": "code",
     "collapsed": false,
     "input": [
      "\n",
      "                                             "
     ],
     "language": "python",
     "metadata": {},
     "outputs": [],
     "prompt_number": 25
    },
    {
     "cell_type": "code",
     "collapsed": false,
     "input": [],
     "language": "python",
     "metadata": {},
     "outputs": [
      {
       "metadata": {},
       "output_type": "pyout",
       "prompt_number": 28,
       "text": [
        "[('A0017-R00', '1'),\n",
        " ('A0017-R02', '1'),\n",
        " ('A0017-R03', '1'),\n",
        " ('A0037-R01', '1'),\n",
        " ('A0041-R00', '1'),\n",
        " ('A0041-R00', '1'),\n",
        " ('A0041-R04', '1'),\n",
        " ('A0059-R01', '1'),\n",
        " ('A0067-R03', '1'),\n",
        " ('A0067-R04', '1'),\n",
        " ('A0089-R00', '1'),\n",
        " ('A0094-R03', '1'),\n",
        " ('A0094-R03', '1'),\n",
        " ('A0098-R00', '1'),\n",
        " ('A0107-R00', '1'),\n",
        " ('A0107-R02', '1'),\n",
        " ('A0107-R03', '1'),\n",
        " ('A0107-R04', '1'),\n",
        " ('A0107-R05', '1'),\n",
        " ('A0107-R07', '1'),\n",
        " ('A0110-R03', '1'),\n",
        " ('A0110-R04', '1'),\n",
        " ('A0110-R05', '1'),\n",
        " ('A0110-R06', '1'),\n",
        " ('A0132-R04', '1'),\n",
        " ('A0159-R00', '1'),\n",
        " ('A0200-R01', '1'),\n",
        " ('A0200-R02', '1'),\n",
        " ('A0200-R02', '1'),\n",
        " ('A0208-R00', '1'),\n",
        " ('A0208-R01', '1'),\n",
        " ('A0208-R02', '1'),\n",
        " ('A0213-R00', '1'),\n",
        " ('A0238-R00', '1'),\n",
        " ('A0242-R00', '1'),\n",
        " ('A0370-R00', '1'),\n",
        " ('A0403-R00', '1'),\n",
        " ('A0403-R01', '1')]"
       ]
      }
     ],
     "prompt_number": 28
    },
    {
     "cell_type": "code",
     "collapsed": false,
     "input": [],
     "language": "python",
     "metadata": {},
     "outputs": []
    }
   ],
   "metadata": {}
  }
 ]
}