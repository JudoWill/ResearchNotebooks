{
 "metadata": {
  "name": "V3PSSMStuff"
 },
 "nbformat": 3,
 "nbformat_minor": 0,
 "worksheets": [
  {
   "cells": [
    {
     "cell_type": "code",
     "collapsed": false,
     "input": [
      "import os, os.path\n",
      "from pandas import DataFrame, Series, MultiIndex\n",
      "from collections import defaultdict\n",
      "from glob import glob\n",
      "from itertools import groupby, product\n"
     ],
     "language": "python",
     "metadata": {},
     "outputs": [],
     "prompt_number": 1
    },
    {
     "cell_type": "code",
     "collapsed": false,
     "input": [
      "def fasta_reader(handle):\n",
      "    \n",
      "    for key, lines in groupby(handle, lambda x: x.startswith('>')):\n",
      "        if key:\n",
      "            name = next(lines)[1:].strip()\n",
      "        else:\n",
      "            seq = ''.join(line.strip() for line in lines)\n",
      "            yield name, seq\n",
      "    "
     ],
     "language": "python",
     "metadata": {},
     "outputs": [],
     "prompt_number": 2
    },
    {
     "cell_type": "code",
     "collapsed": false,
     "input": [
      "infiles = glob('/home/will/HIVReportGen/Data/TrainingSequences/*')\n",
      "seq_data = defaultdict(dict)\n",
      "\n",
      "for f in infiles:\n",
      "    fname = f.split(os.sep)[-1].split('.')[0]\n",
      "    prot, name = fname.split('-',1)\n",
      "    if 'multi' in name:\n",
      "        with open(f) as handle:\n",
      "            for name, seq in fasta_reader(handle):\n",
      "                seq_data[prot][name] = ''.join(s for s in seq if s.isalpha())\n",
      "    else:\n",
      "        with open(f) as handle:\n",
      "            _, seq = next(fasta_reader(handle))\n",
      "            seq_data[prot][name] = seq\n",
      "            \n",
      "    "
     ],
     "language": "python",
     "metadata": {},
     "outputs": [],
     "prompt_number": 8
    },
    {
     "cell_type": "code",
     "collapsed": false,
     "input": [
      "rmkeys = set()\n",
      "for key, seq in seq_data['V3'].items():\n",
      "    if len(seq) != 35:\n",
      "        rmkeys.add(key)\n",
      "print(len(rmkeys))"
     ],
     "language": "python",
     "metadata": {},
     "outputs": [
      {
       "output_type": "stream",
       "stream": "stdout",
       "text": [
        "3667\n"
       ]
      }
     ],
     "prompt_number": 17
    },
    {
     "cell_type": "code",
     "collapsed": false,
     "input": [
      "for key in rmkeys:\n",
      "    seq_data['V3'].pop(key);"
     ],
     "language": "python",
     "metadata": {},
     "outputs": [],
     "prompt_number": 18
    },
    {
     "cell_type": "code",
     "collapsed": false,
     "input": [
      "for key in seq_data.keys():\n",
      "    with open('/home/will/HIVReportGen/Data/TrainingSequences/' + key + '.fasta', 'w') as handle:\n",
      "        for sname, seq in seq_data[key].items():\n",
      "            handle.write('>%s\\n%s\\n' % (sname, seq))"
     ],
     "language": "python",
     "metadata": {},
     "outputs": [],
     "prompt_number": 20
    },
    {
     "cell_type": "code",
     "collapsed": false,
     "input": [
      "import re\n",
      "reg_obj = re.compile('(A\\d+)_(R\\d+)-(Primer\\d+)')\n",
      "nseq_file = '/home/will/HIVReportGen/Data/PatientFasta/pbmc_new_all[1].fasta'\n",
      "path_func = lambda x,y,z: '/home/will/HIVReportGen/Data/PatientFasta/%s-%s-%s.fasta' % (x,y,z)\n",
      "with open(nseq_file) as handle:\n",
      "    for name, seq in fasta_reader(handle):\n",
      "        pat, visit, primer = reg_obj.findall(name)[0]\n",
      "        nfname = path_func(pat, visit, primer)\n",
      "        with open(nfname, 'w') as handle:\n",
      "            handle.write('>%s-%s-%s\\n%s' % (pat, visit, primer, seq))\n",
      "        "
     ],
     "language": "python",
     "metadata": {},
     "outputs": [],
     "prompt_number": 27
    },
    {
     "cell_type": "code",
     "collapsed": false,
     "input": [
      "import pickle\n",
      "import StringIO\n",
      "\n",
      "with open('/home/will/HIVReportGen/Data/TrainingSequences/training_seqs.pkl', 'r') as handle:\n",
      "    training_seqs = pickle.load(handle)\n",
      "with open('/home/will/HIVReportGen/Data/TrainingSequences/training_pssm.pkl') as handle:\n",
      "    training_scores = pickle.load(handle)"
     ],
     "language": "python",
     "metadata": {},
     "outputs": [],
     "prompt_number": 5
    },
    {
     "cell_type": "code",
     "collapsed": false,
     "input": [
      "training_scores.to_csv('/home/will/Downloads/PSSMscores.csv')"
     ],
     "language": "python",
     "metadata": {},
     "outputs": [],
     "prompt_number": 7
    },
    {
     "cell_type": "code",
     "collapsed": false,
     "input": [
      "from pandas import *\n",
      "\n",
      "fields = ['name','score','pred','x4.pct','r5.pct','geno','pos.chg','net.chg','percentile']\n",
      "PSSMscores = read_csv('/home/will/Dropbox/HIVseqs/output_data.tsv', names = fields, sep = '\\t')"
     ],
     "language": "python",
     "metadata": {},
     "outputs": [],
     "prompt_number": 8
    },
    {
     "cell_type": "code",
     "collapsed": false,
     "input": [
      "r5_cut = -6.95\n",
      "x4_cut = -2.88\n",
      "\n",
      "def BenMeth(val):\n",
      "    \n",
      "    if val < r5_cut:\n",
      "        return 'R5'\n",
      "    elif val > x4_cut:\n",
      "        return 'X4'\n",
      "    else:\n",
      "        return 'None'"
     ],
     "language": "python",
     "metadata": {},
     "outputs": [],
     "prompt_number": 19
    },
    {
     "cell_type": "code",
     "collapsed": false,
     "input": [
      "PSSMscores['n-name'] = 'name'\n",
      "scores = PSSMscores.groupby('name', as_index = False).agg({'score':np.mean, 'n-name':'count'})"
     ],
     "language": "python",
     "metadata": {},
     "outputs": [],
     "prompt_number": 18
    },
    {
     "cell_type": "code",
     "collapsed": false,
     "input": [
      "scores['Tropism'] = scores['score'].map(BenMeth)"
     ],
     "language": "python",
     "metadata": {},
     "outputs": [],
     "prompt_number": 20
    },
    {
     "cell_type": "code",
     "collapsed": false,
     "input": [
      "bscores = scores[scores['n-name'] == 1].drop(['n-name'], axis = 1)\n",
      "bscores.to_csv('/home/will/Downloads/BiggerPSSMscores.csv')\n"
     ],
     "language": "python",
     "metadata": {},
     "outputs": [],
     "prompt_number": 24
    },
    {
     "cell_type": "code",
     "collapsed": false,
     "input": [
      "bscores['Tropism'].value_counts()"
     ],
     "language": "python",
     "metadata": {},
     "outputs": [
      {
       "output_type": "pyout",
       "prompt_number": 33,
       "text": [
        "R5      9936\n",
        "None    1271\n",
        "X4       659"
       ]
      }
     ],
     "prompt_number": 33
    },
    {
     "cell_type": "code",
     "collapsed": false,
     "input": [],
     "language": "python",
     "metadata": {},
     "outputs": []
    }
   ],
   "metadata": {}
  }
 ]
}