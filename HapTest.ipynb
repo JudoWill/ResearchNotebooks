{
 "metadata": {
  "name": "HapTest"
 },
 "nbformat": 3,
 "nbformat_minor": 0,
 "worksheets": [
  {
   "cells": [
    {
     "cell_type": "code",
     "collapsed": false,
     "input": [
      "from __future__ import division\n",
      "import matplotlib.pyplot as plt\n",
      "import networkx as nx\n",
      "import numpy as np\n",
      "\n",
      "from types import ListType\n",
      "from itertools import combinations, groupby, islice, imap\n",
      "from collections import Counter\n",
      "from subprocess import check_output\n",
      "from operator import itemgetter\n",
      "from StringIO import StringIO\n",
      "import csv\n",
      "import shlex\n",
      "import sys\n",
      "import glob\n",
      "sys.path.append('/home/will/PySeqUtils/')\n",
      "from GeneralSeqTools import fasta_reader, fasta_writer"
     ],
     "language": "python",
     "metadata": {},
     "outputs": [],
     "prompt_number": 2
    },
    {
     "cell_type": "code",
     "collapsed": false,
     "input": [
      "\n",
      "\n",
      "def unique_justseen(iterable, key=None):\n",
      "    \"List unique elements, preserving order. Remember only the element just seen.\"\n",
      "    # unique_justseen('AAAABBBCCDAABBB') --> A B C D A B\n",
      "    # unique_justseen('ABBCcAD', str.lower) --> A B C A D\n",
      "    return imap(next, imap(itemgetter(1), groupby(iterable, key)))\n",
      "\n",
      "\n",
      "\n",
      "def check_overlap(tup1, tup2, overlap = 20):\n",
      "    sa, Ia = tup1\n",
      "    sb, Ib = tup2\n",
      "    if ((Ia+len(sa)) - Ib) < overlap:\n",
      "        return False\n",
      "    else:\n",
      "        nS = max(Ia, Ib)\n",
      "        nE = min(Ia+len(sa), Ib+len(sb))\n",
      "        A = sa[(nS-Ia):(nE-Ia)]\n",
      "        B = sb[(nS-Ib):(nE-Ib)]\n",
      "        #print A, B\n",
      "        return A == B        \n",
      "\n",
      "def guess_seq_col(row):\n",
      "    wlets = 'ATCG-'\n",
      "    skip_lets = '*HIVREFX:|1234567890'\n",
      "    \n",
      "    for num, col in enumerate(row):\n",
      "        for l in skip_lets:\n",
      "            if l in col:\n",
      "                break\n",
      "        if l in col:\n",
      "            continue\n",
      "        if any(l in col for l in wlets):\n",
      "            print num, col\n",
      "            return num\n",
      "    print row\n",
      "    raise KeyboardInterrupt\n",
      "    \n",
      "    \n",
      "def get_reads(fname):\n",
      "    if type(fname) is ListType:\n",
      "        count = 0\n",
      "        for f in fname:\n",
      "            for (se, st, ind) in get_reads(f):\n",
      "                yield se, st, 'join-read-%i' % count\n",
      "                count += 1\n",
      "    else:\n",
      "        if fname.endswith('.bam'):\n",
      "            cmd = 'samtools view %s' % fname\n",
      "            out = check_output(shlex.split(cmd))\n",
      "        else:\n",
      "            with open(fname) as handle:\n",
      "                out = ''.join(line for line in handle if not line.startswith('@'))\n",
      "        reader = csv.reader(StringIO(out), delimiter = '\\t')\n",
      "        #seq_col = guess_seq_col(reader.next())\n",
      "        getter = itemgetter(9, 3)\n",
      "        reads = imap(getter, reader)\n",
      "        for k, (se, st) in enumerate(reads):\n",
      "            start = int(st)\n",
      "            if start < 634: #fix the LTR issue\n",
      "                start += 9086\n",
      "            yield se, start, 'read-%i' % k\n",
      "    \n",
      "    \n",
      "    \n",
      "def get_IR_reads(reads):\n",
      "    n_reads = sorted(reads, key = itemgetter(0,1))\n",
      "    ir_reads = list(unique_justseen(n_reads, key = itemgetter(0,1)))\n",
      "    print 'IR reads', len(ir_reads)\n",
      "    return ir_reads\n",
      "    \n",
      "\n",
      "def initialize_graph(ir_reads):\n",
      "    \n",
      "    graph = nx.DiGraph()\n",
      "    for seq, start, ind in ir_reads:\n",
      "        graph.add_node(ind, seq = seq, start = int(start), end = int(start)+len(seq))\n",
      "        \n",
      "    nover = 0\n",
      "    for (sa, Ia, indA), tup_rows in groupby(combinations(ir_reads,2), lambda tups: tups[0]):\n",
      "        end_pos = Ia+len(sa)\n",
      "        for _, (sb, Ib, indB) in tup_rows:\n",
      "            if end_pos < Ib:\n",
      "                break\n",
      "            if check_overlap((sa, Ia), (sb, Ib), overlap=5):\n",
      "                nover += 1\n",
      "                graph.add_edge(indA, indB)\n",
      "    return graph\n",
      "\n",
      "\n",
      "def add_terminals(graph, ir_reads, start_pos, end_pos):\n",
      "    \n",
      "    graph.remove_nodes_from(['source', 'target'])\n",
      "    \n",
      "    graph.add_node('source')\n",
      "    graph.add_node('target')\n",
      "    \n",
      "    starts = 0\n",
      "    targets = 0\n",
      "    for seq, start, ind in ir_reads:\n",
      "        end = start+len(seq)\n",
      "        if (start <= start_pos) & (end > start_pos):\n",
      "            graph.add_edge('source', ind)\n",
      "            starts += 1\n",
      "        if (start < end_pos) and (end >= end_pos):\n",
      "            graph.add_edge(ind, 'target')\n",
      "            targets += 1\n",
      "            \n",
      "    #print 'Start edges: %i Sink Edges: %i' % (starts, targets)\n",
      "    return graph\n",
      "\n",
      "\n",
      "def generate_coverage_map(ir_reads, ax = None, label = None):\n",
      "    \n",
      "    pos_count = Counter()\n",
      "    for seq, start, ind in ir_reads:\n",
      "        for s in range(start, start+len(seq)):\n",
      "            pos_count[s] += 1\n",
      "\n",
      "    x = range(0, max(pos_count.keys()))\n",
      "    y = [pos_count[p] for p in x]\n",
      "    \n",
      "    if ax is None:\n",
      "        ax = plt.subplot(111)\n",
      "    ax.plot(x, y, label = label)\n",
      "    ax.set_ylabel('Coverage')\n",
      "    \n",
      "    return ax\n",
      "    \n",
      "    "
     ],
     "language": "python",
     "metadata": {},
     "outputs": [],
     "prompt_number": 30
    },
    {
     "cell_type": "code",
     "collapsed": false,
     "input": [
      "def simple_paths(graph):\n",
      "    \n",
      "    #target_paths = nx.single_source_shortest_path(graph, 'target')\n",
      "    target_dict = {}\n",
      "    for node in graph.nodes_iter():\n",
      "        try:\n",
      "            target_dict[node] = nx.shortest_path(graph, node, 'target')\n",
      "        except nx.NetworkXNoPath:\n",
      "            pass\n",
      "    #print len(target_dict)\n",
      "    \n",
      "    source_dict = nx.single_source_shortest_path(graph, source = 'source')\n",
      "    #print len(source_dict)\n",
      "    \n",
      "    for key in (set(source_dict.keys()) & set(target_dict.keys())):\n",
      "        #print source_dict[key], target_dict[key]\n",
      "        yield source_dict[key] + target_dict[key][1:]\n",
      "\n",
      "\n",
      "    \n",
      "        \n",
      "def get_common(col):\n",
      "    try:\n",
      "        return Counter(col[col != '-']).most_common(1)[0][0]\n",
      "    except IndexError:\n",
      "        return '-'\n",
      "\n",
      "def adjust_pos(seq, start, hap_begin, hap_end):\n",
      "    \n",
      "    \n",
      "    norm_start = start\n",
      "    norm_stop = start + len(seq)\n",
      "    \n",
      "    ome_start = max(hap_begin, norm_start)\n",
      "    hap_start = ome_start - hap_begin\n",
      "    seq_start = max(0, hap_begin-norm_start)\n",
      "    \n",
      "    ome_stop = min(norm_stop, hap_end)\n",
      "    hap_stop = ome_stop - hap_begin\n",
      "    seq_stop = (hap_stop - hap_start) + seq_start\n",
      "    \n",
      "    return seq[seq_start:seq_stop], hap_start, hap_stop\n",
      "\n",
      "def assemble_haps(paths, graph, hap_begin, hap_end):\n",
      "    hap_len = hap_end-hap_begin\n",
      "    haps = set()\n",
      "    for num, path in enumerate(paths):\n",
      "        if num % 50 == 0:\n",
      "            print '%i paths, %i haps' % (num, len(haps))\n",
      "        seq = np.empty((len(path)-2, hap_len), dtype=str)\n",
      "        seq[:] = '-'\n",
      "        for row, node_name in enumerate(path, -1):\n",
      "            if (node_name != 'source') and (node_name != 'target'):\n",
      "                node = graph.node[node_name]\n",
      "                #print node['start'], node['start']+len(node['seq'])\n",
      "                nseq, hap_start, hap_stop = adjust_pos(node['seq'], node['start'], hap_begin, hap_end)\n",
      "                try:\n",
      "                    seq[row, hap_start:hap_stop] = np.array(list(nseq))\n",
      "                except ValueError:\n",
      "                    pass\n",
      "        tmp = ''.join([get_common(seq[:,col]) for col in range(seq.shape[1])])\n",
      "        #if '-' in tmp:\n",
      "        #    print 'bad one!'\n",
      "        #    continue\n",
      "        #    for row in range(len(path)-2):\n",
      "        #        print ''.join(seq[row,:])\n",
      "        #    for row, node_name in enumerate(path, -1):\n",
      "        #        if (node_name != 'source') and (node_name != 'target'):\n",
      "        #            node = graph.node[node_name]\n",
      "        #            #print node['start'], node['start']+len(node['seq'])\n",
      "        #            nseq, hap_start, hap_stop = adjust_pos(node['seq'], node['start'], hap_begin, hap_end)\n",
      "        #            print node['seq'], node['start'], nseq, hap_start, hap_stop\n",
      "        #    \n",
      "        #    raise KeyboardInterrupt\n",
      "        haps.add(tmp)\n",
      "    print len(haps), 'unique haplotypes found!'\n",
      "    return haps\n",
      "    "
     ],
     "language": "python",
     "metadata": {},
     "outputs": [],
     "prompt_number": 69
    },
    {
     "cell_type": "code",
     "collapsed": false,
     "input": [
      "\n",
      "bases = sorted(['DrexelMed.A0010',  'DrexelMed.A0017', 'DrexelMed.A0019', 'DrexelMed.A0107', 'DrexelMed.A0121',\n",
      "         'sim_reads', 'DrexelMed.A0017.R02', 'DrexelMed.A0041.R02', 'DrexelMed.A0107.R02', \n",
      "         'DrexelMed.A0220'])\n",
      "methods = ['lastz']#, 'bwa', 'ngm']\n",
      "\n",
      "fig, axs = plt.subplots(len(bases),2, figsize = (10,20))\n",
      "\n",
      "for num, bname in enumerate(bases):\n",
      "    \n",
      "    for method in methods:\n",
      "        fname = '/home/will/DeepPipeline/Data/MappingResults/' + bname + '.' + method + '.map'\n",
      "        all_reads = list(get_reads(fname))\n",
      "       \n",
      "        big_ax = axs[num, 0]\n",
      "        zoom_ax = axs[num, 1]\n",
      "    \n",
      "        big_ax = generate_coverage_map(all_reads, ax = big_ax, label = method)\n",
      "        big_ax.set_xlim([0, 9719])\n",
      "        big_ax.set_title(bname)\n",
      "        #big_ax.set_yscale('log')\n",
      "    \n",
      "        zoom_ax = generate_coverage_map(all_reads, ax = zoom_ax, label = method)\n",
      "        zoom_ax.set_xlim([9086, 9719])\n",
      "        zoom_ax.set_title(bname)\n",
      "        #zoom_ax.set_yscale('log')\n",
      "        if zoom_ax.is_first_row():\n",
      "            zoom_ax.legend()\n",
      "        \n",
      "    \n",
      "\n",
      "fig.tight_layout()\n",
      "plt.savefig('/home/will/Downloads/HIVDeepSequencingMapping.png')\n"
     ],
     "language": "python",
     "metadata": {},
     "outputs": [
      {
       "metadata": {},
       "output_type": "display_data",
       "png": "[encoded data removed]",
       "text": [
        "<matplotlib.figure.Figure at 0x46c0f50>"
       ]
      }
     ],
     "prompt_number": 47
    },
    {
     "cell_type": "code",
     "collapsed": false,
     "input": [
      "sys.path.append('/home/will/DeepPipeline/AnalysisCode/')"
     ],
     "language": "python",
     "metadata": {},
     "outputs": [],
     "prompt_number": 87
    },
    {
     "cell_type": "code",
     "collapsed": false,
     "input": [
      "#reload(HapReconTools)\n",
      "\n",
      "fname = '/home/will/DeepPipeline/Data/ShoRAHruns/DrexelMed.A0010.lastz/tmp.bam'\n",
      "reads = sorted(HapReconTools.read_from_bam(fname), key = itemgetter(1))\n",
      "ir_reads = list(HapReconTools.yield_IR_reads(reads))\n",
      "graph = HapReconTools.generate_hap_graph(ir_reads)"
     ],
     "language": "python",
     "metadata": {},
     "outputs": [],
     "prompt_number": 128
    },
    {
     "cell_type": "code",
     "collapsed": false,
     "input": [
      "for tup in islice(graph.in_degree_iter(), 5):\n",
      "    print tup"
     ],
     "language": "python",
     "metadata": {},
     "outputs": [
      {
       "output_type": "stream",
       "stream": "stdout",
       "text": [
        "(1664998900369866754, 0)\n",
        "(7437370821412552708, 0)\n",
        "(4038365460238549009, 1)\n",
        "(3592963018831675410, 3)\n",
        "(-815302913539727340, 0)\n"
       ]
      }
     ],
     "prompt_number": 139
    },
    {
     "cell_type": "code",
     "collapsed": false,
     "input": [
      "def new_simple_paths(graph):\n",
      "    \n",
      "    nodes = graph.in_degree_iter()\n",
      "    for node, in_degree in nodes:\n",
      "        if in_degree == 0:\n",
      "            tmp_tree = nx.dfs_tree(graph, node)\n",
      "            out_degree = tmp_tree.out_degree()\n",
      "            for tree_node in tmp_tree.nodes_iter():\n",
      "                if out_degree[tree_node] == 0:\n",
      "                    path = nx.shortest_path(graph, node, tree_node)\n",
      "                    if len(path) > 2:\n",
      "                        yield path\n",
      "\n"
     ],
     "language": "python",
     "metadata": {},
     "outputs": [],
     "prompt_number": 142
    },
    {
     "cell_type": "code",
     "collapsed": false,
     "input": [
      "def new_assemble_haps(paths, graph):\n",
      "    haps = set()\n",
      "    for num, path in enumerate(paths):\n",
      "        if num % 500 == 0:\n",
      "            print '%i paths, %i haps' % (num, len(haps))\n",
      "        hap_begin = graph.node[path[0]]['start']\n",
      "        hap_end = graph.node[path[-1]]['stop']\n",
      "        seq = np.empty((len(path), hap_end-hap_begin), dtype=str)\n",
      "        seq[:] = '-'\n",
      "        for row, node_name in enumerate(path, 0):\n",
      "            \n",
      "            node = graph.node[node_name]\n",
      "            nseq, hap_start, hap_stop = adjust_pos(node['seq'], node['start'], hap_begin, hap_end)\n",
      "            \n",
      "            try:\n",
      "                seq[row, hap_start:hap_stop] = np.array(list(nseq))    \n",
      "            except:\n",
      "                print node['seq'], node['start']\n",
      "                print nseq, hap_start, hap_stop\n",
      "                seq[row, hap_start:hap_stop] = np.array(list(nseq))    \n",
      "                #raise KeyboardInterrupt\n",
      "            \n",
      "                \n",
      "        tmp = ''.join([get_common(seq[:,col]) for col in range(seq.shape[1])])\n",
      "        haps.add((tmp, hap_begin))\n",
      "    print len(haps), 'unique haplotypes found!'\n",
      "    return haps\n",
      "    \n",
      "haps = new_assemble_haps(new_simple_paths(graph), graph)\n",
      "sorted_haps = sorted(haps, key=itemgetter(0))\n",
      "ir_haps = list(HapReconTools.yield_IR_reads(sorted_haps))\n",
      "print 'IR haps:', len(ir_haps)"
     ],
     "language": "python",
     "metadata": {},
     "outputs": [
      {
       "output_type": "stream",
       "stream": "stdout",
       "text": [
        "0 paths, 0 haps\n",
        "500 paths, 500 haps"
       ]
      },
      {
       "output_type": "stream",
       "stream": "stdout",
       "text": [
        "\n",
        "1000 paths, 1000 haps"
       ]
      },
      {
       "output_type": "stream",
       "stream": "stdout",
       "text": [
        "\n",
        "1500 paths, 1500 haps"
       ]
      },
      {
       "output_type": "stream",
       "stream": "stdout",
       "text": [
        "\n",
        "2000 paths, 2000 haps"
       ]
      },
      {
       "output_type": "stream",
       "stream": "stdout",
       "text": [
        "\n",
        "2500 paths, 2500 haps"
       ]
      },
      {
       "output_type": "stream",
       "stream": "stdout",
       "text": [
        "\n",
        "3000 paths, 3000 haps"
       ]
      },
      {
       "output_type": "stream",
       "stream": "stdout",
       "text": [
        "\n",
        "3500 paths, 3500 haps"
       ]
      },
      {
       "output_type": "stream",
       "stream": "stdout",
       "text": [
        "\n",
        "4000 paths, 4000 haps"
       ]
      },
      {
       "output_type": "stream",
       "stream": "stdout",
       "text": [
        "\n",
        "4500 paths, 4500 haps"
       ]
      },
      {
       "output_type": "stream",
       "stream": "stdout",
       "text": [
        "\n",
        "5000 paths, 5000 haps"
       ]
      },
      {
       "output_type": "stream",
       "stream": "stdout",
       "text": [
        "\n",
        "5500 paths, 5500 haps"
       ]
      },
      {
       "output_type": "stream",
       "stream": "stdout",
       "text": [
        "\n",
        "6000 paths, 6000 haps"
       ]
      },
      {
       "output_type": "stream",
       "stream": "stdout",
       "text": [
        "\n",
        "6500 paths, 6500 haps"
       ]
      },
      {
       "output_type": "stream",
       "stream": "stdout",
       "text": [
        "\n",
        "7000 paths, 7000 haps"
       ]
      },
      {
       "output_type": "stream",
       "stream": "stdout",
       "text": [
        "\n",
        "7500 paths, 7500 haps"
       ]
      },
      {
       "output_type": "stream",
       "stream": "stdout",
       "text": [
        "\n",
        "8000 paths, 8000 haps"
       ]
      },
      {
       "output_type": "stream",
       "stream": "stdout",
       "text": [
        "\n",
        "8500 paths, 8500 haps"
       ]
      },
      {
       "output_type": "stream",
       "stream": "stdout",
       "text": [
        "\n",
        "9000 paths, 9000 haps"
       ]
      },
      {
       "output_type": "stream",
       "stream": "stdout",
       "text": [
        "\n",
        "9066"
       ]
      },
      {
       "output_type": "stream",
       "stream": "stdout",
       "text": [
        " unique haplotypes found!\n",
        "IR haps:"
       ]
      },
      {
       "output_type": "stream",
       "stream": "stdout",
       "text": [
        " 5586\n"
       ]
      }
     ],
     "prompt_number": 143
    },
    {
     "cell_type": "code",
     "collapsed": false,
     "input": [
      "def new_generate_coverage_map(ir_reads, ax = None, label = None):\n",
      "    \n",
      "    pos_count = Counter()\n",
      "    for seq, start in ir_reads:\n",
      "        for s in range(start, start+len(seq)):\n",
      "            pos_count[s] += 1\n",
      "\n",
      "    x = range(0, max(pos_count.keys()))\n",
      "    y = [pos_count[p] for p in x]\n",
      "    \n",
      "    if ax is None:\n",
      "        ax = plt.subplot(111)\n",
      "    ax.plot(x, y, label = label)\n",
      "    ax.set_ylabel('Coverage')\n",
      "    \n",
      "    return ax\n",
      "\n",
      "new_generate_coverage_map(ir_haps)"
     ],
     "language": "python",
     "metadata": {},
     "outputs": [
      {
       "metadata": {},
       "output_type": "pyout",
       "prompt_number": 132,
       "text": [
        "<matplotlib.axes.AxesSubplot at 0x58fac10>"
       ]
      },
      {
       "metadata": {},
       "output_type": "display_data",
       "png": "[encoded data removed]",
       "text": [
        "<matplotlib.figure.Figure at 0x5882290>"
       ]
      }
     ],
     "prompt_number": 132
    },
    {
     "cell_type": "code",
     "collapsed": false,
     "input": [
      "from collections import deque\n",
      "from copy import deepcopy\n",
      "\n",
      "def get_read_counts(ir_reads):\n",
      "    \n",
      "    read_counts = Counter(seq for seq, _, in ir_reads)\n",
      "    return read_counts\n",
      "\n",
      "\n",
      "def log_likelihood(urh, prh, ph):\n",
      "    \n",
      "    inner = ph*prh\n",
      "    inner[inner > 0] = np.log10(inner[inner>0])\n",
      "    \n",
      "    return (urh*inner).sum()\n",
      "    \n",
      "\n",
      "def initialize(read_counter, haps):\n",
      "    \n",
      "    invalid_reads = []\n",
      "    for read in read_counter.keys():\n",
      "        keep = False\n",
      "        for hap in haps:\n",
      "            if read in hap:\n",
      "                keep = True\n",
      "                break\n",
      "        if not keep:\n",
      "            invalid_reads.append(read)\n",
      "    print len(invalid_reads)\n",
      "    for read in invalid_reads:\n",
      "        del(read_counter[read])\n",
      "    print 'valid reads!', sum(read_counter.values())\n",
      "    sorted_uni_reads = sorted(read_counter.keys())\n",
      "    sorted_uni_haps = sorted(haps)\n",
      "    prh = np.zeros((len(sorted_uni_reads), len(sorted_uni_haps)))\n",
      "    urh = np.zeros((len(sorted_uni_reads), len(sorted_uni_haps)))\n",
      "    \n",
      "    for row, read in enumerate(sorted_uni_reads):\n",
      "        con_haps = [col for col, hap in enumerate(haps) if read in hap]\n",
      "        if con_haps:\n",
      "            prh[row, con_haps] = 1/read_counter[read]\n",
      "            urh[row, con_haps] = read_counter[read]/len(con_haps)\n",
      "    ph = np.ones((len(sorted_uni_haps),))/len(sorted_uni_haps)\n",
      "    #ph = Ph(urh)\n",
      "    \n",
      "    return sorted_uni_reads, sorted_uni_haps, urh, prh, ph \n",
      "\n",
      "\n",
      "def Urh(urh, prh, ph):\n",
      "    \n",
      "    ur = urh.sum(axis=1).reshape(-1, 1)\n",
      "    num = ph*prh\n",
      "    pr = num.sum(axis=1).reshape(-1, 1)\n",
      "    nurh = np.zeros_like(urh)\n",
      "    if np.isnan(nurh).any().any():\n",
      "        raise KeyboardInterrupt\n",
      "    return ur*num/pr\n",
      "\n",
      "def Ph(urh):\n",
      "    \n",
      "    ur = urh.sum(axis=1).reshape(-1,1)\n",
      "    ph = (urh/ur)\n",
      "    if np.isnan(ph).any().any():\n",
      "        raise KeyboardInterrupt\n",
      "    return ph.mean(axis=0)\n",
      "\n",
      "\n",
      "def estimate_min_bound(ir_reads, hap_begin, hap_end):\n",
      "    \n",
      "    p = 0.9 #prob of finding a haplotype\n",
      "    N = len(ir_reads)\n",
      "    L = sum(len(seq) for seq, _, in ir_reads)/N #avg read length\n",
      "    n = hap_end-hap_begin\n",
      "    \n",
      "    return -n*np.log(1-p**(1/n))/(N*L)\n",
      "\n",
      "\n",
      "def do_EM(urh, prh, ph, max_rep = 10000, tol = 0.001):\n",
      "    \n",
      "    urh_l = deque([urh], maxlen = 2)\n",
      "    ph_l = deque([ph], maxlen = 2)\n",
      "    ll_l = deque([log_likelihood(urh_l[-1], prh, ph_l[-1])], maxlen = 2)\n",
      "    \n",
      "    for rep in range(1,max_rep):\n",
      "        \n",
      "        urh_l.append(Urh(urh_l[-1], prh, ph_l[-1]))\n",
      "        ph_l.append(Ph(urh_l[-1]))\n",
      "        ll_l.append(log_likelihood(urh_l[-1], prh, ph_l[-1]))\n",
      "        \n",
      "        if np.log10(rep) == int(np.log10(rep)):\n",
      "            print ll_l[-1], rep, ph_l[-1].sum(), ph_l[-1].max()\n",
      "        \n",
      "        if abs(ll_l[-1] - ll_l[-2]) < tol:\n",
      "            print 'reached tol!'\n",
      "            return ph_l[-1]\n",
      "    print 'exceded limit'\n",
      "    return ph_l[-1]\n",
      "\n",
      "\n",
      "def estimate_freqs(read_counts, haps, min_bound):\n",
      "    \n",
      "    exclude_haps = set()\n",
      "    last_len = 0\n",
      "    for rep in range(len(haps)):\n",
      "        print rep, 'exluding %i haps but keeping %i' % (len(exclude_haps), len(haps-exclude_haps))\n",
      "        sorted_uni_reads, sorted_uni_haps, urh, prh, ph = initialize(deepcopy(read_counts), haps-exclude_haps)\n",
      "        nph = do_EM(urh, prh, ph)\n",
      "        for p, hap in zip(nph.flatten(), sorted_uni_haps):\n",
      "            if p < min_bound:\n",
      "                exclude_haps.add(hap)\n",
      "        if len(exclude_haps) == last_len:\n",
      "            print 'done!'\n",
      "            return sorted(zip(sorted_uni_haps, nph.flatten()), key = lambda x: x[1], reverse=True)\n",
      "        last_len = len(exclude_haps)\n",
      "    "
     ],
     "language": "python",
     "metadata": {},
     "outputs": [],
     "prompt_number": 133
    },
    {
     "cell_type": "code",
     "collapsed": false,
     "input": [
      "read_counts = get_read_counts(HapReconTools.read_from_bam(fname))\n",
      "thaps = set(seq for seq, _ in ir_reads)\n",
      "res = estimate_freqs(read_counts, thaps, estimate_min_bound(ir_reads, 7000, 9000)/100)\n",
      "print res[0]\n",
      "\n",
      "\n",
      "    \n",
      "\n"
     ],
     "language": "python",
     "metadata": {},
     "outputs": [
      {
       "output_type": "stream",
       "stream": "stdout",
       "text": [
        "0 exluding 0 haps but keeping 1710\n",
        "0"
       ]
      },
      {
       "output_type": "stream",
       "stream": "stdout",
       "text": [
        "\n",
        "valid reads! 2537\n",
        "-8326.24098065"
       ]
      },
      {
       "output_type": "stream",
       "stream": "stdout",
       "text": [
        " 1 1.0 0.00528197674141\n",
        "-8155.5189565"
       ]
      },
      {
       "output_type": "stream",
       "stream": "stdout",
       "text": [
        " 10 1.0 0.0128015200935\n",
        "-8121.36469788"
       ]
      },
      {
       "output_type": "stream",
       "stream": "stdout",
       "text": [
        " 100 1.0 0.0201927616771\n",
        "reached tol!"
       ]
      },
      {
       "output_type": "stream",
       "stream": "stdout",
       "text": [
        "\n",
        "1 exluding 67 haps but keeping 1643\n",
        "67"
       ]
      },
      {
       "output_type": "stream",
       "stream": "stdout",
       "text": [
        "\n",
        "valid reads! 2470\n",
        "-8059.35393822"
       ]
      },
      {
       "output_type": "stream",
       "stream": "stdout",
       "text": [
        " 1 1.0 0.00547898995225\n",
        "-7891.67675757"
       ]
      },
      {
       "output_type": "stream",
       "stream": "stdout",
       "text": [
        " 10 1.0 0.0132561101894\n",
        "-7857.23903998"
       ]
      },
      {
       "output_type": "stream",
       "stream": "stdout",
       "text": [
        " 100 1.0 0.0209193278306\n",
        "reached tol!"
       ]
      },
      {
       "output_type": "stream",
       "stream": "stdout",
       "text": [
        "\n",
        "2 exluding 131 haps but keeping 1579\n",
        "131"
       ]
      },
      {
       "output_type": "stream",
       "stream": "stdout",
       "text": [
        "\n",
        "valid reads! 2405\n",
        "-7800.24862571"
       ]
      },
      {
       "output_type": "stream",
       "stream": "stdout",
       "text": [
        " 1 1.0 0.00612846691742\n",
        "-7634.95910655"
       ]
      },
      {
       "output_type": "stream",
       "stream": "stdout",
       "text": [
        " 10 1.0 0.0143680994778\n",
        "-7604.42356778"
       ]
      },
      {
       "output_type": "stream",
       "stream": "stdout",
       "text": [
        " 100 1.0 0.0217712002091\n",
        "reached tol!"
       ]
      },
      {
       "output_type": "stream",
       "stream": "stdout",
       "text": [
        "\n",
        "3 exluding 188 haps but keeping 1522\n",
        "189"
       ]
      },
      {
       "output_type": "stream",
       "stream": "stdout",
       "text": [
        "\n",
        "valid reads! 2347\n",
        "-7572.44104621"
       ]
      },
      {
       "output_type": "stream",
       "stream": "stdout",
       "text": [
        " 1 1.0 0.00635685907487\n",
        "-7409.57767999"
       ]
      },
      {
       "output_type": "stream",
       "stream": "stdout",
       "text": [
        " 10 1.0 0.0148468530046\n",
        "-7379.06934364"
       ]
      },
      {
       "output_type": "stream",
       "stream": "stdout",
       "text": [
        " 100 1.0 0.0226944755043\n",
        "reached tol!"
       ]
      },
      {
       "output_type": "stream",
       "stream": "stdout",
       "text": [
        "\n",
        "4 exluding 242 haps but keeping 1468\n",
        "245"
       ]
      },
      {
       "output_type": "stream",
       "stream": "stdout",
       "text": [
        "\n",
        "valid reads! 2291\n",
        "-7354.17722344"
       ]
      },
      {
       "output_type": "stream",
       "stream": "stdout",
       "text": [
        " 1 1.0 0.0065551463049\n",
        "-7193.47234007"
       ]
      },
      {
       "output_type": "stream",
       "stream": "stdout",
       "text": [
        " 10 1.0 0.0153211833454\n",
        "-7162.54198732"
       ]
      },
      {
       "output_type": "stream",
       "stream": "stdout",
       "text": [
        " 100 1.0 0.023710808989\n",
        "reached tol!"
       ]
      },
      {
       "output_type": "stream",
       "stream": "stdout",
       "text": [
        "\n",
        "5 exluding 293 haps but keeping 1417\n",
        "301"
       ]
      },
      {
       "output_type": "stream",
       "stream": "stdout",
       "text": [
        "\n",
        "valid reads! 2235\n",
        "-7143.04125689"
       ]
      },
      {
       "output_type": "stream",
       "stream": "stdout",
       "text": [
        " 1 1.0 0.00675417176516\n",
        "-6983.87987473"
       ]
      },
      {
       "output_type": "stream",
       "stream": "stdout",
       "text": [
        " 10 1.0 0.0157992651495\n",
        "-6952.70702833"
       ]
      },
      {
       "output_type": "stream",
       "stream": "stdout",
       "text": [
        " 100 1.0 0.0244782199936\n",
        "reached tol!"
       ]
      },
      {
       "output_type": "stream",
       "stream": "stdout",
       "text": [
        "\n",
        "6 exluding 341 haps but keeping 1369\n",
        "351"
       ]
      },
      {
       "output_type": "stream",
       "stream": "stdout",
       "text": [
        "\n",
        "valid reads! 2185\n",
        "-6950.04329596"
       ]
      },
      {
       "output_type": "stream",
       "stream": "stdout",
       "text": [
        " 1 1.0 0.00802725908848\n",
        "-6784.41388471"
       ]
      },
      {
       "output_type": "stream",
       "stream": "stdout",
       "text": [
        " 10 1.0 0.0191847370065\n",
        "-6751.17154145"
       ]
      },
      {
       "output_type": "stream",
       "stream": "stdout",
       "text": [
        " 100 1.0 0.0251829572513\n",
        "reached tol!"
       ]
      },
      {
       "output_type": "stream",
       "stream": "stdout",
       "text": [
        "\n",
        "7 exluding 387 haps but keeping 1323\n",
        "399"
       ]
      },
      {
       "output_type": "stream",
       "stream": "stdout",
       "text": [
        "\n",
        "valid reads! 2137\n",
        "-6767.10172541"
       ]
      },
      {
       "output_type": "stream",
       "stream": "stdout",
       "text": [
        " 1 1.0 0.00826939173017\n",
        "-6601.93605614"
       ]
      },
      {
       "output_type": "stream",
       "stream": "stdout",
       "text": [
        " 10 1.0 0.0197539192399\n",
        "-6568.25198301"
       ]
      },
      {
       "output_type": "stream",
       "stream": "stdout",
       "text": [
        " 100 1.0 0.0259104739111\n",
        "reached tol!"
       ]
      },
      {
       "output_type": "stream",
       "stream": "stdout",
       "text": [
        "\n",
        "8 exluding 433 haps but keeping 1277\n",
        "451"
       ]
      },
      {
       "output_type": "stream",
       "stream": "stdout",
       "text": [
        "\n",
        "valid reads! 2083\n",
        "-6559.15557055"
       ]
      },
      {
       "output_type": "stream",
       "stream": "stdout",
       "text": [
        " 1 1.0 0.00935237577098\n",
        "-6389.35643721"
       ]
      },
      {
       "output_type": "stream",
       "stream": "stdout",
       "text": [
        " 10 1.0 0.0210592946606\n",
        "-6357.97113579"
       ]
      },
      {
       "output_type": "stream",
       "stream": "stdout",
       "text": [
        " 100 1.0 0.0271878713575\n",
        "reached tol!"
       ]
      },
      {
       "output_type": "stream",
       "stream": "stdout",
       "text": [
        "\n",
        "9 exluding 478 haps but keeping 1232\n",
        "494"
       ]
      },
      {
       "output_type": "stream",
       "stream": "stdout",
       "text": [
        "\n",
        "valid reads! 2039\n",
        "-6378.15640943"
       ]
      },
      {
       "output_type": "stream",
       "stream": "stdout",
       "text": [
        " 1 1.0 0.00964454102223\n",
        "-6207.23793467"
       ]
      },
      {
       "output_type": "stream",
       "stream": "stdout",
       "text": [
        " 10 1.0 0.0216864883046\n",
        "-6179.53295484"
       ]
      },
      {
       "output_type": "stream",
       "stream": "stdout",
       "text": [
        " 100 1.0 0.0310631468135\n",
        "reached tol!"
       ]
      },
      {
       "output_type": "stream",
       "stream": "stdout",
       "text": [
        "\n",
        "10 exluding 517 haps but keeping 1193\n",
        "535"
       ]
      },
      {
       "output_type": "stream",
       "stream": "stdout",
       "text": [
        "\n",
        "valid reads! 1995\n",
        "-6211.26477319"
       ]
      },
      {
       "output_type": "stream",
       "stream": "stdout",
       "text": [
        " 1 1.0 0.00991216709121\n",
        "-6045.40672438"
       ]
      },
      {
       "output_type": "stream",
       "stream": "stdout",
       "text": [
        " 10 1.0 0.0222615135926\n",
        "-6017.8569957"
       ]
      },
      {
       "output_type": "stream",
       "stream": "stdout",
       "text": [
        " 100 1.0 0.0319434893018\n",
        "reached tol!"
       ]
      },
      {
       "output_type": "stream",
       "stream": "stdout",
       "text": [
        "\n",
        "11 exluding 551 haps but keeping 1159\n",
        "571"
       ]
      },
      {
       "output_type": "stream",
       "stream": "stdout",
       "text": [
        "\n",
        "valid reads! 1955\n",
        "-6059.29990735"
       ]
      },
      {
       "output_type": "stream",
       "stream": "stdout",
       "text": [
        " 1 1.0 0.0102873236186\n",
        "-5896.28826864"
       ]
      },
      {
       "output_type": "stream",
       "stream": "stdout",
       "text": [
        " 10 1.0 0.0228919259284\n",
        "-5868.62783489"
       ]
      },
      {
       "output_type": "stream",
       "stream": "stdout",
       "text": [
        " 100 1.0 0.0327495306467\n",
        "reached tol!"
       ]
      },
      {
       "output_type": "stream",
       "stream": "stdout",
       "text": [
        "\n",
        "12 exluding 582 haps but keeping 1128\n",
        "607"
       ]
      },
      {
       "output_type": "stream",
       "stream": "stdout",
       "text": [
        "\n",
        "valid reads! 1915\n",
        "-5911.39712356"
       ]
      },
      {
       "output_type": "stream",
       "stream": "stdout",
       "text": [
        " 1 1.0 0.0105533687336\n",
        "-5754.69550787"
       ]
      },
      {
       "output_type": "stream",
       "stream": "stdout",
       "text": [
        " 10 1.0 0.023477727226\n",
        "-5727.36978054"
       ]
      },
      {
       "output_type": "stream",
       "stream": "stdout",
       "text": [
        " 100 1.0 0.0336354428035\n",
        "reached tol!"
       ]
      },
      {
       "output_type": "stream",
       "stream": "stdout",
       "text": [
        "\n",
        "13 exluding 609 haps but keeping 1101\n",
        "635"
       ]
      },
      {
       "output_type": "stream",
       "stream": "stdout",
       "text": [
        "\n",
        "valid reads! 1887\n",
        "-5803.53397649"
       ]
      },
      {
       "output_type": "stream",
       "stream": "stdout",
       "text": [
        " 1 1.0 0.0125241256811\n",
        "-5638.89577478"
       ]
      },
      {
       "output_type": "stream",
       "stream": "stdout",
       "text": [
        " 10 1.0 0.0253631148866\n",
        "-5615.7818225"
       ]
      },
      {
       "output_type": "stream",
       "stream": "stdout",
       "text": [
        " 100 1.0 0.0343361511768\n",
        "reached tol!"
       ]
      },
      {
       "output_type": "stream",
       "stream": "stdout",
       "text": [
        "\n",
        "14 exluding 633 haps but keeping 1077\n",
        "659"
       ]
      },
      {
       "output_type": "stream",
       "stream": "stdout",
       "text": [
        "\n",
        "valid reads! 1863\n",
        "-5712.9537167"
       ]
      },
      {
       "output_type": "stream",
       "stream": "stdout",
       "text": [
        " 1 1.0 0.0127213474331\n",
        "-5547.56830117"
       ]
      },
      {
       "output_type": "stream",
       "stream": "stdout",
       "text": [
        " 10 1.0 0.0257937751545\n",
        "-5524.45828062"
       ]
      },
      {
       "output_type": "stream",
       "stream": "stdout",
       "text": [
        " 100 1.0 0.0349067010141\n",
        "reached tol!"
       ]
      },
      {
       "output_type": "stream",
       "stream": "stdout",
       "text": [
        "\n",
        "15 exluding 657 haps but keeping 1053\n",
        "683"
       ]
      },
      {
       "output_type": "stream",
       "stream": "stdout",
       "text": [
        "\n",
        "valid reads! 1838\n",
        "-5615.8577623"
       ]
      },
      {
       "output_type": "stream",
       "stream": "stdout",
       "text": [
        " 1 1.0 0.012933672197\n",
        "-5450.3960125"
       ]
      },
      {
       "output_type": "stream",
       "stream": "stdout",
       "text": [
        " 10 1.0 0.0262580343339\n",
        "-5427.27539115"
       ]
      },
      {
       "output_type": "stream",
       "stream": "stdout",
       "text": [
        " 100 1.0 0.0355017739015\n",
        "reached tol!"
       ]
      },
      {
       "output_type": "stream",
       "stream": "stdout",
       "text": [
        "\n",
        "16 exluding 680 haps but keeping 1030\n",
        "706"
       ]
      },
      {
       "output_type": "stream",
       "stream": "stdout",
       "text": [
        "\n",
        "valid reads! 1815\n",
        "-5525.27928023"
       ]
      },
      {
       "output_type": "stream",
       "stream": "stdout",
       "text": [
        " 1 1.0 0.0132370734051\n",
        "-5361.0746666"
       ]
      },
      {
       "output_type": "stream",
       "stream": "stdout",
       "text": [
        " 10 1.0 0.0267722560136\n",
        "-5337.91132262"
       ]
      },
      {
       "output_type": "stream",
       "stream": "stdout",
       "text": [
        " 100 1.0 0.0360654542563\n",
        "reached tol!"
       ]
      },
      {
       "output_type": "stream",
       "stream": "stdout",
       "text": [
        "\n",
        "17 exluding 703 haps but keeping 1007\n",
        "734"
       ]
      },
      {
       "output_type": "stream",
       "stream": "stdout",
       "text": [
        "\n",
        "valid reads! 1787\n",
        "-5424.7189352"
       ]
      },
      {
       "output_type": "stream",
       "stream": "stdout",
       "text": [
        " 1 1.0 0.013502987797\n",
        "-5261.10707067"
       ]
      },
      {
       "output_type": "stream",
       "stream": "stdout",
       "text": [
        " 10 1.0 0.0273615159057\n",
        "-5237.92856889"
       ]
      },
      {
       "output_type": "stream",
       "stream": "stdout",
       "text": [
        " 100 1.0 0.0369460205771\n",
        "reached tol!"
       ]
      },
      {
       "output_type": "stream",
       "stream": "stdout",
       "text": [
        "\n",
        "18 exluding 726 haps but keeping 984\n",
        "757"
       ]
      },
      {
       "output_type": "stream",
       "stream": "stdout",
       "text": [
        "\n",
        "valid reads! 1764\n",
        "-5338.72049655"
       ]
      },
      {
       "output_type": "stream",
       "stream": "stdout",
       "text": [
        " 1 1.0 0.0137400402447\n",
        "-5175.08033022"
       ]
      },
      {
       "output_type": "stream",
       "stream": "stdout",
       "text": [
        " 10 1.0 0.0278202271292\n",
        "-5151.89455252"
       ]
      },
      {
       "output_type": "stream",
       "stream": "stdout",
       "text": [
        " 100 1.0 0.0375595018786\n",
        "reached tol!"
       ]
      },
      {
       "output_type": "stream",
       "stream": "stdout",
       "text": [
        "\n",
        "19 exluding 749 haps but keeping 961\n",
        "780"
       ]
      },
      {
       "output_type": "stream",
       "stream": "stdout",
       "text": [
        "\n",
        "valid reads! 1741\n",
        "-5252.88508931"
       ]
      },
      {
       "output_type": "stream",
       "stream": "stdout",
       "text": [
        " 1 1.0 0.013968408077\n",
        "-5089.64294618"
       ]
      },
      {
       "output_type": "stream",
       "stream": "stdout",
       "text": [
        " 10 1.0 0.0282904655368\n",
        "-5066.44386688"
       ]
      },
      {
       "output_type": "stream",
       "stream": "stdout",
       "text": [
        " 100 1.0 0.0381929300772\n",
        "reached tol!"
       ]
      },
      {
       "output_type": "stream",
       "stream": "stdout",
       "text": [
        "\n",
        "20 exluding 771 haps but keeping 939\n",
        "806"
       ]
      },
      {
       "output_type": "stream",
       "stream": "stdout",
       "text": [
        "\n",
        "valid reads! 1715\n",
        "-5155.75457604"
       ]
      },
      {
       "output_type": "stream",
       "stream": "stdout",
       "text": [
        " 1 1.0 0.0147108584338\n",
        "-4992.49511561"
       ]
      },
      {
       "output_type": "stream",
       "stream": "stdout",
       "text": [
        " 10 1.0 0.0291499741319\n",
        "-4969.30020603"
       ]
      },
      {
       "output_type": "stream",
       "stream": "stdout",
       "text": [
        " 100 1.0 0.0389026525109\n",
        "reached tol!"
       ]
      },
      {
       "output_type": "stream",
       "stream": "stdout",
       "text": [
        "\n",
        "21 exluding 793 haps but keeping 917\n",
        "829"
       ]
      },
      {
       "output_type": "stream",
       "stream": "stdout",
       "text": [
        "\n",
        "valid reads! 1692\n",
        "-5071.71111358"
       ]
      },
      {
       "output_type": "stream",
       "stream": "stdout",
       "text": [
        " 1 1.0 0.014973713277\n",
        "-4908.4644168"
       ]
      },
      {
       "output_type": "stream",
       "stream": "stdout",
       "text": [
        " 10 1.0 0.0297133734475\n",
        "-4885.26645293"
       ]
      },
      {
       "output_type": "stream",
       "stream": "stdout",
       "text": [
        " 100 1.0 0.0396129788176\n",
        "reached tol!"
       ]
      },
      {
       "output_type": "stream",
       "stream": "stdout",
       "text": [
        "\n",
        "22 exluding 814 haps but keeping 896\n",
        "850"
       ]
      },
      {
       "output_type": "stream",
       "stream": "stdout",
       "text": [
        "\n",
        "valid reads! 1671\n",
        "-4994.08217154"
       ]
      },
      {
       "output_type": "stream",
       "stream": "stdout",
       "text": [
        " 1 1.0 0.0152067068887\n",
        "-4831.18823715"
       ]
      },
      {
       "output_type": "stream",
       "stream": "stdout",
       "text": [
        " 10 1.0 0.0301888721392\n",
        "-4807.98754805"
       ]
      },
      {
       "output_type": "stream",
       "stream": "stdout",
       "text": [
        " 100 1.0 0.0402424770086\n",
        "reached tol!"
       ]
      },
      {
       "output_type": "stream",
       "stream": "stdout",
       "text": [
        "\n",
        "23 exluding 834 haps but keeping 876\n",
        "871"
       ]
      },
      {
       "output_type": "stream",
       "stream": "stdout",
       "text": [
        "\n",
        "valid reads! 1650\n",
        "-4917.14111993"
       ]
      },
      {
       "output_type": "stream",
       "stream": "stdout",
       "text": [
        " 1 1.0 0.0154500399201\n",
        "-4754.14545063"
       ]
      },
      {
       "output_type": "stream",
       "stream": "stdout",
       "text": [
        " 10 1.0 0.030699985459\n",
        "-4730.93931127"
       ]
      },
      {
       "output_type": "stream",
       "stream": "stdout",
       "text": [
        " 100 1.0 0.0409129020247\n",
        "reached tol!"
       ]
      },
      {
       "output_type": "stream",
       "stream": "stdout",
       "text": [
        "\n",
        "24 exluding 854 haps but keeping 856\n",
        "893"
       ]
      },
      {
       "output_type": "stream",
       "stream": "stdout",
       "text": [
        "\n",
        "valid reads! 1628\n",
        "-4838.05075718"
       ]
      },
      {
       "output_type": "stream",
       "stream": "stdout",
       "text": [
        " 1 1.0 0.0157044270047\n",
        "-4675.33400055"
       ]
      },
      {
       "output_type": "stream",
       "stream": "stdout",
       "text": [
        " 10 1.0 0.0312041920438\n",
        "-4652.10434486"
       ]
      },
      {
       "output_type": "stream",
       "stream": "stdout",
       "text": [
        " 100 1.0 0.0415881078007\n",
        "reached tol!"
       ]
      },
      {
       "output_type": "stream",
       "stream": "stdout",
       "text": [
        "\n",
        "25 exluding 873 haps but keeping 837\n",
        "914"
       ]
      },
      {
       "output_type": "stream",
       "stream": "stdout",
       "text": [
        "\n",
        "valid reads! 1607\n",
        "-4762.16167485"
       ]
      },
      {
       "output_type": "stream",
       "stream": "stdout",
       "text": [
        " 1 1.0 0.0159584307681\n",
        "-4599.13276838"
       ]
      },
      {
       "output_type": "stream",
       "stream": "stdout",
       "text": [
        " 10 1.0 0.0317278565237\n",
        "-4575.86889556"
       ]
      },
      {
       "output_type": "stream",
       "stream": "stdout",
       "text": [
        " 100 1.0 0.0422869765122\n",
        "reached tol!"
       ]
      },
      {
       "output_type": "stream",
       "stream": "stdout",
       "text": [
        "\n",
        "26 exluding 892 haps but keeping 818\n",
        "934"
       ]
      },
      {
       "output_type": "stream",
       "stream": "stdout",
       "text": [
        "\n",
        "valid reads! 1586\n",
        "-4685.25388999"
       ]
      },
      {
       "output_type": "stream",
       "stream": "stdout",
       "text": [
        " 1 1.0 0.0162247760908\n",
        "-4522.01982967"
       ]
      },
      {
       "output_type": "stream",
       "stream": "stdout",
       "text": [
        " 10 1.0 0.0322411694995\n",
        "-4498.74823267"
       ]
      },
      {
       "output_type": "stream",
       "stream": "stdout",
       "text": [
        " 100 1.0 0.0429596172686\n",
        "reached tol!"
       ]
      },
      {
       "output_type": "stream",
       "stream": "stdout",
       "text": [
        "\n",
        "27 exluding 911 haps but keeping 799\n",
        "954"
       ]
      },
      {
       "output_type": "stream",
       "stream": "stdout",
       "text": [
        "\n",
        "valid reads! 1566\n",
        "-4611.60818886"
       ]
      },
      {
       "output_type": "stream",
       "stream": "stdout",
       "text": [
        " 1 1.0 0.0164825797287\n",
        "-4448.37845063"
       ]
      },
      {
       "output_type": "stream",
       "stream": "stdout",
       "text": [
        " 10 1.0 0.0327669970233\n",
        "-4425.10462204"
       ]
      },
      {
       "output_type": "stream",
       "stream": "stdout",
       "text": [
        " 100 1.0 0.0436627909169\n",
        "reached tol!"
       ]
      },
      {
       "output_type": "stream",
       "stream": "stdout",
       "text": [
        "\n",
        "28 exluding 930 haps but keeping 780\n",
        "974"
       ]
      },
      {
       "output_type": "stream",
       "stream": "stdout",
       "text": [
        "\n",
        "valid reads! 1546\n",
        "-4538.81342651"
       ]
      },
      {
       "output_type": "stream",
       "stream": "stdout",
       "text": [
        " 1 1.0 0.0167465073494\n",
        "-4375.54694482"
       ]
      },
      {
       "output_type": "stream",
       "stream": "stdout",
       "text": [
        " 10 1.0 0.0332876726163\n",
        "-4352.26600362"
       ]
      },
      {
       "output_type": "stream",
       "stream": "stdout",
       "text": [
        " 100 1.0 0.0443757343754\n",
        "reached tol!"
       ]
      },
      {
       "output_type": "stream",
       "stream": "stdout",
       "text": [
        "\n",
        "29 exluding 949 haps but keeping 761\n",
        "993"
       ]
      },
      {
       "output_type": "stream",
       "stream": "stdout",
       "text": [
        "\n",
        "valid reads! 1527\n",
        "-4464.78364436"
       ]
      },
      {
       "output_type": "stream",
       "stream": "stdout",
       "text": [
        " 1 1.0 0.0173378278586\n",
        "-4303.52111339"
       ]
      },
      {
       "output_type": "stream",
       "stream": "stdout",
       "text": [
        " 10 1.0 0.0340695731498\n",
        "-4280.62726195"
       ]
      },
      {
       "output_type": "stream",
       "stream": "stdout",
       "text": [
        " 100 1.0 0.0450604305817\n",
        "reached tol!"
       ]
      },
      {
       "output_type": "stream",
       "stream": "stdout",
       "text": [
        "\n",
        "30 exluding 967 haps but keeping 743\n",
        "1011"
       ]
      },
      {
       "output_type": "stream",
       "stream": "stdout",
       "text": [
        "\n",
        "valid reads! 1508\n",
        "-4395.14746977"
       ]
      },
      {
       "output_type": "stream",
       "stream": "stdout",
       "text": [
        " 1 1.0 0.0175953627874\n",
        "-4235.26620755"
       ]
      },
      {
       "output_type": "stream",
       "stream": "stdout",
       "text": [
        " 10 1.0 0.0345720533219\n",
        "-4212.37603019"
       ]
      },
      {
       "output_type": "stream",
       "stream": "stdout",
       "text": [
        " 100 1.0 0.0457407271942\n",
        "reached tol!"
       ]
      },
      {
       "output_type": "stream",
       "stream": "stdout",
       "text": [
        "\n",
        "31 exluding 983 haps but keeping 727\n",
        "1029"
       ]
      },
      {
       "output_type": "stream",
       "stream": "stdout",
       "text": [
        "\n",
        "valid reads! 1481\n",
        "-4296.73561011"
       ]
      },
      {
       "output_type": "stream",
       "stream": "stdout",
       "text": [
        " 1 1.0 0.0178703172786\n",
        "-4138.30882633"
       ]
      },
      {
       "output_type": "stream",
       "stream": "stdout",
       "text": [
        " 10 1.0 0.0351032895524\n",
        "-4115.44789598"
       ]
      },
      {
       "output_type": "stream",
       "stream": "stdout",
       "text": [
        " 100 1.0 0.0464347874932\n",
        "reached tol!"
       ]
      },
      {
       "output_type": "stream",
       "stream": "stdout",
       "text": [
        "\n",
        "32 exluding 998 haps but keeping 712\n",
        "1045"
       ]
      },
      {
       "output_type": "stream",
       "stream": "stdout",
       "text": [
        "\n",
        "valid reads! 1464\n",
        "-4234.93373957"
       ]
      },
      {
       "output_type": "stream",
       "stream": "stdout",
       "text": [
        " 1 1.0 0.0181391397874\n",
        "-4076.37430085"
       ]
      },
      {
       "output_type": "stream",
       "stream": "stdout",
       "text": [
        " 10 1.0 0.0355943680958\n",
        "-4053.46256753"
       ]
      },
      {
       "output_type": "stream",
       "stream": "stdout",
       "text": [
        " 100 1.0 0.0470650509319\n",
        "reached tol!"
       ]
      },
      {
       "output_type": "stream",
       "stream": "stdout",
       "text": [
        "\n",
        "33 exluding 1013 haps but keeping 697\n",
        "1059"
       ]
      },
      {
       "output_type": "stream",
       "stream": "stdout",
       "text": [
        "\n",
        "valid reads! 1450\n",
        "-4182.69681503"
       ]
      },
      {
       "output_type": "stream",
       "stream": "stdout",
       "text": [
        " 1 1.0 0.0183592523229\n",
        "-4024.64285352"
       ]
      },
      {
       "output_type": "stream",
       "stream": "stdout",
       "text": [
        " 10 1.0 0.0360357790974\n",
        "-4001.77744683"
       ]
      },
      {
       "output_type": "stream",
       "stream": "stdout",
       "text": [
        " 100 1.0 0.0476571885097\n",
        "reached tol!"
       ]
      },
      {
       "output_type": "stream",
       "stream": "stdout",
       "text": [
        "\n",
        "34 exluding 1026 haps but keeping 684\n",
        "1078"
       ]
      },
      {
       "output_type": "stream",
       "stream": "stdout",
       "text": [
        "\n",
        "valid reads! 1430\n",
        "-4115.88593535"
       ]
      },
      {
       "output_type": "stream",
       "stream": "stdout",
       "text": [
        " 1 1.0 0.0186626000048\n",
        "-3957.8952276"
       ]
      },
      {
       "output_type": "stream",
       "stream": "stdout",
       "text": [
        " 10 1.0 0.0366300714538\n",
        "-3934.99820914"
       ]
      },
      {
       "output_type": "stream",
       "stream": "stdout",
       "text": [
        " 100 1.0 0.0484481163398\n",
        "reached tol!"
       ]
      },
      {
       "output_type": "stream",
       "stream": "stdout",
       "text": [
        "\n",
        "35 exluding 1039 haps but keeping 671\n",
        "1092"
       ]
      },
      {
       "output_type": "stream",
       "stream": "stdout",
       "text": [
        "\n",
        "valid reads! 1416\n",
        "-4065.24791264"
       ]
      },
      {
       "output_type": "stream",
       "stream": "stdout",
       "text": [
        " 1 1.0 0.018895820256\n",
        "-3906.99161239"
       ]
      },
      {
       "output_type": "stream",
       "stream": "stdout",
       "text": [
        " 10 1.0 0.0370989914953\n",
        "-3884.06007836"
       ]
      },
      {
       "output_type": "stream",
       "stream": "stdout",
       "text": [
        " 100 1.0 0.0490608358764\n",
        "reached tol!"
       ]
      },
      {
       "output_type": "stream",
       "stream": "stdout",
       "text": [
        "\n",
        "36 exluding 1052 haps but keeping 658\n",
        "1107"
       ]
      },
      {
       "output_type": "stream",
       "stream": "stdout",
       "text": [
        "\n",
        "valid reads! 1397\n",
        "-3996.99492388"
       ]
      },
      {
       "output_type": "stream",
       "stream": "stdout",
       "text": [
        " 1 1.0 0.0191546812737\n",
        "-3838.47265925"
       ]
      },
      {
       "output_type": "stream",
       "stream": "stdout",
       "text": [
        " 10 1.0 0.0376147615496\n",
        "-3815.48881619"
       ]
      },
      {
       "output_type": "stream",
       "stream": "stdout",
       "text": [
        " 100 1.0 0.0497320921703\n",
        "reached tol!"
       ]
      },
      {
       "output_type": "stream",
       "stream": "stdout",
       "text": [
        "\n",
        "37 exluding 1065 haps but keeping 645\n",
        "1128"
       ]
      },
      {
       "output_type": "stream",
       "stream": "stdout",
       "text": [
        "\n",
        "valid reads! 1350\n",
        "-3828.39393363"
       ]
      },
      {
       "output_type": "stream",
       "stream": "stdout",
       "text": [
        " 1 1.0 0.0195208649926\n",
        "-3673.23628729"
       ]
      },
      {
       "output_type": "stream",
       "stream": "stdout",
       "text": [
        " 10 1.0 0.0383394629939\n",
        "-3650.55603679"
       ]
      },
      {
       "output_type": "stream",
       "stream": "stdout",
       "text": [
        " 100 1.0 0.0506944670652\n",
        "reached tol!"
       ]
      },
      {
       "output_type": "stream",
       "stream": "stdout",
       "text": [
        "\n",
        "38 exluding 1077 haps but keeping 633\n",
        "1140"
       ]
      },
      {
       "output_type": "stream",
       "stream": "stdout",
       "text": [
        "\n",
        "valid reads! 1338\n",
        "-3784.70316469"
       ]
      },
      {
       "output_type": "stream",
       "stream": "stdout",
       "text": [
        " 1 1.0 0.0197407399696\n",
        "-3629.51593703"
       ]
      },
      {
       "output_type": "stream",
       "stream": "stdout",
       "text": [
        " 10 1.0 0.0387712398096\n",
        "-3606.83529967"
       ]
      },
      {
       "output_type": "stream",
       "stream": "stdout",
       "text": [
        " 100 1.0 0.0512739491721\n",
        "reached tol!"
       ]
      },
      {
       "output_type": "stream",
       "stream": "stdout",
       "text": [
        "\n",
        "39 exluding 1089 haps but keeping 621\n",
        "1154"
       ]
      },
      {
       "output_type": "stream",
       "stream": "stdout",
       "text": [
        "\n",
        "valid reads! 1324\n",
        "-3723.96302043"
       ]
      },
      {
       "output_type": "stream",
       "stream": "stdout",
       "text": [
        " 1 1.0 0.0309225461648\n",
        "-3544.61953041"
       ]
      },
      {
       "output_type": "stream",
       "stream": "stdout",
       "text": [
        " 10 1.0 0.0733406955569\n",
        "-3521.00830382"
       ]
      },
      {
       "output_type": "stream",
       "stream": "stdout",
       "text": [
        " 100 1.0 0.0742520464424\n",
        "reached tol!"
       ]
      },
      {
       "output_type": "stream",
       "stream": "stdout",
       "text": [
        "\n",
        "40 exluding 1101 haps but keeping 609\n",
        "1166"
       ]
      },
      {
       "output_type": "stream",
       "stream": "stdout",
       "text": [
        "\n",
        "valid reads! 1312\n",
        "-3680.04062643"
       ]
      },
      {
       "output_type": "stream",
       "stream": "stdout",
       "text": [
        " 1 1.0 0.031276970236\n",
        "-3500.83352432"
       ]
      },
      {
       "output_type": "stream",
       "stream": "stdout",
       "text": [
        " 10 1.0 0.0741958818142\n",
        "-3477.21736981"
       ]
      },
      {
       "output_type": "stream",
       "stream": "stdout",
       "text": [
        " 100 1.0 0.0751166535655\n",
        "reached tol!"
       ]
      },
      {
       "output_type": "stream",
       "stream": "stdout",
       "text": [
        "\n",
        "41 exluding 1112 haps but keeping 598\n",
        "1181"
       ]
      },
      {
       "output_type": "stream",
       "stream": "stdout",
       "text": [
        "\n",
        "valid reads! 1294\n",
        "-3607.19613916"
       ]
      },
      {
       "output_type": "stream",
       "stream": "stdout",
       "text": [
        " 1 1.0 0.0384410230303\n",
        "-3431.77904774"
       ]
      },
      {
       "output_type": "stream",
       "stream": "stdout",
       "text": [
        " 10 1.0 0.0787195581887\n",
        "-3409.83805393"
       ]
      },
      {
       "output_type": "stream",
       "stream": "stdout",
       "text": [
        " 100 1.0 0.078920879314\n",
        "reached tol!"
       ]
      },
      {
       "output_type": "stream",
       "stream": "stdout",
       "text": [
        "\n",
        "42 exluding 1122 haps but keeping 588\n",
        "1199"
       ]
      },
      {
       "output_type": "stream",
       "stream": "stdout",
       "text": [
        "\n",
        "valid reads! 1274\n",
        "-3544.15041011"
       ]
      },
      {
       "output_type": "stream",
       "stream": "stdout",
       "text": [
        " 1 1.0 0.039122413854\n",
        "-3368.40522877"
       ]
      },
      {
       "output_type": "stream",
       "stream": "stdout",
       "text": [
        " 10 1.0 0.0802753226175\n",
        "-3346.4588633"
       ]
      },
      {
       "output_type": "stream",
       "stream": "stdout",
       "text": [
        " 100 1.0 0.0804811293649\n",
        "reached tol!"
       ]
      },
      {
       "output_type": "stream",
       "stream": "stdout",
       "text": [
        "\n",
        "43 exluding 1132 haps but keeping 578\n",
        "1213"
       ]
      },
      {
       "output_type": "stream",
       "stream": "stdout",
       "text": [
        "\n",
        "valid reads! 1260\n",
        "-3496.78068035"
       ]
      },
      {
       "output_type": "stream",
       "stream": "stdout",
       "text": [
        " 1 1.0 0.039741165994\n",
        "-3323.15765774"
       ]
      },
      {
       "output_type": "stream",
       "stream": "stdout",
       "text": [
        " 10 1.0 0.0815198197273\n",
        "-3301.19408561"
       ]
      },
      {
       "output_type": "stream",
       "stream": "stdout",
       "text": [
        " 100 1.0 0.081731977341\n",
        "reached tol!"
       ]
      },
      {
       "output_type": "stream",
       "stream": "stdout",
       "text": [
        "\n",
        "44 exluding 1141 haps but keeping 569\n",
        "1223"
       ]
      },
      {
       "output_type": "stream",
       "stream": "stdout",
       "text": [
        "\n",
        "valid reads! 1250\n",
        "-3458.16999535"
       ]
      },
      {
       "output_type": "stream",
       "stream": "stdout",
       "text": [
        " 1 1.0 0.0405725949301\n",
        "-3286.50843185"
       ]
      },
      {
       "output_type": "stream",
       "stream": "stdout",
       "text": [
        " 10 1.0 0.0826363645051\n",
        "-3264.51402893"
       ]
      },
      {
       "output_type": "stream",
       "stream": "stdout",
       "text": [
        " 100 1.0 0.0828630435587\n",
        "reached tol!"
       ]
      },
      {
       "output_type": "stream",
       "stream": "stdout",
       "text": [
        "\n",
        "45 exluding 1150 haps but keeping 560\n",
        "1233"
       ]
      },
      {
       "output_type": "stream",
       "stream": "stdout",
       "text": [
        "\n",
        "valid reads! 1240\n",
        "-3421.24072032"
       ]
      },
      {
       "output_type": "stream",
       "stream": "stdout",
       "text": [
        " 1 1.0 0.0410763282625\n",
        "-3250.66424299"
       ]
      },
      {
       "output_type": "stream",
       "stream": "stdout",
       "text": [
        " 10 1.0 0.0836021208195\n",
        "-3228.67090685"
       ]
      },
      {
       "output_type": "stream",
       "stream": "stdout",
       "text": [
        " 100 1.0 0.0838341338541\n",
        "reached tol!"
       ]
      },
      {
       "output_type": "stream",
       "stream": "stdout",
       "text": [
        "\n",
        "46 exluding 1159 haps but keeping 551\n",
        "1242"
       ]
      },
      {
       "output_type": "stream",
       "stream": "stdout",
       "text": [
        "\n",
        "valid reads! 1231\n",
        "-3388.35839836"
       ]
      },
      {
       "output_type": "stream",
       "stream": "stdout",
       "text": [
        " 1 1.0 0.041450127003\n",
        "-3217.64650275"
       ]
      },
      {
       "output_type": "stream",
       "stream": "stdout",
       "text": [
        " 10 1.0 0.0843627084445\n",
        "-3195.64662275"
       ]
      },
      {
       "output_type": "stream",
       "stream": "stdout",
       "text": [
        " 100 1.0 0.0845968291409\n",
        "reached tol!"
       ]
      },
      {
       "output_type": "stream",
       "stream": "stdout",
       "text": [
        "\n",
        "47 exluding 1168 haps but keeping 542\n",
        "1252"
       ]
      },
      {
       "output_type": "stream",
       "stream": "stdout",
       "text": [
        "\n",
        "valid reads! 1220\n",
        "-3342.69731992"
       ]
      },
      {
       "output_type": "stream",
       "stream": "stdout",
       "text": [
        " 1 1.0 0.0442774696106\n",
        "-3176.08097687"
       ]
      },
      {
       "output_type": "stream",
       "stream": "stdout",
       "text": [
        " 10 1.0 0.0863233920236\n",
        "-3154.1920441"
       ]
      },
      {
       "output_type": "stream",
       "stream": "stdout",
       "text": [
        " 100 1.0 0.0865413703223\n",
        "reached tol!"
       ]
      },
      {
       "output_type": "stream",
       "stream": "stdout",
       "text": [
        "\n",
        "48 exluding 1177 haps but keeping 533\n",
        "1263"
       ]
      },
      {
       "output_type": "stream",
       "stream": "stdout",
       "text": [
        "\n",
        "valid reads! 1207\n",
        "-3292.14128904"
       ]
      },
      {
       "output_type": "stream",
       "stream": "stdout",
       "text": [
        " 1 1.0 0.0513718555\n",
        "-3121.04510527"
       ]
      },
      {
       "output_type": "stream",
       "stream": "stdout",
       "text": [
        " 10 1.0 0.0933274991548\n",
        "-3099.36733309"
       ]
      },
      {
       "output_type": "stream",
       "stream": "stdout",
       "text": [
        " 100 1.0 0.0933830074289\n",
        "reached tol!"
       ]
      },
      {
       "output_type": "stream",
       "stream": "stdout",
       "text": [
        "\n",
        "49 exluding 1185 haps but keeping 525\n",
        "1276"
       ]
      },
      {
       "output_type": "stream",
       "stream": "stdout",
       "text": [
        "\n",
        "valid reads! 1194\n",
        "-3245.02051668"
       ]
      },
      {
       "output_type": "stream",
       "stream": "stdout",
       "text": [
        " 1 1.0 0.0560307541371\n",
        "-3067.42199355"
       ]
      },
      {
       "output_type": "stream",
       "stream": "stdout",
       "text": [
        " 10 1.0 0.100761116648\n",
        "-3045.6395834"
       ]
      },
      {
       "output_type": "stream",
       "stream": "stdout",
       "text": [
        " 100 1.0 0.100837665228\n",
        "reached tol!"
       ]
      },
      {
       "output_type": "stream",
       "stream": "stdout",
       "text": [
        "\n",
        "50 exluding 1193 haps but keeping 517\n",
        "1284"
       ]
      },
      {
       "output_type": "stream",
       "stream": "stdout",
       "text": [
        "\n",
        "valid reads! 1186\n",
        "-3214.14209301"
       ]
      },
      {
       "output_type": "stream",
       "stream": "stdout",
       "text": [
        " 1 1.0 0.0568241291773\n",
        "-3038.29668272"
       ]
      },
      {
       "output_type": "stream",
       "stream": "stdout",
       "text": [
        " 10 1.0 0.101813617865\n",
        "-3016.50546212"
       ]
      },
      {
       "output_type": "stream",
       "stream": "stdout",
       "text": [
        " 100 1.0 0.101893292387\n",
        "reached tol!"
       ]
      },
      {
       "output_type": "stream",
       "stream": "stdout",
       "text": [
        "\n",
        "51 exluding 1201 haps but keeping 509\n",
        "1295"
       ]
      },
      {
       "output_type": "stream",
       "stream": "stdout",
       "text": [
        "\n",
        "valid reads! 1175\n",
        "-3159.53384699"
       ]
      },
      {
       "output_type": "stream",
       "stream": "stdout",
       "text": [
        " 1 1.0 0.0681621291805\n",
        "-2996.26868063"
       ]
      },
      {
       "output_type": "stream",
       "stream": "stdout",
       "text": [
        " 10 1.0 0.104374257342\n",
        "-2974.68423776"
       ]
      },
      {
       "output_type": "stream",
       "stream": "stdout",
       "text": [
        " 100 1.0 0.104367610852\n",
        "reached tol!"
       ]
      },
      {
       "output_type": "stream",
       "stream": "stdout",
       "text": [
        "\n",
        "52 exluding 1209 haps but keeping 501\n",
        "1305"
       ]
      },
      {
       "output_type": "stream",
       "stream": "stdout",
       "text": [
        "\n",
        "valid reads! 1165\n",
        "-3121.80987394"
       ]
      },
      {
       "output_type": "stream",
       "stream": "stdout",
       "text": [
        " 1 1.0 0.0695823899637\n",
        "-2961.45949287"
       ]
      },
      {
       "output_type": "stream",
       "stream": "stdout",
       "text": [
        " 10 1.0 0.105715286363\n",
        "-2939.86403054"
       ]
      },
      {
       "output_type": "stream",
       "stream": "stdout",
       "text": [
        " 100 1.0 0.10570886869\n",
        "reached tol!"
       ]
      },
      {
       "output_type": "stream",
       "stream": "stdout",
       "text": [
        "\n",
        "53 exluding 1217 haps but keeping 493\n",
        "1313"
       ]
      },
      {
       "output_type": "stream",
       "stream": "stdout",
       "text": [
        "\n",
        "valid reads! 1157\n",
        "-3075.18130469"
       ]
      },
      {
       "output_type": "stream",
       "stream": "stdout",
       "text": [
        " 1 1.0 0.0799522027934\n",
        "-2927.6822994"
       ]
      },
      {
       "output_type": "stream",
       "stream": "stdout",
       "text": [
        " 10 1.0 0.107317537621\n",
        "-2906.06248894"
       ]
      },
      {
       "output_type": "stream",
       "stream": "stdout",
       "text": [
        " 100 1.0 0.107306844289\n",
        "reached tol!"
       ]
      },
      {
       "output_type": "stream",
       "stream": "stdout",
       "text": [
        "\n",
        "54 exluding 1225 haps but keeping 485\n",
        "1322"
       ]
      },
      {
       "output_type": "stream",
       "stream": "stdout",
       "text": [
        "\n",
        "valid reads! 1148\n",
        "-3043.28539558"
       ]
      },
      {
       "output_type": "stream",
       "stream": "stdout",
       "text": [
        " 1 1.0 0.0807913819084\n",
        "-2896.00515045"
       ]
      },
      {
       "output_type": "stream",
       "stream": "stdout",
       "text": [
        " 10 1.0 0.108443552508\n",
        "-2874.36060275"
       ]
      },
      {
       "output_type": "stream",
       "stream": "stdout",
       "text": [
        " 100 1.0 0.108432659987\n",
        "reached tol!"
       ]
      },
      {
       "output_type": "stream",
       "stream": "stdout",
       "text": [
        "\n",
        "55 exluding 1233 haps but keeping 477\n",
        "1330"
       ]
      },
      {
       "output_type": "stream",
       "stream": "stdout",
       "text": [
        "\n",
        "valid reads! 1139\n",
        "-3004.47074812"
       ]
      },
      {
       "output_type": "stream",
       "stream": "stdout",
       "text": [
        " 1 1.0 0.0815218386526\n",
        "-2857.65312096"
       ]
      },
      {
       "output_type": "stream",
       "stream": "stdout",
       "text": [
        " 10 1.0 0.10942343963\n",
        "-2835.77193244"
       ]
      },
      {
       "output_type": "stream",
       "stream": "stdout",
       "text": [
        " 100 1.0 0.10941231663\n",
        "reached tol!"
       ]
      },
      {
       "output_type": "stream",
       "stream": "stdout",
       "text": [
        "\n",
        "56 exluding 1240 haps but keeping 470\n",
        "1339"
       ]
      },
      {
       "output_type": "stream",
       "stream": "stdout",
       "text": [
        "\n",
        "valid reads! 1130\n",
        "-2972.87625513"
       ]
      },
      {
       "output_type": "stream",
       "stream": "stdout",
       "text": [
        " 1 1.0 0.082358481704\n",
        "-2826.86903986"
       ]
      },
      {
       "output_type": "stream",
       "stream": "stdout",
       "text": [
        " 10 1.0 0.110548391473\n",
        "-2804.98093732"
       ]
      },
      {
       "output_type": "stream",
       "stream": "stdout",
       "text": [
        " 100 1.0 0.110537041952\n",
        "reached tol!"
       ]
      },
      {
       "output_type": "stream",
       "stream": "stdout",
       "text": [
        "\n",
        "57 exluding 1247 haps but keeping 463\n",
        "1348"
       ]
      },
      {
       "output_type": "stream",
       "stream": "stdout",
       "text": [
        "\n",
        "valid reads! 1121\n",
        "-2941.98214789"
       ]
      },
      {
       "output_type": "stream",
       "stream": "stdout",
       "text": [
        " 1 1.0 0.0832535983011\n",
        "-2796.33419146"
       ]
      },
      {
       "output_type": "stream",
       "stream": "stdout",
       "text": [
        " 10 1.0 0.111720575477\n",
        "-2774.43665205"
       ]
      },
      {
       "output_type": "stream",
       "stream": "stdout",
       "text": [
        " 100 1.0 0.11170908651\n",
        "reached tol!"
       ]
      },
      {
       "output_type": "stream",
       "stream": "stdout",
       "text": [
        "\n",
        "58 exluding 1254 haps but keeping 456\n",
        "1355"
       ]
      },
      {
       "output_type": "stream",
       "stream": "stdout",
       "text": [
        "\n",
        "valid reads! 1114\n",
        "-2916.26220192"
       ]
      },
      {
       "output_type": "stream",
       "stream": "stdout",
       "text": [
        " 1 1.0 0.0839188667807\n",
        "-2770.87983494"
       ]
      },
      {
       "output_type": "stream",
       "stream": "stdout",
       "text": [
        " 10 1.0 0.112613318883\n",
        "-2748.9717831"
       ]
      },
      {
       "output_type": "stream",
       "stream": "stdout",
       "text": [
        " 100 1.0 0.112601738136\n",
        "reached tol!"
       ]
      },
      {
       "output_type": "stream",
       "stream": "stdout",
       "text": [
        "\n",
        "59 exluding 1261 haps but keeping 449\n",
        "1363"
       ]
      },
      {
       "output_type": "stream",
       "stream": "stdout",
       "text": [
        "\n",
        "valid reads! 1106\n",
        "-2884.87338786"
       ]
      },
      {
       "output_type": "stream",
       "stream": "stdout",
       "text": [
        " 1 1.0 0.0847125358729\n",
        "-2741.70352294"
       ]
      },
      {
       "output_type": "stream",
       "stream": "stdout",
       "text": [
        " 10 1.0 0.113680988839\n",
        "-2719.74602487"
       ]
      },
      {
       "output_type": "stream",
       "stream": "stdout",
       "text": [
        " 100 1.0 0.113668824088\n",
        "reached tol!"
       ]
      },
      {
       "output_type": "stream",
       "stream": "stdout",
       "text": [
        "\n",
        "60 exluding 1268 haps but keeping 442\n",
        "1370"
       ]
      },
      {
       "output_type": "stream",
       "stream": "stdout",
       "text": [
        "\n",
        "valid reads! 1099\n",
        "-2857.52341535"
       ]
      },
      {
       "output_type": "stream",
       "stream": "stdout",
       "text": [
        " 1 1.0 0.0854012556767\n",
        "-2713.80695999"
       ]
      },
      {
       "output_type": "stream",
       "stream": "stdout",
       "text": [
        " 10 1.0 0.114605055946\n",
        "-2691.88222613"
       ]
      },
      {
       "output_type": "stream",
       "stream": "stdout",
       "text": [
        " 100 1.0 0.114592811094\n",
        "reached tol!"
       ]
      },
      {
       "output_type": "stream",
       "stream": "stdout",
       "text": [
        "\n",
        "61 exluding 1275 haps but keeping 435\n",
        "1379"
       ]
      },
      {
       "output_type": "stream",
       "stream": "stdout",
       "text": [
        "\n",
        "valid reads! 1090\n",
        "-2820.10853426"
       ]
      },
      {
       "output_type": "stream",
       "stream": "stdout",
       "text": [
        " 1 1.0 0.0876669714056\n",
        "-2681.21622252"
       ]
      },
      {
       "output_type": "stream",
       "stream": "stdout",
       "text": [
        " 10 1.0 0.116102215872\n",
        "-2659.29946364"
       ]
      },
      {
       "output_type": "stream",
       "stream": "stdout",
       "text": [
        " 100 1.0 0.116089635019\n",
        "reached tol!"
       ]
      },
      {
       "output_type": "stream",
       "stream": "stdout",
       "text": [
        "\n",
        "62 exluding 1282 haps but keeping 428\n",
        "1388"
       ]
      },
      {
       "output_type": "stream",
       "stream": "stdout",
       "text": [
        "\n",
        "valid reads! 1081\n",
        "-2781.3142349"
       ]
      },
      {
       "output_type": "stream",
       "stream": "stdout",
       "text": [
        " 1 1.0 0.088628095632\n",
        "-2645.19867093"
       ]
      },
      {
       "output_type": "stream",
       "stream": "stdout",
       "text": [
        " 10 1.0 0.117365348247\n",
        "-2623.0887956"
       ]
      },
      {
       "output_type": "stream",
       "stream": "stdout",
       "text": [
        " 100 1.0 0.117351993896\n",
        "reached tol!"
       ]
      },
      {
       "output_type": "stream",
       "stream": "stdout",
       "text": [
        "\n",
        "63 exluding 1289 haps but keeping 421\n",
        "1396"
       ]
      },
      {
       "output_type": "stream",
       "stream": "stdout",
       "text": [
        "\n",
        "valid reads! 1043\n",
        "-2631.4437981"
       ]
      },
      {
       "output_type": "stream",
       "stream": "stdout",
       "text": [
        " 1 1.0 0.0895040161976\n",
        "-2496.35625677"
       ]
      },
      {
       "output_type": "stream",
       "stream": "stdout",
       "text": [
        " 10 1.0 0.118492026789\n",
        "-2474.81325672"
       ]
      },
      {
       "output_type": "stream",
       "stream": "stdout",
       "text": [
        " 100 1.0 0.118482623959\n",
        "reached tol!"
       ]
      },
      {
       "output_type": "stream",
       "stream": "stdout",
       "text": [
        "\n",
        "64 exluding 1296 haps but keeping 414\n",
        "1410"
       ]
      },
      {
       "output_type": "stream",
       "stream": "stdout",
       "text": [
        "\n",
        "valid reads! 1008\n",
        "-2511.60517424"
       ]
      },
      {
       "output_type": "stream",
       "stream": "stdout",
       "text": [
        " 1 1.0 0.0924484229862\n",
        "-2384.68156196"
       ]
      },
      {
       "output_type": "stream",
       "stream": "stdout",
       "text": [
        " 10 1.0 0.120920659744\n",
        "-2363.36441708"
       ]
      },
      {
       "output_type": "stream",
       "stream": "stdout",
       "text": [
        " 100 1.0 0.120912783761\n",
        "reached tol!"
       ]
      },
      {
       "output_type": "stream",
       "stream": "stdout",
       "text": [
        "\n",
        "65 exluding 1303 haps but keeping 407\n",
        "1430"
       ]
      },
      {
       "output_type": "stream",
       "stream": "stdout",
       "text": [
        "\n",
        "valid reads! 985\n",
        "-2449.12342898"
       ]
      },
      {
       "output_type": "stream",
       "stream": "stdout",
       "text": [
        " 1 1.0 0.094997874883\n",
        "-2325.70686712"
       ]
      },
      {
       "output_type": "stream",
       "stream": "stdout",
       "text": [
        " 10 1.0 0.123998397595\n",
        "-2304.38456367"
       ]
      },
      {
       "output_type": "stream",
       "stream": "stdout",
       "text": [
        " 100 1.0 0.123990293597\n",
        "reached tol!"
       ]
      },
      {
       "output_type": "stream",
       "stream": "stdout",
       "text": [
        "\n",
        "66 exluding 1310 haps but keeping 400\n",
        "1445"
       ]
      },
      {
       "output_type": "stream",
       "stream": "stdout",
       "text": [
        "\n",
        "valid reads! 969\n",
        "-2397.95820649"
       ]
      },
      {
       "output_type": "stream",
       "stream": "stdout",
       "text": [
        " 1 1.0 0.0968509269388\n",
        "-2264.99994929"
       ]
      },
      {
       "output_type": "stream",
       "stream": "stdout",
       "text": [
        " 10 1.0 0.126526399474\n",
        "-2242.61810124"
       ]
      },
      {
       "output_type": "stream",
       "stream": "stdout",
       "text": [
        " 100 1.0 0.126516523193\n",
        "reached tol!"
       ]
      },
      {
       "output_type": "stream",
       "stream": "stdout",
       "text": [
        "\n",
        "67 exluding 1317 haps but keeping 393\n",
        "1452"
       ]
      },
      {
       "output_type": "stream",
       "stream": "stdout",
       "text": [
        "\n",
        "valid reads! 962\n",
        "-2360.99430845"
       ]
      },
      {
       "output_type": "stream",
       "stream": "stdout",
       "text": [
        " 1 1.0 0.0977741098411\n",
        "-2193.91578458"
       ]
      },
      {
       "output_type": "stream",
       "stream": "stdout",
       "text": [
        " 10 1.0 0.127670344178\n",
        "reached tol!"
       ]
      },
      {
       "output_type": "stream",
       "stream": "stdout",
       "text": [
        "\n",
        "68 exluding 1323 haps but keeping 387\n",
        "1486"
       ]
      },
      {
       "output_type": "stream",
       "stream": "stdout",
       "text": [
        "\n",
        "valid reads! 926\n",
        "-2288.37772167"
       ]
      },
      {
       "output_type": "stream",
       "stream": "stdout",
       "text": [
        " 1 1.0 0.102295793011\n",
        "-2180.36402855"
       ]
      },
      {
       "output_type": "stream",
       "stream": "stdout",
       "text": [
        " 10 1.0 0.137511485444\n",
        "reached tol!"
       ]
      },
      {
       "output_type": "stream",
       "stream": "stdout",
       "text": [
        "\n",
        "69 exluding 1329 haps but keeping 381\n",
        "1493"
       ]
      },
      {
       "output_type": "stream",
       "stream": "stdout",
       "text": [
        "\n",
        "valid reads! 919\n",
        "-2264.96341462"
       ]
      },
      {
       "output_type": "stream",
       "stream": "stdout",
       "text": [
        " 1 1.0 0.103267803463\n",
        "-2156.77365333"
       ]
      },
      {
       "output_type": "stream",
       "stream": "stdout",
       "text": [
        " 10 1.0 0.138829273333\n",
        "reached tol!"
       ]
      },
      {
       "output_type": "stream",
       "stream": "stdout",
       "text": [
        "\n",
        "70 exluding 1335 haps but keeping 375\n",
        "1501"
       ]
      },
      {
       "output_type": "stream",
       "stream": "stdout",
       "text": [
        "\n",
        "valid reads! 911\n",
        "-2239.1318315"
       ]
      },
      {
       "output_type": "stream",
       "stream": "stdout",
       "text": [
        " 1 1.0 0.104406768256\n",
        "-2130.71796624"
       ]
      },
      {
       "output_type": "stream",
       "stream": "stdout",
       "text": [
        " 10 1.0 0.140387286833\n",
        "reached tol!"
       ]
      },
      {
       "output_type": "stream",
       "stream": "stdout",
       "text": [
        "\n",
        "71 exluding 1341 haps but keeping 369\n",
        "1508"
       ]
      },
      {
       "output_type": "stream",
       "stream": "stdout",
       "text": [
        "\n",
        "valid reads! 904\n",
        "-2215.97774611"
       ]
      },
      {
       "output_type": "stream",
       "stream": "stdout",
       "text": [
        " 1 1.0 0.105428797838\n",
        "-2108.0401171"
       ]
      },
      {
       "output_type": "stream",
       "stream": "stdout",
       "text": [
        " 10 1.0 0.141831732079\n",
        "reached tol!"
       ]
      },
      {
       "output_type": "stream",
       "stream": "stdout",
       "text": [
        "\n",
        "72 exluding 1346 haps but keeping 364\n",
        "1514"
       ]
      },
      {
       "output_type": "stream",
       "stream": "stdout",
       "text": [
        "\n",
        "valid reads! 898\n",
        "-2194.73974324"
       ]
      },
      {
       "output_type": "stream",
       "stream": "stdout",
       "text": [
        " 1 1.0 0.106730206268\n",
        "-2086.94372489"
       ]
      },
      {
       "output_type": "stream",
       "stream": "stdout",
       "text": [
        " 10 1.0 0.143427981201\n",
        "reached tol!"
       ]
      },
      {
       "output_type": "stream",
       "stream": "stdout",
       "text": [
        "\n",
        "73 exluding 1351 haps but keeping 359\n",
        "1520"
       ]
      },
      {
       "output_type": "stream",
       "stream": "stdout",
       "text": [
        "\n",
        "valid reads! 892\n",
        "-2174.63238248"
       ]
      },
      {
       "output_type": "stream",
       "stream": "stdout",
       "text": [
        " 1 1.0 0.107656733011\n",
        "-2066.72979724"
       ]
      },
      {
       "output_type": "stream",
       "stream": "stdout",
       "text": [
        " 10 1.0 0.14478629812\n",
        "reached tol!"
       ]
      },
      {
       "output_type": "stream",
       "stream": "stdout",
       "text": [
        "\n",
        "74 exluding 1356 haps but keeping 354\n",
        "1532"
       ]
      },
      {
       "output_type": "stream",
       "stream": "stdout",
       "text": [
        "\n",
        "valid reads! 877\n",
        "-2133.21783858"
       ]
      },
      {
       "output_type": "stream",
       "stream": "stdout",
       "text": [
        " 1 1.0 0.109504917268\n",
        "-2025.322421"
       ]
      },
      {
       "output_type": "stream",
       "stream": "stdout",
       "text": [
        " 10 1.0 0.147271193021\n",
        "reached tol!"
       ]
      },
      {
       "output_type": "stream",
       "stream": "stdout",
       "text": [
        "\n",
        "75 exluding 1361 haps but keeping 349\n",
        "1600"
       ]
      },
      {
       "output_type": "stream",
       "stream": "stdout",
       "text": [
        "\n",
        "valid reads! 766\n",
        "-1944.23758024"
       ]
      },
      {
       "output_type": "stream",
       "stream": "stdout",
       "text": [
        " 1 1.0 0.0301259680891\n",
        "-1884.70093311"
       ]
      },
      {
       "output_type": "stream",
       "stream": "stdout",
       "text": [
        " 10 1.0 0.0497439297281\n",
        "reached tol!"
       ]
      },
      {
       "output_type": "stream",
       "stream": "stdout",
       "text": [
        "\n",
        "76 exluding 1365 haps but keeping 345\n",
        "1605"
       ]
      },
      {
       "output_type": "stream",
       "stream": "stdout",
       "text": [
        "\n",
        "valid reads! 761\n",
        "-1927.79269955"
       ]
      },
      {
       "output_type": "stream",
       "stream": "stdout",
       "text": [
        " 1 1.0 0.0303670576533\n",
        "-1868.14856689"
       ]
      },
      {
       "output_type": "stream",
       "stream": "stdout",
       "text": [
        " 10 1.0 0.0501231021573\n",
        "reached tol!"
       ]
      },
      {
       "output_type": "stream",
       "stream": "stdout",
       "text": [
        "\n",
        "77 exluding 1369 haps but keeping 341\n",
        "1610"
       ]
      },
      {
       "output_type": "stream",
       "stream": "stdout",
       "text": [
        "\n",
        "valid reads! 756\n",
        "-1911.54232986"
       ]
      },
      {
       "output_type": "stream",
       "stream": "stdout",
       "text": [
        " 1 1.0 0.0306120460085\n",
        "-1851.88235825"
       ]
      },
      {
       "output_type": "stream",
       "stream": "stdout",
       "text": [
        " 10 1.0 0.0504888865557\n",
        "reached tol!"
       ]
      },
      {
       "output_type": "stream",
       "stream": "stdout",
       "text": [
        "\n",
        "78 exluding 1373 haps but keeping 337\n",
        "1614"
       ]
      },
      {
       "output_type": "stream",
       "stream": "stdout",
       "text": [
        "\n",
        "valid reads! 752\n",
        "-1898.0103738"
       ]
      },
      {
       "output_type": "stream",
       "stream": "stdout",
       "text": [
        " 1 1.0 0.0308145192167\n",
        "-1838.29260712"
       ]
      },
      {
       "output_type": "stream",
       "stream": "stdout",
       "text": [
        " 10 1.0 0.0508041311826\n",
        "reached tol!"
       ]
      },
      {
       "output_type": "stream",
       "stream": "stdout",
       "text": [
        "\n",
        "79 exluding 1377 haps but keeping 333\n",
        "1618"
       ]
      },
      {
       "output_type": "stream",
       "stream": "stdout",
       "text": [
        "\n",
        "valid reads! 748\n",
        "-1884.64333967"
       ]
      },
      {
       "output_type": "stream",
       "stream": "stdout",
       "text": [
        " 1 1.0 0.0310200064998\n",
        "-1824.91826204"
       ]
      },
      {
       "output_type": "stream",
       "stream": "stdout",
       "text": [
        " 10 1.0 0.0511207171444\n",
        "reached tol!"
       ]
      },
      {
       "output_type": "stream",
       "stream": "stdout",
       "text": [
        "\n",
        "80 exluding 1381 haps but keeping 329\n",
        "1622"
       ]
      },
      {
       "output_type": "stream",
       "stream": "stdout",
       "text": [
        "\n",
        "valid reads! 744\n",
        "-1870.7904646"
       ]
      },
      {
       "output_type": "stream",
       "stream": "stdout",
       "text": [
        " 1 1.0 0.0312703298152\n",
        "-1811.40099305"
       ]
      },
      {
       "output_type": "stream",
       "stream": "stdout",
       "text": [
        " 10 1.0 0.0514812481485\n",
        "reached tol!"
       ]
      },
      {
       "output_type": "stream",
       "stream": "stdout",
       "text": [
        "\n",
        "81 exluding 1385 haps but keeping 325\n",
        "1626"
       ]
      },
      {
       "output_type": "stream",
       "stream": "stdout",
       "text": [
        "\n",
        "valid reads! 740\n",
        "-1855.76786229"
       ]
      },
      {
       "output_type": "stream",
       "stream": "stdout",
       "text": [
        " 1 1.0 0.0319364542712\n",
        "-1797.92784896 10 1.0 0.0518485517126\n",
        "reached tol!"
       ]
      },
      {
       "output_type": "stream",
       "stream": "stdout",
       "text": [
        "\n",
        "82 exluding 1389 haps but keeping 321\n",
        "1630"
       ]
      },
      {
       "output_type": "stream",
       "stream": "stdout",
       "text": [
        "\n",
        "valid reads! 736\n",
        "-1841.40518285"
       ]
      },
      {
       "output_type": "stream",
       "stream": "stdout",
       "text": [
        " 1 1.0 0.0322344137652\n",
        "-1784.35655256 10 1.0 0.05223047686\n",
        "reached tol!"
       ]
      },
      {
       "output_type": "stream",
       "stream": "stdout",
       "text": [
        "\n",
        "83 exluding 1393 haps but keeping 317\n",
        "1636"
       ]
      },
      {
       "output_type": "stream",
       "stream": "stdout",
       "text": [
        "\n",
        "valid reads! 730\n",
        "-1821.27615495"
       ]
      },
      {
       "output_type": "stream",
       "stream": "stdout",
       "text": [
        " 1 1.0 0.0327889943856\n",
        "-1765.80504567 10 1.0 0.052843244053\n",
        "reached tol!"
       ]
      },
      {
       "output_type": "stream",
       "stream": "stdout",
       "text": [
        "\n",
        "84 exluding 1397 haps but keeping 313\n",
        "1640"
       ]
      },
      {
       "output_type": "stream",
       "stream": "stdout",
       "text": [
        "\n",
        "valid reads! 726\n",
        "-1805.65912407"
       ]
      },
      {
       "output_type": "stream",
       "stream": "stdout",
       "text": [
        " 1 1.0 0.033314576631\n",
        "-1751.44088011 10 1.0 0.0532825765659\n",
        "reached tol!"
       ]
      },
      {
       "output_type": "stream",
       "stream": "stdout",
       "text": [
        "\n",
        "85 exluding 1401 haps but keeping 309\n",
        "1644"
       ]
      },
      {
       "output_type": "stream",
       "stream": "stdout",
       "text": [
        "\n",
        "valid reads! 722\n",
        "-1789.23760194"
       ]
      },
      {
       "output_type": "stream",
       "stream": "stdout",
       "text": [
        " 1 1.0 0.034035495705\n",
        "-1737.27394089 10 1.0 0.0537728661932\n",
        "reached tol!"
       ]
      },
      {
       "output_type": "stream",
       "stream": "stdout",
       "text": [
        "\n",
        "86 exluding 1405 haps but keeping 305\n",
        "1650"
       ]
      },
      {
       "output_type": "stream",
       "stream": "stdout",
       "text": [
        "\n",
        "valid reads! 716\n",
        "-1766.84135326"
       ]
      },
      {
       "output_type": "stream",
       "stream": "stdout",
       "text": [
        " 1 1.0 0.0353486508392\n",
        "-1716.64749454 10 1.0 0.0548122685435\n",
        "reached tol!"
       ]
      },
      {
       "output_type": "stream",
       "stream": "stdout",
       "text": [
        "\n",
        "87 exluding 1409 haps but keeping 301\n",
        "1658"
       ]
      },
      {
       "output_type": "stream",
       "stream": "stdout",
       "text": [
        "\n",
        "valid reads! 708\n",
        "-1744.18562956"
       ]
      },
      {
       "output_type": "stream",
       "stream": "stdout",
       "text": [
        " 1 1.0 0.035848487814\n",
        "-1695.11495594 10 1.0 0.055582439997\n",
        "reached tol!"
       ]
      },
      {
       "output_type": "stream",
       "stream": "stdout",
       "text": [
        "\n",
        "88 exluding 1413 haps but keeping 297\n",
        "1664"
       ]
      },
      {
       "output_type": "stream",
       "stream": "stdout",
       "text": [
        "\n",
        "valid reads! 702\n",
        "-1721.62176416"
       ]
      },
      {
       "output_type": "stream",
       "stream": "stdout",
       "text": [
        " 1 1.0 0.0375708843985\n",
        "-1674.18030499 10 1.0 0.0569969811507\n",
        "reached tol!"
       ]
      },
      {
       "output_type": "stream",
       "stream": "stdout",
       "text": [
        "\n",
        "89 exluding 1417 haps but keeping 293\n",
        "1670"
       ]
      },
      {
       "output_type": "stream",
       "stream": "stdout",
       "text": [
        "\n",
        "valid reads! 695\n",
        "-1695.35547443"
       ]
      },
      {
       "output_type": "stream",
       "stream": "stdout",
       "text": [
        " 1 1.0 0.0401237744843\n",
        "-1650.79865558 10 1.0 0.0586238865097\n",
        "reached tol!"
       ]
      },
      {
       "output_type": "stream",
       "stream": "stdout",
       "text": [
        "\n",
        "90 exluding 1421 haps but keeping 289\n",
        "1675"
       ]
      },
      {
       "output_type": "stream",
       "stream": "stdout",
       "text": [
        "\n",
        "valid reads! 690\n",
        "-1670.89401568"
       ]
      },
      {
       "output_type": "stream",
       "stream": "stdout",
       "text": [
        " 1 1.0 0.0439796608884\n",
        "-1632.57534545 10 1.0 0.0598012878668\n",
        "reached tol!"
       ]
      },
      {
       "output_type": "stream",
       "stream": "stdout",
       "text": [
        "\n",
        "91 exluding 1425 haps but keeping 285\n",
        "1680"
       ]
      },
      {
       "output_type": "stream",
       "stream": "stdout",
       "text": [
        "\n",
        "valid reads! 685\n",
        "-1630.83980145"
       ]
      },
      {
       "output_type": "stream",
       "stream": "stdout",
       "text": [
        " 1 1.0 0.0617419709752\n",
        "-1590.82743914 10 1.0 0.0846898992303\n",
        "-1578.61337683"
       ]
      },
      {
       "output_type": "stream",
       "stream": "stdout",
       "text": [
        " 100 1.0 0.103187645768\n",
        "reached tol!\n",
        "92 exluding 1429 haps but keeping 281\n",
        "1687"
       ]
      },
      {
       "output_type": "stream",
       "stream": "stdout",
       "text": [
        "\n",
        "valid reads! 678\n",
        "-1571.24564349"
       ]
      },
      {
       "output_type": "stream",
       "stream": "stdout",
       "text": [
        " 1 1.0 0.108768382353\n",
        "-1527.79026723 10 1.0 0.122940985993\n",
        "reached tol!"
       ]
      },
      {
       "output_type": "stream",
       "stream": "stdout",
       "text": [
        "\n",
        "93 exluding 1433 haps but keeping 277\n",
        "1746"
       ]
      },
      {
       "output_type": "stream",
       "stream": "stdout",
       "text": [
        "\n",
        "valid reads! 512\n",
        "-1208.05954038"
       ]
      },
      {
       "output_type": "stream",
       "stream": "stdout",
       "text": [
        " 1 1.0 0.0390167208559\n",
        "-1177.1153682 10 1.0 0.0543080767984\n",
        "reached tol!"
       ]
      },
      {
       "output_type": "stream",
       "stream": "stdout",
       "text": [
        "\n",
        "94 exluding 1437 haps but keeping 273\n",
        "1752"
       ]
      },
      {
       "output_type": "stream",
       "stream": "stdout",
       "text": [
        "\n",
        "valid reads! 506\n",
        "-1188.20854283"
       ]
      },
      {
       "output_type": "stream",
       "stream": "stdout",
       "text": [
        " 1 1.0 0.040653673518\n",
        "-1158.0537664 10 1.0 0.0558818838938\n",
        "reached tol!"
       ]
      },
      {
       "output_type": "stream",
       "stream": "stdout",
       "text": [
        "\n",
        "95 exluding 1441 haps but keeping 269\n",
        "1758"
       ]
      },
      {
       "output_type": "stream",
       "stream": "stdout",
       "text": [
        "\n",
        "valid reads! 500\n",
        "-1170.20079283"
       ]
      },
      {
       "output_type": "stream",
       "stream": "stdout",
       "text": [
        " 1 1.0 0.0411724098304\n",
        "-1140.02265968 10 1.0 0.0565996650211\n",
        "reached tol!"
       ]
      },
      {
       "output_type": "stream",
       "stream": "stdout",
       "text": [
        "\n",
        "96 exluding 1445 haps but keeping 265\n",
        "1763"
       ]
      },
      {
       "output_type": "stream",
       "stream": "stdout",
       "text": [
        "\n",
        "valid reads! 495\n",
        "-1155.46392037"
       ]
      },
      {
       "output_type": "stream",
       "stream": "stdout",
       "text": [
        " 1 1.0 0.0416122860039\n",
        "-1127.13470835 10 1.0 0.057203197387\n",
        "reached tol!"
       ]
      },
      {
       "output_type": "stream",
       "stream": "stdout",
       "text": [
        "\n",
        "97 exluding 1448 haps but keeping 262\n",
        "1766"
       ]
      },
      {
       "output_type": "stream",
       "stream": "stdout",
       "text": [
        "\n",
        "valid reads! 492\n",
        "-1146.05007741"
       ]
      },
      {
       "output_type": "stream",
       "stream": "stdout",
       "text": [
        " 1 1.0 0.0418807523652\n",
        "-1117.72221335 10 1.0 0.0575713851875\n",
        "reached tol!"
       ]
      },
      {
       "output_type": "stream",
       "stream": "stdout",
       "text": [
        "\n",
        "98 exluding 1451 haps but keeping 259\n",
        "1770"
       ]
      },
      {
       "output_type": "stream",
       "stream": "stdout",
       "text": [
        "\n",
        "valid reads! 488\n",
        "-1134.04052601"
       ]
      },
      {
       "output_type": "stream",
       "stream": "stdout",
       "text": [
        " 1 1.0 0.0422665491729\n",
        "-1105.52444741 10 1.0 0.0581583400031\n",
        "reached tol!"
       ]
      },
      {
       "output_type": "stream",
       "stream": "stdout",
       "text": [
        "\n",
        "99 exluding 1454 haps but keeping 256\n",
        "1773"
       ]
      },
      {
       "output_type": "stream",
       "stream": "stdout",
       "text": [
        "\n",
        "valid reads! 485\n",
        "-1124.32332049"
       ]
      },
      {
       "output_type": "stream",
       "stream": "stdout",
       "text": [
        " 1 1.0 0.0425434042984\n",
        "-1095.93055479 10 1.0 0.0585398030759\n",
        "reached tol!"
       ]
      },
      {
       "output_type": "stream",
       "stream": "stdout",
       "text": [
        "\n",
        "100 exluding 1457 haps but keeping 253\n",
        "1776"
       ]
      },
      {
       "output_type": "stream",
       "stream": "stdout",
       "text": [
        "\n",
        "valid reads! 482\n",
        "-1114.89302102"
       ]
      },
      {
       "output_type": "stream",
       "stream": "stdout",
       "text": [
        " 1 1.0 0.0428239102608\n",
        "-1086.50756461 10 1.0 0.0589259861289\n",
        "reached tol!"
       ]
      },
      {
       "output_type": "stream",
       "stream": "stdout",
       "text": [
        "\n",
        "101 exluding 1460 haps but keeping 250\n",
        "1779"
       ]
      },
      {
       "output_type": "stream",
       "stream": "stdout",
       "text": [
        "\n",
        "valid reads! 479\n",
        "-1105.00609272"
       ]
      },
      {
       "output_type": "stream",
       "stream": "stdout",
       "text": [
        " 1 1.0 0.0431081397537\n",
        "-1076.62460433 10 1.0 0.0593172120256\n",
        "reached tol!"
       ]
      },
      {
       "output_type": "stream",
       "stream": "stdout",
       "text": [
        "\n",
        "102 exluding 1463 haps but keeping 247\n",
        "1783"
       ]
      },
      {
       "output_type": "stream",
       "stream": "stdout",
       "text": [
        "\n",
        "valid reads! 475\n",
        "-1092.74628483"
       ]
      },
      {
       "output_type": "stream",
       "stream": "stdout",
       "text": [
        " 1 1.0 0.0435352076437\n",
        "-1063.93894801 10 1.0 0.0599631000804\n",
        "reached tol!"
       ]
      },
      {
       "output_type": "stream",
       "stream": "stdout",
       "text": [
        "\n",
        "103 exluding 1466 haps but keeping 244\n",
        "1787"
       ]
      },
      {
       "output_type": "stream",
       "stream": "stdout",
       "text": [
        "\n",
        "valid reads! 471\n",
        "-1080.79907219"
       ]
      },
      {
       "output_type": "stream",
       "stream": "stdout",
       "text": [
        " 1 1.0 0.0439351456231\n",
        "-1051.89110778 10 1.0 0.060553701906\n",
        "reached tol!"
       ]
      },
      {
       "output_type": "stream",
       "stream": "stdout",
       "text": [
        "\n",
        "104 exluding 1469 haps but keeping 241\n",
        "1791"
       ]
      },
      {
       "output_type": "stream",
       "stream": "stdout",
       "text": [
        "\n",
        "valid reads! 467\n",
        "-1064.80976463"
       ]
      },
      {
       "output_type": "stream",
       "stream": "stdout",
       "text": [
        " 1 1.0 0.0468052838282\n",
        "-1038.70019244 10 1.0 0.0618329324266\n",
        "reached tol!"
       ]
      },
      {
       "output_type": "stream",
       "stream": "stdout",
       "text": [
        "\n",
        "105 exluding 1472 haps but keeping 238\n",
        "1794"
       ]
      },
      {
       "output_type": "stream",
       "stream": "stdout",
       "text": [
        "\n",
        "valid reads! 464\n",
        "-1055.15970437"
       ]
      },
      {
       "output_type": "stream",
       "stream": "stdout",
       "text": [
        " 1 1.0 0.047129463767\n",
        "-1029.05401783 10 1.0 0.0622670134875\n",
        "reached tol!"
       ]
      },
      {
       "output_type": "stream",
       "stream": "stdout",
       "text": [
        "\n",
        "106 exluding 1475 haps but keeping 235\n",
        "1799"
       ]
      },
      {
       "output_type": "stream",
       "stream": "stdout",
       "text": [
        "\n",
        "valid reads! 458\n",
        "-1038.16851376"
       ]
      },
      {
       "output_type": "stream",
       "stream": "stdout",
       "text": [
        " 1 1.0 0.0476749436717\n",
        "-1012.24467661 10 1.0 0.0629673199952\n",
        "reached tol!"
       ]
      },
      {
       "output_type": "stream",
       "stream": "stdout",
       "text": [
        "\n",
        "107 exluding 1478 haps but keeping 232\n",
        "1802"
       ]
      },
      {
       "output_type": "stream",
       "stream": "stdout",
       "text": [
        "\n",
        "valid reads! 455\n",
        "-1028.84118958"
       ]
      },
      {
       "output_type": "stream",
       "stream": "stdout",
       "text": [
        " 1 1.0 0.0480083348862\n",
        "-1002.91080286 10 1.0 0.0634081756083\n",
        "reached tol!"
       ]
      },
      {
       "output_type": "stream",
       "stream": "stdout",
       "text": [
        "\n",
        "108 exluding 1481 haps but keeping 229\n",
        "1806"
       ]
      },
      {
       "output_type": "stream",
       "stream": "stdout",
       "text": [
        "\n",
        "valid reads! 451\n",
        "-1017.00498388"
       ]
      },
      {
       "output_type": "stream",
       "stream": "stdout",
       "text": [
        " 1 1.0 0.048460178038\n",
        "-991.058286811 10 1.0 0.0640043553796\n",
        "reached tol!"
       ]
      },
      {
       "output_type": "stream",
       "stream": "stdout",
       "text": [
        "\n",
        "109 exluding 1484 haps but keeping 226\n",
        "1809"
       ]
      },
      {
       "output_type": "stream",
       "stream": "stdout",
       "text": [
        "\n",
        "valid reads! 448\n",
        "-1007.62494953"
       ]
      },
      {
       "output_type": "stream",
       "stream": "stdout",
       "text": [
        " 1 1.0 0.0488046816734\n",
        "-981.666965444 10 1.0 0.0644508929616\n",
        "reached tol!"
       ]
      },
      {
       "output_type": "stream",
       "stream": "stdout",
       "text": [
        "\n",
        "110 exluding 1487 haps but keeping 223\n",
        "1812"
       ]
      },
      {
       "output_type": "stream",
       "stream": "stdout",
       "text": [
        "\n",
        "valid reads! 445\n",
        "-997.637390766"
       ]
      },
      {
       "output_type": "stream",
       "stream": "stdout",
       "text": [
        " 1 1.0 0.0491607634135\n",
        "-971.858261825 10 1.0 0.0649326356147\n",
        "reached tol!"
       ]
      },
      {
       "output_type": "stream",
       "stream": "stdout",
       "text": [
        "\n",
        "111 exluding 1490 haps but keeping 220\n",
        "1817"
       ]
      },
      {
       "output_type": "stream",
       "stream": "stdout",
       "text": [
        "\n",
        "valid reads! 440\n",
        "-983.255569869"
       ]
      },
      {
       "output_type": "stream",
       "stream": "stdout",
       "text": [
        " 1 1.0 0.0497544924403\n",
        "-957.616379879 10 1.0 0.0656969974084\n",
        "reached tol!"
       ]
      },
      {
       "output_type": "stream",
       "stream": "stdout",
       "text": [
        "\n",
        "112 exluding 1493 haps but keeping 217\n",
        "1821"
       ]
      },
      {
       "output_type": "stream",
       "stream": "stdout",
       "text": [
        "\n",
        "valid reads! 436\n",
        "-971.116797208"
       ]
      },
      {
       "output_type": "stream",
       "stream": "stdout",
       "text": [
        " 1 1.0 0.0502399021226\n",
        "-945.318772779 10 1.0 0.066337529834\n",
        "reached tol!"
       ]
      },
      {
       "output_type": "stream",
       "stream": "stdout",
       "text": [
        "\n",
        "113 exluding 1496 haps but keeping 214\n",
        "1824"
       ]
      },
      {
       "output_type": "stream",
       "stream": "stdout",
       "text": [
        "\n",
        "valid reads! 433\n",
        "-961.422769427"
       ]
      },
      {
       "output_type": "stream",
       "stream": "stdout",
       "text": [
        " 1 1.0 0.0506137158363\n",
        "-935.640376704 10 1.0 0.0668372251121\n",
        "reached tol!"
       ]
      },
      {
       "output_type": "stream",
       "stream": "stdout",
       "text": [
        "\n",
        "114 exluding 1499 haps but keeping 211\n",
        "1827"
       ]
      },
      {
       "output_type": "stream",
       "stream": "stdout",
       "text": [
        "\n",
        "valid reads! 430\n",
        "-951.831187873"
       ]
      },
      {
       "output_type": "stream",
       "stream": "stdout",
       "text": [
        " 1 1.0 0.0510778651395\n",
        "-926.169569113 10 1.0 0.0673878114076\n",
        "reached tol!"
       ]
      },
      {
       "output_type": "stream",
       "stream": "stdout",
       "text": [
        "\n",
        "115 exluding 1502 haps but keeping 208\n",
        "1831"
       ]
      },
      {
       "output_type": "stream",
       "stream": "stdout",
       "text": [
        "\n",
        "valid reads! 426\n",
        "-940.171969717"
       ]
      },
      {
       "output_type": "stream",
       "stream": "stdout",
       "text": [
        " 1 1.0 0.0515886437908\n",
        "-914.507069531 10 1.0 0.0680616895216\n",
        "reached tol!"
       ]
      },
      {
       "output_type": "stream",
       "stream": "stdout",
       "text": [
        "\n",
        "116 exluding 1505 haps but keeping 205\n",
        "1834"
       ]
      },
      {
       "output_type": "stream",
       "stream": "stdout",
       "text": [
        "\n",
        "valid reads! 423\n",
        "-930.382361014"
       ]
      },
      {
       "output_type": "stream",
       "stream": "stdout",
       "text": [
        " 1 1.0 0.052021595792\n",
        "-904.440899806 10 1.0 0.0686682564658\n",
        "reached tol!"
       ]
      },
      {
       "output_type": "stream",
       "stream": "stdout",
       "text": [
        "\n",
        "117 exluding 1508 haps but keeping 202\n",
        "1837"
       ]
      },
      {
       "output_type": "stream",
       "stream": "stdout",
       "text": [
        "\n",
        "valid reads! 420\n",
        "-920.666296614"
       ]
      },
      {
       "output_type": "stream",
       "stream": "stdout",
       "text": [
        " 1 1.0 0.0524247820435\n",
        "-894.722901395 10 1.0 0.069184999476\n",
        "reached tol!"
       ]
      },
      {
       "output_type": "stream",
       "stream": "stdout",
       "text": [
        "\n",
        "118 exluding 1511 haps but keeping 199\n",
        "1841"
       ]
      },
      {
       "output_type": "stream",
       "stream": "stdout",
       "text": [
        "\n",
        "valid reads! 416\n",
        "-908.950729936"
       ]
      },
      {
       "output_type": "stream",
       "stream": "stdout",
       "text": [
        " 1 1.0 0.0529624721157\n",
        "-882.943343909 10 1.0 0.0698859662377\n",
        "reached tol!"
       ]
      },
      {
       "output_type": "stream",
       "stream": "stdout",
       "text": [
        "\n",
        "119 exluding 1514 haps but keeping 196\n",
        "1845"
       ]
      },
      {
       "output_type": "stream",
       "stream": "stdout",
       "text": [
        "\n",
        "valid reads! 412\n",
        "-897.326104403"
       ]
      },
      {
       "output_type": "stream",
       "stream": "stdout",
       "text": [
        " 1 1.0 0.0535113060236\n",
        "-871.299404486 10 1.0 0.0706092512878\n",
        "reached tol!"
       ]
      },
      {
       "output_type": "stream",
       "stream": "stdout",
       "text": [
        "\n",
        "120 exluding 1517 haps but keeping 193\n",
        "1850"
       ]
      },
      {
       "output_type": "stream",
       "stream": "stdout",
       "text": [
        "\n",
        "valid reads! 406\n",
        "-880.049696528"
       ]
      },
      {
       "output_type": "stream",
       "stream": "stdout",
       "text": [
        " 1 1.0 0.05425728034\n",
        "-853.646839136 10 1.0 0.0717196694474\n",
        "reached tol!"
       ]
      },
      {
       "output_type": "stream",
       "stream": "stdout",
       "text": [
        "\n",
        "121 exluding 1520 haps but keeping 190\n",
        "1853"
       ]
      },
      {
       "output_type": "stream",
       "stream": "stdout",
       "text": [
        "\n",
        "valid reads! 403\n",
        "-870.875378899"
       ]
      },
      {
       "output_type": "stream",
       "stream": "stdout",
       "text": [
        " 1 1.0 0.0546962681583\n",
        "-844.479869852 10 1.0 0.0723169722402\n",
        "reached tol!"
       ]
      },
      {
       "output_type": "stream",
       "stream": "stdout",
       "text": [
        "\n",
        "122 exluding 1523 haps but keeping 187\n",
        "1857"
       ]
      },
      {
       "output_type": "stream",
       "stream": "stdout",
       "text": [
        "\n",
        "valid reads! 399\n",
        "-859.199326559"
       ]
      },
      {
       "output_type": "stream",
       "stream": "stdout",
       "text": [
        " 1 1.0 0.0552812549835\n",
        "-832.72946973 10 1.0 0.0730904124317\n",
        "reached tol!"
       ]
      },
      {
       "output_type": "stream",
       "stream": "stdout",
       "text": [
        "\n",
        "123 exluding 1526 haps but keeping 184\n",
        "1860"
       ]
      },
      {
       "output_type": "stream",
       "stream": "stdout",
       "text": [
        "\n",
        "valid reads! 396\n",
        "-849.667835452"
       ]
      },
      {
       "output_type": "stream",
       "stream": "stdout",
       "text": [
        " 1 1.0 0.0557282732179\n",
        "-823.149682192 10 1.0 0.0736411188276\n",
        "reached tol!"
       ]
      },
      {
       "output_type": "stream",
       "stream": "stdout",
       "text": [
        "\n",
        "124 exluding 1529 haps but keeping 181\n",
        "1866"
       ]
      },
      {
       "output_type": "stream",
       "stream": "stdout",
       "text": [
        "\n",
        "valid reads! 390\n",
        "-833.980101561"
       ]
      },
      {
       "output_type": "stream",
       "stream": "stdout",
       "text": [
        " 1 1.0 0.0566443544215\n",
        "-807.445088794 10 1.0 0.0748516567623\n",
        "reached tol!"
       ]
      },
      {
       "output_type": "stream",
       "stream": "stdout",
       "text": [
        "\n",
        "125 exluding 1532 haps but keeping 178\n",
        "1869"
       ]
      },
      {
       "output_type": "stream",
       "stream": "stdout",
       "text": [
        "\n",
        "valid reads! 387\n",
        "-824.470424157"
       ]
      },
      {
       "output_type": "stream",
       "stream": "stdout",
       "text": [
        " 1 1.0 0.0571167531289\n",
        "-798.143529794 10 1.0 0.0754843378733\n",
        "reached tol!"
       ]
      },
      {
       "output_type": "stream",
       "stream": "stdout",
       "text": [
        "\n",
        "126 exluding 1535 haps but keeping 175\n",
        "1873"
       ]
      },
      {
       "output_type": "stream",
       "stream": "stdout",
       "text": [
        "\n",
        "valid reads! 383\n",
        "-812.643382577"
       ]
      },
      {
       "output_type": "stream",
       "stream": "stdout",
       "text": [
        " 1 1.0 0.0577645833907\n",
        "-786.286774187 10 1.0 0.0763565379138\n",
        "reached tol!"
       ]
      },
      {
       "output_type": "stream",
       "stream": "stdout",
       "text": [
        "\n",
        "127 exluding 1538 haps but keeping 172\n",
        "1877"
       ]
      },
      {
       "output_type": "stream",
       "stream": "stdout",
       "text": [
        "\n",
        "valid reads! 379\n",
        "-800.888368167"
       ]
      },
      {
       "output_type": "stream",
       "stream": "stdout",
       "text": [
        " 1 1.0 0.0584277529875\n",
        "-774.680881629 10 1.0 0.0772509425965\n",
        "reached tol!"
       ]
      },
      {
       "output_type": "stream",
       "stream": "stdout",
       "text": [
        "\n",
        "128 exluding 1541 haps but keeping 169\n",
        "1880"
       ]
      },
      {
       "output_type": "stream",
       "stream": "stdout",
       "text": [
        "\n",
        "valid reads! 376\n",
        "-791.705949597"
       ]
      },
      {
       "output_type": "stream",
       "stream": "stdout",
       "text": [
        " 1 1.0 0.0589271354916\n",
        "-765.560763422 10 1.0 0.0779057481848\n",
        "reached tol!"
       ]
      },
      {
       "output_type": "stream",
       "stream": "stdout",
       "text": [
        "\n",
        "129 exluding 1544 haps but keeping 166\n",
        "1883"
       ]
      },
      {
       "output_type": "stream",
       "stream": "stdout",
       "text": [
        "\n",
        "valid reads! 372\n",
        "-779.522066158"
       ]
      },
      {
       "output_type": "stream",
       "stream": "stdout",
       "text": [
        " 1 1.0 0.059435128039\n",
        "-753.38012222 10 1.0 0.0785776922151\n",
        "reached tol!"
       ]
      },
      {
       "output_type": "stream",
       "stream": "stdout",
       "text": [
        "\n",
        "130 exluding 1547 haps but keeping 163\n",
        "1886"
       ]
      },
      {
       "output_type": "stream",
       "stream": "stdout",
       "text": [
        "\n",
        "valid reads! 369\n",
        "-770.43738598"
       ]
      },
      {
       "output_type": "stream",
       "stream": "stdout",
       "text": [
        " 1 1.0 0.0599519552393\n",
        "-744.310341672 10 1.0 0.0792582665304\n",
        "reached tol!"
       ]
      },
      {
       "output_type": "stream",
       "stream": "stdout",
       "text": [
        "\n",
        "131 exluding 1550 haps but keeping 160\n",
        "1892"
       ]
      },
      {
       "output_type": "stream",
       "stream": "stdout",
       "text": [
        "\n",
        "valid reads! 363\n",
        "-754.981027522"
       ]
      },
      {
       "output_type": "stream",
       "stream": "stdout",
       "text": [
        " 1 1.0 0.0610130517922\n",
        "-729.323928227 10 1.0 0.0806610679535\n",
        "reached tol!"
       ]
      },
      {
       "output_type": "stream",
       "stream": "stdout",
       "text": [
        "\n",
        "132 exluding 1553 haps but keeping 157\n",
        "1899"
       ]
      },
      {
       "output_type": "stream",
       "stream": "stdout",
       "text": [
        "\n",
        "valid reads! 356\n",
        "-738.274343324"
       ]
      },
      {
       "output_type": "stream",
       "stream": "stdout",
       "text": [
        " 1 1.0 0.0622994715589\n",
        "-713.459169245 10 1.0 0.0814132544042\n",
        "reached tol!"
       ]
      },
      {
       "output_type": "stream",
       "stream": "stdout",
       "text": [
        "\n",
        "133 exluding 1556 haps but keeping 154\n",
        "1906"
       ]
      },
      {
       "output_type": "stream",
       "stream": "stdout",
       "text": [
        "\n",
        "valid reads! 349\n",
        "-721.438398169"
       ]
      },
      {
       "output_type": "stream",
       "stream": "stdout",
       "text": [
        " 1 1.0 0.063641306331\n",
        "-697.197259575 10 1.0 0.0831204808217\n",
        "reached tol!"
       ]
      },
      {
       "output_type": "stream",
       "stream": "stdout",
       "text": [
        "\n",
        "134 exluding 1559 haps but keeping 151\n",
        "1909"
       ]
      },
      {
       "output_type": "stream",
       "stream": "stdout",
       "text": [
        "\n",
        "valid reads! 346\n",
        "-710.646695344 1 1.0 0.064295510103\n",
        "-687.696047054"
       ]
      },
      {
       "output_type": "stream",
       "stream": "stdout",
       "text": [
        " 10 1.0 0.0841142903542\n",
        "reached tol!\n",
        "135 exluding 1561 haps but keeping 149\n",
        "1912"
       ]
      },
      {
       "output_type": "stream",
       "stream": "stdout",
       "text": [
        "\n",
        "valid reads! 343\n",
        "-701.95038653 1 1.0 0.0649710187641\n",
        "-678.644598966"
       ]
      },
      {
       "output_type": "stream",
       "stream": "stdout",
       "text": [
        " 10 1.0 0.0850243169808\n",
        "reached tol!\n",
        "136 exluding 1563 haps but keeping 147\n",
        "1914"
       ]
      },
      {
       "output_type": "stream",
       "stream": "stdout",
       "text": [
        "\n",
        "valid reads! 341\n",
        "-694.961619646 1 1.0 0.0656212819777\n",
        "-672.031604689"
       ]
      },
      {
       "output_type": "stream",
       "stream": "stdout",
       "text": [
        " 10 1.0 0.0857314038746\n",
        "reached tol!\n",
        "137 exluding 1565 haps but keeping 145\n",
        "1916"
       ]
      },
      {
       "output_type": "stream",
       "stream": "stdout",
       "text": [
        "\n",
        "valid reads! 339\n",
        "-688.699644493 1 1.0 0.0661356212226\n",
        "-665.829678376"
       ]
      },
      {
       "output_type": "stream",
       "stream": "stdout",
       "text": [
        " 10 1.0 0.0863962760274\n",
        "reached tol!\n",
        "138 exluding 1567 haps but keeping 143\n",
        "1918"
       ]
      },
      {
       "output_type": "stream",
       "stream": "stdout",
       "text": [
        "\n",
        "valid reads! 337\n",
        "-681.966160401 1 1.0 0.0666756816673\n",
        "-658.639264303"
       ]
      },
      {
       "output_type": "stream",
       "stream": "stdout",
       "text": [
        " 10 1.0 0.0870815299426\n",
        "reached tol!\n",
        "139 exluding 1569 haps but keeping 141\n",
        "1921"
       ]
      },
      {
       "output_type": "stream",
       "stream": "stdout",
       "text": [
        "\n",
        "valid reads! 334\n",
        "-673.079555581 1 1.0 0.0673209301996\n",
        "-650.374571116"
       ]
      },
      {
       "output_type": "stream",
       "stream": "stdout",
       "text": [
        " 10 1.0 0.0879095264016\n",
        "reached tol!\n",
        "140 exluding 1571 haps but keeping 139\n",
        "1923"
       ]
      },
      {
       "output_type": "stream",
       "stream": "stdout",
       "text": [
        "\n",
        "valid reads! 332\n",
        "-667.030493788 1 1.0 0.067758079097\n",
        "-644.281527145"
       ]
      },
      {
       "output_type": "stream",
       "stream": "stdout",
       "text": [
        " 10 1.0 0.0884812815147\n",
        "reached tol!\n",
        "141 exluding 1573 haps but keeping 137\n",
        "1928"
       ]
      },
      {
       "output_type": "stream",
       "stream": "stdout",
       "text": [
        "\n",
        "valid reads! 327\n",
        "-654.389496597 1 1.0 0.0688958440357\n",
        "-631.530851842"
       ]
      },
      {
       "output_type": "stream",
       "stream": "stdout",
       "text": [
        " 10 1.0 0.0900436678157\n",
        "reached tol!\n",
        "142 exluding 1575 haps but keeping 135\n",
        "1936"
       ]
      },
      {
       "output_type": "stream",
       "stream": "stdout",
       "text": [
        "\n",
        "valid reads! 319\n",
        "-637.450960839 1 1.0 0.0707642059079\n",
        "-615.23232119"
       ]
      },
      {
       "output_type": "stream",
       "stream": "stdout",
       "text": [
        " 10 1.0 0.0924097540319\n",
        "reached tol!\n",
        "143 exluding 1577 haps but keeping 133\n",
        "1952"
       ]
      },
      {
       "output_type": "stream",
       "stream": "stdout",
       "text": [
        "\n",
        "valid reads! 291\n",
        "-587.141653492 1 1.0 0.0437221679157\n",
        "-570.338512562 10 1.0 0.0579872534776\n",
        "reached tol!"
       ]
      },
      {
       "output_type": "stream",
       "stream": "stdout",
       "text": [
        "\n",
        "144 exluding 1579 haps but keeping 131\n",
        "1954"
       ]
      },
      {
       "output_type": "stream",
       "stream": "stdout",
       "text": [
        "\n",
        "valid reads! 289\n",
        "-581.051326618 1 1.0 0.0440378514386\n",
        "-564.337114274 10 1.0 0.0583986390925\n",
        "reached tol!"
       ]
      },
      {
       "output_type": "stream",
       "stream": "stdout",
       "text": [
        "\n",
        "145 exluding 1581 haps but keeping 129\n",
        "1957"
       ]
      },
      {
       "output_type": "stream",
       "stream": "stdout",
       "text": [
        "\n",
        "valid reads! 286\n",
        "-572.789514039 1 1.0 0.0445200176952\n",
        "-556.146597192 10 1.0 0.0590380402504\n",
        "reached tol!"
       ]
      },
      {
       "output_type": "stream",
       "stream": "stdout",
       "text": [
        "\n",
        "146 exluding 1583 haps but keeping 127\n",
        "1959"
       ]
      },
      {
       "output_type": "stream",
       "stream": "stdout",
       "text": [
        "\n",
        "valid reads! 284\n",
        "-566.561134278 1 1.0 0.0448473707665\n",
        "-550.008078687 10 1.0 0.0594721434876\n",
        "reached tol!"
       ]
      },
      {
       "output_type": "stream",
       "stream": "stdout",
       "text": [
        "\n",
        "147 exluding 1585 haps but keeping 125\n",
        "1962"
       ]
      },
      {
       "output_type": "stream",
       "stream": "stdout",
       "text": [
        "\n",
        "valid reads! 281\n",
        "-557.71685866 1 1.0 0.0453475273178\n",
        "-541.752007683 10 1.0 0.0601354015934\n",
        "reached tol!"
       ]
      },
      {
       "output_type": "stream",
       "stream": "stdout",
       "text": [
        "\n",
        "148 exluding 1587 haps but keeping 123\n",
        "1968"
       ]
      },
      {
       "output_type": "stream",
       "stream": "stdout",
       "text": [
        "\n",
        "valid reads! 275\n",
        "-544.770125024 1 1.0 0.0463820716672\n",
        "-529.400725868 10 1.0 0.0615073118959\n",
        "reached tol!"
       ]
      },
      {
       "output_type": "stream",
       "stream": "stdout",
       "text": [
        "\n",
        "149 exluding 1588 haps but keeping 122\n",
        "1969"
       ]
      },
      {
       "output_type": "stream",
       "stream": "stdout",
       "text": [
        "\n",
        "valid reads! 274\n",
        "-541.520137546 1 1.0 0.0473315488583\n",
        "-526.399701927 10 1.0 0.0621271755814\n",
        "reached tol!"
       ]
      },
      {
       "output_type": "stream",
       "stream": "stdout",
       "text": [
        "\n",
        "150 exluding 1589 haps but keeping 121\n",
        "1970"
       ]
      },
      {
       "output_type": "stream",
       "stream": "stdout",
       "text": [
        "\n",
        "valid reads! 273\n",
        "-538.217456007 1 1.0 0.0475128957888\n",
        "-523.341301342 10 1.0 0.0623652107369\n",
        "reached tol!"
       ]
      },
      {
       "output_type": "stream",
       "stream": "stdout",
       "text": [
        "\n",
        "151 exluding 1590 haps but keeping 120\n",
        "1971"
       ]
      },
      {
       "output_type": "stream",
       "stream": "stdout",
       "text": [
        "\n",
        "valid reads! 272\n",
        "-535.347348152 1 1.0 0.0476956376956\n",
        "-520.471193487 10 1.0 0.062605076932\n",
        "reached tol!"
       ]
      },
      {
       "output_type": "stream",
       "stream": "stdout",
       "text": [
        "\n",
        "152 exluding 1591 haps but keeping 119\n",
        "1972"
       ]
      },
      {
       "output_type": "stream",
       "stream": "stdout",
       "text": [
        "\n",
        "valid reads! 271\n",
        "-532.47883357 1 1.0 0.0478797907369\n",
        "-517.602678905 10 1.0 0.0628467953758\n",
        "reached tol!"
       ]
      },
      {
       "output_type": "stream",
       "stream": "stdout",
       "text": [
        "\n",
        "153 exluding 1592 haps but keeping 118\n",
        "1973"
       ]
      },
      {
       "output_type": "stream",
       "stream": "stdout",
       "text": [
        "\n",
        "valid reads! 270\n",
        "-529.331929884 1 1.0 0.0480653713212\n",
        "-514.502550869 10 1.0 0.0630903876059\n",
        "reached tol!"
       ]
      },
      {
       "output_type": "stream",
       "stream": "stdout",
       "text": [
        "\n",
        "154 exluding 1593 haps but keeping 117\n",
        "1974"
       ]
      },
      {
       "output_type": "stream",
       "stream": "stdout",
       "text": [
        "\n",
        "valid reads! 269\n",
        "-526.361340188 1 1.0 0.0482523961123\n",
        "-511.510194979 10 1.0 0.0633358754954\n",
        "reached tol!"
       ]
      },
      {
       "output_type": "stream",
       "stream": "stdout",
       "text": [
        "\n",
        "155 exluding 1594 haps but keeping 116\n",
        "1975"
       ]
      },
      {
       "output_type": "stream",
       "stream": "stdout",
       "text": [
        "\n",
        "valid reads! 268\n",
        "-523.441677108 1 1.0 0.0484408820346\n",
        "-508.610060477 10 1.0 0.0635832812591\n",
        "reached tol!"
       ]
      },
      {
       "output_type": "stream",
       "stream": "stdout",
       "text": [
        "\n",
        "156 exluding 1595 haps but keeping 115\n",
        "1976"
       ]
      },
      {
       "output_type": "stream",
       "stream": "stdout",
       "text": [
        "\n",
        "valid reads! 267\n",
        "-520.57959458 1 1.0 0.0486308462779\n",
        "-505.747977949 10 1.0 0.0638326274601\n",
        "reached tol!"
       ]
      },
      {
       "output_type": "stream",
       "stream": "stdout",
       "text": [
        "\n",
        "157 exluding 1596 haps but keeping 114\n",
        "1977"
       ]
      },
      {
       "output_type": "stream",
       "stream": "stdout",
       "text": [
        "\n",
        "valid reads! 266\n",
        "-517.613534962 1 1.0 0.0488223063026\n",
        "-502.844739996 10 1.0 0.064083937017\n",
        "reached tol!"
       ]
      },
      {
       "output_type": "stream",
       "stream": "stdout",
       "text": [
        "\n",
        "158 exluding 1597 haps but keeping 113\n",
        "1981"
       ]
      },
      {
       "output_type": "stream",
       "stream": "stdout",
       "text": [
        "\n",
        "valid reads! 262\n",
        "-508.631664959 1 1.0 0.0496761904762\n",
        "-493.775039575 10 1.0 0.0656576490498\n",
        "reached tol!"
       ]
      },
      {
       "output_type": "stream",
       "stream": "stdout",
       "text": [
        "\n",
        "159 exluding 1598 haps but keeping 112\n",
        "1987"
       ]
      },
      {
       "output_type": "stream",
       "stream": "stdout",
       "text": [
        "\n",
        "valid reads! 251\n",
        "-483.37631037 1 1.0 0.0735362997658\n",
        "-467.539613031 10 1.0 0.0877092571064\n",
        "reached tol!\n",
        "160 exluding 1599 haps but keeping 111\n",
        "1991"
       ]
      },
      {
       "output_type": "stream",
       "stream": "stdout",
       "text": [
        "\n",
        "valid reads! 247\n",
        "-475.195805476 1 1.0 0.0747619047619\n",
        "-460.341755384 10 1.0 0.0891710780582\n",
        "reached tol!"
       ]
      },
      {
       "output_type": "stream",
       "stream": "stdout",
       "text": [
        "\n",
        "161 exluding 1600 haps but keeping 110\n",
        "1992"
       ]
      },
      {
       "output_type": "stream",
       "stream": "stdout",
       "text": [
        "\n",
        "valid reads! 246\n",
        "-472.083291934 1 1.0 0.0750747160789\n",
        "-457.330781007 10 1.0 0.0895441788032\n",
        "reached tol!\n",
        "162 exluding 1601 haps but keeping 109\n",
        "1993"
       ]
      },
      {
       "output_type": "stream",
       "stream": "stdout",
       "text": [
        "\n",
        "valid reads! 245\n",
        "-469.091389042 1 1.0 0.0753901560624\n",
        "-454.410439617 10 1.0 0.0899204148486\n",
        "reached tol!\n",
        "163 exluding 1602 haps but keeping 108\n",
        "1994"
       ]
      },
      {
       "output_type": "stream",
       "stream": "stdout",
       "text": [
        "\n",
        "valid reads! 244\n",
        "-466.162642859 1 1.0 0.0757082579867\n",
        "-451.459101089 10 1.0 0.0902998258817\n",
        "reached tol!\n",
        "164 exluding 1603 haps but keeping 107\n",
        "1997"
       ]
      },
      {
       "output_type": "stream",
       "stream": "stdout",
       "text": [
        "\n",
        "valid reads! 241\n",
        "-459.326780789 1 1.0 0.0766788766789\n",
        "-444.811446226 10 1.0 0.0914575159571\n",
        "reached tol!\n",
        "165 exluding 1604 haps but keeping 106\n",
        "2000"
       ]
      },
      {
       "output_type": "stream",
       "stream": "stdout",
       "text": [
        "\n",
        "valid reads! 238\n",
        "-452.383246286 1 1.0 0.0776747062461\n",
        "-438.085732346 10 1.0 0.0926452759046\n",
        "reached tol!\n",
        "166 exluding 1605 haps but keeping 105\n",
        "2001"
       ]
      },
      {
       "output_type": "stream",
       "stream": "stdout",
       "text": [
        "\n",
        "valid reads! 237\n",
        "-449.210619542 1 1.0 0.0780124223602\n",
        "-434.908859353 10 1.0 0.093048081452\n",
        "reached tol!\n",
        "167 exluding 1606 haps but keeping 104\n",
        "2002"
       ]
      },
      {
       "output_type": "stream",
       "stream": "stdout",
       "text": [
        "\n",
        "valid reads! 236\n",
        "-446.402296239 1 1.0 0.0783530879601\n",
        "-432.100536049 10 1.0 0.0934544049518\n",
        "reached tol!\n",
        "168 exluding 1607 haps but keeping 103\n",
        "2003"
       ]
      },
      {
       "output_type": "stream",
       "stream": "stdout",
       "text": [
        "\n",
        "valid reads! 235\n",
        "-443.052361639 1 1.0 0.0786967418546\n",
        "-428.800270091 10 1.0 0.0938642926928\n",
        "reached tol!\n",
        "169 exluding 1608 haps but keeping 102\n",
        "2004"
       ]
      },
      {
       "output_type": "stream",
       "stream": "stdout",
       "text": [
        "\n",
        "valid reads! 234\n",
        "-440.165737576 1 1.0 0.0790434235368\n",
        "-425.945560002 10 1.0 0.0942777917796\n",
        "reached tol!\n",
        "170 exluding 1609 haps but keeping 101\n",
        "2005"
       ]
      },
      {
       "output_type": "stream",
       "stream": "stdout",
       "text": [
        "\n",
        "valid reads! 233\n",
        "-437.331045019 1 1.0 0.0793931731985\n",
        "-423.126034449 10 1.0 0.0946949501503\n",
        "reached tol!\n",
        "171 exluding 1610 haps but keeping 100\n",
        "2007"
       ]
      },
      {
       "output_type": "stream",
       "stream": "stdout",
       "text": [
        "\n",
        "valid reads! 231\n",
        "-432.082248497 1 1.0 0.0801020408163\n",
        "-417.775074517 10 1.0 0.0955404407767\n",
        "reached tol!\n",
        "172 exluding 1611 haps but keeping 99\n",
        "2009"
       ]
      },
      {
       "output_type": "stream",
       "stream": "stdout",
       "text": [
        "\n",
        "valid reads! 229\n",
        "-426.919500896 1 1.0 0.0808236808237\n",
        "-412.466621847 10 1.0 0.0964011654683\n",
        "reached tol!\n",
        "173 exluding 1612 haps but keeping 98\n",
        "2010"
       ]
      },
      {
       "output_type": "stream",
       "stream": "stdout",
       "text": [
        "\n",
        "valid reads! 228\n",
        "-424.081118996 1 1.0 0.0812396753573\n",
        "-409.647528605 10 1.0 0.096903276421\n",
        "reached tol!\n",
        "174 exluding 1613 haps but keeping 97\n",
        "2011"
       ]
      },
      {
       "output_type": "stream",
       "stream": "stdout",
       "text": [
        "\n",
        "valid reads! 227\n",
        "-421.186872169 1 1.0 0.0816089466089\n",
        "-406.801338918 10 1.0 0.0973437458593\n",
        "reached tol!\n",
        "175 exluding 1614 haps but keeping 96\n",
        "2012"
       ]
      },
      {
       "output_type": "stream",
       "stream": "stdout",
       "text": [
        "\n",
        "valid reads! 226\n",
        "-418.397293577 1 1.0 0.0819815902008\n",
        "-404.011760326 10 1.0 0.0977882378495\n",
        "reached tol!\n",
        "176 exluding 1615 haps but keeping 95\n",
        "2013"
       ]
      },
      {
       "output_type": "stream",
       "stream": "stdout",
       "text": [
        "\n",
        "valid reads! 225\n",
        "-415.18629406 1 1.0 0.0823576525411\n",
        "-400.922998709 10 1.0 0.0982368077479\n",
        "reached tol!\n",
        "177 exluding 1616 haps but keeping 94\n",
        "2017"
       ]
      },
      {
       "output_type": "stream",
       "stream": "stdout",
       "text": [
        "\n",
        "valid reads! 220\n",
        "-404.519127155 1 1.0 0.0838970479157\n",
        "-390.192015793 10 1.0 0.100073009762\n",
        "reached tol!\n",
        "178 exluding 1617 haps but keeping 93\n",
        "2018"
       ]
      },
      {
       "output_type": "stream",
       "stream": "stdout",
       "text": [
        "\n",
        "valid reads! 219\n",
        "-401.153866409 1 1.0 0.0842909307698\n",
        "-386.876566162 10 1.0 0.100542836099\n",
        "reached tol!\n",
        "179 exluding 1618 haps but keeping 92\n",
        "2019"
       ]
      },
      {
       "output_type": "stream",
       "stream": "stdout",
       "text": [
        "\n",
        "valid reads! 218\n",
        "-397.944204637 1 1.0 0.0846885294999\n",
        "-383.711387984 10 1.0 0.10101709476\n",
        "reached tol!\n",
        "180 exluding 1619 haps but keeping 91\n",
        "2020"
       ]
      },
      {
       "output_type": "stream",
       "stream": "stdout",
       "text": [
        "\n",
        "valid reads! 217\n",
        "-394.22644642 1 1.0 0.0850898969382\n",
        "-380.421772384 10 1.0 0.101495848763\n",
        "reached tol!\n",
        "181 exluding 1620 haps but keeping 90\n",
        "2021"
       ]
      },
      {
       "output_type": "stream",
       "stream": "stdout",
       "text": [
        "\n",
        "valid reads! 216\n",
        "-391.267176382 1 1.0 0.0854950869237\n",
        "-377.458282302 10 1.0 0.101979162329\n",
        "reached tol!\n",
        "182 exluding 1621 haps but keeping 89\n",
        "2022"
       ]
      },
      {
       "output_type": "stream",
       "stream": "stdout",
       "text": [
        "\n",
        "valid reads! 215\n",
        "-388.499260234 1 1.0 0.0859041543252\n",
        "-374.690366153 10 1.0 0.102467100904\n",
        "reached tol!\n",
        "183 exluding 1622 haps but keeping 88\n",
        "2023"
       ]
      },
      {
       "output_type": "stream",
       "stream": "stdout",
       "text": [
        "\n",
        "valid reads! 214\n",
        "-385.71815752 1 1.0 0.0863171550672\n",
        "-371.90926344 10 1.0 0.102959731197\n",
        "reached tol!\n",
        "184 exluding 1623 haps but keeping 87\n",
        "2024"
       ]
      },
      {
       "output_type": "stream",
       "stream": "stdout",
       "text": [
        "\n",
        "valid reads! 213\n",
        "-382.932386037 1 1.0 0.0867341461544\n",
        "-369.126588999 10 1.0 0.103457121203\n",
        "reached tol!\n",
        "185 exluding 1624 haps but keeping 86\n",
        "2026"
       ]
      },
      {
       "output_type": "stream",
       "stream": "stdout",
       "text": [
        "\n",
        "valid reads! 211\n",
        "-378.012827128 1 1.0 0.0875803329462\n",
        "-364.207030091 10 1.0 0.104466458971\n",
        "reached tol!\n",
        "186 exluding 1625 haps but keeping 85\n",
        "2027"
       ]
      },
      {
       "output_type": "stream",
       "stream": "stdout",
       "text": [
        "\n",
        "valid reads! 210\n",
        "-375.255097605 1 1.0 0.0880096483038\n",
        "-361.449300567 10 1.0 0.104978549456\n",
        "reached tol!\n",
        "187 exluding 1626 haps but keeping 84\n",
        "2028"
       ]
      },
      {
       "output_type": "stream",
       "stream": "stdout",
       "text": [
        "\n",
        "valid reads! 209\n",
        "-371.947850293 1 1.0 0.0884431933693\n",
        "-358.262261018 10 1.0 0.105495685168\n",
        "reached tol!\n",
        "188 exluding 1627 haps but keeping 83\n",
        "2030"
       ]
      },
      {
       "output_type": "stream",
       "stream": "stdout",
       "text": [
        "\n",
        "valid reads! 207\n",
        "-366.763100298 1 1.0 0.0906163626313\n",
        "-353.052504492 10 1.0 0.107838839329\n",
        "reached tol!\n",
        "189 exluding 1628 haps but keeping 82\n",
        "2032"
       ]
      },
      {
       "output_type": "stream",
       "stream": "stdout",
       "text": [
        "\n",
        "valid reads! 205\n",
        "-361.761761244 1 1.0 0.0915270798437\n",
        "-347.954896116 10 1.0 0.108922646759\n",
        "reached tol!\n",
        "190 exluding 1629 haps but keeping 81\n",
        "2033"
       ]
      },
      {
       "output_type": "stream",
       "stream": "stdout",
       "text": [
        "\n",
        "valid reads! 204\n",
        "-358.282851813 1 1.0 0.0919893378227\n",
        "-344.774877537 10 1.0 0.109472761137\n",
        "reached tol!\n",
        "191 exluding 1630 haps but keeping 80\n",
        "2034"
       ]
      },
      {
       "output_type": "stream",
       "stream": "stdout",
       "text": [
        "\n",
        "valid reads! 203\n",
        "-355.511913742 1 1.0 0.0924562887761\n",
        "-342.002171724 10 1.0 0.110028460432\n",
        "reached tol!\n",
        "192 exluding 1631 haps but keeping 79\n",
        "2035"
       ]
      },
      {
       "output_type": "stream",
       "stream": "stdout",
       "text": [
        "\n",
        "valid reads! 202\n",
        "-352.398777183 1 1.0 0.0929280045351\n",
        "-338.8417133 10 1.0 0.110589830128\n",
        "reached tol!\n",
        "193 exluding 1632 haps but keeping 78\n",
        "2037"
       ]
      },
      {
       "output_type": "stream",
       "stream": "stdout",
       "text": [
        "\n",
        "valid reads! 200\n",
        "-346.25036677 1 1.0 0.102282768778\n",
        "-333.352612073 10 1.0 0.115511346205\n",
        "reached tol!\n",
        "194 exluding 1633 haps but keeping 77\n",
        "2038"
       ]
      },
      {
       "output_type": "stream",
       "stream": "stdout",
       "text": [
        "\n",
        "valid reads! 199\n",
        "-343.515925277 1 1.0 0.10281273131\n",
        "-330.61817058 10 1.0 0.11610985059\n",
        "reached tol!\n",
        "195 exluding 1634 haps but keeping 76\n",
        "2039"
       ]
      },
      {
       "output_type": "stream",
       "stream": "stdout",
       "text": [
        "\n",
        "valid reads! 198\n",
        "-340.709056334 1 1.0 0.103348214286\n",
        "-327.819305545 10 1.0 0.116714589395\n",
        "reached tol!\n",
        "196 exluding 1635 haps but keeping 75\n",
        "2040"
       ]
      },
      {
       "output_type": "stream",
       "stream": "stdout",
       "text": [
        "\n",
        "valid reads! 197\n",
        "-337.950467568 1 1.0 0.103889304413\n",
        "-325.060716779 10 1.0 0.117325660544\n",
        "reached tol!\n",
        "197 exluding 1636 haps but keeping 74\n",
        "2041"
       ]
      },
      {
       "output_type": "stream",
       "stream": "stdout",
       "text": [
        "\n",
        "valid reads! 196\n",
        "-334.828885095 1 1.0 0.10545112782\n",
        "-322.127521501 10 1.0 0.118626233568\n",
        "reached tol!\n",
        "198 exluding 1637 haps but keeping 73\n",
        "2042"
       ]
      },
      {
       "output_type": "stream",
       "stream": "stdout",
       "text": [
        "\n",
        "valid reads! 195\n",
        "-330.953036205 1 1.0 0.106009070295\n",
        "-318.881236666 10 1.0 0.119253885597\n",
        "reached tol!\n",
        "199 exluding 1638 haps but keeping 72\n",
        "2043"
       ]
      },
      {
       "output_type": "stream",
       "stream": "stdout",
       "text": [
        "\n",
        "valid reads! 194\n",
        "-328.169951542 1 1.0 0.106572948328\n",
        "-316.115122258 10 1.0 0.11989402647\n",
        "reached tol!\n",
        "200 exluding 1639 haps but keeping 71\n",
        "2044"
       ]
      },
      {
       "output_type": "stream",
       "stream": "stdout",
       "text": [
        "\n",
        "valid reads! 193\n",
        "-325.203915391 1 1.0 0.107575757576\n",
        "-313.25782921 10 1.0 0.120891213306\n",
        "reached tol!\n",
        "201 exluding 1640 haps but keeping 70\n",
        "2045"
       ]
      },
      {
       "output_type": "stream",
       "stream": "stdout",
       "text": [
        "\n",
        "valid reads! 192\n",
        "-322.470917553 1 1.0 0.108154121864\n",
        "-310.524951653 10 1.0 0.12154234068\n",
        "reached tol!\n",
        "202 exluding 1641 haps but keeping 69\n",
        "2046"
       ]
      },
      {
       "output_type": "stream",
       "stream": "stdout",
       "text": [
        "\n",
        "valid reads! 191\n",
        "-319.754232388 1 1.0 0.108738738739\n",
        "-307.808266488 10 1.0 0.122199326305\n",
        "reached tol!\n",
        "203 exluding 1642 haps but keeping 68\n",
        "2047"
       ]
      },
      {
       "output_type": "stream",
       "stream": "stdout",
       "text": [
        "\n",
        "valid reads! 190\n",
        "-317.019293267 1 1.0 0.109329710145\n",
        "-305.073481031 10 1.0 0.122865133779\n",
        "reached tol!\n",
        "204 exluding 1643 haps but keeping 67\n",
        "2048"
       ]
      },
      {
       "output_type": "stream",
       "stream": "stdout",
       "text": [
        "\n",
        "valid reads! 189\n",
        "-313.974370051 1 1.0 0.109927140255\n",
        "-302.231415416 10 1.0 0.123536527953\n",
        "reached tol!\n",
        "205 exluding 1644 haps but keeping 66\n",
        "2050"
       ]
      },
      {
       "output_type": "stream",
       "stream": "stdout",
       "text": [
        "\n",
        "valid reads! 187\n",
        "-309.165494759 1 1.0 0.111141804788\n",
        "-297.376835312 10 1.0 0.124901572461\n",
        "reached tol!\n",
        "206 exluding 1645 haps but keeping 65\n",
        "2051"
       ]
      },
      {
       "output_type": "stream",
       "stream": "stdout",
       "text": [
        "\n",
        "valid reads! 186\n",
        "-305.805143827 1 1.0 0.111759259259\n",
        "-294.430326576 10 1.0 0.125595470086\n",
        "reached tol!\n",
        "207 exluding 1646 haps but keeping 64\n",
        "2052"
       ]
      },
      {
       "output_type": "stream",
       "stream": "stdout",
       "text": [
        "\n",
        "valid reads! 185\n",
        "-303.102268609 1 1.0 0.112383612663\n",
        "-291.727451358 10 1.0 0.126297120756\n",
        "reached tol!\n",
        "208 exluding 1647 haps but keeping 63\n",
        "2053"
       ]
      },
      {
       "output_type": "stream",
       "stream": "stdout",
       "text": [
        "\n",
        "valid reads! 184\n",
        "-297.553479207 1 1.0 0.113014981273\n",
        "-286.521609677 10 1.0 0.127006655143\n",
        "reached tol!\n",
        "209 exluding 1648 haps but keeping 62\n",
        "2054"
       ]
      },
      {
       "output_type": "stream",
       "stream": "stdout",
       "text": [
        "\n",
        "valid reads! 183\n",
        "-294.855306526 1 1.0 0.113653483992\n",
        "-283.823436996 10 1.0 0.127724206867\n",
        "reached tol!\n",
        "210 exluding 1649 haps but keeping 61\n",
        "2055"
       ]
      },
      {
       "output_type": "stream",
       "stream": "stdout",
       "text": [
        "\n",
        "valid reads! 182\n",
        "-292.159504324 1 1.0 0.114299242424\n",
        "-281.127634794 10 1.0 0.128449912587\n",
        "reached tol!\n",
        "211 exluding 1650 haps but keeping 60\n",
        "2056"
       ]
      },
      {
       "output_type": "stream",
       "stream": "stdout",
       "text": [
        "\n",
        "valid reads! 181\n",
        "-289.342263633 1 1.0 0.114952380952\n",
        "-278.287597619 10 1.0 0.129183912088\n",
        "reached tol!\n",
        "212 exluding 1651 haps but keeping 59\n",
        "2057"
       ]
      },
      {
       "output_type": "stream",
       "stream": "stdout",
       "text": [
        "\n",
        "valid reads! 180\n",
        "-286.651241512 1 1.0 0.11561302682\n",
        "-275.596575498 10 1.0 0.129926348364\n",
        "reached tol!\n",
        "213 exluding 1652 haps but keeping 58\n",
        "2060"
       ]
      },
      {
       "output_type": "stream",
       "stream": "stdout",
       "text": [
        "\n",
        "valid reads! 177\n",
        "-280.159003413 1 1.0 0.117641325536\n",
        "-269.209717064 10 1.0 0.132205757985\n",
        "reached tol!\n",
        "214 exluding 1653 haps but keeping 57\n",
        "2061"
       ]
      },
      {
       "output_type": "stream",
       "stream": "stdout",
       "text": [
        "\n",
        "valid reads! 176\n",
        "-277.477702036 1 1.0 0.118333333333\n",
        "-266.528415688 10 1.0 0.132983438914\n",
        "reached tol!\n",
        "215 exluding 1654 haps but keeping 56\n",
        "2063"
       ]
      },
      {
       "output_type": "stream",
       "stream": "stdout",
       "text": [
        "\n",
        "valid reads! 174\n",
        "-272.724566885 1 1.0 0.119742063492\n",
        "-261.775280537 10 1.0 0.134566575092\n",
        "reached tol!\n",
        "216 exluding 1655 haps but keeping 55\n",
        "2064"
       ]
      },
      {
       "output_type": "stream",
       "stream": "stdout",
       "text": [
        "\n",
        "valid reads! 173\n",
        "-270.050701373 1 1.0 0.120459081836\n",
        "-259.101415025 10 1.0 0.135372362966\n",
        "reached tol!\n",
        "217 exluding 1656 haps but keeping 54\n",
        "2068"
       ]
      },
      {
       "output_type": "stream",
       "stream": "stdout",
       "text": [
        "\n",
        "valid reads! 169\n",
        "-261.953397146 1 1.0 0.123415132924\n",
        "-252.0056751 10 1.0 0.138694384144\n",
        "reached tol!\n",
        "218 exluding 1657 haps but keeping 53\n",
        "2075"
       ]
      },
      {
       "output_type": "stream",
       "stream": "stdout",
       "text": [
        "\n",
        "valid reads! 162\n",
        "-249.596593211 1 1.0 0.128952991453\n",
        "-239.951057887 10 1.0 0.144917850099\n",
        "reached tol!\n",
        "219 exluding 1658 haps but keeping 52\n",
        "2076"
       ]
      },
      {
       "output_type": "stream",
       "stream": "stdout",
       "text": [
        "\n",
        "valid reads! 161\n",
        "-246.953811683 1 1.0 0.129784946237\n",
        "-237.308276359 10 1.0 0.14585280397\n",
        "reached tol!\n",
        "220 exluding 1659 haps but keeping 51\n",
        "2077"
       ]
      },
      {
       "output_type": "stream",
       "stream": "stdout",
       "text": [
        "\n",
        "valid reads! 160\n",
        "-244.28088813 1 1.0 0.130627705628\n",
        "-234.635866815 10 1.0 0.146802945126\n",
        "reached tol!\n",
        "221 exluding 1660 haps but keeping 50\n",
        "2078"
       ]
      },
      {
       "output_type": "stream",
       "stream": "stdout",
       "text": [
        "\n",
        "valid reads! 159\n",
        "-241.582389951 1 1.0 0.131481481481\n",
        "-231.940566897 10 1.0 0.147767576388\n",
        "reached tol!\n",
        "222 exluding 1661 haps but keeping 49\n",
        "2079"
       ]
      },
      {
       "output_type": "stream",
       "stream": "stdout",
       "text": [
        "\n",
        "valid reads! 158\n",
        "-238.947739346 1 1.0 0.132346491228\n",
        "-229.305916292 10 1.0 0.148739731496\n",
        "reached tol!\n",
        "223 exluding 1662 haps but keeping 48\n",
        "2080"
       ]
      },
      {
       "output_type": "stream",
       "stream": "stdout",
       "text": [
        "\n",
        "valid reads! 157\n",
        "-236.231985856 1 1.0 0.133222958057\n",
        "-226.578441589 10 1.0 0.14972476283\n",
        "reached tol!\n",
        "224 exluding 1663 haps but keeping 47\n",
        "2081"
       ]
      },
      {
       "output_type": "stream",
       "stream": "stdout",
       "text": [
        "\n",
        "valid reads! 156\n",
        "-233.454411087 1 1.0 0.134111111111\n",
        "-223.831545772 10 1.0 0.150722927916\n",
        "reached tol!\n",
        "225 exluding 1664 haps but keeping 46\n",
        "2082"
       ]
      },
      {
       "output_type": "stream",
       "stream": "stdout",
       "text": [
        "\n",
        "valid reads! 155\n",
        "-230.643577959 1 1.0 0.135011185682\n",
        "-221.153374749 10 1.0 0.151734491191\n",
        "reached tol!\n",
        "226 exluding 1665 haps but keeping 45\n",
        "2083"
       ]
      },
      {
       "output_type": "stream",
       "stream": "stdout",
       "text": [
        "\n",
        "valid reads! 154\n",
        "-228.020010525 1 1.0 0.135923423423\n",
        "-218.529807316 10 1.0 0.152759724239\n",
        "reached tol!\n",
        "227 exluding 1666 haps but keeping 44\n",
        "2097"
       ]
      },
      {
       "output_type": "stream",
       "stream": "stdout",
       "text": [
        "\n",
        "valid reads! 140\n",
        "-210.114551917 1 1.0 0.150124378109\n",
        "-203.175890627 10 1.0 0.168719695428\n",
        "reached tol!\n",
        "228 exluding 1667 haps but keeping 43\n",
        "2098"
       ]
      },
      {
       "output_type": "stream",
       "stream": "stdout",
       "text": [
        "\n",
        "valid reads! 139\n",
        "-207.53525824 1 1.0 0.151253132832\n",
        "-200.59659695 10 1.0 0.169988264567\n",
        "reached tol!\n",
        "229 exluding 1668 haps but keeping 42\n",
        "2099"
       ]
      },
      {
       "output_type": "stream",
       "stream": "stdout",
       "text": [
        "\n",
        "valid reads! 138\n",
        "-204.819524717 1 1.0 0.152398989899\n",
        "-197.985698243 10 1.0 0.17127605445\n",
        "reached tol!\n",
        "230 exluding 1669 haps but keeping 41\n",
        "2102"
       ]
      },
      {
       "output_type": "stream",
       "stream": "stdout",
       "text": [
        "\n",
        "valid reads! 135\n",
        "-198.630738994 1 1.0 0.155943152455\n",
        "-191.856176114 10 1.0 0.175179801725\n",
        "reached tol!\n",
        "231 exluding 1670 haps but keeping 40\n",
        "2106"
       ]
      },
      {
       "output_type": "stream",
       "stream": "stdout",
       "text": [
        "\n",
        "valid reads! 131\n",
        "-191.267189243 1 1.0 0.160933333333\n",
        "-185.540749673 10 1.0 0.18078555538\n",
        "reached tol!\n",
        "232 exluding 1671 haps but keeping 39\n",
        "2107"
       ]
      },
      {
       "output_type": "stream",
       "stream": "stdout",
       "text": [
        "\n",
        "valid reads! 130\n",
        "-188.643010396 1 1.0 0.162231182796\n",
        "-182.916570826 10 1.0 0.182243503407\n",
        "reached tol!\n",
        "233 exluding 1672 haps but keeping 38\n",
        "2111"
       ]
      },
      {
       "output_type": "stream",
       "stream": "stdout",
       "text": [
        "\n",
        "valid reads! 126\n",
        "-180.883268293 1 1.0 0.167638888889\n",
        "-175.156828722 10 1.0 0.188318286854\n",
        "reached tol!\n",
        "234 exluding 1673 haps but keeping 37\n",
        "2112"
       ]
      },
      {
       "output_type": "stream",
       "stream": "stdout",
       "text": [
        "\n",
        "valid reads! 125\n",
        "-178.349801465 1 1.0 0.169047619048\n",
        "-172.623361894 10 1.0 0.189900793467\n",
        "reached tol!\n",
        "235 exluding 1674 haps but keeping 36\n",
        "2113"
       ]
      },
      {
       "output_type": "stream",
       "stream": "stdout",
       "text": [
        "\n",
        "valid reads! 124\n",
        "-175.632106322 1 1.0 0.170480225989\n",
        "-169.86839677 10 1.0 0.191510122225\n",
        "reached tol!\n",
        "236 exluding 1675 haps but keeping 35\n",
        "2114"
       ]
      },
      {
       "output_type": "stream",
       "stream": "stdout",
       "text": [
        "\n",
        "valid reads! 123\n",
        "-172.889222066 1 1.0 0.171937321937\n",
        "-167.149383677 10 1.0 0.193109800796\n",
        "reached tol!\n",
        "237 exluding 1676 haps but keeping 34\n",
        "2116"
       ]
      },
      {
       "output_type": "stream",
       "stream": "stdout",
       "text": [
        "\n",
        "valid reads! 121\n",
        "-168.448859745 1 1.0 0.174927536232\n",
        "-162.709021356 10 1.0 0.196468232114\n",
        "reached tol!\n",
        "238 exluding 1677 haps but keeping 33\n",
        "2118"
       ]
      },
      {
       "output_type": "stream",
       "stream": "stdout",
       "text": [
        "\n",
        "valid reads! 119\n",
        "-163.966859287 1 1.0 0.17802359882\n",
        "-158.144615425 10 1.0 0.199945545957\n",
        "reached tol!\n",
        "239 exluding 1678 haps but keeping 32\n",
        "2120"
       ]
      },
      {
       "output_type": "stream",
       "stream": "stdout",
       "text": [
        "\n",
        "valid reads! 117\n",
        "-159.610239949 1 1.0 0.181231231231\n",
        "-153.874464067 10 1.0 0.203548168406\n",
        "reached tol!\n",
        "240 exluding 1679 haps but keeping 31\n",
        "2121"
       ]
      },
      {
       "output_type": "stream",
       "stream": "stdout",
       "text": [
        "\n",
        "valid reads! 116\n",
        "-156.744739022 1 1.0 0.182878787879\n",
        "-151.244378671 10 1.0 0.205398606301\n",
        "reached tol!\n",
        "241 exluding 1680 haps but keeping 30\n",
        "2122"
       ]
      },
      {
       "output_type": "stream",
       "stream": "stdout",
       "text": [
        "\n",
        "valid reads! 115\n",
        "-154.247234806 1 1.0 0.184556574924\n",
        "-148.746874456 10 1.0 0.207282997185\n",
        "reached tol!\n",
        "242 exluding 1681 haps but keeping 29\n",
        "2123"
       ]
      },
      {
       "output_type": "stream",
       "stream": "stdout",
       "text": [
        "\n",
        "valid reads! 114\n",
        "-150.654289319 1 1.0 0.186265432099\n",
        "-145.153928969 10 1.0 0.209202284195\n",
        "reached tol!\n",
        "243 exluding 1682 haps but keeping 28\n",
        "2124"
       ]
      },
      {
       "output_type": "stream",
       "stream": "stdout",
       "text": [
        "\n",
        "valid reads! 113\n",
        "-148.164348072 1 1.0 0.18800623053\n",
        "-142.663987722 10 1.0 0.21115744573\n",
        "reached tol!\n",
        "244 exluding 1683 haps but keeping 27\n",
        "2125"
       ]
      },
      {
       "output_type": "stream",
       "stream": "stdout",
       "text": [
        "\n",
        "valid reads! 112\n",
        "-145.678238103 1 1.0 0.189779874214\n",
        "-140.177877753 10 1.0 0.213149497105\n",
        "reached tol!\n",
        "245 exluding 1684 haps but keeping 26\n",
        "2126\n",
        "valid reads!"
       ]
      },
      {
       "output_type": "stream",
       "stream": "stdout",
       "text": [
        " 111\n",
        "-142.981611295 1 1.0 0.191587301587\n",
        "-137.523333535 10 1.0 0.215179492315\n",
        "reached tol!\n",
        "246 exluding 1685 haps but keeping 25\n",
        "2129\n",
        "valid reads! 108\n",
        "-137.001676482"
       ]
      },
      {
       "output_type": "stream",
       "stream": "stdout",
       "text": [
        " 1 1.0 0.197222222222\n",
        "-131.541863382 10 1.0 0.221336180494\n",
        "reached tol!\n",
        "247 exluding 1686 haps but keeping 24\n",
        "2130\n",
        "valid reads! 107\n",
        "-133.880332557 1 1.0 0.199174917492\n",
        "-128.599806955 10 1.0 0.223527627826\n",
        "reached tol!"
       ]
      },
      {
       "output_type": "stream",
       "stream": "stdout",
       "text": [
        "\n",
        "248 exluding 1687 haps but keeping 23\n",
        "2135\n",
        "valid reads! 102\n",
        "-125.365990656 1 1.0 0.209548611111\n",
        "-120.00676294 10 1.0 0.235169691775\n",
        "reached tol!\n",
        "249 exluding 1688 haps but keeping 22\n",
        "2136"
       ]
      },
      {
       "output_type": "stream",
       "stream": "stdout",
       "text": [
        "\n",
        "valid reads! 101\n",
        "-122.553844637 1 1.0 0.211754385965\n",
        "-117.429991892 10 1.0 0.237645162215\n",
        "reached tol!\n",
        "250 exluding 1689 haps but keeping 21\n",
        "2138\n",
        "valid reads! 99\n",
        "-117.93263343 1 1.0 0.220250896057\n",
        "-112.754408957 10 1.0 0.246152816625\n",
        "reached tol!"
       ]
      },
      {
       "output_type": "stream",
       "stream": "stdout",
       "text": [
        "\n",
        "251 exluding 1690 haps but keeping 20\n",
        "2140\n",
        "valid reads! 97\n",
        "-113.476966064 1 1.0 0.228937728938\n",
        "reached tol!\n",
        "done!\n",
        "('TACTATTAACAAGAGATGGTGGTAATGATAATAGTAATAATAGTACTGGGAATGAGACCTTCAGACCTGGAGGAGGAAATATGAAGGACAATTGGAGAAGTGAATTATATAAATACAAAGTAGTAAAAATTGAACCATTAGGAATAGCACCCACCAGGGCAAAGAGAAGAGTGGTGCAGAGAGAAAAAAGAGCGGTAACATTGGGAGCTATGTTCCTTGGGTTCTTGGGAGCAGCAGGAAGCACTATGGGCGCAGCGTCAATGACGCTGACGGTACAGGCCAGACTATTGCTGTCTGGTATAGTGCAGCAGCAGAACAATCTGCTGAAGGCTATTGAGGCGCAACAGCATCTGTTGCAACTCACAGT', 0.25592478481528563)\n"
       ]
      }
     ],
     "prompt_number": 136
    },
    {
     "cell_type": "code",
     "collapsed": false,
     "input": [
      "from tempfile import NamedTemporaryFile as NTF\n",
      "from subprocess import check_output, check_call\n",
      "import shlex\n",
      "import os\n",
      "from concurrent.futures import ProcessPoolExecutor\n",
      "import csv\n",
      "from StringIO import StringIO\n",
      "from itertools import islice\n",
      "from functools import partial\n",
      "\n",
      "def check_seqs(db_path, seqs):\n",
      "    cmd = \"blastn -db %(db)s -query %(q)s -outfmt '10 qseqid sseqid pident nident' -num_threads 20 -max_target_seqs 1\"\n",
      "    fields = ['SeqA', 'SeqB', 'pident', 'nident']\n",
      "    dpath =  '/home/will/tmpstuf/haptest/tmpseqs/'\n",
      "    \n",
      "    with NTF(suffix='.fa', dir=dpath, delete=False) as check_handle:\n",
      "        \n",
      "        fasta_writer(check_handle, seqs)\n",
      "        check_handle.flush()\n",
      "        os.fsync(check_handle.fileno())\n",
      "        \n",
      "        tdict = {\n",
      "                 'db':db_path,\n",
      "                 'q':check_handle.name\n",
      "                 }\n",
      "        cmd_list = shlex.split(cmd % tdict)\n",
      "        out = check_output(cmd_list)\n",
      "        reader = csv.DictReader(StringIO(out), fieldnames=fields)\n",
      "        return list(reader)\n",
      "    \n",
      "\n",
      "def yield_blocks(iterable, block_size):\n",
      "    \n",
      "    block = list(islice(iterable, block_size))\n",
      "    while block:\n",
      "        yield block\n",
      "        block = list(islice(iterable, block_size))\n",
      "    \n",
      "\n",
      "def blast_all_v_all(seqsA, seqsB, block_size=20):\n",
      "        \n",
      "    dpath = '/home/will/tmpstuf/haptest/tmpseqs/'\n",
      "    with NTF(suffix='.fa', dir=dpath, delete=False) as db_handle:\n",
      "        fasta_writer(db_handle, seqsA)\n",
      "        db_handle.flush()\n",
      "        os.fsync(db_handle.fileno())\n",
      "        \n",
      "        cmd = 'makeblastdb -in %s -dbtype nucl' % db_handle.name\n",
      "        cmd_list = shlex.split(cmd)\n",
      "        check_call(cmd_list)\n",
      "        \n",
      "        align_func = partial(check_seqs, db_handle.name)\n",
      "        check_iterable = islice(yield_blocks(iter(seqsB), 200), 20)\n",
      "        with ProcessPoolExecutor(max_workers=5) as pool:\n",
      "            res_iter = pool.map(align_func, check_iterable)\n",
      "            for num, block in enumerate(res_iter):\n",
      "                print num, len(block)\n",
      "        \n",
      "        \n",
      "    \n",
      "\n",
      "    \n",
      "    \n",
      "\n",
      "\n",
      "\n"
     ],
     "language": "python",
     "metadata": {},
     "outputs": [],
     "prompt_number": 34
    },
    {
     "cell_type": "code",
     "collapsed": false,
     "input": [
      "blast_all_v_all(sA, sB)"
     ],
     "language": "python",
     "metadata": {},
     "outputs": [
      {
       "output_type": "stream",
       "stream": "stdout",
       "text": [
        "0 114\n",
        "1"
       ]
      },
      {
       "output_type": "stream",
       "stream": "stdout",
       "text": [
        " 117\n",
        "2"
       ]
      },
      {
       "output_type": "stream",
       "stream": "stdout",
       "text": [
        " 132\n",
        "3 126\n",
        "4 134\n",
        "5"
       ]
      },
      {
       "output_type": "stream",
       "stream": "stdout",
       "text": [
        " 132\n",
        "6 128\n",
        "7 132\n",
        "8 142\n",
        "9 138\n",
        "10"
       ]
      },
      {
       "output_type": "stream",
       "stream": "stdout",
       "text": [
        " 129\n",
        "11"
       ]
      },
      {
       "output_type": "stream",
       "stream": "stdout",
       "text": [
        " 140\n",
        "12"
       ]
      },
      {
       "output_type": "stream",
       "stream": "stdout",
       "text": [
        " 128\n",
        "13"
       ]
      },
      {
       "output_type": "stream",
       "stream": "stdout",
       "text": [
        " 147\n",
        "14 143\n",
        "15"
       ]
      },
      {
       "output_type": "stream",
       "stream": "stdout",
       "text": [
        " 141\n",
        "16"
       ]
      },
      {
       "output_type": "stream",
       "stream": "stdout",
       "text": [
        " 149\n",
        "17 143\n",
        "18"
       ]
      },
      {
       "output_type": "stream",
       "stream": "stdout",
       "text": [
        " 152\n",
        "19 144\n"
       ]
      }
     ],
     "prompt_number": 35
    },
    {
     "cell_type": "code",
     "collapsed": false,
     "input": [
      "with open('/home/will/tmpstuf/haptest/DrexelMed.A0107.R02.fa') as handle:\n",
      "    sA = list(fasta_reader(handle))\n",
      "    \n",
      "with open('/home/will/tmpstuf/haptest/DrexelMed.A0107.fa') as handle:\n",
      "    sB = list(fasta_reader(handle))\n"
     ],
     "language": "python",
     "metadata": {},
     "outputs": [],
     "prompt_number": 5
    },
    {
     "cell_type": "code",
     "collapsed": false,
     "input": [
      "sA[:5]"
     ],
     "language": "python",
     "metadata": {},
     "outputs": [
      {
       "metadata": {},
       "output_type": "pyout",
       "prompt_number": 19,
       "text": [
        "[('GHMBLKH05F3UU8',\n",
        "  'CAGGTCATGTTATCCAATTGCACTGAAGATTTATTACTCCAACTAGTATTCCAAGGCACACAGGGATAGG'),\n",
        " ('GHMBLKH05F690C',\n",
        "  'CAGGTCATGTTATCCAATTGCACTGAAGATTATTACTCCAACTAGTATTCCAAGGCACACAGGGATAGG'),\n",
        " ('GHMBLKH05GBUOO',\n",
        "  'CAGTCATGTTATCCAATTGCACTGAAGATTATTACTCCAACTAGTATTCCAAGGCACACAGGGA'),\n",
        " ('GHMBLKH05GG027', 'ACTGAAGATTATTACTCCAACTAGTATTCCAAGGCACACAGGGATAGG'),\n",
        " ('GHMBLKH05F6XK9', 'AATTGCACTAAGATTATTACTCCAACTAGTATTCCAAGGCACACAGGGGATAGG')]"
       ]
      }
     ],
     "prompt_number": 19
    },
    {
     "cell_type": "code",
     "collapsed": false,
     "input": [],
     "language": "python",
     "metadata": {},
     "outputs": []
    }
   ],
   "metadata": {}
  }
 ]
}