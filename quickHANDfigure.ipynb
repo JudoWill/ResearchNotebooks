{
 "metadata": {
  "name": "quickHANDfigure"
 },
 "nbformat": 3,
 "nbformat_minor": 0,
 "worksheets": [
  {
   "cells": [
    {
     "cell_type": "code",
     "collapsed": false,
     "input": [
      "from __future__ import division\n",
      "from pandas import *\n",
      "import os, os.path\n",
      "import sys\n",
      "import numpy as np\n",
      "\n",
      "sys.path.append('/home/will/HIVReportGen/AnalysisCode/')\n",
      "sys.path.append('/home/will/PySeqUtils/')\n",
      "os.chdir('/home/will/HIVVariation/')"
     ],
     "language": "python",
     "metadata": {},
     "outputs": [],
     "prompt_number": 1
    },
    {
     "cell_type": "code",
     "collapsed": false,
     "input": [
      "from GeneralSeqTools import call_muscle"
     ],
     "language": "python",
     "metadata": {},
     "outputs": [],
     "prompt_number": 2
    },
    {
     "cell_type": "code",
     "collapsed": false,
     "input": [
      "store = HDFStore('/home/will/HIVReportGen/Data/SplitRedcap/2013-01-16/EntireCohort.hdf')\n",
      "redcap_data = store['redcap']\n",
      "seq_data = store['seq_data']\n",
      "\n",
      "t = redcap_data['Event Name'].dropna().apply(lambda x: x.split(' - ')[0])\n",
      "t.unique()\n",
      "redcap_data['Patient visit number'] = redcap_data['Patient visit number'].combine_first(t)\n",
      "\n",
      "\n",
      "wanted_cols = ['Patient ID', 'Patient visit number', 'Total Modified Hopkins Dementia Score']\n",
      "wanted_redcap = redcap_data[wanted_cols]\n",
      "data = merge(wanted_redcap, seq_data[['LTR']],\n",
      "            left_on = ['Patient ID', 'Patient visit number'],\n",
      "            right_index = True, how = 'inner')\n",
      "data = data.rename(columns= {\n",
      "                                'Patient visit number':'VisitNum',\n",
      "                                'Date of visit':'Date',\n",
      "                                'Total Modified Hopkins Dementia Score':'HIVD'\\\n",
      "                            }).dropna()\n",
      "data.sort(['Patient ID', 'VisitNum'], inplace=True)\n"
     ],
     "language": "python",
     "metadata": {},
     "outputs": [
      {
       "output_type": "pyout",
       "prompt_number": 3,
       "text": [
        "<class 'pandas.core.frame.DataFrame'>\n",
        "Int64Index: 861 entries, 4 to 1411\n",
        "Data columns:\n",
        "Patient ID    861  non-null values\n",
        "VisitNum      861  non-null values\n",
        "HIVD          861  non-null values\n",
        "LTR           861  non-null values\n",
        "dtypes: float64(1), object(3)"
       ]
      }
     ],
     "prompt_number": 3
    },
    {
     "cell_type": "code",
     "collapsed": false,
     "input": [
      "hxb2_ltr = \"\"\"TGGAAGGGCTAATTTACTCCCAAAAAAGACAAGATATCCTTGATCTGTGGGTC\n",
      "TACCACACACAAGGCTACTTCCCTGATTGGCAGAACTACACACCAGGGCCAGG\n",
      "GATCAGATATCCACTGACCTTTGGATGGTGCTTCAAGCTAGTACCAGTTGAGC\n",
      "CAGAGAAGGTAGAAGAGGCCAATGAAGGAGAGAACAACAGCTTGTTACACCCT\n",
      "ATGAGCCTGCATGGGATGGAGGACCCGGAGAAAGAAGTGTTAGTGTGGAAGTT\n",
      "TGACAGCCGCCTAGCATTTCATCACATGGCCCGAGAGCTGCATCCGGAGTACT\n",
      "ACAAGGACTGCTGACATCGAGCTTTCTACAAGGGACTTTCCGCTGGGGACTTT\n",
      "CCAGGGAGGCGTGGCCTGGGCGGGACTGGGGAGTGGCGAGCCCTCAGATGCTG\n",
      "CATATAAGCAGCTGCTTTTTGCCTGTACTGGGTCTCTCTGGTTAGACCAGATC\n",
      "TGAGCCTGGGAGCTCTCTGGCTAACTAGGGAACCCACTGCTTAAGCCTCAATA\n",
      "AAGCTTGCCTTGAGTGCTTCAAGTAGTGTGTGCCCGTCTGTTGTGTGACTCTG\n",
      "GTAACTAGAGATCCCTCAGACCCTTTTAGTCAGTGTGGAAAATCTCTAGCA\"\"\".replace('\\n', '')\n",
      "\n",
      "\n",
      "def align_seq_ser(seq_series):\n",
      "    \n",
      "    nseqs = [(i, s) for i, s in zip(seq_series.index, seq_series.values)]\n",
      "    nseqs += [('hxb2', hxb2_ltr)]\n",
      "    daln = dict(call_muscle(nseqs))\n",
      "    aln = [daln[str(s)] for s, _ in nseqs]\n",
      "    aln_ser = Series(aln[:-1], seq_series.index)\n",
      "    return aln_ser\n",
      "\n",
      "data['LTR-align'] = data.groupby('Patient ID')['LTR'].apply(align_seq_ser)"
     ],
     "language": "python",
     "metadata": {},
     "outputs": [],
     "prompt_number": 4
    },
    {
     "cell_type": "code",
     "collapsed": false,
     "input": [
      "wanted_seq_cols = [108, 115, 120, 160, 168, 181, 251, 293] #1-based!!\n",
      "\n",
      "\n",
      "def get_wanted_seq_cols(seq_series):\n",
      "    \n",
      "    nseqs = [(i, s) for i, s in zip(seq_series.index, seq_series.values)]\n",
      "    nseqs += [('hxb2', hxb2_ltr)]\n",
      "    daln = dict(call_muscle(nseqs))\n",
      "    aln = [daln[str(s)] for s, _ in nseqs]\n",
      "    outs = [[] for _ in range(len(aln)-1)]\n",
      "    hxb2pos = 0\n",
      "    for tup in zip(*aln):\n",
      "        if tup[-1] != '-':\n",
      "            hxb2pos += 1 #1-based!\n",
      "        if hxb2pos in wanted_seq_cols:\n",
      "            for out, let in zip(outs, tup):\n",
      "                out.append(let)\n",
      "    \n",
      "    out_ser = Series(outs, seq_series.index)\n",
      "    return out_ser\n",
      "data['SNPCols'] = data.groupby('Patient ID')['LTR'].apply(get_wanted_seq_cols)"
     ],
     "language": "python",
     "metadata": {},
     "outputs": [],
     "prompt_number": 5
    },
    {
     "cell_type": "code",
     "collapsed": false,
     "input": [
      "wanted_seq_cols = [108, 115, 120, 160, 168, 181, 251, 293]\n",
      "ref_val = ['A', 'A', 'C', 'C', 'G', 'A', 'G', 'G']\n",
      "\n",
      "names = ['%i-%s' % (c, v) for c,v in zip(wanted_seq_cols, ref_val)]\n",
      "def check_data(series):\n",
      "    \n",
      "    out = []\n",
      "    for let, wlet in zip(series['SNPCols'], ref_val):\n",
      "        if let == '-':\n",
      "            out.append(np.nan)\n",
      "        else:\n",
      "            out.append(float(let == wlet))\n",
      "    #print out\n",
      "    return Series(out, index=names)\n",
      "\n",
      "snp_data = data.apply(check_data, axis = 1)\n",
      "ndata = concat([data, snp_data], axis = 1)\n",
      "print ndata"
     ],
     "language": "python",
     "metadata": {},
     "outputs": [
      {
       "output_type": "stream",
       "stream": "stdout",
       "text": [
        "<class 'pandas.core.frame.DataFrame'>\n",
        "Int64Index: 861 entries, 4 to 1411\n",
        "Data columns:\n",
        "Patient ID    861  non-null values\n",
        "VisitNum      861  non-null values\n",
        "HIVD          861  non-null values\n",
        "LTR           861  non-null values\n",
        "LTR-align     861  non-null values\n",
        "SNPCols       861  non-null values\n",
        "108-A         418  non-null values\n",
        "115-A         567  non-null values\n",
        "120-C         588  non-null values\n",
        "160-C         766  non-null values\n",
        "168-G         748  non-null values\n",
        "181-A         784  non-null values\n",
        "251-G         815  non-null values\n",
        "293-G         827  non-null values\n",
        "dtypes: float64(9), object(5)\n"
       ]
      }
     ],
     "prompt_number": 6
    },
    {
     "cell_type": "code",
     "collapsed": false,
     "input": [
      "ndata['HIVD-I'] = ndata['HIVD']<10\n",
      "nnames = [name + '-C' for name in names]\n",
      "for nname, name in zip(nnames, names):\n",
      "    ndata[nname] = ndata[name].dropna()==0\n",
      "\n",
      "counts = ndata.groupby('HIVD-I')[names].sum()\n",
      "ncounts = (~ndata[names].applymap(np.isnan)).sum(axis = 0) - counts\n",
      "freqs = ndata.groupby('HIVD-I')[names].mean()\n",
      "print ncounts\n",
      "print counts"
     ],
     "language": "python",
     "metadata": {},
     "outputs": [
      {
       "output_type": "stream",
       "stream": "stdout",
       "text": [
        "        108-A  115-A  120-C  160-C  168-G  181-A  251-G  293-G\n",
        "HIVD-I                                                        \n",
        "False     270    301    282    336    366    368    375    386\n",
        "True      324    384    368    484    480    514    523    548\n",
        "        108-A  115-A  120-C  160-C  168-G  181-A  251-G  293-G\n",
        "HIVD-I                                                        \n",
        "False     148    266    306    430    382    416    440    441\n",
        "True       94    183    220    282    268    270    292    279\n"
       ]
      }
     ],
     "prompt_number": 27
    },
    {
     "cell_type": "code",
     "collapsed": false,
     "input": [
      "from scipy.stats import fisher_exact\n",
      "\n",
      "pvals = []\n",
      "for name in names:\n",
      "    table = [[counts[name][True], ncounts[name][True]], [counts[name][False], ncounts[name][False]]]\n",
      "    _, pval = fisher_exact(table)\n",
      "    pvals.append(pval)\n",
      "    \n",
      "pval_series = Series(pvals, names)\n",
      "pval_df = DataFrame({'Pval':pval_series}).T\n",
      "print pval_df"
     ],
     "language": "python",
     "metadata": {},
     "outputs": [
      {
       "output_type": "stream",
       "stream": "stdout",
       "text": [
        "<class 'pandas.core.frame.DataFrame'>\n",
        "Index: 1 entries, Pval to Pval\n",
        "Data columns:\n",
        "108-A    1  non-null values\n",
        "115-A    1  non-null values\n",
        "120-C    1  non-null values\n",
        "160-C    1  non-null values\n",
        "168-G    1  non-null values\n",
        "181-A    1  non-null values\n",
        "251-G    1  non-null values\n",
        "293-G    1  non-null values\n",
        "dtypes: float64(8)\n"
       ]
      }
     ],
     "prompt_number": 35
    },
    {
     "cell_type": "code",
     "collapsed": false,
     "input": [
      "concat([pval_df.reset_index(), counts.reset_index(), ncounts.reset_index()], axis =0 , ignore_index = True).to_excel('quick_hand_results.xlsx')"
     ],
     "language": "python",
     "metadata": {},
     "outputs": [],
     "prompt_number": 39
    },
    {
     "cell_type": "code",
     "collapsed": false,
     "input": [],
     "language": "python",
     "metadata": {},
     "outputs": []
    }
   ],
   "metadata": {}
  }
 ]
}