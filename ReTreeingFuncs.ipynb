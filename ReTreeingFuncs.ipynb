{
 "metadata": {
  "name": "ReTreeingFuncs"
 },
 "nbformat": 3,
 "nbformat_minor": 0,
 "worksheets": [
  {
   "cells": [
    {
     "cell_type": "code",
     "collapsed": false,
     "input": [
      "from pandas import DataFrame, Series, merge, read_csv, MultiIndex, Index, concat\n",
      "from subprocess import check_call\n",
      "from tempfile import NamedTemporaryFile as NTF\n",
      "import os, os.path\n",
      "import numpy as np\n",
      "from scipy.stats import ttest_ind\n",
      "from itertools import groupby,combinations, islice\n",
      "from operator import itemgetter\n",
      "from Bio import Phylo\n",
      "import networkx\n",
      "import sys\n",
      "import pickle\n",
      "\n",
      "from random import shuffle\n",
      "import csv, shlex, shutil\n",
      "\n",
      "os.chdir('/home/will/HIVTropism//')\n",
      "sys.path.append('/home/will/HIVReportGen/AnalysisCode/')\n",
      "sys.path.append('/home/will/PySeqUtils/')"
     ],
     "language": "python",
     "metadata": {},
     "outputs": [],
     "prompt_number": 1
    },
    {
     "cell_type": "code",
     "collapsed": false,
     "input": [
      "from SeqProcessTools import read_pat_seq_data, load_training_seq_data, align_seq_data_frame\n",
      "from GeneralSeqTools import fasta_reader, WebPSSM_V3_fasta, yield_chunks\n",
      "from Bio.Seq import Seq\n",
      "from Bio.Alphabet import generic_dna\n",
      "import glob\n",
      "from concurrent.futures import ThreadPoolExecutor, ProcessPoolExecutor\n",
      "from itertools import chain, product"
     ],
     "language": "python",
     "metadata": {},
     "outputs": [
      {
       "output_type": "stream",
       "stream": "stderr",
       "text": [
        "/usr/local/lib/python2.7/dist-packages/futures/__init__.py:24: DeprecationWarning: The futures package has been deprecated. Use the concurrent.futures package instead.\n",
        "  DeprecationWarning)\n"
       ]
      }
     ],
     "prompt_number": 2
    },
    {
     "cell_type": "code",
     "collapsed": false,
     "input": [
      "with open('trop_dict.pkl') as handle:\n",
      "    trop_dict = pickle.load(handle)\n",
      "\n",
      "with open('wanted_data.pkl') as handle:\n",
      "    wanted_data = pickle.load(handle)\n",
      "\n",
      "trans_dict = wanted_data['Name'].to_dict()\n",
      "ntrop_dict = dict((trans_dict[key], val) for key, val in trop_dict.items())\n",
      "trop_dict = ntrop_dict\n",
      "\n",
      "wanted_data = wanted_data.set_index('Name')"
     ],
     "language": "python",
     "metadata": {},
     "outputs": [],
     "prompt_number": 3
    },
    {
     "cell_type": "code",
     "collapsed": false,
     "input": [
      "wanted_data['Tropism'][wanted_data['gp120-seq-align'].notnull()].value_counts()"
     ],
     "language": "python",
     "metadata": {},
     "outputs": [
      {
       "metadata": {},
       "output_type": "pyout",
       "prompt_number": 7,
       "text": [
        "R5    10477\n",
        "X4      533\n",
        "dtype: int64"
       ]
      }
     ],
     "prompt_number": 7
    },
    {
     "cell_type": "code",
     "collapsed": false,
     "input": [
      "from GeneralSeqTools import fasta_writer\n",
      "fourkb_cols = ['gp120-seq-align', 'Nef-seq-align', 'Vpr-seq-align', \n",
      "                 'Tat-1-seq-align', 'Tat-2-seq-align', 'LTR-seq-align']\n",
      "four = wanted_data[fourkb_cols].dropna()\n",
      "wseqs = set()\n",
      "with open('/home/will/Dropbox/HIVseqs/BensTropismLabels.csv') as handle:\n",
      "    for row in csv.DictReader(handle, delimiter=','):\n",
      "        wseqs.add(row['Patient ID'])\n",
      "\n",
      "        \n",
      "for col in four.columns:\n",
      "    found = set()\n",
      "    prot = col.rsplit('-', 2)[0]\n",
      "    fname = 'AlignForBenj/fourKB_%s.fasta' % prot\n",
      "    with open(fname, 'w') as handle:\n",
      "        for seq, name in zip(four[col], four.index):\n",
      "            if name in wseqs and name not in found:\n",
      "                fasta_writer(handle, [(name+'-'+trop_dict[name], ''.join(seq))])\n",
      "                found.add(name)\n",
      "    print prot, len(found)"
     ],
     "language": "python",
     "metadata": {},
     "outputs": [
      {
       "output_type": "stream",
       "stream": "stdout",
       "text": [
        "gp120 25\n",
        "Nef 25\n",
        "Vpr 25\n",
        "Tat-1 25\n",
        "Tat-2 25\n",
        "LTR 25\n"
       ]
      }
     ],
     "prompt_number": 4
    },
    {
     "cell_type": "code",
     "collapsed": false,
     "input": [
      "foukb_lanl = ['AB078005', 'AB221126', 'AB253432', 'AB286955', \n",
      "              'AB287365', 'AB287367', 'AB287368', 'AB287369', \n",
      "              'AB480695', 'AB485642', 'AB565479', 'AB565496', \n",
      "              'AB565497', 'AB565499', 'AB565500', 'AB565502', \n",
      "              'AB604946', 'AB604948', 'AB604950', 'AB604951', \n",
      "              'AB641836', 'AF003887', 'AF003888', 'AF004394', \n",
      "              'AF042100', 'AF042101', 'AF538302', 'AF538303', \n",
      "              'AF538307', 'AJ271445', 'AY173953', 'AY352275', \n",
      "              'AY835748', 'AY835754', 'AY835759', 'AY835762', \n",
      "              'AY835766', 'AY835769', 'AY835770', 'AY835774', \n",
      "              'AY835777', 'AY835779', 'AY970950', 'DQ007901', \n",
      "              'DQ007902', 'DQ007903', 'DQ295192', 'DQ295193', \n",
      "              'DQ295194', 'DQ295195', 'DQ358809', 'DQ837381', \n",
      "              'DQ990880', 'EF057102', 'EF363123', 'EF363124', \n",
      "              'EF363126', 'EF363127', 'GU647196', 'GU733713', \n",
      "              'JN944928', 'JN944936', 'JN944939', 'JN944940', \n",
      "              'JN944942', 'JN944943', 'JN944944', 'JN944946', \n",
      "              'JN944948', 'JQ316126', 'JQ316128', 'JQ316131', \n",
      "              'JQ316132', 'JQ316134', 'JQ316135', 'JQ341411', \n",
      "              'JQ429433', 'M17449', 'U34604']"
     ],
     "language": "python",
     "metadata": {},
     "outputs": [],
     "prompt_number": 8
    },
    {
     "cell_type": "code",
     "collapsed": false,
     "input": [
      "from collections import Counter\n",
      "trops = []\n",
      "for p in wanted_data['gp120-seq-align'].dropna().index:\n",
      "    trops.append(trop_dict.get(p, None))\n",
      "    \n",
      "Counter(trops)"
     ],
     "language": "python",
     "metadata": {},
     "outputs": [
      {
       "metadata": {},
       "output_type": "pyout",
       "prompt_number": 40,
       "text": [
        "Counter({'R5': 10477, 'X4': 533})"
       ]
      }
     ],
     "prompt_number": 40
    },
    {
     "cell_type": "code",
     "collapsed": false,
     "input": [
      "wseqs = set(wanted_data['gp120'].dropna().index)\n",
      "cols = ['gp120-seq-align', 'Nef-seq-align', 'Vpr-seq-align', \n",
      "                 'Tat-1-seq-align', 'Tat-2-seq-align', 'LTR-seq-align']\n",
      "for col in cols:\n",
      "    found = set()\n",
      "    prot = col.rsplit('-', 2)[0]\n",
      "    fname = 'AlignForBenj/has_env_%s.fasta' % prot\n",
      "    df = wanted_data[col].dropna()\n",
      "    with open(fname, 'w') as handle:\n",
      "        for seq, name in zip(df, df.index):\n",
      "            if name in wseqs and name not in found:\n",
      "                fasta_writer(handle, [(name+'-'+trop_dict[name], ''.join(seq))])\n",
      "                found.add(name)"
     ],
     "language": "python",
     "metadata": {},
     "outputs": [],
     "prompt_number": 11
    },
    {
     "cell_type": "code",
     "collapsed": false,
     "input": [
      "def yield_regions(trop_dict):\n",
      "    \n",
      "    regions = ['LTR-seq-align',\n",
      "               'gp41-seq-align',\n",
      "               'gp120-seq-align',\n",
      "               'Nef-seq-align',\n",
      "               'Vpr-seq-align',\n",
      "               'Tat-1-seq-align',\n",
      "               'Tat-2-seq-align',\n",
      "                ]\n",
      "    tail_cols = ['gp120', 'gp41', 'Nef', 'Vpr', \n",
      "                 'Tat-1', 'Tat-2', 'LTR']\n",
      "    fourkb_cols = ['gp120', 'Nef', 'Vpr', \n",
      "                 'Tat-1', 'Tat-2', 'LTR']\n",
      "    groups = [('fourkb', wanted_data[fourkb_cols].dropna().index),\n",
      "              ('full_env', wanted_data[['gp120', 'gp41']].dropna().index),\n",
      "              ('full_tail', wanted_data[tail_cols].dropna().index),\n",
      "              ]\n",
      "    subs = ['SubB']\n",
      "    win_sizes = [5, 10, 15, 20, 30, 35]\n",
      "    \n",
      "    for region, (gname, ind), sub in product(regions, groups, subs):\n",
      "        prot = region.split('-')[0]\n",
      "        gwanted = wanted_data.ix[ind]\n",
      "        mask = gwanted['Sub'] == sub\n",
      "        seq_ser = gwanted[mask][region].dropna()\n",
      "        print prot, gname, sub, len(seq_ser)\n",
      "        seqs = [(name, ''.join(list(seq))) for name, seq in zip(seq_ser.index, seq_ser.values)]\n",
      "        seq_len = len(seqs[0][1])\n",
      "        \n",
      "        for win, start in product(win_sizes, range(seq_len)):\n",
      "            stop = start+win\n",
      "            if stop < seq_len:\n",
      "                nseqs = [(name, seq[start:stop]) for name, seq in seqs]\n",
      "                yield gname, sub, prot, start, win, nseqs, trop_dict"
     ],
     "language": "python",
     "metadata": {},
     "outputs": [],
     "prompt_number": 12
    },
    {
     "cell_type": "code",
     "collapsed": false,
     "input": [
      "import dendropy\n"
     ],
     "language": "python",
     "metadata": {},
     "outputs": [],
     "prompt_number": 13
    },
    {
     "cell_type": "code",
     "collapsed": false,
     "input": [
      "from Bio.Alphabet import generic_dna, generic_protein\n",
      "import TreeingTools\n",
      "def calculate_region(arg):\n",
      "    gname, sub, prot, start, win, nseqs, trop_dict = arg\n",
      "    \n",
      "    treename = 'quicktrees/%s-%s-%s-%i-%i.tree' % (gname, sub, prot, start, win)\n",
      "    matfname = 'quicktrees/%s-%s-%s-%i-%i.pkl' % (gname, sub, prot, start, win)\n",
      "    \n",
      "    if os.path.exists(treename):\n",
      "        #benj_res = 'Already Processed'\n",
      "        #return gname, sub, prot, win, start, benj_res\n",
      "        \n",
      "        with open(matfname) as handle:\n",
      "            dmat = pickle.load(handle)\n",
      "            \n",
      "        with open(treename) as handle:\n",
      "            tree = dendropy.Tree.get_from_stream(handle, 'newick')\n",
      "        \n",
      "    else:\n",
      "        \n",
      "        is_aa = prot != 'LTR'\n",
      "        alphabet = generic_protein if is_aa else generic_dna\n",
      "        \n",
      "        try:\n",
      "            tree, dmat = TreeingTools.phylip_tree_collapse_unique(nseqs, alphabet=alphabet)\n",
      "        except ValueError:\n",
      "            benj_res = 'Too few unique sequences to process'\n",
      "            return gname, sub, prot, win, start, benj_res\n",
      "        except:\n",
      "            benj_res = 'uncaught exception in dist-mat'\n",
      "            return gname, sub, prot, win, start, benj_res\n",
      "        print 'writing'\n",
      "        with open(matfname, 'w') as handle:\n",
      "            pickle.dump(dmat, handle)\n",
      "        with open(treename, 'w') as handle:\n",
      "            tree.write_to_stream(handle, 'newick')\n",
      "    \n",
      "    try:\n",
      "        benj_res = TreeingTools.check_distance_pvals(dmat, trop_dict, nreps = 50)\n",
      "    except AssertionError:\n",
      "        benj_res = 'too few groups'\n",
      "        return  gname, sub, prot, win, start, benj_res\n",
      "    except:\n",
      "        benj_res = 'uncaught exception'\n",
      "        return  gname, sub, prot, win, start, benj_res\n",
      "    \n",
      "    \n",
      "    try:\n",
      "        out = TreeingTools.evaluate_association_index(tree, trop_dict)\n",
      "        benj_res['AI'], benj_res['AI-pval'], benj_res['AI-null'] = out\n",
      "    except:\n",
      "        benj_res['AI'], benj_res['AI-pval'], benj_res['AI-null'] = ('error', 'error', 'error')\n",
      "    \n",
      "    return gname, sub, prot, win, start, benj_res\n"
     ],
     "language": "python",
     "metadata": {},
     "outputs": [],
     "prompt_number": 27
    },
    {
     "cell_type": "code",
     "collapsed": false,
     "input": [
      "def quick_yield_regions(trop_dict):\n",
      "    \n",
      "    nseqs = wanted_data.ix[foukb_lanl]['gp120-seq-align']\n",
      "    aseqs = wanted_data['gp120-seq-align'].dropna()\n",
      "    \n",
      "    regions = [('C1', 0, 101),\n",
      "               ('V1', 101, 127),\n",
      "               ('V2', 127, 166),\n",
      "               ('C2', 166, 266),\n",
      "               ('V3', 266, 301),\n",
      "               ('C3', 301, 355),\n",
      "               ('V4', 355, 388),\n",
      "               ('C4', 388, 430),\n",
      "               ('V5', 430, 439),\n",
      "               ('C5', 439, 462)]\n",
      "    \n",
      "    for name, start, stop in regions:\n",
      "        \n",
      "        seqs = [(n, ''.join(s[start:stop])) for n, s in zip(nseqs.index, nseqs.values)]\n",
      "        yield '44kb', 'gp120', name, start, stop, seqs, trop_dict\n",
      "        \n",
      "        seqs = [(n, ''.join(s[start:stop])) for n, s in zip(aseqs.index, aseqs.values)]\n",
      "        yield 'All', 'gp120', name, start, stop, seqs, trop_dict\n",
      "    \n",
      "    \n",
      "    "
     ],
     "language": "python",
     "metadata": {},
     "outputs": [],
     "prompt_number": 33
    },
    {
     "cell_type": "code",
     "collapsed": false,
     "input": [
      "from itertools import groupby, imap\n",
      "from types import StringType\n",
      "\n",
      "benj_fields = ['GroupName',\n",
      "               'Subtype',\n",
      "               'Prot',\n",
      "                'Start',\n",
      "                'WinSize',\n",
      "                'Group2Mean',\n",
      "                'Group2Std',\n",
      "                'Group2Name',\n",
      "                'Group1Mean',\n",
      "                'Group1Std',\n",
      "                'RawPval',\n",
      "                'AdjPval',\n",
      "                'Group1Name',\n",
      "                'AI',\n",
      "                'AI-pval',\n",
      "                'AI-null']\n",
      "fname = 'gp120_new_BenjRes.tsv'\n",
      "handle = open(fname, 'w')\n",
      "benj_writer = csv.DictWriter(handle, benj_fields, delimiter = '\\t')\n",
      "benj_writer.writeheader()\n",
      "results = imap(calculate_region, quick_yield_regions(trop_dict))\n",
      "\n",
      "for gname, sub, prot, win, start, benj_res in results:\n",
      "    \n",
      "    #print prot, start, win\n",
      "    tdict = {\n",
      "             'Prot':prot,\n",
      "             'Start':start,\n",
      "             'WinSize':win,\n",
      "             'GroupName':gname,\n",
      "             'Subtype':sub,\n",
      "             }\n",
      "    if type(benj_res) is StringType:\n",
      "        if (benj_res == 'Already Processed') or benj_res.startswith('Too few unique sequences'):\n",
      "            continue\n",
      "        print benj_res, prot, start, win\n",
      "    else:\n",
      "        benj_res.update(tdict)\n",
      "        benj_writer.writerow(benj_res)\n",
      "handle.close()"
     ],
     "language": "python",
     "metadata": {},
     "outputs": [
      {
       "output_type": "stream",
       "stream": "stdout",
       "text": [
        "writing\n",
        "writing"
       ]
      },
      {
       "output_type": "stream",
       "stream": "stdout",
       "text": [
        "\n",
        "writing"
       ]
      },
      {
       "output_type": "stream",
       "stream": "stdout",
       "text": [
        "\n",
        "writing"
       ]
      },
      {
       "output_type": "stream",
       "stream": "stdout",
       "text": [
        "\n",
        "writing"
       ]
      },
      {
       "output_type": "stream",
       "stream": "stdout",
       "text": [
        "\n",
        "writing"
       ]
      },
      {
       "output_type": "stream",
       "stream": "stdout",
       "text": [
        "\n",
        "writing"
       ]
      },
      {
       "output_type": "stream",
       "stream": "stdout",
       "text": [
        "\n",
        "writing"
       ]
      },
      {
       "output_type": "stream",
       "stream": "stdout",
       "text": [
        "\n",
        "writing"
       ]
      },
      {
       "output_type": "stream",
       "stream": "stdout",
       "text": [
        "\n",
        "writing"
       ]
      },
      {
       "output_type": "stream",
       "stream": "stdout",
       "text": [
        "\n",
        "writing"
       ]
      },
      {
       "output_type": "stream",
       "stream": "stdout",
       "text": [
        "\n",
        "writing"
       ]
      },
      {
       "output_type": "stream",
       "stream": "stdout",
       "text": [
        "\n",
        "writing"
       ]
      },
      {
       "output_type": "stream",
       "stream": "stdout",
       "text": [
        "\n",
        "writing"
       ]
      },
      {
       "output_type": "stream",
       "stream": "stdout",
       "text": [
        "\n",
        "writing"
       ]
      },
      {
       "output_type": "stream",
       "stream": "stdout",
       "text": [
        "\n",
        "writing"
       ]
      },
      {
       "output_type": "stream",
       "stream": "stdout",
       "text": [
        "\n",
        "writing"
       ]
      },
      {
       "output_type": "stream",
       "stream": "stdout",
       "text": [
        "\n",
        "writing"
       ]
      },
      {
       "output_type": "stream",
       "stream": "stdout",
       "text": [
        "\n",
        "writing"
       ]
      },
      {
       "output_type": "stream",
       "stream": "stdout",
       "text": [
        "\n",
        "writing"
       ]
      },
      {
       "output_type": "stream",
       "stream": "stdout",
       "text": [
        "\n"
       ]
      }
     ],
     "prompt_number": 34
    },
    {
     "cell_type": "code",
     "collapsed": false,
     "input": [
      "from itertools import groupby, imap\n",
      "from operator import itemgetter\n",
      "\n",
      "from concurrent.futures import ThreadPoolExecutor\n",
      "\n",
      "\n",
      "benj_fields = ['GroupName',\n",
      "               'Subtype',\n",
      "               'Prot',\n",
      "                'Start',\n",
      "                'WinSize',\n",
      "                'Group2Mean',\n",
      "                'Group2Std',\n",
      "                'Group2Name',\n",
      "                'Group1Mean',\n",
      "                'Group1Std',\n",
      "                'RawPval',\n",
      "                'AdjPval',\n",
      "                'Group1Name',\n",
      "                'AI',\n",
      "                'AI-pval',\n",
      "                'AI-null']\n",
      "fname = 'more_phylip_BenjRes.tsv'\n",
      "benj_writer = csv.DictWriter(open(fname, 'w'), benj_fields, delimiter = '\\t')\n",
      "   \n",
      "\n",
      "benj_writer.writeheader()\n",
      "\n",
      "multi = True\n",
      "print 'Starting multiprocessing!'\n",
      "if multi:\n",
      "    pool = ProcessPoolExecutor(max_workers = 30)\n",
      "    results = pool.map(calculate_region, yield_regions(trop_dict))\n",
      "else:\n",
      "    results = imap(calculate_region, islice(yield_regions(trop_dict), 0,35))\n",
      "\n",
      "for gname, sub, prot, win, start, benj_res in results:\n",
      "    \n",
      "    #print prot, start, win\n",
      "    tdict = {\n",
      "             'Prot':prot,\n",
      "             'Start':start,\n",
      "             'WinSize':win,\n",
      "             'GroupName':gname,\n",
      "             'Subtype':sub,\n",
      "             }\n",
      "    if type(benj_res) is StringType:\n",
      "        if (benj_res == 'Already Processed') or benj_res.startswith('Too few unique sequences'):\n",
      "            continue\n",
      "        print benj_res, prot, start, win\n",
      "    else:\n",
      "        benj_res.update(tdict)\n",
      "        benj_writer.writerow(benj_res)\n",
      "    \n",
      "        \n",
      "if multi:\n",
      "    pool.shutdown()"
     ],
     "language": "python",
     "metadata": {},
     "outputs": [
      {
       "output_type": "stream",
       "stream": "stdout",
       "text": [
        "Starting multiprocessing!\n",
        "LTR"
       ]
      },
      {
       "output_type": "stream",
       "stream": "stdout",
       "text": [
        " fourkb SubB 304\n",
        "gp41"
       ]
      },
      {
       "output_type": "stream",
       "stream": "stdout",
       "text": [
        " fourkb SubB 304\n",
        "gp120"
       ]
      },
      {
       "output_type": "stream",
       "stream": "stdout",
       "text": [
        " fourkb SubB 304\n",
        "Nef"
       ]
      },
      {
       "output_type": "stream",
       "stream": "stdout",
       "text": [
        " fourkb SubB 304\n",
        "Vpr"
       ]
      },
      {
       "output_type": "stream",
       "stream": "stdout",
       "text": [
        " fourkb SubB 304\n",
        "Tat fourkb SubB 304\n",
        "Tat"
       ]
      },
      {
       "output_type": "stream",
       "stream": "stdout",
       "text": [
        " fourkb SubB 304\n"
       ]
      },
      {
       "output_type": "stream",
       "stream": "stdout",
       "text": [
        "uncaught exception gp41 156 5\n",
        "uncaught exception gp41 157 5\n",
        "uncaught exception gp41 158 5\n",
        "uncaught exception"
       ]
      },
      {
       "output_type": "stream",
       "stream": "stdout",
       "text": [
        " gp41 302 5\n",
        "uncaught exception gp41 303 5\n",
        "uncaught exception gp41 304 5\n",
        "uncaught exception gp41 305 5\n",
        "uncaught exception gp41 306 5\n",
        "uncaught exception gp41 307 5\n",
        "uncaught exception"
       ]
      },
      {
       "output_type": "stream",
       "stream": "stdout",
       "text": [
        " gp41 302 10\n"
       ]
      }
     ],
     "prompt_number": 7
    },
    {
     "cell_type": "code",
     "collapsed": false,
     "input": [],
     "language": "python",
     "metadata": {},
     "outputs": []
    },
    {
     "cell_type": "code",
     "collapsed": false,
     "input": [
      "#with open('allgp120.fasta', 'w') as handle:\n",
      "tres = []\n",
      "for key, row in wanted_data[['gp120-seq-align', 'Tropism']].dropna().iterrows():\n",
      "    oname = key+'-'+row['Tropism']\n",
      "    tres.append((oname, ''.join(row['gp120-seq-align'])))\n",
      "    \n",
      "    "
     ],
     "language": "python",
     "metadata": {},
     "outputs": [],
     "prompt_number": 48
    },
    {
     "cell_type": "code",
     "collapsed": false,
     "input": [
      "tree, dmat = TreeingTools.phylip_tree_collapse_unique(tres, alphabet=generic_protein)"
     ],
     "language": "python",
     "metadata": {},
     "outputs": [],
     "prompt_number": 50
    },
    {
     "cell_type": "code",
     "collapsed": false,
     "input": [
      "with open('gp120tree.nexus', 'w') as handle:\n",
      "    tree.write_to_stream(handle, 'nexus')"
     ],
     "language": "python",
     "metadata": {},
     "outputs": [],
     "prompt_number": 71
    },
    {
     "cell_type": "code",
     "collapsed": false,
     "input": [
      "import networkx\n",
      "with open('gp120tree.dot') as handle:\n",
      "    new_tree = networkx.read_dot(handle)"
     ],
     "language": "python",
     "metadata": {},
     "outputs": [],
     "prompt_number": 54
    },
    {
     "cell_type": "code",
     "collapsed": false,
     "input": [
      "pos = networkx.spring_layout(new_tree, dim=100)\n",
      "#networkx.draw_spring(new_tree, \n",
      "#                     with_labels = False,\n",
      "#                     dim = 10)"
     ],
     "language": "python",
     "metadata": {},
     "outputs": [
      {
       "output_type": "stream",
       "stream": "stderr",
       "text": [
        "/usr/local/lib/python2.7/dist-packages/networkx/drawing/layout.py:369: DeprecationWarning: Implicitly casting between incompatible kinds. In a future numpy release, this will raise an error. Use casting=\"unsafe\" if this is intentional.\n",
        "  pos+=(displacement*t/length).T\n",
        "/usr/local/lib/python2.7/dist-packages/networkx/drawing/layout.py:369: DeprecationWarning: Implicitly casting between incompatible kinds. In a future numpy release, this will raise an error. Use casting=\"unsafe\" if this is intentional.\n",
        "  pos+=(displacement*t/length).T\n"
       ]
      },
      {
       "output_type": "stream",
       "stream": "stderr",
       "text": [
        "/usr/local/lib/python2.7/dist-packages/networkx/drawing/layout.py:369: DeprecationWarning: Implicitly casting between incompatible kinds. In a future numpy release, this will raise an error. Use casting=\"unsafe\" if this is intentional.\n",
        "  pos+=(displacement*t/length).T\n",
        "/usr/local/lib/python2.7/dist-packages/networkx/drawing/layout.py:369: DeprecationWarning: Implicitly casting between incompatible kinds. In a future numpy release, this will raise an error. Use casting=\"unsafe\" if this is intentional.\n",
        "  pos+=(displacement*t/length).T\n"
       ]
      },
      {
       "output_type": "stream",
       "stream": "stderr",
       "text": [
        "/usr/local/lib/python2.7/dist-packages/networkx/drawing/layout.py:369: DeprecationWarning: Implicitly casting between incompatible kinds. In a future numpy release, this will raise an error. Use casting=\"unsafe\" if this is intentional.\n",
        "  pos+=(displacement*t/length).T\n",
        "/usr/local/lib/python2.7/dist-packages/networkx/drawing/layout.py:369: DeprecationWarning: Implicitly casting between incompatible kinds. In a future numpy release, this will raise an error. Use casting=\"unsafe\" if this is intentional.\n",
        "  pos+=(displacement*t/length).T\n"
       ]
      },
      {
       "output_type": "stream",
       "stream": "stderr",
       "text": [
        "/usr/local/lib/python2.7/dist-packages/networkx/drawing/layout.py:369: DeprecationWarning: Implicitly casting between incompatible kinds. In a future numpy release, this will raise an error. Use casting=\"unsafe\" if this is intentional.\n",
        "  pos+=(displacement*t/length).T\n",
        "/usr/local/lib/python2.7/dist-packages/networkx/drawing/layout.py:369: DeprecationWarning: Implicitly casting between incompatible kinds. In a future numpy release, this will raise an error. Use casting=\"unsafe\" if this is intentional.\n",
        "  pos+=(displacement*t/length).T\n"
       ]
      },
      {
       "output_type": "stream",
       "stream": "stderr",
       "text": [
        "/usr/local/lib/python2.7/dist-packages/networkx/drawing/layout.py:369: DeprecationWarning: Implicitly casting between incompatible kinds. In a future numpy release, this will raise an error. Use casting=\"unsafe\" if this is intentional.\n",
        "  pos+=(displacement*t/length).T\n",
        "/usr/local/lib/python2.7/dist-packages/networkx/drawing/layout.py:369: DeprecationWarning: Implicitly casting between incompatible kinds. In a future numpy release, this will raise an error. Use casting=\"unsafe\" if this is intentional.\n",
        "  pos+=(displacement*t/length).T\n"
       ]
      },
      {
       "output_type": "stream",
       "stream": "stderr",
       "text": [
        "/usr/local/lib/python2.7/dist-packages/networkx/drawing/layout.py:369: DeprecationWarning: Implicitly casting between incompatible kinds. In a future numpy release, this will raise an error. Use casting=\"unsafe\" if this is intentional.\n",
        "  pos+=(displacement*t/length).T\n",
        "/usr/local/lib/python2.7/dist-packages/networkx/drawing/layout.py:369: DeprecationWarning: Implicitly casting between incompatible kinds. In a future numpy release, this will raise an error. Use casting=\"unsafe\" if this is intentional.\n",
        "  pos+=(displacement*t/length).T\n"
       ]
      },
      {
       "output_type": "stream",
       "stream": "stderr",
       "text": [
        "/usr/local/lib/python2.7/dist-packages/networkx/drawing/layout.py:369: DeprecationWarning: Implicitly casting between incompatible kinds. In a future numpy release, this will raise an error. Use casting=\"unsafe\" if this is intentional.\n",
        "  pos+=(displacement*t/length).T\n",
        "/usr/local/lib/python2.7/dist-packages/networkx/drawing/layout.py:369: DeprecationWarning: Implicitly casting between incompatible kinds. In a future numpy release, this will raise an error. Use casting=\"unsafe\" if this is intentional.\n",
        "  pos+=(displacement*t/length).T\n"
       ]
      },
      {
       "output_type": "stream",
       "stream": "stderr",
       "text": [
        "/usr/local/lib/python2.7/dist-packages/networkx/drawing/layout.py:369: DeprecationWarning: Implicitly casting between incompatible kinds. In a future numpy release, this will raise an error. Use casting=\"unsafe\" if this is intentional.\n",
        "  pos+=(displacement*t/length).T\n",
        "/usr/local/lib/python2.7/dist-packages/networkx/drawing/layout.py:369: DeprecationWarning: Implicitly casting between incompatible kinds. In a future numpy release, this will raise an error. Use casting=\"unsafe\" if this is intentional.\n",
        "  pos+=(displacement*t/length).T\n"
       ]
      },
      {
       "output_type": "stream",
       "stream": "stderr",
       "text": [
        "/usr/local/lib/python2.7/dist-packages/networkx/drawing/layout.py:369: DeprecationWarning: Implicitly casting between incompatible kinds. In a future numpy release, this will raise an error. Use casting=\"unsafe\" if this is intentional.\n",
        "  pos+=(displacement*t/length).T\n",
        "/usr/local/lib/python2.7/dist-packages/networkx/drawing/layout.py:369: DeprecationWarning: Implicitly casting between incompatible kinds. In a future numpy release, this will raise an error. Use casting=\"unsafe\" if this is intentional.\n",
        "  pos+=(displacement*t/length).T\n"
       ]
      },
      {
       "output_type": "stream",
       "stream": "stderr",
       "text": [
        "/usr/local/lib/python2.7/dist-packages/networkx/drawing/layout.py:369: DeprecationWarning: Implicitly casting between incompatible kinds. In a future numpy release, this will raise an error. Use casting=\"unsafe\" if this is intentional.\n",
        "  pos+=(displacement*t/length).T\n",
        "/usr/local/lib/python2.7/dist-packages/networkx/drawing/layout.py:369: DeprecationWarning: Implicitly casting between incompatible kinds. In a future numpy release, this will raise an error. Use casting=\"unsafe\" if this is intentional.\n",
        "  pos+=(displacement*t/length).T\n"
       ]
      },
      {
       "output_type": "stream",
       "stream": "stderr",
       "text": [
        "/usr/local/lib/python2.7/dist-packages/networkx/drawing/layout.py:369: DeprecationWarning: Implicitly casting between incompatible kinds. In a future numpy release, this will raise an error. Use casting=\"unsafe\" if this is intentional.\n",
        "  pos+=(displacement*t/length).T\n",
        "/usr/local/lib/python2.7/dist-packages/networkx/drawing/layout.py:369: DeprecationWarning: Implicitly casting between incompatible kinds. In a future numpy release, this will raise an error. Use casting=\"unsafe\" if this is intentional.\n",
        "  pos+=(displacement*t/length).T\n"
       ]
      },
      {
       "output_type": "stream",
       "stream": "stderr",
       "text": [
        "/usr/local/lib/python2.7/dist-packages/networkx/drawing/layout.py:369: DeprecationWarning: Implicitly casting between incompatible kinds. In a future numpy release, this will raise an error. Use casting=\"unsafe\" if this is intentional.\n",
        "  pos+=(displacement*t/length).T\n",
        "/usr/local/lib/python2.7/dist-packages/networkx/drawing/layout.py:369: DeprecationWarning: Implicitly casting between incompatible kinds. In a future numpy release, this will raise an error. Use casting=\"unsafe\" if this is intentional.\n",
        "  pos+=(displacement*t/length).T\n"
       ]
      },
      {
       "output_type": "stream",
       "stream": "stderr",
       "text": [
        "/usr/local/lib/python2.7/dist-packages/networkx/drawing/layout.py:369: DeprecationWarning: Implicitly casting between incompatible kinds. In a future numpy release, this will raise an error. Use casting=\"unsafe\" if this is intentional.\n",
        "  pos+=(displacement*t/length).T\n",
        "/usr/local/lib/python2.7/dist-packages/networkx/drawing/layout.py:369: DeprecationWarning: Implicitly casting between incompatible kinds. In a future numpy release, this will raise an error. Use casting=\"unsafe\" if this is intentional.\n",
        "  pos+=(displacement*t/length).T\n"
       ]
      },
      {
       "output_type": "stream",
       "stream": "stderr",
       "text": [
        "/usr/local/lib/python2.7/dist-packages/networkx/drawing/layout.py:369: DeprecationWarning: Implicitly casting between incompatible kinds. In a future numpy release, this will raise an error. Use casting=\"unsafe\" if this is intentional.\n",
        "  pos+=(displacement*t/length).T\n",
        "/usr/local/lib/python2.7/dist-packages/networkx/drawing/layout.py:369: DeprecationWarning: Implicitly casting between incompatible kinds. In a future numpy release, this will raise an error. Use casting=\"unsafe\" if this is intentional.\n",
        "  pos+=(displacement*t/length).T\n"
       ]
      },
      {
       "output_type": "stream",
       "stream": "stderr",
       "text": [
        "/usr/local/lib/python2.7/dist-packages/networkx/drawing/layout.py:369: DeprecationWarning: Implicitly casting between incompatible kinds. In a future numpy release, this will raise an error. Use casting=\"unsafe\" if this is intentional.\n",
        "  pos+=(displacement*t/length).T\n",
        "/usr/local/lib/python2.7/dist-packages/networkx/drawing/layout.py:369: DeprecationWarning: Implicitly casting between incompatible kinds. In a future numpy release, this will raise an error. Use casting=\"unsafe\" if this is intentional.\n",
        "  pos+=(displacement*t/length).T\n"
       ]
      },
      {
       "output_type": "stream",
       "stream": "stderr",
       "text": [
        "/usr/local/lib/python2.7/dist-packages/networkx/drawing/layout.py:369: DeprecationWarning: Implicitly casting between incompatible kinds. In a future numpy release, this will raise an error. Use casting=\"unsafe\" if this is intentional.\n",
        "  pos+=(displacement*t/length).T\n",
        "/usr/local/lib/python2.7/dist-packages/networkx/drawing/layout.py:369: DeprecationWarning: Implicitly casting between incompatible kinds. In a future numpy release, this will raise an error. Use casting=\"unsafe\" if this is intentional.\n",
        "  pos+=(displacement*t/length).T\n"
       ]
      },
      {
       "output_type": "stream",
       "stream": "stderr",
       "text": [
        "/usr/local/lib/python2.7/dist-packages/networkx/drawing/layout.py:369: DeprecationWarning: Implicitly casting between incompatible kinds. In a future numpy release, this will raise an error. Use casting=\"unsafe\" if this is intentional.\n",
        "  pos+=(displacement*t/length).T\n",
        "/usr/local/lib/python2.7/dist-packages/networkx/drawing/layout.py:369: DeprecationWarning: Implicitly casting between incompatible kinds. In a future numpy release, this will raise an error. Use casting=\"unsafe\" if this is intentional.\n",
        "  pos+=(displacement*t/length).T\n"
       ]
      },
      {
       "output_type": "stream",
       "stream": "stderr",
       "text": [
        "/usr/local/lib/python2.7/dist-packages/networkx/drawing/layout.py:369: DeprecationWarning: Implicitly casting between incompatible kinds. In a future numpy release, this will raise an error. Use casting=\"unsafe\" if this is intentional.\n",
        "  pos+=(displacement*t/length).T\n",
        "/usr/local/lib/python2.7/dist-packages/networkx/drawing/layout.py:369: DeprecationWarning: Implicitly casting between incompatible kinds. In a future numpy release, this will raise an error. Use casting=\"unsafe\" if this is intentional.\n",
        "  pos+=(displacement*t/length).T\n"
       ]
      },
      {
       "output_type": "stream",
       "stream": "stderr",
       "text": [
        "/usr/local/lib/python2.7/dist-packages/networkx/drawing/layout.py:369: DeprecationWarning: Implicitly casting between incompatible kinds. In a future numpy release, this will raise an error. Use casting=\"unsafe\" if this is intentional.\n",
        "  pos+=(displacement*t/length).T\n",
        "/usr/local/lib/python2.7/dist-packages/networkx/drawing/layout.py:369: DeprecationWarning: Implicitly casting between incompatible kinds. In a future numpy release, this will raise an error. Use casting=\"unsafe\" if this is intentional.\n",
        "  pos+=(displacement*t/length).T\n"
       ]
      },
      {
       "output_type": "stream",
       "stream": "stderr",
       "text": [
        "/usr/local/lib/python2.7/dist-packages/networkx/drawing/layout.py:369: DeprecationWarning: Implicitly casting between incompatible kinds. In a future numpy release, this will raise an error. Use casting=\"unsafe\" if this is intentional.\n",
        "  pos+=(displacement*t/length).T\n",
        "/usr/local/lib/python2.7/dist-packages/networkx/drawing/layout.py:369: DeprecationWarning: Implicitly casting between incompatible kinds. In a future numpy release, this will raise an error. Use casting=\"unsafe\" if this is intentional.\n",
        "  pos+=(displacement*t/length).T\n"
       ]
      },
      {
       "output_type": "stream",
       "stream": "stderr",
       "text": [
        "/usr/local/lib/python2.7/dist-packages/networkx/drawing/layout.py:369: DeprecationWarning: Implicitly casting between incompatible kinds. In a future numpy release, this will raise an error. Use casting=\"unsafe\" if this is intentional.\n",
        "  pos+=(displacement*t/length).T\n",
        "/usr/local/lib/python2.7/dist-packages/networkx/drawing/layout.py:369: DeprecationWarning: Implicitly casting between incompatible kinds. In a future numpy release, this will raise an error. Use casting=\"unsafe\" if this is intentional.\n",
        "  pos+=(displacement*t/length).T\n"
       ]
      },
      {
       "output_type": "stream",
       "stream": "stderr",
       "text": [
        "/usr/local/lib/python2.7/dist-packages/networkx/drawing/layout.py:369: DeprecationWarning: Implicitly casting between incompatible kinds. In a future numpy release, this will raise an error. Use casting=\"unsafe\" if this is intentional.\n",
        "  pos+=(displacement*t/length).T\n",
        "/usr/local/lib/python2.7/dist-packages/networkx/drawing/layout.py:369: DeprecationWarning: Implicitly casting between incompatible kinds. In a future numpy release, this will raise an error. Use casting=\"unsafe\" if this is intentional.\n",
        "  pos+=(displacement*t/length).T\n"
       ]
      },
      {
       "output_type": "stream",
       "stream": "stderr",
       "text": [
        "/usr/local/lib/python2.7/dist-packages/networkx/drawing/layout.py:369: DeprecationWarning: Implicitly casting between incompatible kinds. In a future numpy release, this will raise an error. Use casting=\"unsafe\" if this is intentional.\n",
        "  pos+=(displacement*t/length).T\n",
        "/usr/local/lib/python2.7/dist-packages/networkx/drawing/layout.py:369: DeprecationWarning: Implicitly casting between incompatible kinds. In a future numpy release, this will raise an error. Use casting=\"unsafe\" if this is intentional.\n",
        "  pos+=(displacement*t/length).T\n"
       ]
      },
      {
       "ename": "KeyboardInterrupt",
       "evalue": "",
       "output_type": "pyerr",
       "traceback": [
        "\u001b[1;31m---------------------------------------------------------------------------\u001b[0m\n\u001b[1;31mKeyboardInterrupt\u001b[0m                         Traceback (most recent call last)",
        "\u001b[1;32m<ipython-input-70-1323ab69ec99>\u001b[0m in \u001b[0;36m<module>\u001b[1;34m()\u001b[0m\n\u001b[1;32m----> 1\u001b[1;33m \u001b[0mpos\u001b[0m \u001b[1;33m=\u001b[0m \u001b[0mnetworkx\u001b[0m\u001b[1;33m.\u001b[0m\u001b[0mspring_layout\u001b[0m\u001b[1;33m(\u001b[0m\u001b[0mnew_tree\u001b[0m\u001b[1;33m,\u001b[0m \u001b[0mdim\u001b[0m\u001b[1;33m=\u001b[0m\u001b[1;36m100\u001b[0m\u001b[1;33m)\u001b[0m\u001b[1;33m\u001b[0m\u001b[0m\n\u001b[0m\u001b[0;32m      2\u001b[0m \u001b[1;31m#networkx.draw_spring(new_tree,\u001b[0m\u001b[1;33m\u001b[0m\u001b[1;33m\u001b[0m\u001b[0m\n\u001b[0;32m      3\u001b[0m \u001b[1;31m#                     with_labels = False,\u001b[0m\u001b[1;33m\u001b[0m\u001b[1;33m\u001b[0m\u001b[0m\n\u001b[0;32m      4\u001b[0m \u001b[1;31m#                     dim = 10)\u001b[0m\u001b[1;33m\u001b[0m\u001b[1;33m\u001b[0m\u001b[0m\n",
        "\u001b[1;32m/usr/local/lib/python2.7/dist-packages/networkx/drawing/layout.pyc\u001b[0m in \u001b[0;36mfruchterman_reingold_layout\u001b[1;34m(G, dim, pos, fixed, iterations, weight, scale)\u001b[0m\n\u001b[0;32m    235\u001b[0m     \u001b[1;32mexcept\u001b[0m\u001b[1;33m:\u001b[0m\u001b[1;33m\u001b[0m\u001b[0m\n\u001b[0;32m    236\u001b[0m         \u001b[0mA\u001b[0m\u001b[1;33m=\u001b[0m\u001b[0mnx\u001b[0m\u001b[1;33m.\u001b[0m\u001b[0mto_numpy_matrix\u001b[0m\u001b[1;33m(\u001b[0m\u001b[0mG\u001b[0m\u001b[1;33m,\u001b[0m\u001b[0mweight\u001b[0m\u001b[1;33m=\u001b[0m\u001b[0mweight\u001b[0m\u001b[1;33m)\u001b[0m\u001b[1;33m\u001b[0m\u001b[0m\n\u001b[1;32m--> 237\u001b[1;33m         \u001b[0mpos\u001b[0m\u001b[1;33m=\u001b[0m\u001b[0m_fruchterman_reingold\u001b[0m\u001b[1;33m(\u001b[0m\u001b[0mA\u001b[0m\u001b[1;33m,\u001b[0m\u001b[0mdim\u001b[0m\u001b[1;33m,\u001b[0m\u001b[0mpos_arr\u001b[0m\u001b[1;33m,\u001b[0m\u001b[0mfixed\u001b[0m\u001b[1;33m,\u001b[0m\u001b[0miterations\u001b[0m\u001b[1;33m)\u001b[0m\u001b[1;33m\u001b[0m\u001b[0m\n\u001b[0m\u001b[0;32m    238\u001b[0m     \u001b[1;32mif\u001b[0m \u001b[0mfixed\u001b[0m \u001b[1;32mis\u001b[0m \u001b[0mNone\u001b[0m\u001b[1;33m:\u001b[0m\u001b[1;33m\u001b[0m\u001b[0m\n\u001b[0;32m    239\u001b[0m         \u001b[0mpos\u001b[0m\u001b[1;33m=\u001b[0m\u001b[0m_rescale_layout\u001b[0m\u001b[1;33m(\u001b[0m\u001b[0mpos\u001b[0m\u001b[1;33m,\u001b[0m\u001b[0mscale\u001b[0m\u001b[1;33m=\u001b[0m\u001b[0mscale\u001b[0m\u001b[1;33m)\u001b[0m\u001b[1;33m\u001b[0m\u001b[0m\n",
        "\u001b[1;32m/usr/local/lib/python2.7/dist-packages/networkx/drawing/layout.pyc\u001b[0m in \u001b[0;36m_fruchterman_reingold\u001b[1;34m(A, dim, pos, fixed, iterations)\u001b[0m\n\u001b[0;32m    280\u001b[0m         \u001b[1;31m# matrix of difference between points\u001b[0m\u001b[1;33m\u001b[0m\u001b[1;33m\u001b[0m\u001b[0m\n\u001b[0;32m    281\u001b[0m         \u001b[1;32mfor\u001b[0m \u001b[0mi\u001b[0m \u001b[1;32min\u001b[0m \u001b[0mrange\u001b[0m\u001b[1;33m(\u001b[0m\u001b[0mpos\u001b[0m\u001b[1;33m.\u001b[0m\u001b[0mshape\u001b[0m\u001b[1;33m[\u001b[0m\u001b[1;36m1\u001b[0m\u001b[1;33m]\u001b[0m\u001b[1;33m)\u001b[0m\u001b[1;33m:\u001b[0m\u001b[1;33m\u001b[0m\u001b[0m\n\u001b[1;32m--> 282\u001b[1;33m             \u001b[0mdelta\u001b[0m\u001b[1;33m[\u001b[0m\u001b[1;33m:\u001b[0m\u001b[1;33m,\u001b[0m\u001b[1;33m:\u001b[0m\u001b[1;33m,\u001b[0m\u001b[0mi\u001b[0m\u001b[1;33m]\u001b[0m\u001b[1;33m=\u001b[0m \u001b[0mpos\u001b[0m\u001b[1;33m[\u001b[0m\u001b[1;33m:\u001b[0m\u001b[1;33m,\u001b[0m\u001b[0mi\u001b[0m\u001b[1;33m,\u001b[0m\u001b[0mNone\u001b[0m\u001b[1;33m]\u001b[0m\u001b[1;33m-\u001b[0m\u001b[0mpos\u001b[0m\u001b[1;33m[\u001b[0m\u001b[1;33m:\u001b[0m\u001b[1;33m,\u001b[0m\u001b[0mi\u001b[0m\u001b[1;33m]\u001b[0m\u001b[1;33m\u001b[0m\u001b[0m\n\u001b[0m\u001b[0;32m    283\u001b[0m         \u001b[1;31m# distance between points\u001b[0m\u001b[1;33m\u001b[0m\u001b[1;33m\u001b[0m\u001b[0m\n\u001b[0;32m    284\u001b[0m         \u001b[0mdistance\u001b[0m\u001b[1;33m=\u001b[0m\u001b[0mnp\u001b[0m\u001b[1;33m.\u001b[0m\u001b[0msqrt\u001b[0m\u001b[1;33m(\u001b[0m\u001b[1;33m(\u001b[0m\u001b[0mdelta\u001b[0m\u001b[1;33m**\u001b[0m\u001b[1;36m2\u001b[0m\u001b[1;33m)\u001b[0m\u001b[1;33m.\u001b[0m\u001b[0msum\u001b[0m\u001b[1;33m(\u001b[0m\u001b[0maxis\u001b[0m\u001b[1;33m=\u001b[0m\u001b[1;33m-\u001b[0m\u001b[1;36m1\u001b[0m\u001b[1;33m)\u001b[0m\u001b[1;33m)\u001b[0m\u001b[1;33m\u001b[0m\u001b[0m\n",
        "\u001b[1;31mKeyboardInterrupt\u001b[0m: "
       ]
      }
     ],
     "prompt_number": 70
    },
    {
     "cell_type": "code",
     "collapsed": false,
     "input": [
      "pos.items()[-10:]"
     ],
     "language": "python",
     "metadata": {},
     "outputs": []
    },
    {
     "cell_type": "code",
     "collapsed": false,
     "input": [],
     "language": "python",
     "metadata": {},
     "outputs": []
    }
   ],
   "metadata": {}
  }
 ]
}