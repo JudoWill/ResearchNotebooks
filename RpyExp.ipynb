{
 "metadata": {
  "name": "RpyExp"
 },
 "nbformat": 3,
 "nbformat_minor": 0,
 "worksheets": [
  {
   "cells": [
    {
     "cell_type": "code",
     "collapsed": false,
     "input": [
      "from __future__ import division\n",
      "import os, os.path\n",
      "from pandas import *\n",
      "import numpy as np\n",
      "import csv\n",
      "from itertools import groupby\n",
      "from collections import defaultdict\n",
      "from copy import deepcopy\n",
      "from types import TupleType\n",
      "import matplotlib.pyplot as plt\n",
      "\n",
      "os.chdir('/home/will/HIVSystemsBio/NewCytokineAnalysis/')"
     ],
     "language": "python",
     "metadata": {},
     "outputs": [],
     "prompt_number": 1
    },
    {
     "cell_type": "code",
     "collapsed": false,
     "input": [
      "cyto_data = read_csv('CytoRawData.csv', sep = '\\t')"
     ],
     "language": "python",
     "metadata": {},
     "outputs": [],
     "prompt_number": 2
    },
    {
     "cell_type": "code",
     "collapsed": false,
     "input": [
      "import rpy2.robjects as robjects\n",
      "import pandas.rpy.common as com"
     ],
     "language": "python",
     "metadata": {},
     "outputs": [],
     "prompt_number": 6
    },
    {
     "cell_type": "code",
     "collapsed": false,
     "input": [
      "r_dataframe = com.convert_to_r_dataframe(cyto_data)\n",
      "\n",
      "\n",
      "\n",
      "robjects.r(\"\"\"f <- function(r) {\n",
      "            print(names(r))\n",
      "        }      \n",
      "        \"\"\")"
     ],
     "language": "python",
     "metadata": {},
     "outputs": [
      {
       "output_type": "pyout",
       "prompt_number": 15,
       "text": [
        "<SignatureTranslatedFunction - Python:0x390c710 / R:0x50ee200>"
       ]
      }
     ],
     "prompt_number": 15
    },
    {
     "cell_type": "code",
     "collapsed": false,
     "input": [
      "robjects.r['f'](r_dataframe)"
     ],
     "language": "python",
     "metadata": {},
     "outputs": [
      {
       "output_type": "stream",
       "stream": "stdout",
       "text": [
        " [1] \"Patient.ID\" \"VisitNum\"   \"VEGF\"       \"IL.1beta\"   \"G.CSF\"     \n",
        " [6] \"EGF\"        \"IL.10\"      \"HGF\"        \"FGF.basic\"  \"IFN.alpha\" \n",
        "[11] \"IL.6\"       \"IL.12\"      \"Rantes\"     \"Eotaxin\"    \"IL.13\"     \n",
        "[16] \"IL.15\"      \"IL.17\"      \"MIP.1alpha\" \"GM.CSF\"     \"MIP.1beta\" \n",
        "[21] \"MCP.1\"      \"IL.5\"       \"IFN.gamma\"  \"TNF.alpha\"  \"IL.RA\"     \n",
        "[26] \"IL.2\"       \"IL.7\"       \"IP.10\"      \"IL.2R\"      \"MIG\"       \n",
        "[31] \"IL.4\"       \"IL.8\"      \n"
       ]
      },
      {
       "output_type": "pyout",
       "prompt_number": 16,
       "text": [
        "<StrVector - Python:0x3945440 / R:0x4b378a0>\n",
        "['Pati..., 'Visi..., 'VEGF', ..., 'MIG', 'IL.4', 'IL.8']"
       ]
      }
     ],
     "prompt_number": 16
    },
    {
     "cell_type": "code",
     "collapsed": false,
     "input": [
      "robjects.r('require(preprocessCore)')"
     ],
     "language": "python",
     "metadata": {},
     "outputs": [
      {
       "output_type": "stream",
       "stream": "stdout",
       "text": [
        "Loading required package: preprocessCore\n"
       ]
      },
      {
       "output_type": "pyout",
       "prompt_number": 17,
       "text": [
        "<Vector - Python:0x3945830 / R:0x54fb778>\n",
        "[       1]"
       ]
      }
     ],
     "prompt_number": 17
    },
    {
     "cell_type": "code",
     "collapsed": false,
     "input": [
      "robjects.r(\"\"\"quantnorm <- function(inputmatrix)\n",
      "{\n",
      "y<-normalize.quantiles(inputmatrix)\n",
      "return(y)\n",
      "}\"\"\" )"
     ],
     "language": "python",
     "metadata": {},
     "outputs": [
      {
       "output_type": "pyout",
       "prompt_number": 23,
       "text": [
        "<SignatureTranslatedFunction - Python:0x3941680 / R:0x5130618>"
       ]
      }
     ],
     "prompt_number": 23
    },
    {
     "cell_type": "code",
     "collapsed": false,
     "input": [
      "small_dataframe = com.convert_to_r_matrix(cyto_data[['VEGF', 'HGF', 'Rantes']].T)\n",
      "\n",
      "output = robjects.r['quantnorm'](small_dataframe)"
     ],
     "language": "python",
     "metadata": {},
     "outputs": [],
     "prompt_number": 31
    },
    {
     "cell_type": "code",
     "collapsed": false,
     "input": [
      "normed = com.convert_robj(output).T"
     ],
     "language": "python",
     "metadata": {},
     "outputs": [],
     "prompt_number": 33
    },
    {
     "cell_type": "code",
     "collapsed": false,
     "input": [
      "def quantile_norm_with_R(input_df):\n",
      "    \n",
      "    R_norm_func = robjects.r(\"\"\"quantnorm <- function(inputmatrix)\n",
      "{\n",
      "y<-normalize.quantiles(inputmatrix)\n",
      "return(y)\n",
      "}\"\"\" )\n",
      "    \n",
      "    R_matrix = com.convert_to_r_matrix(input_df)\n",
      "    print input_df\n",
      "    normed_matrix = R_norm_func(R_matrix)\n",
      "    normed_df = com.convert_robj(normed_matrix)\n",
      "    print normed_df\n",
      "    normed_df.index = input_df.index\n",
      "    normed_df.columns = input_df.columns\n",
      "    \n",
      "    return normed_df\n",
      "    \n",
      "    \n",
      "    \n",
      "    "
     ],
     "language": "python",
     "metadata": {},
     "outputs": [],
     "prompt_number": 41
    },
    {
     "cell_type": "code",
     "collapsed": false,
     "input": [
      "norm_cyto_data = read_csv('CytoRawDataNorm.csv', sep = '\\t')\n",
      "known_pat_data = read_csv('CytoPatData.csv', index_col=[0,1], sep = '\\t')\n",
      "\n",
      "agg_cyto_data = norm_cyto_data.groupby(['Patient ID', 'VisitNum']).agg('median')\n",
      "pat_cyto_data = merge(known_pat_data, agg_cyto_data,\n",
      "                       left_index = True, right_index = True,\n",
      "                        how = 'outer')\n",
      "\n",
      "cytos = sorted(['IL.8','VEGF','IL.1beta',\n",
      "        'G.CSF','EGF','IL.10','HGF',\n",
      "        'FGF.basic','IFN.alpha','IL.6',\n",
      "        'IL.12','Rantes','Eotaxin',\n",
      "        'GM.CSF','MIP.1beta',\n",
      "        'MCP.1','IL.5','IL.13', 'IFN.gamma','TNF.alpha',\n",
      "        'IL.RA','IL.2','IL.7','IP.10',\n",
      "        'IL.2R','MIG','IL.4','IL.15',\n",
      "        'IL.17','MIP.1alpha'])"
     ],
     "language": "python",
     "metadata": {},
     "outputs": [],
     "prompt_number": 55
    },
    {
     "cell_type": "code",
     "collapsed": false,
     "input": [
      "robjects.r('require(nlme)')"
     ],
     "language": "python",
     "metadata": {},
     "outputs": [
      {
       "output_type": "stream",
       "stream": "stdout",
       "text": [
        "Loading required package: nlme\n"
       ]
      },
      {
       "output_type": "pyout",
       "prompt_number": 58,
       "text": [
        "<Vector - Python:0x5fe7290 / R:0x4d3f9f8>\n",
        "[       1]"
       ]
      }
     ],
     "prompt_number": 58
    },
    {
     "cell_type": "code",
     "collapsed": false,
     "input": [
      "tmp = pat_cyto_data[['Gender', 'Age', 'Race', 'IL.12']]\n",
      "tmp_R_df = com.convert_to_r_dataframe(tmp.reset_index())\n"
     ],
     "language": "python",
     "metadata": {},
     "outputs": [],
     "prompt_number": 108
    },
    {
     "cell_type": "code",
     "collapsed": false,
     "input": [
      "relevel_fun = robjects.r(\"\"\"relevel_obj <- function(inputframe, column, ref)\n",
      "{\n",
      "print(inputframe[,column])\n",
      "\n",
      "inputframe[,column] <- relevel(factor(inputframe[,column]), ref = ref)\n",
      "return(inputframe)\n",
      "}\"\"\")"
     ],
     "language": "python",
     "metadata": {},
     "outputs": [],
     "prompt_number": 109
    },
    {
     "cell_type": "code",
     "collapsed": false,
     "input": [
      "tmp_R_df = relevel_fun(tmp_R_df, 'Race', 'White')\n",
      "tmp_R_df = relevel_fun(tmp_R_df, 'Gender', 'M')"
     ],
     "language": "python",
     "metadata": {},
     "outputs": [
      {
       "output_type": "stream",
       "stream": "stdout",
       "text": [
        "  [1] \"Black/AA\"   \"Black/AA\"   \"Black/AA\"   \"Black/AA\"   \"Black/AA\"  \n",
        "  [6] \"Black/AA\"   \"White\"      \"Black/AA\"   \"Black/AA\"   \"Black/AA\"  \n",
        " [11] \"Black/AA\"   \"Black/AA\"   \"Black/AA\"   \"Black/AA\"   \"Black/AA\"  \n",
        " [16] \"Black/AA\"   \"Black/AA\"   \"Black/AA\"   \"Black/AA\"   \"Black/AA\"  \n",
        " [21] \"Black/AA\"   \"Black/AA\"   \"Black/AA\"   \"Black/AA\"   \"Black/AA\"  \n",
        " [26] \"Black/AA\"   \"Black/AA\"   \"Black/AA\"   \"Black/AA\"   \"Black/AA\"  \n",
        " [31] \"Black/AA\"   \"Black/AA\"   \"Black/AA\"   \"Black/AA\"   \"Black/AA\"  \n",
        " [36] \"Black/AA\"   \"Black/AA\"   \"Black/AA\"   \"Black/AA\"   \"Black/AA\"  \n",
        " [41] \"Black/AA\"   \"Black/AA\"   \"Black/AA\"   \"Black/AA\"   \"Black/AA\"  \n",
        " [46] \"Multi-race\" \"White\"      \"Black/AA\"   \"White\"      \"Black/AA\"  \n",
        " [51] \"White\"      \"Black/AA\"   \"Black/AA\"   \"Black/AA\"   \"Black/AA\"  \n",
        " [56] \"Black/AA\"   \"White\"      \"Black/AA\"   \"Black/AA\"   \"Black/AA\"  \n",
        " [61] \"Black/AA\"   \"Black/AA\"   \"Black/AA\"   \"Black/AA\"   \"Black/AA\"  \n",
        " [66] \"Black/AA\"   \"Black/AA\"   \"Black/AA\"   \"Black/AA\"   \"Black/AA\"  \n",
        " [71] \"Black/AA\"   \"Black/AA\"   \"Black/AA\"   \"Black/AA\"   \"Black/AA\"  \n",
        " [76] \"Black/AA\"   \"White\"      \"Black/AA\"   \"Black/AA\"   \"Black/AA\"  \n",
        " [81] \"Black/AA\"   \"Black/AA\"   \"Multi-race\" \"Black/AA\"   \"Black/AA\"  \n",
        " [86] \"Black/AA\"   \"Black/AA\"   \"Black/AA\"   \"Black/AA\"   \"Black/AA\"  \n",
        " [91] \"Black/AA\"   \"Black/AA\"   \"Black/AA\"   \"White\"      \"Black/AA\"  \n",
        " [96] \"Black/AA\"   \"Black/AA\"   \"Black/AA\"   \"Black/AA\"   \"Black/AA\"  \n",
        "[101] \"Black/AA\"   \"Black/AA\"   \"Black/AA\"   \"Black/AA\"   \"Black/AA\"  \n",
        "[106] \"Black/AA\"   \"Black/AA\"   \"Black/AA\"   \"Black/AA\"   \"Black/AA\"  \n",
        "[111] \"Black/AA\"   \"Black/AA\"   \"White\"     \n",
        "  [1] \"F\" \"M\" \"M\" \"M\" \"M\" \"F\" \"F\" \"M\" \"M\" \"M\" \"F\" \"F\" \"F\" \"M\" \"M\" \"M\" \"M\" \"M\"\n",
        " [19] \"M\" \"F\" \"F\" \"M\" \"F\" \"F\" \"M\" \"M\" \"M\" \"M\" \"F\" \"M\" \"F\" \"F\" \"M\" \"F\" \"F\" \"F\"\n",
        " [37] \"F\" \"F\" \"F\" \"F\" \"M\" \"M\" \"M\" \"F\" \"M\" \"M\" \"M\" \"M\" \"M\" \"M\" \"M\" \"F\" \"M\" \"M\"\n",
        " [55] \"M\" \"F\" \"M\" \"M\" \"M\" \"M\" \"F\" \"M\" \"M\" \"F\" \"F\" \"F\" \"M\" \"F\" \"M\" \"M\" \"M\" \"M\"\n",
        " [73] \"M\" \"F\" \"F\" \"M\" \"F\" \"F\" \"F\" \"M\" \"M\" \"M\" \"M\" \"M\" \"M\" \"F\" \"M\" \"F\" \"M\" \"M\"\n",
        " [91] \"M\" \"F\" \"F\" \"F\" \"F\" \"M\" \"M\" \"F\" \"M\" \"F\" \"M\" \"F\" \"M\" \"F\" \"M\" \"F\" \"F\" \"M\"\n",
        "[109] \"M\" \"F\" \"M\" \"M\" \"M\"\n"
       ]
      }
     ],
     "prompt_number": 110
    },
    {
     "cell_type": "code",
     "collapsed": false,
     "input": [
      "str(tmp_R_df.rx2('Age').nlevels)"
     ],
     "language": "python",
     "metadata": {},
     "outputs": [
      {
       "ename": "AttributeError",
       "evalue": "'IntVector' object has no attribute 'nlevels'",
       "output_type": "pyerr",
       "traceback": [
        "\u001b[1;31m---------------------------------------------------------------------------\u001b[0m\n\u001b[1;31mAttributeError\u001b[0m                            Traceback (most recent call last)",
        "\u001b[1;32m<ipython-input-148-480beaa1927c>\u001b[0m in \u001b[0;36m<module>\u001b[1;34m()\u001b[0m\n\u001b[1;32m----> 1\u001b[1;33m \u001b[0mstr\u001b[0m\u001b[1;33m(\u001b[0m\u001b[0mtmp_R_df\u001b[0m\u001b[1;33m.\u001b[0m\u001b[0mrx2\u001b[0m\u001b[1;33m(\u001b[0m\u001b[1;34m'Age'\u001b[0m\u001b[1;33m)\u001b[0m\u001b[1;33m.\u001b[0m\u001b[0mnlevels\u001b[0m\u001b[1;33m)\u001b[0m\u001b[1;33m\u001b[0m\u001b[0m\n\u001b[0m",
        "\u001b[1;31mAttributeError\u001b[0m: 'IntVector' object has no attribute 'nlevels'"
       ]
      }
     ],
     "prompt_number": 148
    },
    {
     "cell_type": "code",
     "collapsed": false,
     "input": [
      "lme_model_func = robjects.r(\"\"\"lmefunc <- function(eqn, data, reqn){\n",
      "lm1 <- lme(eqn, random = reqn, data = data, na.action = na.omit)\n",
      "return(summary(lm1))\n",
      "}\"\"\")"
     ],
     "language": "python",
     "metadata": {},
     "outputs": [],
     "prompt_number": 138
    },
    {
     "cell_type": "code",
     "collapsed": false,
     "input": [
      "from rpy2.robjects import Formula\n",
      "\n",
      "eqn = Formula('IL.12 ~ as.factor(Race) + as.factor(Gender) + Age')\n",
      "rand_eqn = Formula('~1|Patient.ID')\n",
      "\n",
      "summary = lme_model_func(eqn, tmp_R_df, rand_eqn)"
     ],
     "language": "python",
     "metadata": {},
     "outputs": [],
     "prompt_number": 139
    },
    {
     "cell_type": "code",
     "collapsed": false,
     "input": [
      "names = summary.names"
     ],
     "language": "python",
     "metadata": {},
     "outputs": [],
     "prompt_number": 150
    },
    {
     "cell_type": "code",
     "collapsed": false,
     "input": [
      "tdict = {}\n",
      "for name in names:\n",
      "    try:\n",
      "        tdict[name] = com.convert_robj(summary.rx2(name))\n",
      "    except:\n",
      "        print name\n",
      "    #except Exception:\n",
      "    #    print name"
     ],
     "language": "python",
     "metadata": {},
     "outputs": [
      {
       "output_type": "stream",
       "stream": "stdout",
       "text": [
        "dims\n",
        "call\n",
        "terms\n"
       ]
      }
     ],
     "prompt_number": 160
    },
    {
     "cell_type": "code",
     "collapsed": false,
     "input": [
      "tdict['tTable']"
     ],
     "language": "python",
     "metadata": {},
     "outputs": [
      {
       "html": [
        "<div style=\"max-height:1000px;max-width:1500px;overflow:auto;\">\n",
        "<table border=\"1\" class=\"dataframe\">\n",
        "  <thead>\n",
        "    <tr style=\"text-align: right;\">\n",
        "      <th></th>\n",
        "      <th>Value</th>\n",
        "      <th>Std.Error</th>\n",
        "      <th>DF</th>\n",
        "      <th>t-value</th>\n",
        "      <th>p-value</th>\n",
        "    </tr>\n",
        "  </thead>\n",
        "  <tbody>\n",
        "    <tr>\n",
        "      <td><strong>(Intercept)</strong></td>\n",
        "      <td>-278.049580</td>\n",
        "      <td> 560.686041</td>\n",
        "      <td> 108</td>\n",
        "      <td>-0.495910</td>\n",
        "      <td> 0.620966</td>\n",
        "    </tr>\n",
        "    <tr>\n",
        "      <td><strong>as.factor(Race)Black/AA</strong></td>\n",
        "      <td> 292.250070</td>\n",
        "      <td> 350.485533</td>\n",
        "      <td> 108</td>\n",
        "      <td> 0.833843</td>\n",
        "      <td> 0.406210</td>\n",
        "    </tr>\n",
        "    <tr>\n",
        "      <td><strong>as.factor(Race)Multi-race</strong></td>\n",
        "      <td>-370.407781</td>\n",
        "      <td> 772.145314</td>\n",
        "      <td> 108</td>\n",
        "      <td>-0.479713</td>\n",
        "      <td> 0.632402</td>\n",
        "    </tr>\n",
        "    <tr>\n",
        "      <td><strong>as.factor(Gender)F</strong></td>\n",
        "      <td>-207.731106</td>\n",
        "      <td> 184.613891</td>\n",
        "      <td> 108</td>\n",
        "      <td>-1.125219</td>\n",
        "      <td> 0.262991</td>\n",
        "    </tr>\n",
        "    <tr>\n",
        "      <td><strong>Age</strong></td>\n",
        "      <td>  14.744496</td>\n",
        "      <td>   9.585446</td>\n",
        "      <td> 108</td>\n",
        "      <td> 1.538217</td>\n",
        "      <td> 0.126920</td>\n",
        "    </tr>\n",
        "  </tbody>\n",
        "</table>\n",
        "</div>"
       ],
       "output_type": "pyout",
       "prompt_number": 162,
       "text": [
        "                                Value   Std.Error   DF   t-value   p-value\n",
        "(Intercept)               -278.049580  560.686041  108 -0.495910  0.620966\n",
        "as.factor(Race)Black/AA    292.250070  350.485533  108  0.833843  0.406210\n",
        "as.factor(Race)Multi-race -370.407781  772.145314  108 -0.479713  0.632402\n",
        "as.factor(Gender)F        -207.731106  184.613891  108 -1.125219  0.262991\n",
        "Age                         14.744496    9.585446  108  1.538217  0.126920"
       ]
      }
     ],
     "prompt_number": 162
    },
    {
     "cell_type": "code",
     "collapsed": false,
     "input": [
      "name"
     ],
     "language": "python",
     "metadata": {},
     "outputs": [
      {
       "output_type": "pyout",
       "prompt_number": 159,
       "text": [
        "'call'"
       ]
      }
     ],
     "prompt_number": 159
    },
    {
     "cell_type": "code",
     "collapsed": false,
     "input": [],
     "language": "python",
     "metadata": {},
     "outputs": []
    }
   ],
   "metadata": {}
  }
 ]
}