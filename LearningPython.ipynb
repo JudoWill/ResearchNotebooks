{
 "metadata": {
  "name": "LearningPython"
 },
 "nbformat": 3,
 "nbformat_minor": 0,
 "worksheets": [
  {
   "cells": [
    {
     "cell_type": "heading",
     "level": 1,
     "metadata": {},
     "source": [
      "Learning Programming Through Examples"
     ]
    },
    {
     "cell_type": "raw",
     "metadata": {},
     "source": [
      "This is the IPython notebook. You access it through the browser window however it is actually a program running on the super-computer on Will's desk. I have done some work to make sure that nothing you do here will screw up the computer. So feel free to experiment! This is a 'real' python interpreter and can do anything that python can do. Evaluate the next set of code-blocks (use 'shift-enter') to run the code in a cell."
     ]
    },
    {
     "cell_type": "code",
     "collapsed": false,
     "input": [
      "print 'Subraction', 500-300\n",
      "print 'Multiplication', 500*300\n",
      "print 'Raise to the Power', 500**30"
     ],
     "language": "python",
     "metadata": {},
     "outputs": []
    },
    {
     "cell_type": "raw",
     "metadata": {},
     "source": [
      "While having a $10,000 calculator is pretty cool, real programming involves using variables. Think of variables as just NAMES. Names can be anything WITHOUT SPACES, dashes, &, or other weird characters."
     ]
    },
    {
     "cell_type": "code",
     "collapsed": false,
     "input": [
      "this_is_a_number = 5\n",
      "ThisIsAName = 'John Doe'\n",
      "this_is_a_bigger_number = 500"
     ],
     "language": "python",
     "metadata": {},
     "outputs": []
    },
    {
     "cell_type": "raw",
     "metadata": {},
     "source": [
      "Then you can do anything with a variable that you can with a 'literal' (something you typed out)."
     ]
    },
    {
     "cell_type": "code",
     "collapsed": false,
     "input": [
      "print 'Subtraction', this_is_a_number-this_is_a_bigger_number\n",
      "print 'Multiplication', this_is_a_number*this_is_a_bigger_number"
     ],
     "language": "python",
     "metadata": {},
     "outputs": []
    },
    {
     "cell_type": "raw",
     "metadata": {},
     "source": [
      "You can also do interesting things. Like multiply a string (a variable with text) with a number. Can you guess what will happen?"
     ]
    },
    {
     "cell_type": "code",
     "collapsed": false,
     "input": [
      "print ThisIsAName*this_is_a_number"
     ],
     "language": "python",
     "metadata": {},
     "outputs": []
    },
    {
     "cell_type": "raw",
     "metadata": {},
     "source": [
      "Oooooo ... concatenation! Think of it this way: 'What would you expect to happen if you had \"5 times John Doe\"'? What do you think would happen if you added a number and a string?"
     ]
    },
    {
     "cell_type": "code",
     "collapsed": false,
     "input": [
      "print ThisIsAName+this_is_a_number"
     ],
     "language": "python",
     "metadata": {},
     "outputs": []
    },
    {
     "cell_type": "raw",
     "metadata": {},
     "source": [
      "Whoops,it doesn't understand. Python thinks we are trying to concatenate a string and a number. But numbers and strings aren't the same \"Type\" (duh). So it raises a TypeError and gives you a little description of what went wrong. This is called a Traceback ... when you're learning programming you'll see a lot of these. We'll go over them in more detail later ... but the important thing to know now is \"Read them from the bottom to the top\"."
     ]
    },
    {
     "cell_type": "raw",
     "metadata": {},
     "source": [
      "Single varaibles are for chumps! List, Tuples (pronouced 'two-pulls'), sets, and dictionaries are ways to store multiple items in one name. Each has advantages and disadvantages."
     ]
    },
    {
     "cell_type": "code",
     "collapsed": false,
     "input": [
      "patient_ages =    (23,45,89,17,56,94) #Tuple, created using parentheses\n",
      "patient_weights = [66,76,54,78,61,60] #List, created using brackets"
     ],
     "language": "python",
     "metadata": {},
     "outputs": []
    },
    {
     "cell_type": "raw",
     "metadata": {},
     "source": [
      "Items can be retrieved from a List or Tuple by thier index (position in the list). Just remember, computers start counting at ZERO!!!!"
     ]
    },
    {
     "cell_type": "code",
     "collapsed": false,
     "input": [
      "print \"Patient 4's age:\", patient_ages[3]\n",
      "print \"Patient 4's weight:\", patient_weights[3], \"in kilos\"\n",
      "print 'In pounds:', patient_weights[3]*2.2"
     ],
     "language": "python",
     "metadata": {},
     "outputs": []
    },
    {
     "cell_type": "raw",
     "metadata": {},
     "source": [
      "There is one big difference between Lists and Tuples. Items in a list can be changed while items within a Tuple cannot be. This is called 'mutability'"
     ]
    },
    {
     "cell_type": "code",
     "collapsed": false,
     "input": [
      "#This works\n",
      "print 'Original:', patient_weights\n",
      "\n",
      "patient_weights[4] = 5000\n",
      "print 'After changing:', patient_weights\n",
      "\n",
      "patient_weights[4] = 61\n",
      "print 'After changing back', patient_weights\n",
      "\n"
     ],
     "language": "python",
     "metadata": {},
     "outputs": []
    },
    {
     "cell_type": "code",
     "collapsed": false,
     "input": [
      "#This does not\n",
      "patient_ages[3] = 12\n",
      "print patient_ages"
     ],
     "language": "python",
     "metadata": {},
     "outputs": []
    },
    {
     "cell_type": "raw",
     "metadata": {},
     "source": [
      "Dictionaries (pronounced and typed as 'dict') are UNORDERED mappings between keys and values. Just like a normal dictionary a key (kinda like a word) references one (and only one) value (kinda like a definition). Here are some examples."
     ]
    },
    {
     "cell_type": "code",
     "collapsed": false,
     "input": [
      "#This dictionary maps names to patient-numbers\n",
      "names2index = {\n",
      "                    'John':0,\n",
      "                    'Jamie':1,\n",
      "                    'Jack':2,\n",
      "                    'Jill':3,\n",
      "                    'Jess':4,\n",
      "                    'Jeb':4,\n",
      "}\n",
      "\n",
      "print 'Jack is patient #', names2index['Jack']\n",
      "print 'Jeb is patient #', names2index['Jeb']\n",
      "\n",
      "#just remember, these are not 'in order' the way you normally think about dictionaries\n",
      "print names2index"
     ],
     "language": "python",
     "metadata": {},
     "outputs": []
    },
    {
     "cell_type": "raw",
     "metadata": {},
     "source": [
      "So this lets us do some cool things:"
     ]
    },
    {
     "cell_type": "code",
     "collapsed": false,
     "input": [
      "print \"Jack's Age:\", patient_ages[names2index['Jack']]\n",
      "print \"John's Weight in Kilos:\", patient_weights[names2index['John']]\n",
      "print \"John's Weight in pounds:\", patient_weights[names2index['John']]*2.2"
     ],
     "language": "python",
     "metadata": {},
     "outputs": []
    },
    {
     "cell_type": "raw",
     "metadata": {},
     "source": [
      "Lists, dicts and tuples allow us to do cool things called 'iteration'. This is one of the 'fundamental concepts' in programming, the idea of defining a set of rules for handeling an 'item' and then iterate through multiple 'items' doing the same thing. So as an example lets print the weight in kilos of each patient."
     ]
    },
    {
     "cell_type": "code",
     "collapsed": false,
     "input": [
      "for patient in names2index: #gets the name of each patient\n",
      "    weight_kg = patient_weights[names2index[patient]]\n",
      "    weight_lb = weight_kg*2.2\n",
      "    print patient, 'weighs', weight_lb, 'in pounds'"
     ],
     "language": "python",
     "metadata": {},
     "outputs": []
    },
    {
     "cell_type": "raw",
     "metadata": {},
     "source": [
      "However keeping all of these things (Age, weight, name, etc) in seperate variables gets annoying. Especially as we start adding the hundreds of other things we could measure. So we're going to put them in a 'DataFrame'. Think of a DataFrame like an excel worksheet ... it has rows and columns and each position has a value (or is empty, something we'll cover later). However, 'python' doesn't have a native DataFrame (or anything like it); but thankfully people much smarter than anyone here have developed THOUSANDS of tools that can be accessed through the 'import' command. We'll cover them as we go; but in general there is a python module that can do almost anything you can think of!"
     ]
    },
    {
     "cell_type": "code",
     "collapsed": false,
     "input": [
      "import antigravity"
     ],
     "language": "python",
     "metadata": {},
     "outputs": []
    },
    {
     "cell_type": "code",
     "collapsed": false,
     "input": [
      "#but seriously, the DataFrame object is a 'pandas' tool. You can see what else is there: http://pandas.pydata.org/\n",
      "from pandas import DataFrame\n",
      "\n",
      "pat_data = DataFrame({\n",
      "                      'Age':patient_ages,\n",
      "                      'Weight':patient_weights\n",
      "                        })\n",
      "print pat_data\n",
      "\n",
      "print 'Average age', pat_data['Age'].mean()\n",
      "print 'Smallest weight', pat_data['Weight'].min()\n",
      "print 'Oldest Age', pat_data['Age'].max()"
     ],
     "language": "python",
     "metadata": {},
     "outputs": []
    },
    {
     "cell_type": "raw",
     "metadata": {},
     "source": [
      "Once you 'grok' the concept of a DataFrame and all of the cool things you can do then you'll have almost limitless ability in dealing with 'tabular' data."
     ]
    },
    {
     "cell_type": "raw",
     "metadata": {},
     "source": [
      "For example, what if we wanted to find the number of patients with an Age > 50."
     ]
    },
    {
     "cell_type": "code",
     "collapsed": false,
     "input": [
      "print 'Make a \"mask\" of which patients have an Age > 50'\n",
      "\n",
      "old_mask = pat_data['Age']>50\n",
      "print old_mask\n",
      "\n",
      "print \"Then we can 'sum' the True values\"\n",
      "print old_mask.sum()"
     ],
     "language": "python",
     "metadata": {},
     "outputs": []
    },
    {
     "cell_type": "raw",
     "metadata": {},
     "source": [
      "We can also use that 'mask' to index back into the DataFrame to answer a question like \"Of all the patients over 50 what is thier average weight?\""
     ]
    },
    {
     "cell_type": "code",
     "collapsed": false,
     "input": [
      "print \"Old people's weight\"\n",
      "print pat_data['Weight'][old_mask]\n",
      "\n",
      "print \"Old people's average weight in kg\", pat_data['Weight'][old_mask].mean()\n",
      "print \"Old people's average weight in lbs\", pat_data['Weight'][old_mask].mean()*2.2\n",
      "print \n",
      "\n",
      "#A tildle (~) indicates 'not'\n",
      "print \"Young people's age\"\n",
      "print pat_data['Age'][~old_mask]\n",
      "\n",
      "print \"Young people's average weight in kg\", pat_data['Weight'][~old_mask].mean()\n",
      "print \"Young people's average weight in lbs\", pat_data['Weight'][~old_mask].mean()*2.2\n"
     ],
     "language": "python",
     "metadata": {},
     "outputs": []
    },
    {
     "cell_type": "raw",
     "metadata": {},
     "source": [
      "Hmm, it seems like young people weigh (on average) more then old people. Wouldn't it be cool if we could do a quick t-test to see if the difference is significant? As I said before, python has a module to do everything! Statistical functions like that are in the module \"scipy.stats\". You can see a full list of stat tests here: http://docs.scipy.org/doc/scipy/reference/stats.html (scroll about half-way down to find ttest_ind)"
     ]
    },
    {
     "cell_type": "code",
     "collapsed": false,
     "input": [
      "from scipy.stats import ttest_ind\n",
      "\n",
      "#this gives you a little pop-up showing the function definition (how to use it)\n",
      "ttest_ind?"
     ],
     "language": "python",
     "metadata": {},
     "outputs": []
    },
    {
     "cell_type": "raw",
     "metadata": {},
     "source": [
      "There is a LOT of information in there. It takes practice to learn what the important things are but I'll walk you through this one.\n",
      "\n",
      "\"Definition: ttest_ind(a, b, axis=0, equal_var=True)\"\n",
      "This tells us how to 'call' the function. It takes 2 'positional arguements' \"a\" and \"b\" and some optional arguements. We'll ignore them for now.\n",
      "\n",
      "\"Docstring:\n",
      "Calculates the T-test for the means of TWO INDEPENDENT samples of scores.\n",
      "\n",
      "This is a two-sided test for the null hypothesis that 2 independent samples\n",
      "have identical average (expected) values. This test assumes that the\n",
      "populations have identical variances.\"\n",
      "\n",
      "This tells us what the function does. All good libraries have some documentation telling what each function does.\n",
      "\n",
      "\"\n",
      "Parameters\n",
      "----------\n",
      "\"\n",
      "This tells what each input 'means'. So you can see the first two are 'array-like' which is just math/programming speak for \"list of numbers\". It tells us what the 'axis' arguement does, but it's just Greek now, so ignore it. It also tells us that we can tell the function whether we assume the populations have equal variance. For no we'll assume 'yes', which is the default.\n",
      "\n",
      "\"\n",
      "Returns\n",
      "-------\n",
      "t : float or array\n",
      "    The calculated t-statistic.\n",
      "prob : float or array\n",
      "    The two-tailed p-value.\n",
      "\"\n",
      "This tells us that it returns two values, the t-statistic and the two-tailed p-value.\n",
      "\n",
      "So we use it like this:"
     ]
    },
    {
     "cell_type": "code",
     "collapsed": false,
     "input": [
      "old_weights = pat_data['Weight'][old_mask]\n",
      "young_weights = pat_data['Weight'][~old_mask]\n",
      "tstat, pval = ttest_ind(old_weights, young_weights)\n",
      "print 'P-value:', pval"
     ],
     "language": "python",
     "metadata": {},
     "outputs": []
    },
    {
     "cell_type": "raw",
     "metadata": {},
     "source": [
      "Wow, pretty cool! We can say that (in this made-up data) old people have a statistically significantly (p<0.05) lower body weight then younger patients. But this is made up fake data. Would this be true in real data? Like the stuff we have from real patients? Well, lets see!"
     ]
    },
    {
     "cell_type": "raw",
     "metadata": {},
     "source": [
      "I have done a lot of work to get data from redcap into python in a DataFrame so we can analyze questions like this. So you can load the redcap data into this python workspace and ask questions like this. How I did this is beyond the scope of this tutorial and there will be a little bit of 'magic' required to get it in. I'll explain as I go."
     ]
    },
    {
     "cell_type": "code",
     "collapsed": false,
     "input": [
      "from pandas import HDFStore #This is a file storage format for large collections of data\n",
      "\n",
      "#This opens a particular version of the file for us to play with.\n",
      "store = HDFStore('/home/will/HIVReportGen/Data/BaseRedcap/HIVAIDSGeneticAnalys_DATA_LABELS_2013-01-16_1211.hdf')\n",
      "\n",
      "#This 'store' has multiple pieces of data within it\n",
      "print store\n",
      "\n",
      "#we want the redcap data (although the seq_data will be cool later\n",
      "redcap_data = store['redcap']\n",
      "\n",
      "#After we get the data out we 'close' the store, this is to make sure we can't accidentally save data BACK INTO the store.\n",
      "#Think of it like 'taking out the jump-drive' once its copied to your desktop you don't need the jump-drive anymore.\n",
      "store.close()"
     ],
     "language": "python",
     "metadata": {},
     "outputs": []
    },
    {
     "cell_type": "code",
     "collapsed": false,
     "input": [
      "print redcap_data"
     ],
     "language": "python",
     "metadata": {},
     "outputs": []
    },
    {
     "cell_type": "raw",
     "metadata": {},
     "source": [
      "From this you can see that there are 425 columns in the table, 115 of them are numbers (float), 171 are True/False (boolean) and 139 are something else (object) [usually these are strings]. But that still doesn't give us much information about WHAT is in there. But this will give us an idea:"
     ]
    },
    {
     "cell_type": "code",
     "collapsed": false,
     "input": [
      "#print out the columns\n",
      "print redcap_data.columns"
     ],
     "language": "python",
     "metadata": {},
     "outputs": []
    },
    {
     "cell_type": "raw",
     "metadata": {},
     "source": [
      "From that giant block of text we can see all the columns that we have. To answer out question we only need a small subset of them. So we'll pull out the Age and weight columns."
     ]
    },
    {
     "cell_type": "code",
     "collapsed": false,
     "input": [
      "real_pat_data = redcap_data[['Age','Weight']]\n",
      "print real_pat_data"
     ],
     "language": "python",
     "metadata": {},
     "outputs": []
    },
    {
     "cell_type": "raw",
     "metadata": {},
     "source": [
      "Now you can start to see some of the hidden messyness of dealing with REAL data. You can see that not all of the data is there. We have 1419 entries only 1397 of them have an Age and only 544 of them have a Weight. But we'll work with what we have."
     ]
    },
    {
     "cell_type": "code",
     "collapsed": false,
     "input": [
      "real_old_mask = real_pat_data['Age']>50\n",
      "print 'Old average weight:', real_pat_data['Weight'][real_old_mask].mean()\n",
      "print 'Young average weight:', real_pat_data['Weight'][~real_old_mask].mean()"
     ],
     "language": "python",
     "metadata": {},
     "outputs": []
    },
    {
     "cell_type": "raw",
     "metadata": {},
     "source": [
      "Looks promissing. I wonder what the p-value is on that."
     ]
    },
    {
     "cell_type": "code",
     "collapsed": false,
     "input": [
      "tstat, pval = ttest_ind(real_pat_data['Weight'][real_old_mask], real_pat_data['Weight'][~real_old_mask])\n",
      "print 'p-value:', pval"
     ],
     "language": "python",
     "metadata": {},
     "outputs": []
    },
    {
     "cell_type": "raw",
     "metadata": {},
     "source": [
      "Oooo, here we get into more of the problems with missing data. The t-test function doesn't know what to do with missing data (NaN) and so it choked and returned a NaN. So we need to think a second about what to do with missing data. It really depends on your situation, but in this one; the \"right\" answer is to just drop the missing data. And in this case we need to drop the patients who are missing an Age or Weight or BOTH. DataFrames have easy ways to deal with this: called \"dropna\". Lets look at the docstring."
     ]
    },
    {
     "cell_type": "code",
     "collapsed": false,
     "input": [
      "real_pat_data.dropna?"
     ],
     "language": "python",
     "metadata": {},
     "outputs": []
    },
    {
     "cell_type": "raw",
     "metadata": {},
     "source": [
      "Again, lots of stuff but only a little is important.\n",
      "\n",
      "\"Definition: real_pat_data.dropna(self, axis=0, how='any', thresh=None, subset=None)\"\n",
      "How to call the function. The 'self' arguement is automatically added, due to \"magic\" you don't need to add it, as you get more programming experience it will make more sense as to why, but for right now, just know \"skip anything that says 'self'\"\n",
      "\n",
      "\"\n",
      "Docstring:\n",
      "Return object with labels on given axis omitted where alternately any\n",
      "or all of the data are missing\"\n",
      "This tells us that it will drop items from the dataset if there are missing values.\n",
      "\n",
      "\n",
      "In the paramenters we need to pay attention:\n",
      "\n",
      "axis : {0, 1}, or tuple/list thereof\n",
      "    Pass tuple or list to drop on multiple axes\n",
      "This lets us change which 'axis' it will work on. Think of axis Zero as the 'rows' and axis One as the 'columns'. In our case we want to drop ROWS which have missing values not COLUMNS. So we'll use \"axis = 0\".\n",
      "\n",
      "how : {'any', 'all'}\n",
      "    any : if any NA values are present, drop that label\n",
      "    all : if all values are NA, drop that label\n",
      "This lets us control how stringent the criteria is. Will it drop a row if ANY are missing or if ALL are missing.\n",
      "\n",
      "thresh : int, default None\n",
      "    int value : require that many non-NA values\n",
      "If ANY or ALL don't work we could use an integer number of missing values. For example drop if more than 5 columns are empty in a 50 column DataFrame.\n",
      "\n",
      "subset : array-like\n",
      "    Labels along other axis to consider, e.g. if you are dropping rows\n",
      "    these would be a list of columns to include\n",
      "This is for when we only want it to consider a SUBSET of the columns for checking missing values.\n",
      "\n",
      "So in our case we want to drop the rows of the dataset inwhich any of the columns are empty."
     ]
    },
    {
     "cell_type": "code",
     "collapsed": false,
     "input": [
      "full_data = real_pat_data.dropna(axis = 0, how = 'any')\n",
      "print full_data"
     ],
     "language": "python",
     "metadata": {},
     "outputs": []
    },
    {
     "cell_type": "raw",
     "metadata": {},
     "source": [
      "So, we have 543 rows in which we have both an Age and a Weight, now we can do something."
     ]
    },
    {
     "cell_type": "code",
     "collapsed": false,
     "input": [
      "tstat, pval = ttest_ind(full_data['Weight'][real_old_mask], full_data['Weight'][~real_old_mask])\n",
      "print 'p-value:', pval"
     ],
     "language": "python",
     "metadata": {},
     "outputs": []
    },
    {
     "cell_type": "raw",
     "metadata": {},
     "source": [
      "Wow, it worked! Old people do weigh less the young people (p<0.05). We also hiddenly did something else REALLY cool, that you didn't even see, did you?\n",
      "\n",
      "\n",
      "We used the 'mask' (real_old_mask) calculated on the original dataset (real_pat_data) on the filtered dataset (full_data). If you look at the \"Index\" in the print-out from each dataset you can get a hint as to how this happened."
     ]
    },
    {
     "cell_type": "code",
     "collapsed": false,
     "input": [
      "#look at the first 10 items in the index (think row-labels)\n",
      "print 'Large Data row labels:', real_old_mask.index[:10]\n",
      "print 'Smaller Data row labels:', full_data.index[:10]"
     ],
     "language": "python",
     "metadata": {},
     "outputs": []
    },
    {
     "cell_type": "raw",
     "metadata": {},
     "source": [
      "Pandas was smart enough to go through and match the rows which have the same row labels. This can be good and bad. It makes life much easier but can sometimes lead to errors if you're not careful!"
     ]
    },
    {
     "cell_type": "raw",
     "metadata": {},
     "source": [
      "But there's an error in our statistics logic ... the code is right, but our analysis is wrong. You know that we have multiple patients dataset who have multiple visits (that whole longitudinal thingy). So some patients are counted more then once and thier ages/weights are likely to be similar. If our cohort has a bias (intentional or accidental) in the age or weight selection for returning patients then it will bias our test. So we should probably consider only one Age and one Weight for each patient. There are COUNTLESS ways to do this, I'm going to show a few and use them as ways to show you other cool Python-y things."
     ]
    },
    {
     "cell_type": "raw",
     "metadata": {},
     "source": [
      "First lets look at each patient and find thier average age and average weight. To do that we're going to use the 'groupby' function to group rows by Patient ID and then calculate the average age and weight."
     ]
    },
    {
     "cell_type": "code",
     "collapsed": false,
     "input": [
      "#pull out the data\n",
      "data = redcap_data[['Patient ID', 'Age', 'Weight']]\n",
      "print 'raw data\\n'\n",
      "print data\n",
      "\n",
      "mean_data = data.groupby('Patient ID').mean()\n",
      "print '\\nMean-ed data\\n'\n",
      "print mean_data\n",
      "\n",
      "print '\\nFull without missing values\\n'\n",
      "full_mean_data = mean_data.dropna(axis = 0, how = 'any')\n",
      "print full_mean_data"
     ],
     "language": "python",
     "metadata": {},
     "outputs": []
    },
    {
     "cell_type": "raw",
     "metadata": {},
     "source": [
      "You can see that it also changed the 'index' of the mean_data DataFrame. It is now indexed by Patient ID \"Index: 507 entries, A0001 to A0514\" and we can also see that many of the patients do not have Ages and Weights for ANY of thier visits. So we'll work with the data we got and see what happens."
     ]
    },
    {
     "cell_type": "code",
     "collapsed": false,
     "input": [
      "tstat, pval = ttest_ind(full_mean_data['Weight'][real_old_mask], full_mean_data['Weight'][~real_old_mask])\n",
      "print 'p-value:', pval"
     ],
     "language": "python",
     "metadata": {},
     "outputs": []
    },
    {
     "cell_type": "raw",
     "metadata": {},
     "source": [
      "Whoops, an error! Hmmm, what's happening? It says: \"ValueError: cannot index with vector containing NA / NaN values\". That doesn't make much sense ... we dropped all the NaN values from \"full_mean_data\" and we've used this \"real_old_mask\" variable before and it worked just fine. What could it mean? Let's deconstruct the code above and see where the error is."
     ]
    },
    {
     "cell_type": "code",
     "collapsed": false,
     "input": [
      "old_weights = full_mean_data['Weight'][real_old_mask]\n",
      "young_weights = full_mean_data['Weight'][~real_old_mask]\n",
      "tstat, pval = ttest_ind(old_weights, young_weights)\n",
      "print 'p-value:', pval"
     ],
     "language": "python",
     "metadata": {},
     "outputs": []
    },
    {
     "cell_type": "raw",
     "metadata": {},
     "source": [
      "Still have an error (duh, I wrote the same code, just more 'verbose'). But if we read it bottom-to-top then you can see something. The error seems to be when we try to pull out the weights. Hmmmm. Let's look at the data and see if there's something fishy."
     ]
    },
    {
     "cell_type": "code",
     "collapsed": false,
     "input": [
      "print 'Data'\n",
      "print full_mean_data.head() #prints only the first 5 rows, useful for checking sanity\n",
      "\n",
      "print\n",
      "print 'Mask'\n",
      "print real_old_mask.head()"
     ],
     "language": "python",
     "metadata": {},
     "outputs": []
    },
    {
     "cell_type": "raw",
     "metadata": {},
     "source": [
      "Eureaka! Do you see it? The first column in both tables is the Index. The Data is indexed by \"Patient ID\" and the Mask is indexed by numbers. And those numbers refer to the rows in the 'real_pat_data' matrix ... so they can't be mapped to Patient ID's. So we just need to make a new mask! Remember how I said above that Pandas is smart ... well sometimes its just smrt."
     ]
    },
    {
     "cell_type": "code",
     "collapsed": false,
     "input": [
      "pat_old_mask = full_mean_data['Age']>50\n",
      "print pat_old_mask.head()"
     ],
     "language": "python",
     "metadata": {},
     "outputs": []
    },
    {
     "cell_type": "raw",
     "metadata": {},
     "source": [
      "There we go! Now we know which patients have an average age > 50! Now we can go back to our original question."
     ]
    },
    {
     "cell_type": "code",
     "collapsed": false,
     "input": [
      "tstat, pval = ttest_ind(full_mean_data['Weight'][pat_old_mask], full_mean_data['Weight'][~pat_old_mask])\n",
      "print 'p-value:', pval"
     ],
     "language": "python",
     "metadata": {},
     "outputs": []
    },
    {
     "cell_type": "raw",
     "metadata": {},
     "source": [
      "Interesting ... when we correct for the fact that we have patients with multiple visits (and therefore the age and weights from each row are not TRULY independent) we lose significance. Maybe the 'average' weight and 'average' age is not the correct way to think about it. It would make more sense to look at a single visit for each patient and take the Age and Weight from that visit. But which Visit? To be 'fair' we need to do it one the same visit for each patient. One could make a case for any particular visit, so I'm going to say thier 'initial visit' (ROO) since everyone has an ROO.\n",
      "\n",
      "A little note about the database. Its niave to believe that its 'sorted' in any particular order. So make sure any of your tests don't rely on that, always check first."
     ]
    },
    {
     "cell_type": "code",
     "collapsed": false,
     "input": [
      "#so lets pull out the visit data along with Patient ID, Age, Weight.\n",
      "data = redcap_data[['Patient ID', 'Patient visit number', 'Age', 'Weight']]\n",
      "print data\n",
      "print data.head()"
     ],
     "language": "python",
     "metadata": {},
     "outputs": []
    },
    {
     "cell_type": "raw",
     "metadata": {},
     "source": [
      "Notice something? Not every visit has a Visit Number.\n",
      "There are many ways to do this, but I'll show the simplest."
     ]
    },
    {
     "cell_type": "code",
     "collapsed": false,
     "input": [
      "first_visit_mask = data['Patient visit number']=='R00'\n",
      "first_data = data[first_visit_mask].dropna(axis = 0, how = 'any')\n",
      "print first_data.head()"
     ],
     "language": "python",
     "metadata": {},
     "outputs": []
    },
    {
     "cell_type": "raw",
     "metadata": {},
     "source": [
      "Looks like it worked. Let's see what the result is."
     ]
    },
    {
     "cell_type": "code",
     "collapsed": false,
     "input": [
      "first_old_mask = first_data['Age'] > 50\n",
      "tstat, pval = ttest_ind(first_data['Weight'][first_old_mask], first_data['Weight'][~first_old_mask])\n",
      "print 'p-value:', pval"
     ],
     "language": "python",
     "metadata": {},
     "outputs": []
    },
    {
     "cell_type": "raw",
     "metadata": {},
     "source": [
      "Wow! Not even CLOSE! That seems weird doesn't it? When I look at the average weight across all visits and compare young/old I'm almost significant but when I look only at the intake visit its way off. I wonder what's happening here. Let's look at the data. We can use some plotting to see what's happening. Why don't we look at the weight at each visit. We'll use a boxplot to do this."
     ]
    },
    {
     "cell_type": "code",
     "collapsed": false,
     "input": [
      "data.boxplot?\n",
      "#you should be able to read these now!"
     ],
     "language": "python",
     "metadata": {},
     "outputs": []
    },
    {
     "cell_type": "code",
     "collapsed": false,
     "input": [
      "data.boxplot(column = 'Age', by = 'Patient visit number')\n",
      "data.boxplot(column = 'Weight', by = 'Patient visit number')"
     ],
     "language": "python",
     "metadata": {},
     "outputs": []
    },
    {
     "cell_type": "raw",
     "metadata": {},
     "source": [
      "It seems like the R09 and R10 visits have different variances and much lower medians. Maybe if we exclude those we'll get answers that match better."
     ]
    },
    {
     "cell_type": "code",
     "collapsed": false,
     "input": [
      "rm_mask = (data['Patient visit number'] == 'R09') | (data['Patient visit number'] == 'R10')\n",
      "early_data = data[~rm_mask].dropna(axis = 0, how = 'any')\n",
      "print early_data.head()\n",
      "\n",
      "grouped_early_data = early_data.groupby('Patient ID').mean()\n",
      "early_mask = grouped_early_data['Age'] > 50\n",
      "tstat, pval = ttest_ind(grouped_early_data['Weight'][early_mask], grouped_early_data['Weight'][~early_mask])\n",
      "print 'p-value:', pval"
     ],
     "language": "python",
     "metadata": {},
     "outputs": []
    },
    {
     "cell_type": "raw",
     "metadata": {},
     "source": [
      "Hmm, That didn't seem to help. It still looks like the average weight of patients less than 50 yrs-old is different from the average weight of patients older than 50. But why is is it SO different from a result where we calculate based on the intake visit? Lets look again."
     ]
    },
    {
     "cell_type": "raw",
     "metadata": {},
     "source": [
      "Hmmmm, I don't see anything else useful here. The variance of the age/weight decreases as we look at higher visits but that's to be expected (less patients make it to the later visits). Maybe its something about the 'averaging'. Maybe young people and old people have different variances in thier weights. We could look at that by calculating the Standard Deviation for the weight of each patient."
     ]
    },
    {
     "cell_type": "code",
     "collapsed": false,
     "input": [
      "#re-work this example to not use aggregate\n",
      "pat_weight_std = data.groupby('Patient ID', as_index = False).aggregate({'Weight':'std'})\n",
      "#I'll explain as_index later.\n",
      "print pat_weight_std.describe()"
     ],
     "language": "python",
     "metadata": {},
     "outputs": []
    },
    {
     "cell_type": "raw",
     "metadata": {},
     "source": [
      "Hmm, so some people have a HUGE variation in weight (67 lbs std is a lot). Lets see if that is correlated with Age. So lets put it in with the Age at thier first visit."
     ]
    },
    {
     "cell_type": "code",
     "collapsed": false,
     "input": [
      "first_data['Age-std'] = pat_weight_std\n",
      "print first_data"
     ],
     "language": "python",
     "metadata": {},
     "outputs": []
    },
    {
     "cell_type": "raw",
     "metadata": {},
     "source": [
      "Hmmm, it won't let us put them together saying \"Length of values does not match length of index\" ... Implying that the two items don't match properly. Since this is a common issue, Pandas has a way to deal with this. Called, \"merge\"."
     ]
    },
    {
     "cell_type": "code",
     "collapsed": false,
     "input": [
      "from pandas import merge\n",
      "merge?"
     ],
     "language": "python",
     "metadata": {},
     "outputs": []
    },
    {
     "cell_type": "code",
     "collapsed": false,
     "input": [
      "mdata = merge(first_data, pat_weight_std,\n",
      "                left_on = 'Patient ID', right_on = 'Patient ID')\n",
      "print mdata.head()"
     ],
     "language": "python",
     "metadata": {},
     "outputs": []
    },
    {
     "cell_type": "raw",
     "metadata": {},
     "source": [
      "Hmmm, what's going on with that Weight_x, Weight_y? It comes when doing a 'merge' and the two DataFrames have columns with the same name."
     ]
    },
    {
     "cell_type": "code",
     "collapsed": false,
     "input": [
      "print first_data.columns\n",
      "print pat_weight_std.columns\n",
      "print 'See, Weight is in both of them.'"
     ],
     "language": "python",
     "metadata": {},
     "outputs": []
    },
    {
     "cell_type": "raw",
     "metadata": {},
     "source": [
      "So we can rename the column in one and then it will work fine."
     ]
    },
    {
     "cell_type": "code",
     "collapsed": false,
     "input": [
      "pat_weight_std = pat_weight_std.rename(columns={'Weight':'Weight-std'})\n",
      "\n",
      "mdata = merge(first_data, pat_weight_std,\n",
      "                left_on = 'Patient ID', right_on = 'Patient ID')\n",
      "print mdata.head()"
     ],
     "language": "python",
     "metadata": {},
     "outputs": []
    },
    {
     "cell_type": "raw",
     "metadata": {},
     "source": [
      "Now we can go back to our earlier question? Does the weight vary more or less with age and does that account for our earlier observations."
     ]
    },
    {
     "cell_type": "code",
     "collapsed": false,
     "input": [
      "mdata[['Age', 'Weight-std']].scatter()"
     ],
     "language": "python",
     "metadata": {},
     "outputs": []
    },
    {
     "cell_type": "raw",
     "metadata": {},
     "source": [
      "Hmm, there's no scatter plot in DataFrame. I wonder if there's another package that does it? Why don't you google 'scatter plot in python'. What is the package in the first few results?"
     ]
    },
    {
     "cell_type": "code",
     "collapsed": false,
     "input": [
      "from matplotlib import pyplot"
     ],
     "language": "python",
     "metadata": {},
     "outputs": []
    },
    {
     "cell_type": "code",
     "collapsed": false,
     "input": [
      "pyplot.scatter(mdata['Age'], mdata['Weight-std'])\n",
      "pyplot.xlabel('Age')\n",
      "pyplot.ylabel('Weight-std')"
     ],
     "language": "python",
     "metadata": {},
     "outputs": []
    },
    {
     "cell_type": "raw",
     "metadata": {},
     "source": [
      "Hmmm, I don't see much of a trend. However, that one patient is WAY out there in terms of weight-control and they're right on the cusp of 50. What happens if we drop them from the analysis. First we have to find them."
     ]
    },
    {
     "cell_type": "code",
     "collapsed": false,
     "input": [
      "print mdata[mdata['Weight-std'] > 60]"
     ],
     "language": "python",
     "metadata": {},
     "outputs": []
    },
    {
     "cell_type": "raw",
     "metadata": {},
     "source": [
      "If we wanted to drop a patient from a dataset what do you think the method will be?"
     ]
    },
    {
     "cell_type": "code",
     "collapsed": false,
     "input": [
      "full_mean_data.drop?"
     ],
     "language": "python",
     "metadata": {},
     "outputs": []
    },
    {
     "cell_type": "code",
     "collapsed": false,
     "input": [
      "tstat, pval = ttest_ind(full_mean_data['Weight'][pat_old_mask], full_mean_data['Weight'][~pat_old_mask])\n",
      "print 'Original p-value:', pval\n",
      "\n",
      "trimmed_data = full_mean_data.drop(['A0502'], axis = 0)\n",
      "tstat, pval = ttest_ind(trimmed_data['Weight'][pat_old_mask], trimmed_data['Weight'][~pat_old_mask])\n",
      "print 'Trimmed p-value:', pval"
     ],
     "language": "python",
     "metadata": {},
     "outputs": []
    },
    {
     "cell_type": "raw",
     "metadata": {},
     "source": [
      "Hmm, that seemed to help fix the p-value, but not much. I wonder if there's something else we can find."
     ]
    }
   ],
   "metadata": {}
  }
 ]
}