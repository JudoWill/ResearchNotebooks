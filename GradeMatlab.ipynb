{
 "metadata": {
  "name": "GradeMatlab"
 },
 "nbformat": 3,
 "nbformat_minor": 0,
 "worksheets": [
  {
   "cells": [
    {
     "cell_type": "code",
     "collapsed": false,
     "input": [
      "import os, os.path\n",
      "from subprocess import check_output\n",
      "import shlex\n",
      "import glob\n",
      "from StringIO import StringIO\n",
      "import contextlib\n",
      "import tempfile\n",
      "import shutil\n",
      "import re\n",
      "\n",
      "\n",
      "os.chdir('/home/will/matlabtmp/')\n",
      "\n",
      "matlab_path = '/home/will/MATLAB/R2013a/bin/matlab'"
     ],
     "language": "python",
     "metadata": {},
     "outputs": [],
     "prompt_number": 1
    },
    {
     "cell_type": "code",
     "collapsed": false,
     "input": [
      "@contextlib.contextmanager\n",
      "def tmp_changedir(new_dir):\n",
      "\n",
      "    cur_dir = os.path.abspath(os.curdir)\n",
      "    try:\n",
      "        os.chdir(new_dir)\n",
      "        yield new_dir\n",
      "    finally:\n",
      "        os.chdir(cur_dir)\n"
     ],
     "language": "python",
     "metadata": {},
     "outputs": [],
     "prompt_number": 2
    },
    {
     "cell_type": "code",
     "collapsed": false,
     "input": [
      "def get_warnings(mlint_out):\n",
      "    \n",
      "    last_line = 'For product information, visit www.mathworks.com.'\n",
      "    handle = StringIO(mlint_out)\n",
      "    for line in handle:\n",
      "        if last_line in line:\n",
      "            break\n",
      "    return [line.strip() for line in handle if line.strip()]\n",
      "\n",
      "def mlint_code(fpath):\n",
      "    mlint_path = '/home/will/.matlab/R2013a/MLintGradingSettings.txt'\n",
      "    mlint_cmd = \"disp(checkcode('%(filename)s', '-config=%(gpath)s', '-notok', '-string')); quit;\"\n",
      "    test_mlint = mlint_cmd % {'filename':fpath, 'gpath':mlint_path }\n",
      "    cmd = shlex.split(matlab_path + ' -nodesktop -nosplash -r \"' + test_mlint + '\"')\n",
      "    out = check_output(cmd)\n",
      "    return get_warnings(out)"
     ],
     "language": "python",
     "metadata": {},
     "outputs": [],
     "prompt_number": 3
    },
    {
     "cell_type": "code",
     "collapsed": false,
     "input": [
      "def grade_homework(grade_tmp, fpath, new_fname, prefix = None, req_files = [], sanitize_func = None):\n",
      "    fname = fpath.rsplit(os.sep, 1)[-1]\n",
      "    tmpdir = tempfile.mkdtemp(prefix=prefix, dir = '/home/will/matlabtmp/')\n",
      "    grade_tmp_name = grade_tmp.split(os.sep)[-1].split('.')[0]\n",
      "    with open(os.path.join(tmpdir, grade_tmp_name+'.m'), 'w') as handle:\n",
      "        with open(grade_tmp) as ihandle:\n",
      "            tdict = {'filename':new_fname.split('.')[0]}\n",
      "            handle.write(ihandle.read() % tdict)\n",
      "    \n",
      "    \n",
      "    shutil.copyfile(fpath, os.path.join(tmpdir, new_fname))\n",
      "    if sanitize_func is not None:\n",
      "        sanitize_func(os.path.join(tmpdir, new_fname))\n",
      "    for f in req_files:\n",
      "        t_fname = f.split(os.sep)[-1]\n",
      "        shutil.copyfile(f, os.path.join(tmpdir, t_fname))\n",
      "        \n",
      "    with tmp_changedir(tmpdir):\n",
      "        mlint_lines = mlint_code(new_fname)\n",
      "        cmd = matlab_path + ' -nodesktop -nosplash -r \"%s; quit;\"' % grade_tmp_name\n",
      "        cmd_list = shlex.split(cmd)\n",
      "        out = check_output(cmd_list)\n",
      "    try:\n",
      "        outres = float(re.findall('THIS IS THE GRADE!!!:([\\-\\.\\d]*)', out)[0])\n",
      "        wrong_lines = re.findall('THIS QUESTION WAS WRONG!: .*', out)\n",
      "        if (outres == 0) and (len(wrong_lines) == 0):\n",
      "            wrong_lines = [\"DIDN'T RUN!!\"]\n",
      "        shutil.rmtree(tmpdir)\n",
      "        return mlint_lines, wrong_lines, outres\n",
      "    except:\n",
      "        return mlint_lines, [\"DIDN'T RUN!!\"], None"
     ],
     "language": "python",
     "metadata": {},
     "outputs": [],
     "prompt_number": 4
    },
    {
     "cell_type": "code",
     "collapsed": false,
     "input": [
      "def process_filenames(path):\n",
      "    \n",
      "    fname = path.rsplit(os.sep,1)[-1]\n",
      "    parts = fname.split('_',4)\n",
      "    bwid = parts[1]\n",
      "    subname = parts[-1]\n",
      "    date = parts[3].replace('_','-')\n",
      "    \n",
      "    return path, fname, date, bwid, subname"
     ],
     "language": "python",
     "metadata": {},
     "outputs": [],
     "prompt_number": 5
    },
    {
     "cell_type": "code",
     "collapsed": false,
     "input": [
      "def get_fnames(base_dir):\n",
      "    \n",
      "    for root, dirs, files in os.walk(base_dir):\n",
      "        for f in sorted(files):\n",
      "            if f.endswith('.m'):\n",
      "                yield os.path.join(root, f)"
     ],
     "language": "python",
     "metadata": {},
     "outputs": [],
     "prompt_number": 6
    },
    {
     "cell_type": "code",
     "collapsed": false,
     "input": [
      "from functools import partial\n",
      "\n",
      "def fix_micro_test_name(infile):\n",
      "    with open(infile) as handle:\n",
      "        tdata = handle.read()\n",
      "    tdata = tdata.replace('microarray_test', 'MICROARRAY_TEST')\n",
      "    with open(infile, 'w') as handle:\n",
      "        handle.write(tdata)\n",
      "\n",
      "dropbox_path = '/home/will/Dropbox/BMES375/Summer13/'\n",
      "hw1_grade = partial(grade_homework, \n",
      "                    dropbox_path+'HW1/GradeHW1.m', \n",
      "                    req_files = [dropbox_path+'HW1/PAT_DATA.mat'])\n",
      "hw2_grade = partial(grade_homework, \n",
      "                    dropbox_path+'HW2/GradeHW2.m', \n",
      "                    req_files = [dropbox_path+'HW2/CORRECT_DATA.mat',\n",
      "                                 dropbox_path+'HW2/migraineSymptoms.tsv',\n",
      "                                 dropbox_path+'HW2/migraineTreats.tsv',\n",
      "                                 ])\n",
      "micro_mid_grade = partial(grade_homework, \n",
      "                    dropbox_path+'MICRO_TEST/GradeMicroMid.m', \n",
      "                    req_files = [dropbox_path+'MICRO_TEST/MICRO_SOL.mat',\n",
      "                                 ],\n",
      "                    sanitize_func = fix_micro_test_name)\n",
      "pred_mid_grade = partial(grade_homework, \n",
      "                    dropbox_path+'PRED_TEST/GradePredTest.m', \n",
      "                    req_files = [dropbox_path+'PRED_TEST/HW5_data.mat',\n",
      "                                 dropbox_path+'PRED_TEST/COR_ANSWERS.mat',\n",
      "                                 ],\n",
      "                    sanitize_func = fix_micro_test_name)\n",
      "\n",
      "\n",
      "\n",
      "grade_checks = [\n",
      "                {\n",
      "                 'name':'PredTest',\n",
      "                 'grade_func':pred_mid_grade,\n",
      "                 'grade_path':dropbox_path+'PRED_TEST/PRED_TEST_grades.csv',\n",
      "                 'grade_files':partial(get_fnames, dropbox_path+'PRED_TEST/downloaded/'),\n",
      "                 'out_path':dropbox_path+'PRED_TEST/PRED_TEST_graded/'\n",
      "                 },\n",
      "                #{\n",
      "                # 'name':'MicroTest',\n",
      "                # 'grade_func':micro_mid_grade,\n",
      "                # 'grade_path':dropbox_path+'MICRO_TEST/MICRO_TEST_grades.csv',\n",
      "                # 'grade_files':partial(get_fnames, dropbox_path+'MICRO_TEST/downloaded/'),\n",
      "                # 'out_path':dropbox_path+'MICRO_TEST/MICRO_TEST_graded/'\n",
      "                # },\n",
      "                #{\n",
      "                # 'name':'HW2',\n",
      "                # 'grade_func':hw2_grade,\n",
      "                # 'grade_path':dropbox_path+'HW2/HW2_grades.csv',\n",
      "                # 'grade_files':partial(get_fnames, dropbox_path+'HW2/downloaded/'),\n",
      "                # 'out_path':dropbox_path+'HW2/HW2_graded/'\n",
      "                # },\n",
      "                #{\n",
      "                # 'name':'HW1',\n",
      "                # 'grade_func':hw1_grade,\n",
      "                # 'grade_path':dropbox_path+'HW1/HW1_grades.csv',\n",
      "                # 'grade_files':partial(get_fnames, dropbox_path+'HW1/downloaded/'),\n",
      "                # 'out_path':dropbox_path+'HW1/HW1_graded/'\n",
      "                # },\n",
      "                \n",
      "                ]\n"
     ],
     "language": "python",
     "metadata": {},
     "outputs": [],
     "prompt_number": 7
    },
    {
     "cell_type": "code",
     "collapsed": false,
     "input": [
      "def rename_file(path, subname, count):\n",
      "    if count > 0:\n",
      "        tname = subname.split('.')[0] + '_' + str(count) + '.m'\n",
      "    else:\n",
      "        tname = subname.split('.')[0] + '.m'\n",
      "    \n",
      "    return os.path.join(path, tname)"
     ],
     "language": "python",
     "metadata": {},
     "outputs": [],
     "prompt_number": 8
    },
    {
     "cell_type": "code",
     "collapsed": false,
     "input": [
      "import csv\n",
      "from itertools import islice\n",
      "\n",
      "for row in grade_checks:\n",
      "    grade_func = row['grade_func']\n",
      "    with open(row['grade_path'], 'a') as handle:\n",
      "        writer = csv.writer(handle)\n",
      "        for f in row['grade_files']():\n",
      "            f, fname, date, bwid, subname = process_filenames(f)\n",
      "            mlint_lines, grade_lines, grade = grade_func(f, subname, prefix = bwid+'_')\n",
      "            \n",
      "            count = 0\n",
      "            new_name = rename_file(row['out_path'], subname, count)\n",
      "            while os.path.exists(new_name):\n",
      "                count += 1\n",
      "                new_name = rename_file(row['out_path'], subname, count)\n",
      "            \n",
      "            nf = new_name.split('/')[-1]\n",
      "            print row['name'], bwid, nf, date, len(mlint_lines), grade\n",
      "            print grade_lines\n",
      "            tup = (bwid, date, nf, grade, len(mlint_lines), \n",
      "                             '; '.join(m.strip() for m in mlint_lines), \n",
      "                            '; '.join(m.strip() for m in grade_lines), \n",
      "                            )\n",
      "            writer.writerow(tup)\n",
      "            \n",
      "            \n",
      "            if (grade is not None) and (grade > 0):\n",
      "                shutil.move(f, new_name)\n",
      "            else:\n",
      "                shutil.copy(f, new_name)\n",
      "                "
     ],
     "language": "python",
     "metadata": {},
     "outputs": [
      {
       "output_type": "stream",
       "stream": "stdout",
       "text": [
        "PredTest aah67 aah67_PredTest.m 2013-08-12-15-35-19 0 87.364\n",
        "['THIS QUESTION WAS WRONG!: q8 Partial Credit: 2.7486', 'THIS QUESTION WAS WRONG!: q9b']\n",
        "PredTest"
       ]
      },
      {
       "output_type": "stream",
       "stream": "stdout",
       "text": [
        " aah67 aah67_PredTest_1.m 2013-08-12-15-36-49 0 79.4758\n",
        "['THIS QUESTION WAS WRONG!: q8 Partial Credit: 2.5528', 'THIS QUESTION WAS WRONG!: q9a', 'THIS QUESTION WAS WRONG!: q9b']\n",
        "PredTest"
       ]
      },
      {
       "output_type": "stream",
       "stream": "stdout",
       "text": [
        " aah67 aah67_PredTest_2.m 2013-08-12-15-39-56 0 100.0\n",
        "[]\n",
        "PredTest"
       ]
      },
      {
       "output_type": "stream",
       "stream": "stdout",
       "text": [
        " aek52 aek52_PredTest.m 2013-08-12-16-04-34 0 100.0\n",
        "[]\n",
        "PredTest"
       ]
      },
      {
       "output_type": "stream",
       "stream": "stdout",
       "text": [
        " amb453 amb453_PredTest.m 2013-08-12-01-16-12 1 87.364\n",
        "['THIS QUESTION WAS WRONG!: q8 Partial Credit: 2.7486', 'THIS QUESTION WAS WRONG!: q9b']\n",
        "PredTest"
       ]
      },
      {
       "output_type": "stream",
       "stream": "stdout",
       "text": [
        " amb453 amb453_PredTest_1.m 2013-08-12-01-17-01 0 87.364\n",
        "['THIS QUESTION WAS WRONG!: q8 Partial Credit: 2.7486', 'THIS QUESTION WAS WRONG!: q9b']\n",
        "PredTest"
       ]
      },
      {
       "output_type": "stream",
       "stream": "stdout",
       "text": [
        " aos24 aos24_PredTest.m 2013-08-12-15-42-49 0 100.0\n",
        "[]\n",
        "PredTest"
       ]
      },
      {
       "output_type": "stream",
       "stream": "stdout",
       "text": [
        " as3262 as3262_PredTest.m 2013-08-12-02-35-19 0 87.364\n",
        "['THIS QUESTION WAS WRONG!: q8 Partial Credit: 2.7486', 'THIS QUESTION WAS WRONG!: q9b']\n",
        "PredTest"
       ]
      },
      {
       "output_type": "stream",
       "stream": "stdout",
       "text": [
        " av378 av378_PredTest.m 2013-08-12-16-35-02 0 77.8721\n",
        "['THIS QUESTION WAS WRONG!: q7 Partial Credit: 0.014316', 'THIS QUESTION WAS WRONG!: q8 Partial Credit: 0.93474', 'THIS QUESTION WAS WRONG!: q9b']\n",
        "PredTest"
       ]
      },
      {
       "output_type": "stream",
       "stream": "stdout",
       "text": [
        " av378 av378_PredTest_1.m 2013-08-12-17-45-55 0 100.0\n",
        "[]\n",
        "PredTest"
       ]
      },
      {
       "output_type": "stream",
       "stream": "stdout",
       "text": [
        " bhv23 bhv23_PredTest.m 2013-08-12-12-05-51 0 100.0\n",
        "[]\n",
        "PredTest"
       ]
      },
      {
       "output_type": "stream",
       "stream": "stdout",
       "text": [
        " bhv23 bhv23_PredTest_1.m 2013-08-12-12-51-13 0 100.0\n",
        "[]\n",
        "PredTest"
       ]
      },
      {
       "output_type": "stream",
       "stream": "stdout",
       "text": [
        " cio23 cio23_PredTest.m 2013-08-12-09-51-53 0 87.364\n",
        "['THIS QUESTION WAS WRONG!: q8 Partial Credit: 2.7486', 'THIS QUESTION WAS WRONG!: q9b']\n",
        "PredTest"
       ]
      },
      {
       "output_type": "stream",
       "stream": "stdout",
       "text": [
        " cjg63 cjg63_PredTest.m 2013-08-12-17-40-42 0 0.0\n",
        "[\"DIDN'T RUN!!\"]\n",
        "PredTest"
       ]
      },
      {
       "output_type": "stream",
       "stream": "stdout",
       "text": [
        " clc328 clc328_PredTest.m 2013-08-11-22-37-12 0 100.0\n",
        "[]\n",
        "PredTest"
       ]
      },
      {
       "output_type": "stream",
       "stream": "stdout",
       "text": [
        " cmg76 cmg76_PredTest.m 2013-08-12-16-39-55 0 87.364\n",
        "['THIS QUESTION WAS WRONG!: q8 Partial Credit: 2.7486', 'THIS QUESTION WAS WRONG!: q9b']\n",
        "PredTest"
       ]
      },
      {
       "output_type": "stream",
       "stream": "stdout",
       "text": [
        " cwv23 cwv23_PredTest.m 2013-08-11-21-23-41 0 100.0\n",
        "[]\n",
        "PredTest"
       ]
      },
      {
       "output_type": "stream",
       "stream": "stdout",
       "text": [
        " dln32 dln32_PredTest.m 2013-08-12-14-39-05 0 87.364\n",
        "['THIS QUESTION WAS WRONG!: q8 Partial Credit: 2.7486', 'THIS QUESTION WAS WRONG!: q9b']\n",
        "PredTest"
       ]
      },
      {
       "output_type": "stream",
       "stream": "stdout",
       "text": [
        " dln32 dln32_PredTest_1.m 2013-08-12-16-44-45 0 100.0\n",
        "[]\n",
        "PredTest"
       ]
      },
      {
       "output_type": "stream",
       "stream": "stdout",
       "text": [
        " dmr99 dmr99_PredTest.m 2013-08-12-00-02-03 0 100.0\n",
        "[]\n",
        "PredTest"
       ]
      },
      {
       "output_type": "stream",
       "stream": "stdout",
       "text": [
        " dmr99 dmr99_PredTest_1.m 2013-08-12-12-00-57 0 100.0\n",
        "[]\n",
        "PredTest"
       ]
      },
      {
       "output_type": "stream",
       "stream": "stdout",
       "text": [
        " eab88 eab88_PredTest.m 2013-08-12-17-43-08 1 87.364\n",
        "['THIS QUESTION WAS WRONG!: q8 Partial Credit: 2.7486', 'THIS QUESTION WAS WRONG!: q9b']\n",
        "PredTest"
       ]
      },
      {
       "output_type": "stream",
       "stream": "stdout",
       "text": [
        " emg54 emg54_PredTest.m 2013-08-12-15-03-38 0 100.0\n",
        "[]\n",
        "PredTest"
       ]
      },
      {
       "output_type": "stream",
       "stream": "stdout",
       "text": [
        " fc326 fc326_PredTest.m 2013-08-12-08-22-55 6 78.1989\n",
        "['THIS QUESTION WAS WRONG!: q8 Partial Credit: 1.2759', 'THIS QUESTION WAS WRONG!: q9a', 'THIS QUESTION WAS WRONG!: q9b']\n",
        "PredTest"
       ]
      },
      {
       "output_type": "stream",
       "stream": "stdout",
       "text": [
        " fc326 fc326_PredTest_1.m 2013-08-12-14-40-57 0 87.364\n",
        "['THIS QUESTION WAS WRONG!: q8 Partial Credit: 2.7486', 'THIS QUESTION WAS WRONG!: q9b']\n",
        "PredTest"
       ]
      },
      {
       "output_type": "stream",
       "stream": "stdout",
       "text": [
        " fc326 fc326_PredTest_2.m 2013-08-12-14-45-16 1 79.6717\n",
        "['THIS QUESTION WAS WRONG!: q8 Partial Credit: 2.7486', 'THIS QUESTION WAS WRONG!: q9a', 'THIS QUESTION WAS WRONG!: q9b']\n",
        "PredTest"
       ]
      },
      {
       "output_type": "stream",
       "stream": "stdout",
       "text": [
        " fc326 fc326_PredTest_3.m 2013-08-12-14-45-29 0 87.364\n",
        "['THIS QUESTION WAS WRONG!: q8 Partial Credit: 2.7486', 'THIS QUESTION WAS WRONG!: q9b']\n",
        "PredTest"
       ]
      },
      {
       "output_type": "stream",
       "stream": "stdout",
       "text": [
        " hk383 hk383_PredTest.m 2013-08-12-14-11-29 0 87.364\n",
        "['THIS QUESTION WAS WRONG!: q8 Partial Credit: 2.7486', 'THIS QUESTION WAS WRONG!: q9b']\n",
        "PredTest"
       ]
      },
      {
       "output_type": "stream",
       "stream": "stdout",
       "text": [
        " hk383 hk383_PredTest_1.m 2013-08-12-14-17-52 0 75.4863\n",
        "['THIS QUESTION WAS WRONG!: Used illegal function !!!: load', 'THIS QUESTION WAS WRONG!: q5b Partial Credit: 5.6394', 'THIS QUESTION WAS WRONG!: q7 Partial Credit: 0.014316', 'THIS QUESTION WAS WRONG!: q8 Partial Credit: 0.60186', 'THIS QUESTION WAS WRONG!: q9b']\n",
        "PredTest"
       ]
      },
      {
       "output_type": "stream",
       "stream": "stdout",
       "text": [
        " hk383 hk383_PredTest_2.m 2013-08-12-14-31-43 0 75.4863\n",
        "['THIS QUESTION WAS WRONG!: Used illegal function !!!: load', 'THIS QUESTION WAS WRONG!: q5b Partial Credit: 5.6394', 'THIS QUESTION WAS WRONG!: q7 Partial Credit: 0.014316', 'THIS QUESTION WAS WRONG!: q8 Partial Credit: 0.60186', 'THIS QUESTION WAS WRONG!: q9b']\n",
        "PredTest"
       ]
      },
      {
       "output_type": "stream",
       "stream": "stdout",
       "text": [
        " hk383 hk383_PredTest_3.m 2013-08-12-14-34-12 0 67.2076\n",
        "['THIS QUESTION WAS WRONG!: Used illegal function !!!: load', 'THIS QUESTION WAS WRONG!: q5b Partial Credit: 5.6394', 'THIS QUESTION WAS WRONG!: q7 Partial Credit: 0.014316', 'THIS QUESTION WAS WRONG!: q8 Partial Credit: 0.015459', 'THIS QUESTION WAS WRONG!: q9a', 'THIS QUESTION WAS WRONG!: q9b']\n",
        "PredTest"
       ]
      },
      {
       "output_type": "stream",
       "stream": "stdout",
       "text": [
        " hk383 hk383_PredTest_4.m 2013-08-12-14-50-52 0 75.4863\n",
        "['THIS QUESTION WAS WRONG!: Used illegal function !!!: load', 'THIS QUESTION WAS WRONG!: q5b Partial Credit: 5.6394', 'THIS QUESTION WAS WRONG!: q7 Partial Credit: 0.014316', 'THIS QUESTION WAS WRONG!: q8 Partial Credit: 0.60186', 'THIS QUESTION WAS WRONG!: q9b']\n",
        "PredTest"
       ]
      },
      {
       "output_type": "stream",
       "stream": "stdout",
       "text": [
        " hk383 hk383_PredTest_5.m 2013-08-12-16-29-23 0 83.0994\n",
        "['THIS QUESTION WAS WRONG!: q5b Partial Credit: 5.6394', 'THIS QUESTION WAS WRONG!: q8 Partial Credit: 0.53694', 'THIS QUESTION WAS WRONG!: q9b']\n",
        "PredTest"
       ]
      },
      {
       "output_type": "stream",
       "stream": "stdout",
       "text": [
        " hk383 hk383_PredTest_6.m 2013-08-12-16-49-14 0 67.794\n",
        "['THIS QUESTION WAS WRONG!: Used illegal function !!!: load', 'THIS QUESTION WAS WRONG!: q5b Partial Credit: 5.6394', 'THIS QUESTION WAS WRONG!: q7 Partial Credit: 0.014316', 'THIS QUESTION WAS WRONG!: q8 Partial Credit: 0.60186', 'THIS QUESTION WAS WRONG!: q9a', 'THIS QUESTION WAS WRONG!: q9b']\n",
        "PredTest"
       ]
      },
      {
       "output_type": "stream",
       "stream": "stdout",
       "text": [
        " hk383 hk383_PredTest_7.m 2013-08-12-16-49-48 0 67.794\n",
        "['THIS QUESTION WAS WRONG!: Used illegal function !!!: load', 'THIS QUESTION WAS WRONG!: q5b Partial Credit: 5.6394', 'THIS QUESTION WAS WRONG!: q7 Partial Credit: 0.014316', 'THIS QUESTION WAS WRONG!: q8 Partial Credit: 0.60186', 'THIS QUESTION WAS WRONG!: q9a', 'THIS QUESTION WAS WRONG!: q9b']\n",
        "PredTest"
       ]
      },
      {
       "output_type": "stream",
       "stream": "stdout",
       "text": [
        " hk383 hk383_PredTest_8.m 2013-08-12-16-50-20 0 67.794\n",
        "['THIS QUESTION WAS WRONG!: Used illegal function !!!: load', 'THIS QUESTION WAS WRONG!: q5b Partial Credit: 5.6394', 'THIS QUESTION WAS WRONG!: q7 Partial Credit: 0.014316', 'THIS QUESTION WAS WRONG!: q8 Partial Credit: 0.60186', 'THIS QUESTION WAS WRONG!: q9a', 'THIS QUESTION WAS WRONG!: q9b']\n",
        "PredTest"
       ]
      },
      {
       "output_type": "stream",
       "stream": "stdout",
       "text": [
        " hk383 hk383_PredTest_9.m 2013-08-12-16-50-48 0 67.794\n",
        "['THIS QUESTION WAS WRONG!: Used illegal function !!!: load', 'THIS QUESTION WAS WRONG!: q5b Partial Credit: 5.6394', 'THIS QUESTION WAS WRONG!: q7 Partial Credit: 0.014316', 'THIS QUESTION WAS WRONG!: q8 Partial Credit: 0.60186', 'THIS QUESTION WAS WRONG!: q9a', 'THIS QUESTION WAS WRONG!: q9b']\n",
        "PredTest"
       ]
      },
      {
       "output_type": "stream",
       "stream": "stdout",
       "text": [
        " hk383 hk383_PredTest_10.m 2013-08-12-16-53-21 0 75.4863\n",
        "['THIS QUESTION WAS WRONG!: Used illegal function !!!: load', 'THIS QUESTION WAS WRONG!: q5b Partial Credit: 5.6394', 'THIS QUESTION WAS WRONG!: q7 Partial Credit: 0.014316', 'THIS QUESTION WAS WRONG!: q8 Partial Credit: 0.60186', 'THIS QUESTION WAS WRONG!: q9b']\n",
        "PredTest"
       ]
      },
      {
       "output_type": "stream",
       "stream": "stdout",
       "text": [
        " hk383 hk383_PredTest_11.m 2013-08-12-17-09-49 0 75.4863\n",
        "['THIS QUESTION WAS WRONG!: q5b Partial Credit: 5.6394', 'THIS QUESTION WAS WRONG!: q7 Partial Credit: 0.014316', 'THIS QUESTION WAS WRONG!: q8 Partial Credit: 0.60186', 'THIS QUESTION WAS WRONG!: q9b']\n",
        "PredTest"
       ]
      },
      {
       "output_type": "stream",
       "stream": "stdout",
       "text": [
        " hk383 hk383_PredTest_12.m 2013-08-12-17-12-43 0 75.4863\n",
        "['THIS QUESTION WAS WRONG!: q5b Partial Credit: 5.6394', 'THIS QUESTION WAS WRONG!: q7 Partial Credit: 0.014316', 'THIS QUESTION WAS WRONG!: q8 Partial Credit: 0.60186', 'THIS QUESTION WAS WRONG!: q9b']\n",
        "PredTest"
       ]
      },
      {
       "output_type": "stream",
       "stream": "stdout",
       "text": [
        " hk383 hk383_PredTest_13.m 2013-08-12-17-13-35 0 75.4863\n",
        "['THIS QUESTION WAS WRONG!: q5b Partial Credit: 5.6394', 'THIS QUESTION WAS WRONG!: q7 Partial Credit: 0.014316', 'THIS QUESTION WAS WRONG!: q8 Partial Credit: 0.60186', 'THIS QUESTION WAS WRONG!: q9b']\n",
        "PredTest"
       ]
      },
      {
       "output_type": "stream",
       "stream": "stdout",
       "text": [
        " hk383 hk383_PredTest_14.m 2013-08-12-17-14-25 0 67.2076\n",
        "['THIS QUESTION WAS WRONG!: q5b Partial Credit: 5.6394', 'THIS QUESTION WAS WRONG!: q7 Partial Credit: 0.014316', 'THIS QUESTION WAS WRONG!: q8 Partial Credit: 0.015459', 'THIS QUESTION WAS WRONG!: q9a', 'THIS QUESTION WAS WRONG!: q9b']\n",
        "PredTest"
       ]
      },
      {
       "output_type": "stream",
       "stream": "stdout",
       "text": [
        " hk383 hk383_PredTest_15.m 2013-08-12-17-14-54 0 75.4863\n",
        "['THIS QUESTION WAS WRONG!: q5b Partial Credit: 5.6394', 'THIS QUESTION WAS WRONG!: q7 Partial Credit: 0.014316', 'THIS QUESTION WAS WRONG!: q8 Partial Credit: 0.60186', 'THIS QUESTION WAS WRONG!: q9b']\n",
        "PredTest"
       ]
      },
      {
       "output_type": "stream",
       "stream": "stdout",
       "text": [
        " hk383 hk383_PredTest_16.m 2013-08-12-17-16-12 0 83.0994\n",
        "['THIS QUESTION WAS WRONG!: q5b Partial Credit: 5.6394', 'THIS QUESTION WAS WRONG!: q8 Partial Credit: 0.53694', 'THIS QUESTION WAS WRONG!: q9b']\n",
        "PredTest"
       ]
      },
      {
       "output_type": "stream",
       "stream": "stdout",
       "text": [
        " hk383 hk383_PredTest_17.m 2013-08-12-17-17-10 0 67.794\n",
        "['THIS QUESTION WAS WRONG!: q5b Partial Credit: 5.6394', 'THIS QUESTION WAS WRONG!: q7 Partial Credit: 0.014316', 'THIS QUESTION WAS WRONG!: q8 Partial Credit: 0.60186', 'THIS QUESTION WAS WRONG!: q9a', 'THIS QUESTION WAS WRONG!: q9b']\n",
        "PredTest"
       ]
      },
      {
       "output_type": "stream",
       "stream": "stdout",
       "text": [
        " hk383 hk383_PredTest_18.m 2013-08-12-17-18-05 0 67.794\n",
        "['THIS QUESTION WAS WRONG!: q5b Partial Credit: 5.6394', 'THIS QUESTION WAS WRONG!: q7 Partial Credit: 0.014316', 'THIS QUESTION WAS WRONG!: q8 Partial Credit: 0.60186', 'THIS QUESTION WAS WRONG!: q9a', 'THIS QUESTION WAS WRONG!: q9b']\n",
        "PredTest"
       ]
      },
      {
       "output_type": "stream",
       "stream": "stdout",
       "text": [
        " hk383 hk383_PredTest_19.m 2013-08-12-17-18-41 0 67.794\n",
        "['THIS QUESTION WAS WRONG!: q5b Partial Credit: 5.6394', 'THIS QUESTION WAS WRONG!: q7 Partial Credit: 0.014316', 'THIS QUESTION WAS WRONG!: q8 Partial Credit: 0.60186', 'THIS QUESTION WAS WRONG!: q9a', 'THIS QUESTION WAS WRONG!: q9b']\n",
        "PredTest"
       ]
      },
      {
       "output_type": "stream",
       "stream": "stdout",
       "text": [
        " hk383 hk383_PredTest_20.m 2013-08-12-17-19-22 0 75.4863\n",
        "['THIS QUESTION WAS WRONG!: q5b Partial Credit: 5.6394', 'THIS QUESTION WAS WRONG!: q7 Partial Credit: 0.014316', 'THIS QUESTION WAS WRONG!: q8 Partial Credit: 0.60186', 'THIS QUESTION WAS WRONG!: q9b']\n",
        "PredTest"
       ]
      },
      {
       "output_type": "stream",
       "stream": "stdout",
       "text": [
        " hk383 hk383_PredTest_21.m 2013-08-12-17-19-47 0 67.794\n",
        "['THIS QUESTION WAS WRONG!: Used illegal function !!!: load', 'THIS QUESTION WAS WRONG!: q5b Partial Credit: 5.6394', 'THIS QUESTION WAS WRONG!: q7 Partial Credit: 0.014316', 'THIS QUESTION WAS WRONG!: q8 Partial Credit: 0.60186', 'THIS QUESTION WAS WRONG!: q9a', 'THIS QUESTION WAS WRONG!: q9b']\n",
        "PredTest"
       ]
      },
      {
       "output_type": "stream",
       "stream": "stdout",
       "text": [
        " hk383 hk383_PredTest_22.m 2013-08-12-17-23-15 0 67.794\n",
        "['THIS QUESTION WAS WRONG!: q5b Partial Credit: 5.6394', 'THIS QUESTION WAS WRONG!: q7 Partial Credit: 0.014316', 'THIS QUESTION WAS WRONG!: q8 Partial Credit: 0.60186', 'THIS QUESTION WAS WRONG!: q9a', 'THIS QUESTION WAS WRONG!: q9b']\n",
        "PredTest"
       ]
      },
      {
       "output_type": "stream",
       "stream": "stdout",
       "text": [
        " hk383 hk383_PredTest_23.m 2013-08-12-17-32-04 0 0.0\n",
        "[\"DIDN'T RUN!!\"]\n",
        "PredTest"
       ]
      },
      {
       "output_type": "stream",
       "stream": "stdout",
       "text": [
        " hk383 hk383_PredTest_24.m 2013-08-12-17-33-13 0 67.794\n",
        "['THIS QUESTION WAS WRONG!: q5b Partial Credit: 5.6394', 'THIS QUESTION WAS WRONG!: q7 Partial Credit: 0.014316', 'THIS QUESTION WAS WRONG!: q8 Partial Credit: 0.60186', 'THIS QUESTION WAS WRONG!: q9a', 'THIS QUESTION WAS WRONG!: q9b']\n",
        "PredTest"
       ]
      },
      {
       "output_type": "stream",
       "stream": "stdout",
       "text": [
        " hk383 hk383_PredTest_25.m 2013-08-12-17-50-22 0 76.687\n",
        "['THIS QUESTION WAS WRONG!: q5b Partial Credit: 5.6394', 'THIS QUESTION WAS WRONG!: q7 Partial Credit: 0.014316', 'THIS QUESTION WAS WRONG!: q8 Partial Credit: 1.8025', 'THIS QUESTION WAS WRONG!: q9b']\n",
        "PredTest"
       ]
      },
      {
       "output_type": "stream",
       "stream": "stdout",
       "text": [
        " isa26 isa26_PredTest.m 2013-08-12-14-29-23 0 100.0\n",
        "[]\n",
        "PredTest"
       ]
      },
      {
       "output_type": "stream",
       "stream": "stdout",
       "text": [
        " jc3235 jc3235_PredTest.m 2013-08-12-14-57-27 0 87.364\n",
        "['THIS QUESTION WAS WRONG!: q8 Partial Credit: 2.7486', 'THIS QUESTION WAS WRONG!: q9b']\n",
        "PredTest"
       ]
      },
      {
       "output_type": "stream",
       "stream": "stdout",
       "text": [
        " jd578 jd578_PredTest.m 2013-08-12-14-50-55 0 100.0\n",
        "[]\n",
        "PredTest"
       ]
      },
      {
       "output_type": "stream",
       "stream": "stdout",
       "text": [
        " jdm327 jdm327_PredTest.m 2013-08-12-17-28-00 0 77.8721\n",
        "['THIS QUESTION WAS WRONG!: q7 Partial Credit: 0.014316', 'THIS QUESTION WAS WRONG!: q8 Partial Credit: 0.93474', 'THIS QUESTION WAS WRONG!: q9b']\n",
        "PredTest"
       ]
      },
      {
       "output_type": "stream",
       "stream": "stdout",
       "text": [
        " jes423 jes423_PredTest.m 2013-08-12-13-19-43 0 87.364\n",
        "['THIS QUESTION WAS WRONG!: q8 Partial Credit: 2.7486', 'THIS QUESTION WAS WRONG!: q9b']\n",
        "PredTest"
       ]
      },
      {
       "output_type": "stream",
       "stream": "stdout",
       "text": [
        " jes423 jes423_PredTest_1.m 2013-08-12-16-33-52 0 87.364\n",
        "['THIS QUESTION WAS WRONG!: q8 Partial Credit: 2.7486', 'THIS QUESTION WAS WRONG!: q9b']\n",
        "PredTest"
       ]
      },
      {
       "output_type": "stream",
       "stream": "stdout",
       "text": [
        " jes423 jes423_PredTest_2.m 2013-08-12-17-16-40 0 100.0\n",
        "[]\n",
        "PredTest"
       ]
      },
      {
       "output_type": "stream",
       "stream": "stdout",
       "text": [
        " jes423 jes423_PredTest_3.m 2013-08-12-17-52-25 0 100.0\n",
        "[]\n",
        "PredTest"
       ]
      },
      {
       "output_type": "stream",
       "stream": "stdout",
       "text": [
        " jes423 jes423_PredTest_4.m 2013-08-12-17-54-19 0 87.364\n",
        "['THIS QUESTION WAS WRONG!: q8 Partial Credit: 2.7486', 'THIS QUESTION WAS WRONG!: q9b']\n",
        "PredTest"
       ]
      },
      {
       "output_type": "stream",
       "stream": "stdout",
       "text": [
        " jkc52 jkc52_HW5_predictor.m 2013-08-05-17-47-52 0 0.0\n",
        "[\"DIDN'T RUN!!\"]\n",
        "PredTest"
       ]
      },
      {
       "output_type": "stream",
       "stream": "stdout",
       "text": [
        " jkc52 jkc52_HW5_script.m 2013-08-05-17-47-52 1 0.0\n",
        "[\"DIDN'T RUN!!\"]\n",
        "PredTest"
       ]
      },
      {
       "output_type": "stream",
       "stream": "stdout",
       "text": [
        " jkc52 jkc52_PredTest.m 2013-08-12-17-26-20 1 0.0\n",
        "[\"DIDN'T RUN!!\"]\n",
        "PredTest"
       ]
      },
      {
       "output_type": "stream",
       "stream": "stdout",
       "text": [
        " jkc52 jkc52_PredTest_1.m 2013-08-12-21-14-16 0 77.8721\n",
        "['THIS QUESTION WAS WRONG!: q7 Partial Credit: 0.014316', 'THIS QUESTION WAS WRONG!: q8 Partial Credit: 0.93474', 'THIS QUESTION WAS WRONG!: q9b']\n",
        "PredTest"
       ]
      },
      {
       "output_type": "stream",
       "stream": "stdout",
       "text": [
        " jlw334 jlw334_PredTest.m 2013-08-11-22-38-32 0 100.0\n",
        "[]\n",
        "PredTest"
       ]
      },
      {
       "output_type": "stream",
       "stream": "stdout",
       "text": [
        " jp862 jp862_PredTest.m 2013-08-12-17-24-53 0 87.364\n",
        "['THIS QUESTION WAS WRONG!: q8 Partial Credit: 2.7486', 'THIS QUESTION WAS WRONG!: q9b']\n",
        "PredTest"
       ]
      },
      {
       "output_type": "stream",
       "stream": "stdout",
       "text": [
        " jpc95 jpc95_PredTest.m 2013-08-12-16-57-36 0 100.0\n",
        "[]\n",
        "PredTest"
       ]
      },
      {
       "output_type": "stream",
       "stream": "stdout",
       "text": [
        " kmp94 kmp94_PredTest.m 2013-08-12-13-24-59 0 100.0\n",
        "[]\n",
        "PredTest"
       ]
      },
      {
       "output_type": "stream",
       "stream": "stdout",
       "text": [
        " lcd43 lcd43_PredTest_1.m 2013-08-12-16-21-21 0 87.364\n",
        "['THIS QUESTION WAS WRONG!: q8 Partial Credit: 2.7486', 'THIS QUESTION WAS WRONG!: q9b']\n",
        "PredTest"
       ]
      },
      {
       "output_type": "stream",
       "stream": "stdout",
       "text": [
        " lcd43 lcd43_PredTest_2.m 2013-08-12-16-22-49 0 100.0\n",
        "[]\n",
        "PredTest"
       ]
      },
      {
       "output_type": "stream",
       "stream": "stdout",
       "text": [
        " lmh85 lmh85_PredTest.m 2013-08-12-16-03-01 1 100.0\n",
        "[]\n",
        "PredTest"
       ]
      },
      {
       "output_type": "stream",
       "stream": "stdout",
       "text": [
        " maw356 maw356_PredTest.m 2013-08-12-13-07-27 0 87.364\n",
        "['THIS QUESTION WAS WRONG!: q8 Partial Credit: 2.7486', 'THIS QUESTION WAS WRONG!: q9b']\n",
        "PredTest"
       ]
      },
      {
       "output_type": "stream",
       "stream": "stdout",
       "text": [
        " mbh55 mbh55_PredTest.m 2013-08-12-16-16-42 5 0.0\n",
        "[\"DIDN'T RUN!!\"]\n",
        "PredTest"
       ]
      },
      {
       "output_type": "stream",
       "stream": "stdout",
       "text": [
        " mk878 mk878_PredTest.m 2013-08-12-12-19-27 0 87.364\n",
        "['THIS QUESTION WAS WRONG!: q8 Partial Credit: 2.7486', 'THIS QUESTION WAS WRONG!: q9b']\n",
        "PredTest"
       ]
      },
      {
       "output_type": "stream",
       "stream": "stdout",
       "text": [
        " mk878 mk878_PredTest_1.m 2013-08-12-17-53-30 0 100.0\n",
        "[]\n",
        "PredTest"
       ]
      },
      {
       "output_type": "stream",
       "stream": "stdout",
       "text": [
        " mqp23 mqp23_PredTest.m 2013-08-12-16-14-41 1 100.0\n",
        "[]\n",
        "PredTest"
       ]
      },
      {
       "output_type": "stream",
       "stream": "stdout",
       "text": [
        " mqp23 mqp23_PredTest_1.m 2013-08-12-16-17-47 0 100.0\n",
        "[]\n",
        "PredTest"
       ]
      },
      {
       "output_type": "stream",
       "stream": "stdout",
       "text": [
        " mqp23 mqp23_PredTest_2.m 2013-08-12-16-19-09 0 87.364\n",
        "['THIS QUESTION WAS WRONG!: q8 Partial Credit: 2.7486', 'THIS QUESTION WAS WRONG!: q9b']\n",
        "PredTest"
       ]
      },
      {
       "output_type": "stream",
       "stream": "stdout",
       "text": [
        " ms3297 ms3297_PredTest.m 2013-08-12-17-52-52 0 100.0\n",
        "[]\n",
        "PredTest"
       ]
      },
      {
       "output_type": "stream",
       "stream": "stdout",
       "text": [
        " ms3329 ms3329_Pred_Test.m 2013-08-12-16-19-19 0 100.0\n",
        "[]\n",
        "PredTest"
       ]
      },
      {
       "output_type": "stream",
       "stream": "stdout",
       "text": [
        " msl73 MSL73_PredTest.m 2013-08-12-15-10-18 0 100.0\n",
        "[]\n",
        "PredTest"
       ]
      },
      {
       "output_type": "stream",
       "stream": "stdout",
       "text": [
        " mwc45 mwc45_PredTest.m 2013-08-12-10-25-37 0 79.2275\n",
        "['THIS QUESTION WAS WRONG!: q8 Partial Credit: 2.3044', 'THIS QUESTION WAS WRONG!: q9a', 'THIS QUESTION WAS WRONG!: q9b']\n",
        "PredTest"
       ]
      },
      {
       "output_type": "stream",
       "stream": "stdout",
       "text": [
        " nal48 nal48_PredTest.m 2013-08-12-14-16-53 0 100.0\n",
        "['THIS QUESTION WAS WRONG!: Used illegal function !!!: load']\n",
        "PredTest"
       ]
      },
      {
       "output_type": "stream",
       "stream": "stdout",
       "text": [
        " nal48 nal48_PredTest_1.m 2013-08-12-16-56-41 0 100.0\n",
        "[]\n",
        "PredTest"
       ]
      },
      {
       "output_type": "stream",
       "stream": "stdout",
       "text": [
        " nhm26 nhm26_PredTest.m 2013-08-12-15-57-03 0 0.0\n",
        "[\"DIDN'T RUN!!\"]\n",
        "PredTest"
       ]
      },
      {
       "output_type": "stream",
       "stream": "stdout",
       "text": [
        " nhm26 nhm26_PredTest_1.m 2013-08-12-15-59-04 0 87.364\n",
        "['THIS QUESTION WAS WRONG!: q8 Partial Credit: 2.7486', 'THIS QUESTION WAS WRONG!: q9b']\n",
        "PredTest"
       ]
      },
      {
       "output_type": "stream",
       "stream": "stdout",
       "text": [
        " nmm67 nmm67_PredTest.m 2013-08-12-16-58-40 0 87.364\n",
        "['THIS QUESTION WAS WRONG!: q8 Partial Credit: 2.7486', 'THIS QUESTION WAS WRONG!: q9b']\n",
        "PredTest"
       ]
      },
      {
       "output_type": "stream",
       "stream": "stdout",
       "text": [
        " nra27 nra27_PredTest.m 2013-08-12-17-23-08 0 100.0\n",
        "[]\n",
        "PredTest"
       ]
      },
      {
       "output_type": "stream",
       "stream": "stdout",
       "text": [
        " nsa37 nsa37_PredTest.m 2013-08-12-14-05-28 0 75.4863\n",
        "['THIS QUESTION WAS WRONG!: Used illegal function !!!: load', 'THIS QUESTION WAS WRONG!: q5b Partial Credit: 5.6394', 'THIS QUESTION WAS WRONG!: q7 Partial Credit: 0.014316', 'THIS QUESTION WAS WRONG!: q8 Partial Credit: 0.60186', 'THIS QUESTION WAS WRONG!: q9b']\n",
        "PredTest"
       ]
      },
      {
       "output_type": "stream",
       "stream": "stdout",
       "text": [
        " nsa37 nsa37_PredTest_1.m 2013-08-12-14-07-28 0 67.2076\n",
        "['THIS QUESTION WAS WRONG!: Used illegal function !!!: load', 'THIS QUESTION WAS WRONG!: q5b Partial Credit: 5.6394', 'THIS QUESTION WAS WRONG!: q7 Partial Credit: 0.014316', 'THIS QUESTION WAS WRONG!: q8 Partial Credit: 0.015459', 'THIS QUESTION WAS WRONG!: q9a', 'THIS QUESTION WAS WRONG!: q9b']\n",
        "PredTest"
       ]
      },
      {
       "output_type": "stream",
       "stream": "stdout",
       "text": [
        " nsa37 nsa37_PredTest_2.m 2013-08-12-14-09-18 0 75.4863\n",
        "['THIS QUESTION WAS WRONG!: Used illegal function !!!: load', 'THIS QUESTION WAS WRONG!: q5b Partial Credit: 5.6394', 'THIS QUESTION WAS WRONG!: q7 Partial Credit: 0.014316', 'THIS QUESTION WAS WRONG!: q8 Partial Credit: 0.60186', 'THIS QUESTION WAS WRONG!: q9b']\n",
        "PredTest"
       ]
      },
      {
       "output_type": "stream",
       "stream": "stdout",
       "text": [
        " nsa37 nsa37_PredTest_3.m 2013-08-12-14-13-07 0 87.364\n",
        "['THIS QUESTION WAS WRONG!: q8 Partial Credit: 2.7486', 'THIS QUESTION WAS WRONG!: q9b']\n",
        "PredTest"
       ]
      },
      {
       "output_type": "stream",
       "stream": "stdout",
       "text": [
        " nsa37 nsa37_PredTest_4.m 2013-08-12-14-23-27 0 75.4863\n",
        "['THIS QUESTION WAS WRONG!: Used illegal function !!!: load', 'THIS QUESTION WAS WRONG!: q5b Partial Credit: 5.6394', 'THIS QUESTION WAS WRONG!: q7 Partial Credit: 0.014316', 'THIS QUESTION WAS WRONG!: q8 Partial Credit: 0.60186', 'THIS QUESTION WAS WRONG!: q9b']\n",
        "PredTest"
       ]
      },
      {
       "output_type": "stream",
       "stream": "stdout",
       "text": [
        " nsa37 nsa37_PredTest_5.m 2013-08-12-14-46-55 0 75.4863\n",
        "['THIS QUESTION WAS WRONG!: Used illegal function !!!: load', 'THIS QUESTION WAS WRONG!: q5b Partial Credit: 5.6394', 'THIS QUESTION WAS WRONG!: q7 Partial Credit: 0.014316', 'THIS QUESTION WAS WRONG!: q8 Partial Credit: 0.60186', 'THIS QUESTION WAS WRONG!: q9b']\n",
        "PredTest"
       ]
      },
      {
       "output_type": "stream",
       "stream": "stdout",
       "text": [
        " nsa37 nsa37_PredTest_6.m 2013-08-12-14-50-19 0 75.4863\n",
        "['THIS QUESTION WAS WRONG!: Used illegal function !!!: load', 'THIS QUESTION WAS WRONG!: q5b Partial Credit: 5.6394', 'THIS QUESTION WAS WRONG!: q7 Partial Credit: 0.014316', 'THIS QUESTION WAS WRONG!: q8 Partial Credit: 0.60186', 'THIS QUESTION WAS WRONG!: q9b']\n",
        "PredTest"
       ]
      },
      {
       "output_type": "stream",
       "stream": "stdout",
       "text": [
        " nsa37 nsa37_PredTest_7.m 2013-08-12-17-17-03 0 75.4863\n",
        "['THIS QUESTION WAS WRONG!: q5b Partial Credit: 5.6394', 'THIS QUESTION WAS WRONG!: q7 Partial Credit: 0.014316', 'THIS QUESTION WAS WRONG!: q8 Partial Credit: 0.60186', 'THIS QUESTION WAS WRONG!: q9b']\n",
        "PredTest"
       ]
      },
      {
       "output_type": "stream",
       "stream": "stdout",
       "text": [
        " nsa37 nsa37_PredTest_8.m 2013-08-12-17-18-41 0 67.2076\n",
        "['THIS QUESTION WAS WRONG!: q5b Partial Credit: 5.6394', 'THIS QUESTION WAS WRONG!: q7 Partial Credit: 0.014316', 'THIS QUESTION WAS WRONG!: q8 Partial Credit: 0.015459', 'THIS QUESTION WAS WRONG!: q9a', 'THIS QUESTION WAS WRONG!: q9b']\n",
        "PredTest"
       ]
      },
      {
       "output_type": "stream",
       "stream": "stdout",
       "text": [
        " nsa37 nsa37_PredTest_9.m 2013-08-12-17-21-08 0 75.4863\n",
        "['THIS QUESTION WAS WRONG!: q5b Partial Credit: 5.6394', 'THIS QUESTION WAS WRONG!: q7 Partial Credit: 0.014316', 'THIS QUESTION WAS WRONG!: q8 Partial Credit: 0.60186', 'THIS QUESTION WAS WRONG!: q9b']\n",
        "PredTest"
       ]
      },
      {
       "output_type": "stream",
       "stream": "stdout",
       "text": [
        " nsa37 nsa37_PredTest_10.m 2013-08-12-17-22-19 0 87.364\n",
        "['THIS QUESTION WAS WRONG!: q8 Partial Credit: 2.7486', 'THIS QUESTION WAS WRONG!: q9b']\n",
        "PredTest"
       ]
      },
      {
       "output_type": "stream",
       "stream": "stdout",
       "text": [
        " nsa37 nsa37_PredTest_11.m 2013-08-12-17-22-53 0 75.4863\n",
        "['THIS QUESTION WAS WRONG!: q5b Partial Credit: 5.6394', 'THIS QUESTION WAS WRONG!: q7 Partial Credit: 0.014316', 'THIS QUESTION WAS WRONG!: q8 Partial Credit: 0.60186', 'THIS QUESTION WAS WRONG!: q9b']\n",
        "PredTest"
       ]
      },
      {
       "output_type": "stream",
       "stream": "stdout",
       "text": [
        " nsa37 nsa37_PredTest_12.m 2013-08-12-17-23-35 0 75.4863\n",
        "['THIS QUESTION WAS WRONG!: q5b Partial Credit: 5.6394', 'THIS QUESTION WAS WRONG!: q7 Partial Credit: 0.014316', 'THIS QUESTION WAS WRONG!: q8 Partial Credit: 0.60186', 'THIS QUESTION WAS WRONG!: q9b']\n",
        "PredTest"
       ]
      },
      {
       "output_type": "stream",
       "stream": "stdout",
       "text": [
        " nsa37 nsa37_PredTest_13.m 2013-08-12-17-24-12 0 75.4863\n",
        "['THIS QUESTION WAS WRONG!: q5b Partial Credit: 5.6394', 'THIS QUESTION WAS WRONG!: q7 Partial Credit: 0.014316', 'THIS QUESTION WAS WRONG!: q8 Partial Credit: 0.60186', 'THIS QUESTION WAS WRONG!: q9b']\n",
        "PredTest"
       ]
      },
      {
       "output_type": "stream",
       "stream": "stdout",
       "text": [
        " nsa37 nsa37_PredTest_14.m 2013-08-12-17-50-32 0 76.687\n",
        "['THIS QUESTION WAS WRONG!: q5b Partial Credit: 5.6394', 'THIS QUESTION WAS WRONG!: q7 Partial Credit: 0.014316', 'THIS QUESTION WAS WRONG!: q8 Partial Credit: 1.8025', 'THIS QUESTION WAS WRONG!: q9b']\n",
        "PredTest"
       ]
      },
      {
       "output_type": "stream",
       "stream": "stdout",
       "text": [
        " nsa37 nsa37_PredTest_15.m 2013-08-12-17-58-25 0 87.364\n",
        "['THIS QUESTION WAS WRONG!: q8 Partial Credit: 2.7486', 'THIS QUESTION WAS WRONG!: q9b']\n",
        "PredTest"
       ]
      },
      {
       "output_type": "stream",
       "stream": "stdout",
       "text": [
        " rbp39 rbp39_PredTest.m 2013-08-12-15-06-41 1 87.364\n",
        "['THIS QUESTION WAS WRONG!: q8 Partial Credit: 2.7486', 'THIS QUESTION WAS WRONG!: q9b']\n",
        "PredTest"
       ]
      },
      {
       "output_type": "stream",
       "stream": "stdout",
       "text": [
        " rmn29 rmn29_PredTest.m 2013-08-12-16-59-29 0 100.0\n",
        "[]\n",
        "PredTest"
       ]
      },
      {
       "output_type": "stream",
       "stream": "stdout",
       "text": [
        " rs623 rs623_PredTest.m 2013-08-12-15-05-59 0 100.0\n",
        "[]\n",
        "PredTest"
       ]
      },
      {
       "output_type": "stream",
       "stream": "stdout",
       "text": [
        " rw383 rw383_PredTest.m 2013-08-12-18-01-16 0 77.8721\n",
        "['THIS QUESTION WAS WRONG!: q7 Partial Credit: 0.014316', 'THIS QUESTION WAS WRONG!: q8 Partial Credit: 0.93474', 'THIS QUESTION WAS WRONG!: q9b']\n",
        "PredTest"
       ]
      },
      {
       "output_type": "stream",
       "stream": "stdout",
       "text": [
        " rw383 rw383_PredTest_1.m 2013-08-12-19-55-54 0 98.1408\n",
        "['THIS QUESTION WAS WRONG!: q8 Partial Credit: 5.8331']\n",
        "PredTest"
       ]
      },
      {
       "output_type": "stream",
       "stream": "stdout",
       "text": [
        " shc34 shc34_PredTest.m 2013-08-12-16-50-55 0 100.0\n",
        "[]\n",
        "PredTest"
       ]
      },
      {
       "output_type": "stream",
       "stream": "stdout",
       "text": [
        " shc34 shc34_PredTest_1.m 2013-08-12-17-05-12 0 79.4758\n",
        "['THIS QUESTION WAS WRONG!: q8 Partial Credit: 2.5528', 'THIS QUESTION WAS WRONG!: q9a', 'THIS QUESTION WAS WRONG!: q9b']\n",
        "PredTest"
       ]
      },
      {
       "output_type": "stream",
       "stream": "stdout",
       "text": [
        " sjr64 sjr64_PredTest.m 2013-08-12-14-56-21 0 100.0\n",
        "[]\n",
        "PredTest"
       ]
      },
      {
       "output_type": "stream",
       "stream": "stdout",
       "text": [
        " slg73 slg73_PredTest.m 2013-08-12-01-59-09 0 100.0\n",
        "[]\n",
        "PredTest"
       ]
      },
      {
       "output_type": "stream",
       "stream": "stdout",
       "text": [
        " ssj36 ssj36_PredTest.m 2013-08-12-15-20-29 0 0.0\n",
        "[\"DIDN'T RUN!!\"]\n",
        "PredTest"
       ]
      },
      {
       "output_type": "stream",
       "stream": "stdout",
       "text": [
        " ssj36 ssj36_PredTest_1.m 2013-08-12-15-51-16 0 0.0\n",
        "[\"DIDN'T RUN!!\"]\n",
        "PredTest"
       ]
      },
      {
       "output_type": "stream",
       "stream": "stdout",
       "text": [
        " ssj36 ssj36_PredTest_2.m 2013-08-12-16-07-25 0 87.364\n",
        "['THIS QUESTION WAS WRONG!: q8 Partial Credit: 2.7486', 'THIS QUESTION WAS WRONG!: q9b']\n",
        "PredTest"
       ]
      },
      {
       "output_type": "stream",
       "stream": "stdout",
       "text": [
        " ssj36 ssj36_PredTest_3.m 2013-08-12-16-07-57 0 87.364\n",
        "['THIS QUESTION WAS WRONG!: q8 Partial Credit: 2.7486', 'THIS QUESTION WAS WRONG!: q9b']\n",
        "PredTest"
       ]
      },
      {
       "output_type": "stream",
       "stream": "stdout",
       "text": [
        " vmt27 vmt27_PredTest.m 2013-08-12-17-07-10 0 78.1917\n",
        "['THIS QUESTION WAS WRONG!: q7', 'THIS QUESTION WAS WRONG!: q8 Partial Credit: 1.2687', 'THIS QUESTION WAS WRONG!: q9b']\n",
        "PredTest"
       ]
      },
      {
       "output_type": "stream",
       "stream": "stdout",
       "text": [
        " vmt27 vmt27_PredTest_1.m 2013-08-12-17-12-51 0 100.0\n",
        "[]\n",
        "PredTest"
       ]
      },
      {
       "output_type": "stream",
       "stream": "stdout",
       "text": [
        " vmt27 vmt27_PredTest_2.m 2013-08-12-17-16-23 0 79.4758\n",
        "['THIS QUESTION WAS WRONG!: q8 Partial Credit: 2.5528', 'THIS QUESTION WAS WRONG!: q9a', 'THIS QUESTION WAS WRONG!: q9b']\n",
        "PredTest"
       ]
      },
      {
       "output_type": "stream",
       "stream": "stdout",
       "text": [
        " vmt27 vmt27_PredTest_3.m 2013-08-12-17-18-01 0 100.0\n",
        "[]\n",
        "PredTest"
       ]
      },
      {
       "output_type": "stream",
       "stream": "stdout",
       "text": [
        " vmt27 vmt27_PredTest_4.m 2013-08-12-17-21-02 0 79.4758\n",
        "['THIS QUESTION WAS WRONG!: q8 Partial Credit: 2.5528', 'THIS QUESTION WAS WRONG!: q9a', 'THIS QUESTION WAS WRONG!: q9b']\n",
        "PredTest"
       ]
      },
      {
       "output_type": "stream",
       "stream": "stdout",
       "text": [
        " vmt27 vmt27_PredTest_5.m 2013-08-12-17-22-32 0 87.364\n",
        "['THIS QUESTION WAS WRONG!: q8 Partial Credit: 2.7486', 'THIS QUESTION WAS WRONG!: q9b']\n",
        "PredTest"
       ]
      },
      {
       "output_type": "stream",
       "stream": "stdout",
       "text": [
        " vmt27 vmt27_PredTest_6.m 2013-08-12-17-25-59 0 100.0\n",
        "[]\n",
        "PredTest"
       ]
      },
      {
       "output_type": "stream",
       "stream": "stdout",
       "text": [
        " vvm25 vvm25_PredTest.m 2013-08-12-15-49-03 0 79.4758\n",
        "['THIS QUESTION WAS WRONG!: q8 Partial Credit: 2.5528', 'THIS QUESTION WAS WRONG!: q9a', 'THIS QUESTION WAS WRONG!: q9b']\n",
        "PredTest"
       ]
      },
      {
       "output_type": "stream",
       "stream": "stdout",
       "text": [
        " vvm25 vvm25_PredTest_1.m 2013-08-12-15-57-29 0 87.364\n",
        "['THIS QUESTION WAS WRONG!: q8 Partial Credit: 2.7486', 'THIS QUESTION WAS WRONG!: q9b']\n",
        "PredTest"
       ]
      },
      {
       "output_type": "stream",
       "stream": "stdout",
       "text": [
        " vvm25 vvm25_PredTest_2.m 2013-08-12-16-00-18 0 100.0\n",
        "[]\n",
        "PredTest"
       ]
      },
      {
       "output_type": "stream",
       "stream": "stdout",
       "text": [
        " zma24 zma24_PredTest.m 2013-08-12-08-49-38 2 None\n",
        "[\"DIDN'T RUN!!\"]\n",
        "PredTest"
       ]
      },
      {
       "output_type": "stream",
       "stream": "stdout",
       "text": [
        " zma24 zma24_PredTest_1.m 2013-08-12-17-27-58 0 87.364\n",
        "['THIS QUESTION WAS WRONG!: q8 Partial Credit: 2.7486', 'THIS QUESTION WAS WRONG!: q9b']\n"
       ]
      }
     ],
     "prompt_number": 16
    },
    {
     "cell_type": "code",
     "collapsed": false,
     "input": [
      "."
     ],
     "language": "python",
     "metadata": {},
     "outputs": [],
     "prompt_number": 8
    }
   ],
   "metadata": {}
  }
 ]
}