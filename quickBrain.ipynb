{
 "metadata": {
  "name": "quickBrain"
 },
 "nbformat": 3,
 "nbformat_minor": 0,
 "worksheets": [
  {
   "cells": [
    {
     "cell_type": "code",
     "collapsed": false,
     "input": [
      "from pandas import *\n",
      "from subprocess import check_call\n",
      "from tempfile import NamedTemporaryFile as NTF\n",
      "import os, os.path\n",
      "import numpy as np\n",
      "from scipy.stats import ttest_ind\n",
      "from itertools import groupby,combinations, islice\n",
      "from operator import itemgetter\n",
      "import sys\n",
      "\n",
      "from random import shuffle\n",
      "import csv, shlex, shutil\n",
      "\n",
      "os.chdir('/home/will/HIVTropism/')\n",
      "sys.path.append('/home/will/HIVReportGen/AnalysisCode/')\n",
      "sys.path.append('/home/will/PySeqUtils/')\n",
      "\n"
     ],
     "language": "python",
     "metadata": {},
     "outputs": [],
     "prompt_number": 1
    },
    {
     "cell_type": "code",
     "collapsed": false,
     "input": [
      "from GeneralSeqTools import fasta_reader, "
     ],
     "language": "python",
     "metadata": {},
     "outputs": [],
     "prompt_number": 2
    },
    {
     "cell_type": "code",
     "collapsed": false,
     "input": [
      "tat_ex1_pos = (5830, 6044) #0 based\n",
      "\n",
      "pos_data = read_csv('simple_results.txt', sep = '\\t')\n",
      "\n",
      "with open('Tat1-AB1_passed-cleaned.fasta') as handle:\n",
      "    seq_data = list(fasta_reader(handle))"
     ],
     "language": "python",
     "metadata": {},
     "outputs": [],
     "prompt_number": 19
    },
    {
     "cell_type": "code",
     "collapsed": false,
     "input": [
      "from Bio.Seq import Seq\n",
      "from Bio.Alphabet import generic_dna, generic_protein\n",
      "\n",
      "def translate_to_tat(inseq, start_pos, end_pos, rep = 0):\n",
      "    \n",
      "    if rep == 2:\n",
      "        print 'ESCAPED!!!'\n",
      "        \n",
      "        return \n",
      "    nstart = tat_ex1_pos[0] - start_pos\n",
      "    nend = tat_ex1_pos[1] - end_pos\n",
      "    \n",
      "    if (nstart >= 0):\n",
      "        nseq = inseq[nstart:nend]\n",
      "        tseq = Seq(nseq, generic_dna)\n",
      "        aa = tseq.translate()\n",
      "        return aa.tostring()\n",
      "    else:\n",
      "        #print 'starts late'\n",
      "        nseq = 'N'*abs(nstart)+inseq\n",
      "        #print 'fixing'\n",
      "        #print inseq\n",
      "        #print nseq\n",
      "        #print len(inseq), len(nseq), tat_ex1_pos[1]-tat_ex1_pos[0]\n",
      "        return translate_to_tat(nseq, tat_ex1_pos[0], end_pos, rep = rep+1)\n",
      "        \n",
      "    \n",
      "    \n",
      "\n",
      "        \n",
      "    "
     ],
     "language": "python",
     "metadata": {},
     "outputs": [],
     "prompt_number": 43
    },
    {
     "cell_type": "code",
     "collapsed": false,
     "input": [
      "prots = []\n",
      "names = []\n",
      "for (name, seq), (idx, row) in zip(seq_data, pos_data.iterrows()):\n",
      "    aa = translate_to_tat(seq, row['GenomeStart']-1, row['GenomeEnd']-1)\n",
      "    if sum(1 for l in aa if l == 'X') < 10:\n",
      "        \n",
      "        prots.append(aa)\n",
      "        names.append(name)"
     ],
     "language": "python",
     "metadata": {},
     "outputs": [],
     "prompt_number": 48
    },
    {
     "cell_type": "code",
     "collapsed": false,
     "input": [
      "seq_df = DataFrame({\n",
      "                        'Tat':Series(prots, index = names)\n",
      "                    })"
     ],
     "language": "python",
     "metadata": {},
     "outputs": [],
     "prompt_number": 49
    },
    {
     "cell_type": "code",
     "collapsed": false,
     "input": [
      "from SeqProcessTools import align_seq_data_frame\n",
      "\n",
      "out_align = align_seq_data_frame(seq_df, '/home/will/HIVReportGen/Data/BlastDB/ConBseqs.txt')\n"
     ],
     "language": "python",
     "metadata": {},
     "outputs": [
      {
       "output_type": "stream",
       "stream": "stderr",
       "text": [
        "/usr/local/lib/python2.7/dist-packages/futures/__init__.py:24: DeprecationWarning: The futures package has been deprecated. Use the concurrent.futures package instead.\n",
        "  DeprecationWarning)\n"
       ]
      }
     ],
     "prompt_number": 51
    },
    {
     "cell_type": "code",
     "collapsed": false,
     "input": [
      "cohort_data = read_csv('Texas_Cohort_Data.txt', sep = '\\t')\n",
      "nout_align = out_align.reset_index()\n",
      "nout_align['short_ind'] = nout_align['index'].map(lambda x: x.split('-')[0])\n",
      "\n",
      "\n",
      "nout = merge(nout_align, cohort_data, \n",
      "            left_index = 'short_ind', right_index = 'Patient ID')\n",
      "\n",
      "nout = nout.drop(nout['NeuroCog'] == 'Not Tested', axis = 0)\n",
      "print nout"
     ],
     "language": "python",
     "metadata": {},
     "outputs": [
      {
       "output_type": "stream",
       "stream": "stdout",
       "text": [
        "<class 'pandas.core.frame.DataFrame'>\n",
        "Int64Index: 26 entries, 2 to 27\n",
        "Data columns:\n",
        "index            26  non-null values\n",
        "Tat              26  non-null values\n",
        "Tat-bin-align    26  non-null values\n",
        "Tat-seq-align    26  non-null values\n",
        "short_ind        26  non-null values\n",
        "Patient ID       26  non-null values\n",
        "NeuroCog         26  non-null values\n",
        "NeuroPath        26  non-null values\n",
        "dtypes: object(8)\n"
       ]
      }
     ],
     "prompt_number": 61
    },
    {
     "cell_type": "code",
     "collapsed": false,
     "input": [
      "from SeqAnalysisTools import calculate_fisher_exact\n",
      "\n",
      "impaired = nout['NeuroCog'] != 'Normal'\n",
      "\n",
      "res = calculate_fisher_exact(nout['Tat-bin-align'][impaired], nout['Tat-bin-align'][~impaired])\n"
     ],
     "language": "python",
     "metadata": {},
     "outputs": [],
     "prompt_number": 63
    },
    {
     "cell_type": "code",
     "collapsed": false,
     "input": [
      "#import numpy as np\n",
      "plt.figure(figsize = (10,10))\n",
      "res.plot()\n",
      "plt.ylabel('p-value')\n",
      "plt.xlabel('Tat EX-1')\n",
      "plt.ylim([0,1.1])"
     ],
     "language": "python",
     "metadata": {},
     "outputs": [
      {
       "output_type": "pyout",
       "prompt_number": 68,
       "text": [
        "(0, 1.1)"
       ]
      },
      {
       "output_type": "display_data",
       "png": "[encoded data removed]"
      }
     ],
     "prompt_number": 68
    },
    {
     "cell_type": "code",
     "collapsed": false,
     "input": [
      "res.to_csv('p_value_res.csv')"
     ],
     "language": "python",
     "metadata": {},
     "outputs": [],
     "prompt_number": 69
    },
    {
     "cell_type": "code",
     "collapsed": false,
     "input": [
      "nout.dropna()['NeuroCog'].value_counts()"
     ],
     "language": "python",
     "metadata": {},
     "outputs": [
      {
       "output_type": "pyout",
       "prompt_number": 74,
       "text": [
        "MCMD            16\n",
        "HAD              6\n",
        "Subsyndromic     3\n",
        "Normal           1"
       ]
      }
     ],
     "prompt_number": 74
    },
    {
     "cell_type": "code",
     "collapsed": false,
     "input": [
      "nout['NeuroCog']"
     ],
     "language": "python",
     "metadata": {},
     "outputs": [
      {
       "output_type": "pyout",
       "prompt_number": 76,
       "text": [
        "2           Normal\n",
        "3     Subsyndromic\n",
        "4     Subsyndromic\n",
        "5     Subsyndromic\n",
        "6             MCMD\n",
        "7             MCMD\n",
        "8             MCMD\n",
        "9             MCMD\n",
        "10            MCMD\n",
        "11            MCMD\n",
        "12            MCMD\n",
        "13            MCMD\n",
        "14            MCMD\n",
        "15            MCMD\n",
        "16            MCMD\n",
        "17            MCMD\n",
        "18            MCMD\n",
        "19            MCMD\n",
        "20             HAD\n",
        "21             HAD\n",
        "22             HAD\n",
        "23            MCMD\n",
        "24            MCMD\n",
        "25             HAD\n",
        "26             HAD\n",
        "27             HAD\n",
        "Name: NeuroCog"
       ]
      }
     ],
     "prompt_number": 76
    },
    {
     "cell_type": "code",
     "collapsed": false,
     "input": [],
     "language": "python",
     "metadata": {},
     "outputs": []
    }
   ],
   "metadata": {}
  }
 ]
}