{
 "metadata": {
  "name": "CircusNetwork"
 },
 "nbformat": 3,
 "nbformat_minor": 0,
 "worksheets": [
  {
   "cells": [
    {
     "cell_type": "code",
     "collapsed": false,
     "input": [
      "import networkx as nx\n",
      "import matplotlib.pyplot as plt\n",
      "from pandas import *\n",
      "import csv\n",
      "import os, os.path\n",
      "\n",
      "os.chdir('/home/will/Dropbox/CircusInstruction/')"
     ],
     "language": "python",
     "metadata": {},
     "outputs": [],
     "prompt_number": 69
    },
    {
     "cell_type": "code",
     "collapsed": false,
     "input": [
      "obj = ExcelFile('TrickNetwork.xls')\n",
      "trick_data = obj.parse('Trick Names', index_col = 0)\n",
      "trick_links = obj.parse('Trick Links')"
     ],
     "language": "python",
     "metadata": {},
     "outputs": [],
     "prompt_number": 70
    },
    {
     "cell_type": "code",
     "collapsed": false,
     "input": [
      "G = nx.DiGraph()\n",
      "G.add_nodes_from(trick_data.index)"
     ],
     "language": "python",
     "metadata": {},
     "outputs": [],
     "prompt_number": 71
    },
    {
     "cell_type": "code",
     "collapsed": false,
     "input": [
      "edge_color_types = {\n",
      "'Drop':'R',\n",
      "'Roll':'C',\n",
      "'Wrap':'B',\n",
      "'Unwrap':'B',\n",
      "'Twist':'C',\n",
      "'Invert':'M',\n",
      "'Side Lift':'Y',\n",
      "'Climb Over':'G',\n",
      "'Swing':'k'\n",
      "}\n",
      "\n",
      "edge_colors = {}\n",
      "\n",
      "\n",
      "for num, row in trick_links.iterrows():\n",
      "    if (row['Source'] not in trick_data.index) or (row['Destination'] not in trick_data.index):\n",
      "        print 'Wrong in line', num+1, row\n",
      "    else:\n",
      "        G.add_edge(row['Source'], row['Destination'])\n",
      "        edge_colors[(row['Source'], row['Destination'])] = edge_color_types.get(row['Transition'], 'k')\n",
      "        if row['Reversible']:\n",
      "            G.add_edge(row['Destination'], row['Source'])"
     ],
     "language": "python",
     "metadata": {},
     "outputs": [
      {
       "output_type": "stream",
       "stream": "stdout",
       "text": [
        "Wrong in line 190 Source           Sitting\n",
        "Destination    Back Roll\n",
        "Transition           NaN\n",
        "Reversible          True\n",
        "Name: 189\n",
        "Wrong in line 191 Source         Back Roll\n",
        "Destination     Standing\n",
        "Transition           NaN\n",
        "Reversible          True\n",
        "Name: 190\n"
       ]
      }
     ],
     "prompt_number": 72
    },
    {
     "cell_type": "code",
     "collapsed": false,
     "input": [
      "\n",
      "\n",
      "typ_colors = {\n",
      "'Drop':'R',\n",
      "'Climb':'G',\n",
      "'Wrap':'B',\n",
      "'Pose':'Y',\n",
      "'Transition':'C'\n",
      "}\n",
      "node_colors = {}\n",
      "for name, typ in zip(trick_data.index, trick_data['Type'].values):\n",
      "    node_colors[name] = typ_colors[typ]\n",
      "    \n",
      "node_sizes = nx.degree(G)\n",
      "\n",
      "\n",
      "#plt.savefig('TrickNetwork.png')"
     ],
     "language": "python",
     "metadata": {},
     "outputs": [],
     "prompt_number": 73
    },
    {
     "cell_type": "code",
     "collapsed": false,
     "input": [
      "\n",
      "\n",
      "plt.figure(figsize = (40,40))\n",
      "nx.draw_graphviz(G, alpha = 0.2, \n",
      "        node_color = [node_colors[n] for n in G.nodes()],\n",
      "        node_size = [500*node_sizes[n] for n in G.nodes()],\n",
      "        edge_color = [edge_colors.get(e, 'k') for e in G.edges()],\n",
      "        scale = 500, iterations = 5000)\n",
      "\n",
      "plt.savefig('TrickNetwork-tmp.png')\n",
      "plt.close()\n"
     ],
     "language": "python",
     "metadata": {},
     "outputs": [],
     "prompt_number": 74
    },
    {
     "cell_type": "code",
     "collapsed": false,
     "input": [
      "trap_network = G.subgraph(trick_data[trick_data['Trapeze']==1].index)\n",
      "node_sizes = nx.degree(trap_network)\n",
      "plt.figure(figsize = (40,40))\n",
      "nx.draw_graphviz(trap_network, alpha = 0.2, \n",
      "        node_color = [node_colors[n] for n in trap_network.nodes()],\n",
      "        node_size = [500*node_sizes[n] for n in trap_network.nodes()],\n",
      "        edge_color = [edge_colors.get(e, 'k') for e in trap_network.edges()],\n",
      "        scale = 500, iterations = 5000)\n",
      "\n",
      "plt.savefig('Trap-TrickNetwork.png')\n",
      "plt.close()"
     ],
     "language": "python",
     "metadata": {},
     "outputs": [],
     "prompt_number": 82
    },
    {
     "cell_type": "code",
     "collapsed": false,
     "input": [
      "sum(1/x for x in dists.values() if x)/len(dists)"
     ],
     "language": "python",
     "metadata": {},
     "outputs": [
      {
       "output_type": "pyout",
       "prompt_number": 67,
       "text": [
        "3.748589078490378"
       ]
      }
     ],
     "prompt_number": 67
    },
    {
     "cell_type": "code",
     "collapsed": false,
     "input": [
      "dists"
     ],
     "language": "python",
     "metadata": {},
     "outputs": [
      {
       "output_type": "pyout",
       "prompt_number": 68,
       "text": [
        "{u'360 Drop': 0.2505175983436853,\n",
        " u'Aerial Dance Foot Locks': 0.2357812690293509,\n",
        " u'Aerial Dance Wraps': 0.2995512919696735,\n",
        " u'Airplane': 0.24977422268094443,\n",
        " u'Arrow Whip': 0.0,\n",
        " u'Back Balance': 0.2638680659670165,\n",
        " u'Backflip Drop': 0.22446376811594204,\n",
        " u'Beatbox Climb': 0.3313933584388908,\n",
        " u'Beehive Drop': 0.2232729788951678,\n",
        " u'Bellet': 0.2853352984524687,\n",
        " u'Bellet Drop': 0.2203505577054405,\n",
        " u'Bent Knee Drop': 0.21694307485432543,\n",
        " u'Bicycle Climb': 0.2689262397555216,\n",
        " u'Big Russian Climb': 0.3313933584388908,\n",
        " u'Butterfly Climb': 0.261409667836889,\n",
        " u'Candy Cane Climb': 0.2768878718535469,\n",
        " u'Catchers': 0.33804784354810546,\n",
        " u'Catchers to Sit': 0.21043478260869566,\n",
        " u'Clock Work Straddle Climb': 0.26060034997980885,\n",
        " u'Cookie Cutter': 0.2209289056259272,\n",
        " u'Crossback Straddle': 0.23381642512077294,\n",
        " u'Crucifix': 0.3038769423952284,\n",
        " u'Danger Wrap': 0.2630434782608696,\n",
        " u'Double Ankle Drop': 0.23845301145461265,\n",
        " u'Double Ankle Hang': 0.2872829796705743,\n",
        " u'Double Ankle Wrap': 0.2404968944099379,\n",
        " u'Double Crochet': 0.2863058266784975,\n",
        " u'Double Foot Lock': 0.2963870177587263,\n",
        " u'Double Knee Pinch': 0.2932888956218755,\n",
        " u'Double Star Drop': 0.2109621880788929,\n",
        " u'Emily Sit': 0.1887307467342562,\n",
        " u'Extreme Butterfly': 0.2058041883703625,\n",
        " u'Fake Hip Key': 0.2672187715665977,\n",
        " u'Fake Hip Key Climb': 0.24257611828091719,\n",
        " u'Flyer': 0.25979602791196993,\n",
        " u'French Climb': 0.31525810128643544,\n",
        " u'Front Balance': 0.3581868640148011,\n",
        " u'Front Dive': 0.2232729788951678,\n",
        " u'Full Monty': 0.1849976110845676,\n",
        " u'Georga Twist': 0.2293567112901315,\n",
        " u'HOCs Drop': 0.2963870177587263,\n",
        " u'HOCs Hang': 0.2520177037229888,\n",
        " u'Half Hip Key': 0.2630434782608696,\n",
        " u'Half Lock': 0.2922705314009662,\n",
        " u'Half Monty': 0.2287334593572779,\n",
        " u'Half Roll': 0.23316873419246056,\n",
        " u'Hand Drop': 0.27418212717745366,\n",
        " u'Hip Key': 0.35516419005687033,\n",
        " u'Hip Key Thread-through Climb': 0.30639795760482746,\n",
        " u'Invert': 0.336695652173913,\n",
        " u'Julia Split': 0.2268838626508848,\n",
        " u'Karate Climb': 0.35971757710888147,\n",
        " u'Lotus Drop': 0.1710851891127607,\n",
        " u'Lotus Sit': 0.20783682232957595,\n",
        " u'Meat Hook': 0.28151810382434206,\n",
        " u'Mini Bomb': 0.227497062279671,\n",
        " u'Moses Drop': 0.2853352984524687,\n",
        " u'No Lock Front Dive': 0.26060034997980885,\n",
        " u'Opposite Side Leg Descent': 0.2768878718535469,\n",
        " u'Paper Clip': 0.24187906046976515,\n",
        " u'Pike Beats': 0.3129141748828188,\n",
        " u'Reverse Russian Climb': 0.2834138486312399,\n",
        " u'Roll Around': 0.24187906046976515,\n",
        " u'Russian Climb': 0.23777941537705724,\n",
        " u'S-Wrap': 0.2902548725637181,\n",
        " u'Same Side Leg Descent': 0.35666912306558585,\n",
        " u'Shoe Fly Drop': 0.2211569276786668,\n",
        " u'Shooting Star Drop': 0.2211569276786668,\n",
        " u'Side Beats': 0.3129141748828188,\n",
        " u'Simple Climb': 0.2834138486312399,\n",
        " u'Simple-Simple Climb': 0.24977422268094443,\n",
        " u'Single Foot Lock': 0.32250541395968685,\n",
        " u'Sitting Loop': 0.28437132784958874,\n",
        " u'Slack Drop': 0.2902548725637181,\n",
        " u'Space Invaders Drop': 0.0,\n",
        " u'Spider Hang': 0.2984890533456676,\n",
        " u'Spider Wrap': 0.24469160768452985,\n",
        " u'Splits Roll Around': 0.23061346039309114,\n",
        " u'Squirrel Drop': 0.0,\n",
        " u'Standing': 0.4008281573498965,\n",
        " u'Star Drop': 0.2217016491754123,\n",
        " u'Sticky Crotch Climb': 0.32250541395968685,\n",
        " u'Straddle Climb': 0.2902548725637181,\n",
        " u'Superman': 0.19946424891819492,\n",
        " u'Switchback Climb': 0.24977422268094443,\n",
        " u'Swivel Hips': 0.35516419005687033,\n",
        " u'Thigh Drop': 0.21043478260869566,\n",
        " u'Toe Climb': 0.2932888956218755,\n",
        " u'Turn around Toe Climb': 0.22506393861892585,\n",
        " u'Twist to Knees': 0.2834138486312399,\n",
        " u'Two Foot Ankle Hang': 0.2268838626508848,\n",
        " u'Verakia': 0.25126541207008435,\n",
        " u'Wheel Downs': 0.2232729788951678}"
       ]
      }
     ],
     "prompt_number": 68
    },
    {
     "cell_type": "code",
     "collapsed": false,
     "input": [],
     "language": "python",
     "metadata": {},
     "outputs": []
    }
   ],
   "metadata": {}
  }
 ]
}