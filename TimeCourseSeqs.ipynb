{
 "metadata": {
  "name": "TimeCourseSeqs"
 },
 "nbformat": 3,
 "nbformat_minor": 0,
 "worksheets": [
  {
   "cells": [
    {
     "cell_type": "code",
     "collapsed": false,
     "input": [
      "from __future__ import division\n",
      "from pandas import *\n",
      "import os, os.path\n",
      "import sys\n",
      "import numpy as np\n",
      "\n",
      "sys.path.append('/home/will/HIVReportGen/AnalysisCode/')\n",
      "sys.path.append('/home/will/PySeqUtils/')"
     ],
     "language": "python",
     "metadata": {},
     "outputs": [],
     "prompt_number": 1
    },
    {
     "cell_type": "code",
     "collapsed": false,
     "input": [
      "store = HDFStore('/home/will/HIVReportGen/Data/SplitRedcap/2013-01-16/EntireCohort.hdf')"
     ],
     "language": "python",
     "metadata": {},
     "outputs": [],
     "prompt_number": 2
    },
    {
     "cell_type": "code",
     "collapsed": false,
     "input": [
      "redcap_data = store['redcap']\n",
      "seq_data = store['seq_data']\n",
      "\n",
      "t = redcap_data['Event Name'].dropna().apply(lambda x: x.split(' - ')[0])\n",
      "t.unique()\n",
      "redcap_data['Patient visit number'] = redcap_data['Patient visit number'].combine_first(t)"
     ],
     "language": "python",
     "metadata": {},
     "outputs": [],
     "prompt_number": 3
    },
    {
     "cell_type": "code",
     "collapsed": false,
     "input": [
      "wanted_cols = ['Patient ID', 'Patient visit number', 'Date of visit', 'Latest CD4 count (cells/uL)', 'Latest viral load', 'Current ART status']\n",
      "wanted_redcap = redcap_data[wanted_cols]\n",
      "\n",
      "data = merge(wanted_redcap, seq_data[['LTR-bin-align']],\n",
      "            left_on = ['Patient ID', 'Patient visit number'],\n",
      "            right_index = True, how = 'inner').dropna()\n",
      "data = data.rename(columns= {\n",
      "                                'Patient visit number':'VisitNum',\n",
      "                                'Date of visit':'Date',\n",
      "                                'Latest CD4 count (cells/uL)':'CD4',\n",
      "                                'Latest viral load':'VL',\n",
      "                                'Current ART status':'ART'\n",
      "                            })\n",
      "print data"
     ],
     "language": "python",
     "metadata": {},
     "outputs": [
      {
       "output_type": "stream",
       "stream": "stdout",
       "text": [
        "<class 'pandas.core.frame.DataFrame'>\n",
        "Int64Index: 954 entries, 1 to 1397\n",
        "Data columns:\n",
        "Patient ID       954  non-null values\n",
        "VisitNum         954  non-null values\n",
        "Date             954  non-null values\n",
        "CD4              954  non-null values\n",
        "VL               954  non-null values\n",
        "ART              954  non-null values\n",
        "LTR-bin-align    954  non-null values\n",
        "dtypes: float64(2), object(5)\n"
       ]
      }
     ],
     "prompt_number": 6
    },
    {
     "cell_type": "code",
     "collapsed": false,
     "input": [
      "data['ART'].unique()"
     ],
     "language": "python",
     "metadata": {},
     "outputs": [
      {
       "output_type": "pyout",
       "prompt_number": 7,
       "text": [
        "array([on, non-adherent, off, naive], dtype=object)"
       ]
      }
     ],
     "prompt_number": 7
    },
    {
     "cell_type": "code",
     "collapsed": false,
     "input": [
      "def QuantitateChange(seq_list):\n",
      "    \n",
      "    delta = 0\n",
      "    for a, b in zip(seq_list, seq_list[1:]):\n",
      "        delta =+ (np.array(a[200:-100]) == np.array(b[200:-100])).sum()\n",
      "    return delta/len(seq_list)"
     ],
     "language": "python",
     "metadata": {},
     "outputs": [],
     "prompt_number": 53
    },
    {
     "cell_type": "code",
     "collapsed": false,
     "input": [
      "def ProcessPatient(df):\n",
      "    \n",
      "    if len(df) < 2:\n",
      "        return Series({\n",
      "                    'NiaveVisits':np.nan,\n",
      "                    'ARTVisits':np.nan,\n",
      "                    'NumWellControlled':np.nan,\n",
      "                    'LongestWellControlled':np.nan,\n",
      "                    'NumUnControlled':np.nan,\n",
      "                    'ControlledVariation':np.nan,\n",
      "                    'UnControlledVariation':np.nan})\n",
      "    \n",
      "    num_niave = (df['ART'] == 'naive').sum()\n",
      "    num_on = (df['ART'] == 'on').sum()\n",
      "    \n",
      "    well_controlled = (df['VL'] <= 100) & (df['CD4'] >= 250)\n",
      "    num_well = well_controlled.sum()\n",
      "    num_uncontrolled = (~well_controlled).sum()\n",
      "    \n",
      "    run = 0\n",
      "    longest_run = 0\n",
      "    for well in well_controlled.values:\n",
      "        if well:\n",
      "            run += 1\n",
      "        else:\n",
      "            longest_run = max(longest_run, run)\n",
      "            run = 0\n",
      "        \n",
      "    longest_well_controlled = longest_run\n",
      "    \n",
      "    well_controlled_variation = 0\n",
      "    if num_well > 1:\n",
      "        well_controlled_variation = QuantitateChange(df['LTR-bin-align'][well_controlled])\n",
      "    \n",
      "    uncontrolled_variation = 0\n",
      "    if num_uncontrolled > 1:\n",
      "        uncontrolled_variation = QuantitateChange(df['LTR-bin-align'][~well_controlled])\n",
      "        \n",
      "        \n",
      "        \n",
      "    return Series({\n",
      "                    'NiaveVisits':num_niave,\n",
      "                    'ARTVisits':num_on,\n",
      "                    'NumWellControlled':num_well,\n",
      "                    'LongestWellControlled':longest_well_controlled,\n",
      "                    'NumUnControlled':num_uncontrolled,\n",
      "                    'ControlledVariation':well_controlled_variation,\n",
      "                    'UnControlledVariation':uncontrolled_variation})\n",
      "    \n",
      "\n",
      "ndata = data.groupby('Patient ID').apply(ProcessPatient)\n",
      "print ndata"
     ],
     "language": "python",
     "metadata": {},
     "outputs": [
      {
       "output_type": "stream",
       "stream": "stdout",
       "text": [
        "<class 'pandas.core.frame.DataFrame'>\n",
        "Index: 437 entries, A0001 to A0499\n",
        "Data columns:\n",
        "ARTVisits                224  non-null values\n",
        "ControlledVariation      224  non-null values\n",
        "LongestWellControlled    224  non-null values\n",
        "NiaveVisits              224  non-null values\n",
        "NumUnControlled          224  non-null values\n",
        "NumWellControlled        224  non-null values\n",
        "UnControlledVariation    224  non-null values\n",
        "dtypes: float64(7)\n"
       ]
      }
     ],
     "prompt_number": 54
    },
    {
     "cell_type": "code",
     "collapsed": false,
     "input": [
      "niave_to_art = (ndata['NiaveVisits']>0) & (ndata['ARTVisits']>1)\n",
      "\n",
      "print ndata.ix[niave_to_art].to_string()\n",
      "\n",
      "uncontrolled_to_well_controlled = (ndata['LongestWellControlled'] >= 2) & (ndata['NumUnControlled'] >= 1)\n",
      "print ndata.ix[uncontrolled_to_well_controlled].to_string()\n"
     ],
     "language": "python",
     "metadata": {},
     "outputs": [
      {
       "output_type": "stream",
       "stream": "stdout",
       "text": [
        "            ARTVisits  ControlledVariation  LongestWellControlled  NiaveVisits  NumUnControlled  NumWellControlled  UnControlledVariation\n",
        "Patient ID                                                                                                                               \n",
        "A0058               4                 81.5                      0            1                1                  4               0.000000\n",
        "A0120               2                161.0                      0            2                3                  2              62.333333\n",
        "A0198               2                  0.0                      1            1                2                  1             141.500000\n",
        "A0199               4                 56.5                      3            3                3                  4             110.000000\n",
        "A0209               3                163.5                      1            1                3                  2             108.333333\n",
        "A0312               2                162.0                      0            2                2                  2             140.000000\n",
        "            ARTVisits  ControlledVariation  LongestWellControlled  NiaveVisits  NumUnControlled  NumWellControlled  UnControlledVariation\n",
        "Patient ID                                                                                                                               \n",
        "A0005               4            44.000000                      2            0                1                  3               0.000000\n",
        "A0008               6            65.800000                      3            0                1                  5               0.000000\n",
        "A0013               5            86.000000                      3            0                2                  3             154.500000\n",
        "A0025               3            76.666667                      3            0                2                  3             163.500000\n",
        "A0047               3            67.000000                      2            0                2                  2             126.500000\n",
        "A0062               8            82.500000                      2            0                4                  4              59.000000\n",
        "A0067               8            74.000000                      2            0                5                  3              39.800000\n",
        "A0074               3           164.000000                      2            0                1                  2               0.000000\n",
        "A0117               6            60.600000                      5            0                1                  5               0.000000\n",
        "A0192               4            99.333333                      3            0                1                  3               0.000000\n",
        "A0199               4            56.500000                      3            3                3                  4             110.000000\n",
        "A0257               3           155.500000                      2            0                1                  2               0.000000\n",
        "A0274               3           140.500000                      2            0                2                  2             152.000000\n",
        "A0284               7            82.250000                      2            0                3                  4             109.666667\n",
        "A0305               6            63.400000                      4            0                1                  5               0.000000\n"
       ]
      }
     ],
     "prompt_number": 55
    },
    {
     "cell_type": "code",
     "collapsed": false,
     "input": [
      "max_day = ndata['DateFromImpaired'].max()\n",
      "min_day = ndata['DateFromImpaired'].min()\n",
      "\n",
      "time_axis = np.arange(min_day, max_day)\n",
      "\n",
      "good_max = ndata['DateFromImpaired'][ndata['DateFromImpaired']>0].median()\n",
      "good_min = ndata['DateFromImpaired'][ndata['DateFromImpaired']<0].median()\n",
      "print good_max, good_min"
     ],
     "language": "python",
     "metadata": {},
     "outputs": [
      {
       "output_type": "stream",
       "stream": "stdout",
       "text": [
        "11.8666666667 -18.2\n"
       ]
      }
     ],
     "prompt_number": 210
    },
    {
     "cell_type": "code",
     "collapsed": false,
     "input": [
      "npats = len(ndata['Patient ID'].unique())\n",
      "ltr_len = len(data['LTR-bin-align'].values[0])\n",
      "img_mat = np.ones((len(time_axis), ltr_len, npats))*np.nan\n",
      "\n",
      "\n",
      "for depth, (pat, df) in enumerate(ndata.groupby('Patient ID')):\n",
      "    \n",
      "    ndf = df.copy()\n",
      "    ndf.sort('DateFromImpaired')\n",
      "    #ltr_mat = np.vstack(ndf['LTR-bin-align'].values)\n",
      "    seqs = list(ndf['LTR-bin-align'].values)\n",
      "    nseqs = [seqs[0]] + seqs + [seqs[-1]]\n",
      "    times = list(ndf['DateFromImpaired'].values)\n",
      "    ntimes = [min_day] + times + [max_day]\n",
      "    \n",
      "    for start_time, stop_time, ltr in zip(ntimes, ntimes[1:], nseqs):\n",
      "        start_ind = int(start_time - min_day)\n",
      "        stop_ind = int(stop_time - min_day)\n",
      "        #print ntimes, start_time, start_ind, stop_time, stop_ind, ltr\n",
      "        #raise KeyError\n",
      "        img_mat[start_ind:stop_ind,:,depth] = ltr\n",
      "\n",
      "    #print ltr_mat\n",
      "    #raise KeyError\n",
      "        \n",
      "    \n",
      "    "
     ],
     "language": "python",
     "metadata": {},
     "outputs": [],
     "prompt_number": 211
    },
    {
     "cell_type": "code",
     "collapsed": false,
     "input": [
      "from scipy.stats import ttest_ind\n",
      "t_img = nanmean(img_mat, axis = 2)\n",
      "pre_mask = time_axis>0\n",
      "\n",
      "pvals = []\n",
      "for n in range(ltr_len):\n",
      "    pre_data = t_img[pre_mask, n]\n",
      "    post_data = t_img[~pre_mask, n]\n",
      "    if len(post_data)>5 and len(pre_data)>5:\n",
      "        _, pval = ttest_ind(pre_data[pre_data == pre_data], \n",
      "                            post_data[post_data == post_data])\n",
      "    else:\n",
      "        pval = np.nan\n",
      "    pvals.append(pval)\n",
      "pvals = np.array(pvals)"
     ],
     "language": "python",
     "metadata": {},
     "outputs": [],
     "prompt_number": 212
    },
    {
     "cell_type": "code",
     "collapsed": false,
     "input": [
      "from pylab import get_cmap\n",
      "plt.figure(figsize = (10,10))\n",
      "good_min = -24\n",
      "good_max = 24\n",
      "plot_mask = (time_axis > good_min) & (time_axis < good_max)\n",
      "\n",
      "tmp = pvals < 1e-30\n",
      "n_img = t_img.copy()\n",
      "n_img = n_img[plot_mask, :]\n",
      "n_img = n_img[:, tmp]\n",
      "ticks = np.where(tmp)\n",
      "\n",
      "plt.imshow(np.flipud(n_img), \n",
      "                interpolation = 'nearest', \n",
      "                cmap = get_cmap('gray'), \n",
      "                aspect = 'auto', vmin = 0, vmax = 1.0,\n",
      "                extent = (0, len(ticks[0]), good_max, good_min))\n",
      "plt.xticks(np.arange(0, len(ticks[0]), 20), ticks[0][::20], rotation=90)\n",
      "plt.colorbar()\n",
      "plt.ylabel('Months from Last Impaired visit');\n",
      "plt.xlabel('LTR pos');\n",
      "plt.title('Significant LTR')"
     ],
     "language": "python",
     "metadata": {},
     "outputs": [
      {
       "output_type": "pyout",
       "prompt_number": 224,
       "text": [
        "<matplotlib.text.Text at 0x5e3b7150>"
       ]
      },
      {
       "output_type": "display_data",
       "png": "[encoded data removed]"
      }
     ],
     "prompt_number": 224
    },
    {
     "cell_type": "code",
     "collapsed": false,
     "input": [
      "tmp = np.abs(np.diff(t_img, axis = 0)).sum(axis = 0)\n",
      "#print tmp\n",
      "plt.hist(tmp, bins = 50)\n"
     ],
     "language": "python",
     "metadata": {},
     "outputs": [
      {
       "output_type": "pyout",
       "prompt_number": 179,
       "text": [
        "(array([43, 35,  0, 19,  3, 34, 23,  0, 35, 15, 14, 23,  0, 15,  6, 11, 35,\n",
        "        0, 24, 16, 12, 17,  0, 43, 12, 22, 31,  0, 30,  1, 37, 17,  0, 16,\n",
        "        4,  2,  5,  0,  3,  0,  6,  2,  0,  8,  4,  0,  5,  0,  1,  1]),\n",
        " array([ 0.        ,  0.01666667,  0.03333333,  0.05      ,  0.06666667,\n",
        "        0.08333333,  0.1       ,  0.11666667,  0.13333333,  0.15      ,\n",
        "        0.16666667,  0.18333333,  0.2       ,  0.21666667,  0.23333333,\n",
        "        0.25      ,  0.26666667,  0.28333333,  0.3       ,  0.31666667,\n",
        "        0.33333333,  0.35      ,  0.36666667,  0.38333333,  0.4       ,\n",
        "        0.41666667,  0.43333333,  0.45      ,  0.46666667,  0.48333333,\n",
        "        0.5       ,  0.51666667,  0.53333333,  0.55      ,  0.56666667,\n",
        "        0.58333333,  0.6       ,  0.61666667,  0.63333333,  0.65      ,\n",
        "        0.66666667,  0.68333333,  0.7       ,  0.71666667,  0.73333333,\n",
        "        0.75      ,  0.76666667,  0.78333333,  0.8       ,  0.81666667,\n",
        "        0.83333333]),\n",
        " <a list of 50 Patch objects>)"
       ]
      },
      {
       "output_type": "display_data",
       "png": "[encoded data removed]"
      }
     ],
     "prompt_number": 179
    },
    {
     "cell_type": "code",
     "collapsed": false,
     "input": [
      "t_img.shape"
     ],
     "language": "python",
     "metadata": {},
     "outputs": [
      {
       "output_type": "pyout",
       "prompt_number": 182,
       "text": [
        "(48, 35)"
       ]
      }
     ],
     "prompt_number": 182
    },
    {
     "cell_type": "code",
     "collapsed": false,
     "input": [],
     "language": "python",
     "metadata": {},
     "outputs": []
    }
   ],
   "metadata": {}
  }
 ]
}