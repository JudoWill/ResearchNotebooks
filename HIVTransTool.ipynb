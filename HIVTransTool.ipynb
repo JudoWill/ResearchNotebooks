{
 "metadata": {
  "name": "HIVTransTool"
 },
 "nbformat": 3,
 "nbformat_minor": 0,
 "worksheets": [
  {
   "cells": [
    {
     "cell_type": "code",
     "collapsed": false,
     "input": [
      "from Bio import Seq\n",
      "from Bio import SeqIO\n",
      "import pandas as pd\n",
      "import numpy as np\n",
      "import sys\n",
      "import os\n",
      "sys.path.append('/home/will/PySeqUtils/')\n",
      "from GeneralSeqTools import fasta_reader, fasta_writer\n",
      "from HIVAlignTools import SeqTransformer, build_aligners"
     ],
     "language": "python",
     "metadata": {},
     "outputs": [],
     "prompt_number": 1
    },
    {
     "cell_type": "code",
     "collapsed": false,
     "input": [
      "import HIVAlignTools"
     ],
     "language": "python",
     "metadata": {},
     "outputs": [],
     "prompt_number": 2
    },
    {
     "cell_type": "code",
     "collapsed": false,
     "input": [
      "HIVAlignTools.build_aligners()"
     ],
     "language": "python",
     "metadata": {},
     "outputs": [
      {
       "output_type": "stream",
       "stream": "stdout",
       "text": [
        "gag\n",
        "Fitting 10 folds for each of 20 candidates, totalling 200 fits"
       ]
      },
      {
       "output_type": "stream",
       "stream": "stderr",
       "text": [
        "[Parallel(n_jobs=1)]: Done   1 jobs       | elapsed:   20.0s\n",
        "[Parallel(n_jobs=1)]: Done  50 jobs       | elapsed: 16.8min\n"
       ]
      },
      {
       "ename": "KeyboardInterrupt",
       "evalue": "",
       "output_type": "pyerr",
       "traceback": [
        "\u001b[1;31m---------------------------------------------------------------------------\u001b[0m\n\u001b[1;31mKeyboardInterrupt\u001b[0m                         Traceback (most recent call last)",
        "\u001b[1;32m<ipython-input-3-52ec053a8004>\u001b[0m in \u001b[0;36m<module>\u001b[1;34m()\u001b[0m\n\u001b[1;32m----> 1\u001b[1;33m \u001b[0mHIVAlignTools\u001b[0m\u001b[1;33m.\u001b[0m\u001b[0mbuild_aligners\u001b[0m\u001b[1;33m(\u001b[0m\u001b[1;33m)\u001b[0m\u001b[1;33m\u001b[0m\u001b[0m\n\u001b[0m",
        "\u001b[1;32m/home/will/PySeqUtils/HIVAlignTools.py\u001b[0m in \u001b[0;36mbuild_aligners\u001b[1;34m(base_path, verbose)\u001b[0m\n\u001b[0;32m    382\u001b[0m              'gp41', 'v3']\n\u001b[0;32m    383\u001b[0m     \u001b[1;32mfor\u001b[0m \u001b[0mprot\u001b[0m \u001b[1;32min\u001b[0m \u001b[0mprots\u001b[0m\u001b[1;33m:\u001b[0m\u001b[1;33m\u001b[0m\u001b[0m\n\u001b[1;32m--> 384\u001b[1;33m         \u001b[1;32mprint\u001b[0m \u001b[0mprot\u001b[0m\u001b[1;33m\u001b[0m\u001b[0m\n\u001b[0m\u001b[0;32m    385\u001b[0m         \u001b[0mpath\u001b[0m \u001b[1;33m=\u001b[0m \u001b[0mbase_path\u001b[0m\u001b[1;33m+\u001b[0m\u001b[0mprot\u001b[0m\u001b[1;33m\u001b[0m\u001b[0m\n\u001b[0;32m    386\u001b[0m         aligner = train_aligner(prot, path+'.fasta',\n",
        "\u001b[1;32m/home/will/PySeqUtils/HIVAlignTools.py\u001b[0m in \u001b[0;36mtrain_aligner\u001b[1;34m(prot, path, train_type, test_size, n_jobs, verbose)\u001b[0m\n\u001b[0;32m    363\u001b[0m                       \u001b[0mcv\u001b[0m\u001b[1;33m=\u001b[0m\u001b[0mcv\u001b[0m\u001b[1;33m,\u001b[0m\u001b[1;33m\u001b[0m\u001b[0m\n\u001b[0;32m    364\u001b[0m                       \u001b[0mn_jobs\u001b[0m\u001b[1;33m=\u001b[0m\u001b[0mn_jobs\u001b[0m\u001b[1;33m,\u001b[0m\u001b[1;33m\u001b[0m\u001b[0m\n\u001b[1;32m--> 365\u001b[1;33m                       \u001b[0mverbose\u001b[0m\u001b[1;33m=\u001b[0m\u001b[0mverbose\u001b[0m\u001b[1;33m,\u001b[0m\u001b[1;33m\u001b[0m\u001b[0m\n\u001b[0m\u001b[0;32m    366\u001b[0m                       refit=False)\n\u001b[0;32m    367\u001b[0m     \u001b[0mgd\u001b[0m\u001b[1;33m.\u001b[0m\u001b[0mfit\u001b[0m\u001b[1;33m(\u001b[0m\u001b[0mX\u001b[0m\u001b[1;33m,\u001b[0m \u001b[0my\u001b[0m\u001b[1;33m)\u001b[0m\u001b[1;33m\u001b[0m\u001b[0m\n",
        "\u001b[1;32m/usr/local/lib/python2.7/dist-packages/sklearn/grid_search.pyc\u001b[0m in \u001b[0;36mfit\u001b[1;34m(self, X, y, **params)\u001b[0m\n\u001b[0;32m    705\u001b[0m                           \u001b[1;34m\" The params argument will be removed in 0.15.\"\u001b[0m\u001b[1;33m,\u001b[0m\u001b[1;33m\u001b[0m\u001b[0m\n\u001b[0;32m    706\u001b[0m                           DeprecationWarning)\n\u001b[1;32m--> 707\u001b[1;33m         \u001b[1;32mreturn\u001b[0m \u001b[0mself\u001b[0m\u001b[1;33m.\u001b[0m\u001b[0m_fit\u001b[0m\u001b[1;33m(\u001b[0m\u001b[0mX\u001b[0m\u001b[1;33m,\u001b[0m \u001b[0my\u001b[0m\u001b[1;33m,\u001b[0m \u001b[0mParameterGrid\u001b[0m\u001b[1;33m(\u001b[0m\u001b[0mself\u001b[0m\u001b[1;33m.\u001b[0m\u001b[0mparam_grid\u001b[0m\u001b[1;33m)\u001b[0m\u001b[1;33m)\u001b[0m\u001b[1;33m\u001b[0m\u001b[0m\n\u001b[0m\u001b[0;32m    708\u001b[0m \u001b[1;33m\u001b[0m\u001b[0m\n\u001b[0;32m    709\u001b[0m \u001b[1;33m\u001b[0m\u001b[0m\n",
        "\u001b[1;32m/usr/local/lib/python2.7/dist-packages/sklearn/grid_search.pyc\u001b[0m in \u001b[0;36m_fit\u001b[1;34m(self, X, y, parameter_iterable)\u001b[0m\n\u001b[0;32m    491\u001b[0m                     \u001b[0mX\u001b[0m\u001b[1;33m,\u001b[0m \u001b[0my\u001b[0m\u001b[1;33m,\u001b[0m \u001b[0mbase_estimator\u001b[0m\u001b[1;33m,\u001b[0m \u001b[0mparameters\u001b[0m\u001b[1;33m,\u001b[0m \u001b[0mtrain\u001b[0m\u001b[1;33m,\u001b[0m \u001b[0mtest\u001b[0m\u001b[1;33m,\u001b[0m\u001b[1;33m\u001b[0m\u001b[0m\n\u001b[0;32m    492\u001b[0m                     self.scorer_, self.verbose, **self.fit_params)\n\u001b[1;32m--> 493\u001b[1;33m                 \u001b[1;32mfor\u001b[0m \u001b[0mparameters\u001b[0m \u001b[1;32min\u001b[0m \u001b[0mparameter_iterable\u001b[0m\u001b[1;33m\u001b[0m\u001b[0m\n\u001b[0m\u001b[0;32m    494\u001b[0m                 for train, test in cv)\n\u001b[0;32m    495\u001b[0m \u001b[1;33m\u001b[0m\u001b[0m\n",
        "\u001b[1;32m/usr/local/lib/python2.7/dist-packages/sklearn/externals/joblib/parallel.pyc\u001b[0m in \u001b[0;36m__call__\u001b[1;34m(self, iterable)\u001b[0m\n\u001b[0;32m    515\u001b[0m         \u001b[1;32mtry\u001b[0m\u001b[1;33m:\u001b[0m\u001b[1;33m\u001b[0m\u001b[0m\n\u001b[0;32m    516\u001b[0m             \u001b[1;32mfor\u001b[0m \u001b[0mfunction\u001b[0m\u001b[1;33m,\u001b[0m \u001b[0margs\u001b[0m\u001b[1;33m,\u001b[0m \u001b[0mkwargs\u001b[0m \u001b[1;32min\u001b[0m \u001b[0miterable\u001b[0m\u001b[1;33m:\u001b[0m\u001b[1;33m\u001b[0m\u001b[0m\n\u001b[1;32m--> 517\u001b[1;33m                 \u001b[0mself\u001b[0m\u001b[1;33m.\u001b[0m\u001b[0mdispatch\u001b[0m\u001b[1;33m(\u001b[0m\u001b[0mfunction\u001b[0m\u001b[1;33m,\u001b[0m \u001b[0margs\u001b[0m\u001b[1;33m,\u001b[0m \u001b[0mkwargs\u001b[0m\u001b[1;33m)\u001b[0m\u001b[1;33m\u001b[0m\u001b[0m\n\u001b[0m\u001b[0;32m    518\u001b[0m \u001b[1;33m\u001b[0m\u001b[0m\n\u001b[0;32m    519\u001b[0m             \u001b[0mself\u001b[0m\u001b[1;33m.\u001b[0m\u001b[0mretrieve\u001b[0m\u001b[1;33m(\u001b[0m\u001b[1;33m)\u001b[0m\u001b[1;33m\u001b[0m\u001b[0m\n",
        "\u001b[1;32m/usr/local/lib/python2.7/dist-packages/sklearn/externals/joblib/parallel.pyc\u001b[0m in \u001b[0;36mdispatch\u001b[1;34m(self, func, args, kwargs)\u001b[0m\n\u001b[0;32m    310\u001b[0m         \"\"\"\n\u001b[0;32m    311\u001b[0m         \u001b[1;32mif\u001b[0m \u001b[0mself\u001b[0m\u001b[1;33m.\u001b[0m\u001b[0m_pool\u001b[0m \u001b[1;32mis\u001b[0m \u001b[0mNone\u001b[0m\u001b[1;33m:\u001b[0m\u001b[1;33m\u001b[0m\u001b[0m\n\u001b[1;32m--> 312\u001b[1;33m             \u001b[0mjob\u001b[0m \u001b[1;33m=\u001b[0m \u001b[0mImmediateApply\u001b[0m\u001b[1;33m(\u001b[0m\u001b[0mfunc\u001b[0m\u001b[1;33m,\u001b[0m \u001b[0margs\u001b[0m\u001b[1;33m,\u001b[0m \u001b[0mkwargs\u001b[0m\u001b[1;33m)\u001b[0m\u001b[1;33m\u001b[0m\u001b[0m\n\u001b[0m\u001b[0;32m    313\u001b[0m             \u001b[0mindex\u001b[0m \u001b[1;33m=\u001b[0m \u001b[0mlen\u001b[0m\u001b[1;33m(\u001b[0m\u001b[0mself\u001b[0m\u001b[1;33m.\u001b[0m\u001b[0m_jobs\u001b[0m\u001b[1;33m)\u001b[0m\u001b[1;33m\u001b[0m\u001b[0m\n\u001b[0;32m    314\u001b[0m             \u001b[1;32mif\u001b[0m \u001b[1;32mnot\u001b[0m \u001b[0m_verbosity_filter\u001b[0m\u001b[1;33m(\u001b[0m\u001b[0mindex\u001b[0m\u001b[1;33m,\u001b[0m \u001b[0mself\u001b[0m\u001b[1;33m.\u001b[0m\u001b[0mverbose\u001b[0m\u001b[1;33m)\u001b[0m\u001b[1;33m:\u001b[0m\u001b[1;33m\u001b[0m\u001b[0m\n",
        "\u001b[1;32m/usr/local/lib/python2.7/dist-packages/sklearn/externals/joblib/parallel.pyc\u001b[0m in \u001b[0;36m__init__\u001b[1;34m(self, func, args, kwargs)\u001b[0m\n\u001b[0;32m    134\u001b[0m         \u001b[1;31m# Don't delay the application, to avoid keeping the input\u001b[0m\u001b[1;33m\u001b[0m\u001b[1;33m\u001b[0m\u001b[0m\n\u001b[0;32m    135\u001b[0m         \u001b[1;31m# arguments in memory\u001b[0m\u001b[1;33m\u001b[0m\u001b[1;33m\u001b[0m\u001b[0m\n\u001b[1;32m--> 136\u001b[1;33m         \u001b[0mself\u001b[0m\u001b[1;33m.\u001b[0m\u001b[0mresults\u001b[0m \u001b[1;33m=\u001b[0m \u001b[0mfunc\u001b[0m\u001b[1;33m(\u001b[0m\u001b[1;33m*\u001b[0m\u001b[0margs\u001b[0m\u001b[1;33m,\u001b[0m \u001b[1;33m**\u001b[0m\u001b[0mkwargs\u001b[0m\u001b[1;33m)\u001b[0m\u001b[1;33m\u001b[0m\u001b[0m\n\u001b[0m\u001b[0;32m    137\u001b[0m \u001b[1;33m\u001b[0m\u001b[0m\n\u001b[0;32m    138\u001b[0m     \u001b[1;32mdef\u001b[0m \u001b[0mget\u001b[0m\u001b[1;33m(\u001b[0m\u001b[0mself\u001b[0m\u001b[1;33m)\u001b[0m\u001b[1;33m:\u001b[0m\u001b[1;33m\u001b[0m\u001b[0m\n",
        "\u001b[1;32m/usr/local/lib/python2.7/dist-packages/sklearn/grid_search.pyc\u001b[0m in \u001b[0;36mfit_grid_point\u001b[1;34m(X, y, base_estimator, parameters, train, test, scorer, verbose, loss_func, **fit_params)\u001b[0m\n\u001b[0;32m    309\u001b[0m             \u001b[0mthis_score\u001b[0m \u001b[1;33m=\u001b[0m \u001b[0mscorer\u001b[0m\u001b[1;33m(\u001b[0m\u001b[0mclf\u001b[0m\u001b[1;33m,\u001b[0m \u001b[0mX_test\u001b[0m\u001b[1;33m,\u001b[0m \u001b[0my_test\u001b[0m\u001b[1;33m)\u001b[0m\u001b[1;33m\u001b[0m\u001b[0m\n\u001b[0;32m    310\u001b[0m         \u001b[1;32melse\u001b[0m\u001b[1;33m:\u001b[0m\u001b[1;33m\u001b[0m\u001b[0m\n\u001b[1;32m--> 311\u001b[1;33m             \u001b[0mthis_score\u001b[0m \u001b[1;33m=\u001b[0m \u001b[0mclf\u001b[0m\u001b[1;33m.\u001b[0m\u001b[0mscore\u001b[0m\u001b[1;33m(\u001b[0m\u001b[0mX_test\u001b[0m\u001b[1;33m,\u001b[0m \u001b[0my_test\u001b[0m\u001b[1;33m)\u001b[0m\u001b[1;33m\u001b[0m\u001b[0m\n\u001b[0m\u001b[0;32m    312\u001b[0m     \u001b[1;32melse\u001b[0m\u001b[1;33m:\u001b[0m\u001b[1;33m\u001b[0m\u001b[0m\n\u001b[0;32m    313\u001b[0m         \u001b[0mclf\u001b[0m\u001b[1;33m.\u001b[0m\u001b[0mfit\u001b[0m\u001b[1;33m(\u001b[0m\u001b[0mX_train\u001b[0m\u001b[1;33m,\u001b[0m \u001b[1;33m**\u001b[0m\u001b[0mfit_params\u001b[0m\u001b[1;33m)\u001b[0m\u001b[1;33m\u001b[0m\u001b[0m\n",
        "\u001b[1;32m/home/will/PySeqUtils/HIVAlignTools.py\u001b[0m in \u001b[0;36mscore\u001b[1;34m(self, X, y)\u001b[0m\n\u001b[0;32m    292\u001b[0m \u001b[1;33m\u001b[0m\u001b[0m\n\u001b[0;32m    293\u001b[0m         \u001b[0mempty_mask\u001b[0m \u001b[1;33m=\u001b[0m \u001b[0my\u001b[0m \u001b[1;33m==\u001b[0m \u001b[1;34m'XX'\u001b[0m\u001b[1;33m\u001b[0m\u001b[0m\n\u001b[1;32m--> 294\u001b[1;33m         \u001b[0mout_aligns\u001b[0m \u001b[1;33m=\u001b[0m \u001b[0mself\u001b[0m\u001b[1;33m.\u001b[0m\u001b[0mpredict\u001b[0m\u001b[1;33m(\u001b[0m\u001b[0mX\u001b[0m\u001b[1;33m)\u001b[0m\u001b[1;33m\u001b[0m\u001b[0m\n\u001b[0m\u001b[0;32m    295\u001b[0m \u001b[1;33m\u001b[0m\u001b[0m\n\u001b[0;32m    296\u001b[0m         \u001b[0mpos_scores\u001b[0m \u001b[1;33m=\u001b[0m \u001b[0mscore_seqs\u001b[0m\u001b[1;33m(\u001b[0m\u001b[0my\u001b[0m\u001b[1;33m[\u001b[0m\u001b[1;33m~\u001b[0m\u001b[0mempty_mask\u001b[0m\u001b[1;33m]\u001b[0m\u001b[1;33m,\u001b[0m \u001b[0mout_aligns\u001b[0m\u001b[1;33m[\u001b[0m\u001b[1;33m~\u001b[0m\u001b[0mempty_mask\u001b[0m\u001b[1;33m]\u001b[0m\u001b[1;33m)\u001b[0m\u001b[1;33m\u001b[0m\u001b[0m\n",
        "\u001b[1;32m/home/will/PySeqUtils/HIVAlignTools.py\u001b[0m in \u001b[0;36mpredict\u001b[1;34m(self, X)\u001b[0m\n\u001b[0;32m    272\u001b[0m                                      \u001b[0mmax_intron_length\u001b[0m\u001b[1;33m=\u001b[0m\u001b[0mself\u001b[0m\u001b[1;33m.\u001b[0m\u001b[0mmax_intron_length\u001b[0m\u001b[1;33m,\u001b[0m\u001b[1;33m\u001b[0m\u001b[0m\n\u001b[0;32m    273\u001b[0m                                      num_threads=self.num_threads)\n\u001b[1;32m--> 274\u001b[1;33m             \u001b[0mstdout\u001b[0m\u001b[1;33m,\u001b[0m \u001b[0mstderr\u001b[0m \u001b[1;33m=\u001b[0m \u001b[0mblastx_cline\u001b[0m\u001b[1;33m(\u001b[0m\u001b[1;33m)\u001b[0m\u001b[1;33m\u001b[0m\u001b[0m\n\u001b[0m\u001b[0;32m    275\u001b[0m \u001b[1;33m\u001b[0m\u001b[0m\n\u001b[0;32m    276\u001b[0m         \u001b[0mblast_records\u001b[0m \u001b[1;33m=\u001b[0m \u001b[0mNCBIXML\u001b[0m\u001b[1;33m.\u001b[0m\u001b[0mparse\u001b[0m\u001b[1;33m(\u001b[0m\u001b[0mStringIO\u001b[0m\u001b[1;33m(\u001b[0m\u001b[0mstdout\u001b[0m\u001b[1;33m)\u001b[0m\u001b[1;33m)\u001b[0m\u001b[1;33m\u001b[0m\u001b[0m\n",
        "\u001b[1;32m/usr/local/lib/python2.7/dist-packages/Bio/Application/__init__.pyc\u001b[0m in \u001b[0;36m__call__\u001b[1;34m(self, stdin, stdout, stderr, cwd, env)\u001b[0m\n\u001b[0;32m    434\u001b[0m                                          shell=(sys.platform!=\"win32\"))\n\u001b[0;32m    435\u001b[0m         \u001b[1;31m#Use .communicate as can get deadlocks with .wait(), see Bug 2804\u001b[0m\u001b[1;33m\u001b[0m\u001b[1;33m\u001b[0m\u001b[0m\n\u001b[1;32m--> 436\u001b[1;33m         \u001b[0mstdout_str\u001b[0m\u001b[1;33m,\u001b[0m \u001b[0mstderr_str\u001b[0m \u001b[1;33m=\u001b[0m \u001b[0mchild_process\u001b[0m\u001b[1;33m.\u001b[0m\u001b[0mcommunicate\u001b[0m\u001b[1;33m(\u001b[0m\u001b[0mstdin\u001b[0m\u001b[1;33m)\u001b[0m\u001b[1;33m\u001b[0m\u001b[0m\n\u001b[0m\u001b[0;32m    437\u001b[0m         \u001b[1;32mif\u001b[0m \u001b[1;32mnot\u001b[0m \u001b[0mstdout\u001b[0m\u001b[1;33m:\u001b[0m\u001b[1;33m\u001b[0m\u001b[0m\n\u001b[0;32m    438\u001b[0m             \u001b[1;32massert\u001b[0m \u001b[1;32mnot\u001b[0m \u001b[0mstdout_str\u001b[0m\u001b[1;33m\u001b[0m\u001b[0m\n",
        "\u001b[1;32m/usr/lib/python2.7/subprocess.pyc\u001b[0m in \u001b[0;36mcommunicate\u001b[1;34m(self, input)\u001b[0m\n\u001b[0;32m    752\u001b[0m             \u001b[1;32mreturn\u001b[0m \u001b[1;33m(\u001b[0m\u001b[0mstdout\u001b[0m\u001b[1;33m,\u001b[0m \u001b[0mstderr\u001b[0m\u001b[1;33m)\u001b[0m\u001b[1;33m\u001b[0m\u001b[0m\n\u001b[0;32m    753\u001b[0m \u001b[1;33m\u001b[0m\u001b[0m\n\u001b[1;32m--> 754\u001b[1;33m         \u001b[1;32mreturn\u001b[0m \u001b[0mself\u001b[0m\u001b[1;33m.\u001b[0m\u001b[0m_communicate\u001b[0m\u001b[1;33m(\u001b[0m\u001b[0minput\u001b[0m\u001b[1;33m)\u001b[0m\u001b[1;33m\u001b[0m\u001b[0m\n\u001b[0m\u001b[0;32m    755\u001b[0m \u001b[1;33m\u001b[0m\u001b[0m\n\u001b[0;32m    756\u001b[0m \u001b[1;33m\u001b[0m\u001b[0m\n",
        "\u001b[1;32m/usr/lib/python2.7/subprocess.pyc\u001b[0m in \u001b[0;36m_communicate\u001b[1;34m(self, input)\u001b[0m\n\u001b[0;32m   1310\u001b[0m \u001b[1;33m\u001b[0m\u001b[0m\n\u001b[0;32m   1311\u001b[0m             \u001b[1;32mif\u001b[0m \u001b[0m_has_poll\u001b[0m\u001b[1;33m:\u001b[0m\u001b[1;33m\u001b[0m\u001b[0m\n\u001b[1;32m-> 1312\u001b[1;33m                 \u001b[0mstdout\u001b[0m\u001b[1;33m,\u001b[0m \u001b[0mstderr\u001b[0m \u001b[1;33m=\u001b[0m \u001b[0mself\u001b[0m\u001b[1;33m.\u001b[0m\u001b[0m_communicate_with_poll\u001b[0m\u001b[1;33m(\u001b[0m\u001b[0minput\u001b[0m\u001b[1;33m)\u001b[0m\u001b[1;33m\u001b[0m\u001b[0m\n\u001b[0m\u001b[0;32m   1313\u001b[0m             \u001b[1;32melse\u001b[0m\u001b[1;33m:\u001b[0m\u001b[1;33m\u001b[0m\u001b[0m\n\u001b[0;32m   1314\u001b[0m                 \u001b[0mstdout\u001b[0m\u001b[1;33m,\u001b[0m \u001b[0mstderr\u001b[0m \u001b[1;33m=\u001b[0m \u001b[0mself\u001b[0m\u001b[1;33m.\u001b[0m\u001b[0m_communicate_with_select\u001b[0m\u001b[1;33m(\u001b[0m\u001b[0minput\u001b[0m\u001b[1;33m)\u001b[0m\u001b[1;33m\u001b[0m\u001b[0m\n",
        "\u001b[1;32m/usr/lib/python2.7/subprocess.pyc\u001b[0m in \u001b[0;36m_communicate_with_poll\u001b[1;34m(self, input)\u001b[0m\n\u001b[0;32m   1364\u001b[0m             \u001b[1;32mwhile\u001b[0m \u001b[0mfd2file\u001b[0m\u001b[1;33m:\u001b[0m\u001b[1;33m\u001b[0m\u001b[0m\n\u001b[0;32m   1365\u001b[0m                 \u001b[1;32mtry\u001b[0m\u001b[1;33m:\u001b[0m\u001b[1;33m\u001b[0m\u001b[0m\n\u001b[1;32m-> 1366\u001b[1;33m                     \u001b[0mready\u001b[0m \u001b[1;33m=\u001b[0m \u001b[0mpoller\u001b[0m\u001b[1;33m.\u001b[0m\u001b[0mpoll\u001b[0m\u001b[1;33m(\u001b[0m\u001b[1;33m)\u001b[0m\u001b[1;33m\u001b[0m\u001b[0m\n\u001b[0m\u001b[0;32m   1367\u001b[0m                 \u001b[1;32mexcept\u001b[0m \u001b[0mselect\u001b[0m\u001b[1;33m.\u001b[0m\u001b[0merror\u001b[0m\u001b[1;33m,\u001b[0m \u001b[0me\u001b[0m\u001b[1;33m:\u001b[0m\u001b[1;33m\u001b[0m\u001b[0m\n\u001b[0;32m   1368\u001b[0m                     \u001b[1;32mif\u001b[0m \u001b[0me\u001b[0m\u001b[1;33m.\u001b[0m\u001b[0margs\u001b[0m\u001b[1;33m[\u001b[0m\u001b[1;36m0\u001b[0m\u001b[1;33m]\u001b[0m \u001b[1;33m==\u001b[0m \u001b[0merrno\u001b[0m\u001b[1;33m.\u001b[0m\u001b[0mEINTR\u001b[0m\u001b[1;33m:\u001b[0m\u001b[1;33m\u001b[0m\u001b[0m\n",
        "\u001b[1;31mKeyboardInterrupt\u001b[0m: "
       ]
      },
      {
       "output_type": "stream",
       "stream": "stdout",
       "text": [
        "\n"
       ]
      }
     ],
     "prompt_number": 3
    },
    {
     "cell_type": "code",
     "collapsed": false,
     "input": [
      "import shlex\n",
      "from subprocess import check_call\n",
      "\n",
      "def score_seq(known, guess, gapopen=10, gapextend=1):\n",
      "    \n",
      "    cmd = 'needle -asequence %(cb)s -bsequence %(seq)s -aformat score -gapopen %(go)f -gapextend %(ge)s -outfile %(out)s'\n",
      "    with NamedTemporaryFile() as conb_handle:\n",
      "        fasta_writer(conb_handle, [('SeqA', known)])\n",
      "        conb_handle.flush()\n",
      "        os.fsync(conb_handle.fileno())\n",
      "        with NamedTemporaryFile() as seq_handle:\n",
      "            fasta_writer(seq_handle, [('Seq1', guess)])\n",
      "            seq_handle.flush()\n",
      "            os.fsync(seq_handle.fileno())\n",
      "            with NamedTemporaryFile() as out_handle:\n",
      "                param_dict = {\n",
      "                              'cb':conb_handle.name,\n",
      "                              'seq':seq_handle.name,\n",
      "                              'out':out_handle.name,\n",
      "                              'go':gapopen,\n",
      "                              'ge':gapextend\n",
      "                              }\n",
      "                cmd_list = shlex.split(cmd % param_dict)\n",
      "                check_call(cmd_list)\n",
      "                for line in out_handle:\n",
      "                    parts = line.split()\n",
      "                    if (len(parts) == 4):\n",
      "                        return float(parts[-1][1:-2])\n",
      "    \n",
      "\n",
      "\n",
      "def score_seqs(known_seqs, guess_seqs, gapopen=10, gapextend=1):\n",
      "    \n",
      "    score = 0.0\n",
      "    for ind in range(known_seqs.shape[0]):\n",
      "        score += score_seq(known_seqs[ind], guess_seqs[ind],\n",
      "                           gapopen=gapopen, gapextend=gapextend)\n",
      "    return score\n",
      "\n",
      "\n",
      "\n",
      "    "
     ],
     "language": "python",
     "metadata": {},
     "outputs": [],
     "prompt_number": 11
    },
    {
     "cell_type": "code",
     "collapsed": false,
     "input": [
      "from sklearn.base import BaseEstimator, ClusterMixin\n",
      "from tempfile import NamedTemporaryFile\n",
      "from Bio.SubsMat import MatrixInfo as matlist\n",
      "from Bio.Blast import NCBIXML\n",
      "from StringIO import StringIO\n",
      "from Bio.Blast.Applications import NcbiblastxCommandline, NcbiblastnCommandline\n",
      "\n",
      "\n",
      "class BlastAligner(BaseEstimator, ClusterMixin):\n",
      "    \n",
      "    def __init__(self, evalue=10, word_size=2, gapopen=11, gapextend=1, \n",
      "                 max_intron_length = 20, tmp_path = '/tmp/', result_type = 'aa',\n",
      "                 db_path=NamedTemporaryFile(suffix='.fasta').name, num_threads=1):\n",
      "        self.evalue = evalue\n",
      "        self.word_size = word_size\n",
      "        self.gapopen = gapopen\n",
      "        self.gapextend = gapextend\n",
      "        self.max_intron_length = max_intron_length\n",
      "        self.tmp_path = tmp_path\n",
      "        self.result_type = result_type\n",
      "        self.db_path = db_path\n",
      "        self.num_threads = num_threads\n",
      "    \n",
      "    def _write_seqs(self, X, handle):\n",
      "        \n",
      "        seqs = []\n",
      "        for row in range(X.shape[0]):\n",
      "            seq = ''.join(X[row])\n",
      "            seqs.append(('Seq-%03i' % row, ''.join(l for l in seq if l.isalpha())))\n",
      "            \n",
      "        fasta_writer(handle, seqs)\n",
      "        handle.flush()\n",
      "        os.fsync(handle.fileno())\n",
      "    \n",
      "    \n",
      "    def fit(self, X, y):\n",
      "        \n",
      "        \n",
      "        empty_mask = y == 'XX'\n",
      "        \n",
      "        with open(self.db_path, 'w') as handle:\n",
      "            self._write_seqs(y[~empty_mask], handle)\n",
      "        cmd = 'makeblastdb -in %s -dbtype ' % self.db_path\n",
      "        if self.result_type == 'aa':\n",
      "            cmd += 'prot'\n",
      "        else:\n",
      "            cmd += 'nucl'\n",
      "        \n",
      "        check_call(shlex.split(cmd))\n",
      "        \n",
      "        \n",
      "        return self\n",
      "   \n",
      "    \n",
      "    def predict(self, X):\n",
      "        \n",
      "        if self.result_type == 'aa':\n",
      "            blast_cmd = NcbiblastxCommandline\n",
      "        else:\n",
      "            blast_cmd = NcbiblastnCommandline\n",
      "        \n",
      "        \n",
      "        with NamedTemporaryFile(dir=self.tmp_path, delete=True) as fasta_handle:    \n",
      "            self._write_seqs(X, fasta_handle)\n",
      "            blastx_cline = blast_cmd(query=fasta_handle.name,\n",
      "                                     db = self.db_path, outfmt=5, \n",
      "                                     out = '-',\n",
      "                                     evalue=self.evalue,\n",
      "                                     word_size=self.word_size,\n",
      "                                     gapopen=self.gapopen,\n",
      "                                     gapextend=self.gapextend,\n",
      "                                     max_intron_length=self.max_intron_length,\n",
      "                                     num_threads=self.num_threads)\n",
      "            stdout, stderr = blastx_cline()\n",
      "        \n",
      "        blast_records = NCBIXML.parse(StringIO(stdout))\n",
      "        seqs = []\n",
      "        names = []\n",
      "        prots = []\n",
      "        for rec in blast_records:\n",
      "            for align in rec.alignments:\n",
      "                hsp = align.hsps[0]\n",
      "                prots.append({\n",
      "                              'ID':rec.query,\n",
      "                              'Seq':hsp.query\n",
      "                              })\n",
      "        blast_out = pd.DataFrame(prots).groupby('ID')['Seq'].first()\n",
      "        wanted_out = pd.DataFrame({\n",
      "                                   'ID':['Seq-%03i' % i for i in range(X.shape[0])],\n",
      "                                   'want_seq':[True]*X.shape[0],\n",
      "                                   }).groupby('ID')['want_seq'].first()\n",
      "        out, _ = blast_out.align(wanted_out, join='right')\n",
      "        \n",
      "        return SeqTransformer().transform(out.fillna('XX').values)\n",
      "    \n",
      "    def score(self, X, y):\n",
      "        \n",
      "        empty_mask = y == 'XX'\n",
      "        out_aligns = self.predict(X)\n",
      "        \n",
      "        pos_scores = score_seqs(y[~empty_mask], out_aligns[~empty_mask])\n",
      "        bad_scores = score_seqs(out_aligns[empty_mask], out_aligns[empty_mask])\n",
      "        return (pos_scores - bad_scores)/y.shape[0]\n",
      "        "
     ],
     "language": "python",
     "metadata": {},
     "outputs": [],
     "prompt_number": 12
    },
    {
     "cell_type": "code",
     "collapsed": false,
     "input": [
      "neg_controls = {\n",
      "                'env':['gag', 'pol', 'vif', 'vpr', 'ltr'],\n",
      "                'gag':['ltr', 'vif', 'vpr', 'vpu', 'tat', 'rev', 'env'],\n",
      "                #'ltr':['gag', 'pol', 'vpr', 'vpu', 'env'],\n",
      "                'nef':['pol', 'gag', 'vpu', 'tat'],\n",
      "                'pol':['env', 'vpr', 'vpu', 'nef', 'rev', 'ltr'],\n",
      "                'rev':['ltr', 'gag', 'pol', 'vif', 'nef'],\n",
      "                'tat':['ltr', 'pol', 'vif', 'nef'],\n",
      "                'vif':['ltr', 'tat', 'vpu', 'rev', 'env', 'nef'],\n",
      "                'vpr':['ltr', 'gag', 'pol', 'rev', 'env', 'nef'],\n",
      "                'vpu':['ltr', 'gag', 'pol', 'vif', 'vpr', 'nef'],\n",
      "                }"
     ],
     "language": "python",
     "metadata": {},
     "outputs": [],
     "prompt_number": 13
    },
    {
     "cell_type": "code",
     "collapsed": false,
     "input": [
      "def get_seq(prot_name, typ):\n",
      "    trans_path = '/home/will/PySeqUtils/TransToolStuff/'\n",
      "    tmp = 'HIV1_ALL_2012_%s_%s.fasta' % (prot_name.lower(), typ.upper())\n",
      "    with open(trans_path + tmp) as handle:\n",
      "        return SeqTransformer.get_from_fasta_handle(handle)\n",
      "\n",
      "\n",
      "pos_names, pos_X = get_seq('genome', 'DNA')\n",
      "env_names, env_y = get_seq('env', 'pro')\n",
      "neg_names = []\n",
      "neg_X = None\n",
      "for neg_prot in neg_controls['env']:\n",
      "    tnames, tx = get_seq(neg_prot, 'DNA')\n",
      "    neg_names += tnames\n",
      "    if neg_X is None:\n",
      "        neg_X = tx.copy()\n",
      "    else:\n",
      "        neg_X = np.concatenate((neg_X, tx))\n",
      "    \n",
      "    "
     ],
     "language": "python",
     "metadata": {},
     "outputs": [],
     "prompt_number": 5
    },
    {
     "cell_type": "code",
     "collapsed": false,
     "input": [
      "pos_X_ser = pd.Series(pos_X, index=pos_names)\n",
      "env_y_ser = pd.Series(env_y, index=env_names)\n",
      "\n",
      "X_ser, y_ser = pos_X_ser.align(env_y_ser, join='inner')\n",
      "X = X_ser.values\n",
      "y = y_ser.values\n",
      "in_env = set(env_names)\n",
      "neg_inds = [num for num, name in enumerate(neg_names) if name not in in_env]\n",
      "wneg_X = neg_X[neg_inds]\n",
      "wneg_y = np.array(['XX']*wneg_X.shape[0])\n",
      "\n",
      "print X.shape, y.shape, wneg_X.shape, wneg_y.shape\n"
     ],
     "language": "python",
     "metadata": {},
     "outputs": [
      {
       "output_type": "stream",
       "stream": "stdout",
       "text": [
        "(1984,) (1984,) (6782,) (6782,)\n"
       ]
      }
     ],
     "prompt_number": 6
    },
    {
     "cell_type": "code",
     "collapsed": false,
     "input": [
      "Xall = np.concatenate((X, wneg_X))\n",
      "yall = np.concatenate((y, wneg_y))\n",
      "\n",
      "yclass = yall == 'XX'"
     ],
     "language": "python",
     "metadata": {},
     "outputs": [],
     "prompt_number": 7
    },
    {
     "cell_type": "code",
     "collapsed": false,
     "input": [
      "from sklearn.cross_validation import train_test_split, StratifiedKFold, cross_val_score, StratifiedShuffleSplit\n",
      "from sklearn.grid_search import GridSearchCV\n",
      "\n",
      "param_dict = {'evalue':np.logspace(-100, 1, 20)}\n",
      "\n",
      "cv = StratifiedShuffleSplit(yclass, n_iter=3, test_size=500, train_size=100)\n",
      "aligner = BlastAligner(num_threads=100)\n",
      "gd = GridSearchCV(aligner, param_dict, refit=False, cv=cv, verbose=5)\n",
      "gd.fit(Xall, yall)\n"
     ],
     "language": "python",
     "metadata": {},
     "outputs": [
      {
       "output_type": "stream",
       "stream": "stdout",
       "text": [
        "Fitting 3 folds for each of 20 candidates, totalling 60 fits\n",
        "[GridSearchCV] evalue=1e-100 ...................................................\n",
        "[GridSearchCV] ........................ evalue=1e-100, score=928.680000 -   3.4s"
       ]
      },
      {
       "output_type": "stream",
       "stream": "stdout",
       "text": [
        "\n",
        "[GridSearchCV] evalue=1e-100 ...................................................\n",
        "[GridSearchCV] ........................ evalue=1e-100, score=931.140000 -   3.4s"
       ]
      },
      {
       "output_type": "stream",
       "stream": "stdout",
       "text": [
        "\n",
        "[GridSearchCV] evalue=1e-100 ...................................................\n",
        "[GridSearchCV] ........................ evalue=1e-100, score=919.860000 -   3.5s"
       ]
      },
      {
       "output_type": "stream",
       "stream": "stdout",
       "text": [
        "\n",
        "[GridSearchCV] evalue=2.06913808111e-95 ........................................\n",
        "[GridSearchCV] ............. evalue=2.06913808111e-95, score=922.960000 -   3.4s"
       ]
      },
      {
       "output_type": "stream",
       "stream": "stdout",
       "text": [
        "\n",
        "[GridSearchCV] evalue=2.06913808111e-95 ........................................\n",
        "[GridSearchCV] ............. evalue=2.06913808111e-95, score=934.160000 -   3.5s"
       ]
      },
      {
       "output_type": "stream",
       "stream": "stdout",
       "text": [
        "\n",
        "[GridSearchCV] evalue=2.06913808111e-95 ........................................\n",
        "[GridSearchCV] ............. evalue=2.06913808111e-95, score=916.580000 -   3.4s"
       ]
      },
      {
       "output_type": "stream",
       "stream": "stdout",
       "text": [
        "\n",
        "[GridSearchCV] evalue=4.28133239872e-90 ........................................\n",
        "[GridSearchCV] ............. evalue=4.28133239872e-90, score=935.020000 -   3.5s"
       ]
      },
      {
       "output_type": "stream",
       "stream": "stdout",
       "text": [
        "\n",
        "[GridSearchCV] evalue=4.28133239872e-90 ........................................\n",
        "[GridSearchCV] ............. evalue=4.28133239872e-90, score=930.240000 -   3.4s"
       ]
      },
      {
       "output_type": "stream",
       "stream": "stdout",
       "text": [
        "\n",
        "[GridSearchCV] evalue=4.28133239872e-90 ........................................\n",
        "[GridSearchCV] ............. evalue=4.28133239872e-90, score=920.000000 -   3.5s"
       ]
      },
      {
       "output_type": "stream",
       "stream": "stdout",
       "text": [
        "\n",
        "[GridSearchCV] evalue=8.8586679041e-85 .........................................\n",
        "[GridSearchCV] .............. evalue=8.8586679041e-85, score=916.820000 -   3.4s"
       ]
      },
      {
       "output_type": "stream",
       "stream": "stdout",
       "text": [
        "\n",
        "[GridSearchCV] evalue=8.8586679041e-85 .........................................\n",
        "[GridSearchCV] .............. evalue=8.8586679041e-85, score=940.280000 -   3.4s"
       ]
      },
      {
       "output_type": "stream",
       "stream": "stdout",
       "text": [
        "\n",
        "[GridSearchCV] evalue=8.8586679041e-85 .........................................\n",
        "[GridSearchCV] .............. evalue=8.8586679041e-85, score=914.180000 -   3.5s"
       ]
      },
      {
       "output_type": "stream",
       "stream": "stdout",
       "text": [
        "\n",
        "[GridSearchCV] evalue=1.83298071083e-79 ........................................\n",
        "[GridSearchCV] ............. evalue=1.83298071083e-79, score=927.200000 -   3.3s"
       ]
      },
      {
       "output_type": "stream",
       "stream": "stdout",
       "text": [
        "\n",
        "[GridSearchCV] evalue=1.83298071083e-79 ........................................\n",
        "[GridSearchCV] ............. evalue=1.83298071083e-79, score=874.660000 -   3.4s"
       ]
      },
      {
       "output_type": "stream",
       "stream": "stdout",
       "text": [
        "\n",
        "[GridSearchCV] evalue=1.83298071083e-79 ........................................\n",
        "[GridSearchCV] ............. evalue=1.83298071083e-79, score=894.420000 -   3.6s"
       ]
      },
      {
       "output_type": "stream",
       "stream": "stdout",
       "text": [
        "\n",
        "[GridSearchCV] evalue=3.79269019073e-74 ........................................\n",
        "[GridSearchCV] ............. evalue=3.79269019073e-74, score=933.620000 -   3.4s"
       ]
      },
      {
       "output_type": "stream",
       "stream": "stdout",
       "text": [
        "\n",
        "[GridSearchCV] evalue=3.79269019073e-74 ........................................\n",
        "[GridSearchCV] ............. evalue=3.79269019073e-74, score=897.940000 -   3.4s"
       ]
      },
      {
       "output_type": "stream",
       "stream": "stdout",
       "text": [
        "\n",
        "[GridSearchCV] evalue=3.79269019073e-74 ........................................\n",
        "[GridSearchCV] ............. evalue=3.79269019073e-74, score=940.380000 -   3.5s"
       ]
      },
      {
       "output_type": "stream",
       "stream": "stderr",
       "text": [
        "[Parallel(n_jobs=1)]: Done   1 jobs       | elapsed:    3.4s\n",
        "[Parallel(n_jobs=1)]: Done  18 jobs       | elapsed:  1.0min\n"
       ]
      },
      {
       "output_type": "stream",
       "stream": "stdout",
       "text": [
        "\n",
        "[GridSearchCV] evalue=7.84759970351e-69 ........................................\n",
        "[GridSearchCV] ............. evalue=7.84759970351e-69, score=881.360000 -   3.4s"
       ]
      },
      {
       "output_type": "stream",
       "stream": "stdout",
       "text": [
        "\n",
        "[GridSearchCV] evalue=7.84759970351e-69 ........................................\n",
        "[GridSearchCV] ............. evalue=7.84759970351e-69, score=921.060000 -   3.6s"
       ]
      },
      {
       "output_type": "stream",
       "stream": "stdout",
       "text": [
        "\n",
        "[GridSearchCV] evalue=7.84759970351e-69 ........................................\n",
        "[GridSearchCV] ............. evalue=7.84759970351e-69, score=939.420000 -   3.4s"
       ]
      },
      {
       "output_type": "stream",
       "stream": "stdout",
       "text": [
        "\n",
        "[GridSearchCV] evalue=1.62377673919e-63 ........................................\n",
        "[GridSearchCV] ............. evalue=1.62377673919e-63, score=935.060000 -   3.5s"
       ]
      },
      {
       "output_type": "stream",
       "stream": "stdout",
       "text": [
        "\n",
        "[GridSearchCV] evalue=1.62377673919e-63 ........................................\n",
        "[GridSearchCV] ............. evalue=1.62377673919e-63, score=895.600000 -   3.5s"
       ]
      },
      {
       "output_type": "stream",
       "stream": "stdout",
       "text": [
        "\n",
        "[GridSearchCV] evalue=1.62377673919e-63 ........................................\n",
        "[GridSearchCV] ............. evalue=1.62377673919e-63, score=932.520000 -   3.4s"
       ]
      },
      {
       "output_type": "stream",
       "stream": "stdout",
       "text": [
        "\n",
        "[GridSearchCV] evalue=3.35981828628e-58 ........................................\n",
        "[GridSearchCV] ............. evalue=3.35981828628e-58, score=922.300000 -   3.5s"
       ]
      },
      {
       "output_type": "stream",
       "stream": "stdout",
       "text": [
        "\n",
        "[GridSearchCV] evalue=3.35981828628e-58 ........................................\n",
        "[GridSearchCV] ............. evalue=3.35981828628e-58, score=928.860000 -   3.4s"
       ]
      },
      {
       "output_type": "stream",
       "stream": "stdout",
       "text": [
        "\n",
        "[GridSearchCV] evalue=3.35981828628e-58 ........................................\n",
        "[GridSearchCV] ............. evalue=3.35981828628e-58, score=903.040000 -   3.5s"
       ]
      },
      {
       "output_type": "stream",
       "stream": "stdout",
       "text": [
        "\n",
        "[GridSearchCV] evalue=6.95192796178e-53 ........................................\n",
        "[GridSearchCV] ............. evalue=6.95192796178e-53, score=922.240000 -   3.5s"
       ]
      },
      {
       "output_type": "stream",
       "stream": "stdout",
       "text": [
        "\n",
        "[GridSearchCV] evalue=6.95192796178e-53 ........................................\n",
        "[GridSearchCV] ............. evalue=6.95192796178e-53, score=932.340000 -   3.4s"
       ]
      },
      {
       "output_type": "stream",
       "stream": "stdout",
       "text": [
        "\n",
        "[GridSearchCV] evalue=6.95192796178e-53 ........................................\n",
        "[GridSearchCV] ............. evalue=6.95192796178e-53, score=882.340000 -   3.4s"
       ]
      },
      {
       "output_type": "stream",
       "stream": "stdout",
       "text": [
        "\n",
        "[GridSearchCV] evalue=1.43844988829e-47 ........................................\n",
        "[GridSearchCV] ............. evalue=1.43844988829e-47, score=884.720000 -   3.4s"
       ]
      },
      {
       "output_type": "stream",
       "stream": "stdout",
       "text": [
        "\n",
        "[GridSearchCV] evalue=1.43844988829e-47 ........................................\n",
        "[GridSearchCV] ............. evalue=1.43844988829e-47, score=896.180000 -   3.5s"
       ]
      },
      {
       "output_type": "stream",
       "stream": "stdout",
       "text": [
        "\n",
        "[GridSearchCV] evalue=1.43844988829e-47 ........................................\n",
        "[GridSearchCV] ............. evalue=1.43844988829e-47, score=922.260000 -   3.4s"
       ]
      },
      {
       "output_type": "stream",
       "stream": "stdout",
       "text": [
        "\n",
        "[GridSearchCV] evalue=2.97635144163e-42 ........................................\n",
        "[GridSearchCV] ............. evalue=2.97635144163e-42, score=914.900000 -   3.5s"
       ]
      },
      {
       "output_type": "stream",
       "stream": "stdout",
       "text": [
        "\n",
        "[GridSearchCV] evalue=2.97635144163e-42 ........................................\n",
        "[GridSearchCV] ............. evalue=2.97635144163e-42, score=914.460000 -   3.5s"
       ]
      },
      {
       "output_type": "stream",
       "stream": "stdout",
       "text": [
        "\n",
        "[GridSearchCV] evalue=2.97635144163e-42 ........................................\n",
        "[GridSearchCV] ............. evalue=2.97635144163e-42, score=934.300000 -   3.4s"
       ]
      },
      {
       "output_type": "stream",
       "stream": "stdout",
       "text": [
        "\n",
        "[GridSearchCV] evalue=6.15848211066e-37 ........................................\n",
        "[GridSearchCV] ............. evalue=6.15848211066e-37, score=891.680000 -   3.4s"
       ]
      },
      {
       "output_type": "stream",
       "stream": "stdout",
       "text": [
        "\n",
        "[GridSearchCV] evalue=6.15848211066e-37 ........................................\n",
        "[GridSearchCV] ............. evalue=6.15848211066e-37, score=943.400000 -   3.5s"
       ]
      },
      {
       "output_type": "stream",
       "stream": "stdout",
       "text": [
        "\n",
        "[GridSearchCV] evalue=6.15848211066e-37 ........................................\n",
        "[GridSearchCV] ............. evalue=6.15848211066e-37, score=930.080000 -   3.4s"
       ]
      },
      {
       "output_type": "stream",
       "stream": "stdout",
       "text": [
        "\n",
        "[GridSearchCV] evalue=1.2742749857e-31 .........................................\n",
        "[GridSearchCV] .............. evalue=1.2742749857e-31, score=922.320000 -   3.4s"
       ]
      },
      {
       "output_type": "stream",
       "stream": "stdout",
       "text": [
        "\n",
        "[GridSearchCV] evalue=1.2742749857e-31 .........................................\n",
        "[GridSearchCV] .............. evalue=1.2742749857e-31, score=877.680000 -   3.5s"
       ]
      },
      {
       "output_type": "stream",
       "stream": "stdout",
       "text": [
        "\n",
        "[GridSearchCV] evalue=1.2742749857e-31 .........................................\n",
        "[GridSearchCV] .............. evalue=1.2742749857e-31, score=907.720000 -   3.4s"
       ]
      },
      {
       "output_type": "stream",
       "stream": "stdout",
       "text": [
        "\n",
        "[GridSearchCV] evalue=2.63665089873e-26 ........................................\n",
        "[GridSearchCV] ............. evalue=2.63665089873e-26, score=923.040000 -   3.4s"
       ]
      },
      {
       "output_type": "stream",
       "stream": "stdout",
       "text": [
        "\n",
        "[GridSearchCV] evalue=2.63665089873e-26 ........................................\n",
        "[GridSearchCV] ............. evalue=2.63665089873e-26, score=925.020000 -   3.5s"
       ]
      },
      {
       "output_type": "stream",
       "stream": "stdout",
       "text": [
        "\n",
        "[GridSearchCV] evalue=2.63665089873e-26 ........................................\n",
        "[GridSearchCV] ............. evalue=2.63665089873e-26, score=939.060000 -   3.4s"
       ]
      },
      {
       "output_type": "stream",
       "stream": "stdout",
       "text": [
        "\n",
        "[GridSearchCV] evalue=5.45559478117e-21 ........................................\n",
        "[GridSearchCV] ............. evalue=5.45559478117e-21, score=892.540000 -   3.4s"
       ]
      },
      {
       "output_type": "stream",
       "stream": "stdout",
       "text": [
        "\n",
        "[GridSearchCV] evalue=5.45559478117e-21 ........................................\n",
        "[GridSearchCV] ............. evalue=5.45559478117e-21, score=923.700000 -   3.5s"
       ]
      },
      {
       "output_type": "stream",
       "stream": "stdout",
       "text": [
        "\n",
        "[GridSearchCV] evalue=5.45559478117e-21 ........................................\n",
        "[GridSearchCV] ............. evalue=5.45559478117e-21, score=934.220000 -   3.4s"
       ]
      },
      {
       "output_type": "stream",
       "stream": "stdout",
       "text": [
        "\n",
        "[GridSearchCV] evalue=1.12883789168e-15 ........................................\n",
        "[GridSearchCV] ............. evalue=1.12883789168e-15, score=951.900000 -   3.4s"
       ]
      },
      {
       "output_type": "stream",
       "stream": "stdout",
       "text": [
        "\n",
        "[GridSearchCV] evalue=1.12883789168e-15 ........................................\n",
        "[GridSearchCV] ............. evalue=1.12883789168e-15, score=946.220000 -   3.5s"
       ]
      },
      {
       "output_type": "stream",
       "stream": "stdout",
       "text": [
        "\n",
        "[GridSearchCV] evalue=1.12883789168e-15 ........................................\n",
        "[GridSearchCV] ............. evalue=1.12883789168e-15, score=902.500000 -   3.4s"
       ]
      },
      {
       "output_type": "stream",
       "stream": "stdout",
       "text": [
        "\n",
        "[GridSearchCV] evalue=2.33572146909e-10 ........................................\n",
        "[GridSearchCV] ............. evalue=2.33572146909e-10, score=938.820000 -   3.4s"
       ]
      },
      {
       "output_type": "stream",
       "stream": "stdout",
       "text": [
        "\n",
        "[GridSearchCV] evalue=2.33572146909e-10 ........................................\n",
        "[GridSearchCV] ............. evalue=2.33572146909e-10, score=893.400000 -   3.4s"
       ]
      },
      {
       "output_type": "stream",
       "stream": "stdout",
       "text": [
        "\n",
        "[GridSearchCV] evalue=2.33572146909e-10 ........................................\n",
        "[GridSearchCV] ............. evalue=2.33572146909e-10, score=917.560000 -   3.4s"
       ]
      },
      {
       "output_type": "stream",
       "stream": "stdout",
       "text": [
        "\n",
        "[GridSearchCV] evalue=4.83293023857e-05 ........................................\n",
        "[GridSearchCV] ............. evalue=4.83293023857e-05, score=920.520000 -   3.4s"
       ]
      },
      {
       "output_type": "stream",
       "stream": "stdout",
       "text": [
        "\n",
        "[GridSearchCV] evalue=4.83293023857e-05 ........................................\n",
        "[GridSearchCV] ............. evalue=4.83293023857e-05, score=942.780000 -   3.3s"
       ]
      },
      {
       "output_type": "stream",
       "stream": "stdout",
       "text": [
        "\n",
        "[GridSearchCV] evalue=4.83293023857e-05 ........................................\n",
        "[GridSearchCV] ............. evalue=4.83293023857e-05, score=901.340000 -   3.5s"
       ]
      },
      {
       "output_type": "stream",
       "stream": "stdout",
       "text": [
        "\n",
        "[GridSearchCV] evalue=10.0 .....................................................\n",
        "[GridSearchCV] .......................... evalue=10.0, score=753.180000 -   3.9s"
       ]
      },
      {
       "output_type": "stream",
       "stream": "stdout",
       "text": [
        "\n",
        "[GridSearchCV] evalue=10.0 .....................................................\n",
        "[GridSearchCV] .......................... evalue=10.0, score=729.080000 -   3.9s"
       ]
      },
      {
       "output_type": "stream",
       "stream": "stdout",
       "text": [
        "\n",
        "[GridSearchCV] evalue=10.0 .....................................................\n",
        "[GridSearchCV] .......................... evalue=10.0, score=731.180000 -   3.8s"
       ]
      },
      {
       "output_type": "stream",
       "stream": "stdout",
       "text": [
        "\n"
       ]
      },
      {
       "output_type": "stream",
       "stream": "stderr",
       "text": [
        "[Parallel(n_jobs=1)]: Done  60 out of  60 | elapsed:  3.5min finished\n"
       ]
      },
      {
       "metadata": {},
       "output_type": "pyout",
       "prompt_number": 17,
       "text": [
        "GridSearchCV(cv=StratifiedShuffleSplit(labels=[False False ...,  True  True], n_iter=3, test_size=50, indices=True, random_state=None),\n",
        "       estimator=BlastAligner(db_path='/tmp/tmpjDibUz.fasta', evalue=10, gapextend=1,\n",
        "       gapopen=11, max_intron_length=20, num_threads=100, result_type='aa',\n",
        "       tmp_path='/tmp/', word_size=2),\n",
        "       fit_params={}, iid=True, loss_func=None, n_jobs=1,\n",
        "       param_grid={'evalue': array([  1.00000e-100,   2.06914e-095,   4.28133e-090,   8.85867e-085,\n",
        "         1.83298e-079,   3.79269e-074,   7.84760e-069,   1.62378e-063,\n",
        "         3.35982e-058,   6.95193e-053,   1.43845e-047,   2.97635e-042,\n",
        "         6.15848e-037,   1.27427e-031,   2.63665e-026,   5.45559e-021,\n",
        "         1.12884e-015,   2.33572e-010,   4.83293e-005,   1.00000e+001])},\n",
        "       pre_dispatch='2*n_jobs', refit=False, score_func=None, scoring=None,\n",
        "       verbose=5)"
       ]
      }
     ],
     "prompt_number": 17
    },
    {
     "cell_type": "code",
     "collapsed": false,
     "input": [
      "import "
     ],
     "language": "python",
     "metadata": {},
     "outputs": []
    },
    {
     "cell_type": "code",
     "collapsed": false,
     "input": [],
     "language": "python",
     "metadata": {},
     "outputs": [
      {
       "metadata": {},
       "output_type": "pyout",
       "prompt_number": 81,
       "text": [
        "'MRVKGIRKNYQHLWRWGTMLLGMLMICSAAEKLWVTVYYGVPVWKEATTTLFCASDAKAYDTEVHNVWATHACVPTDPNPQEVVLENVTENFNMWKNNMVEQMHEDIISLWDQSLKPCVKLTPLCVTLNCTDLMNATNTNTTIIYRWRGEIKNCSFNITTSIRDKVQKEYALFYKLDVVPIDNDNTSYRLISCNTSVITQACPKVSFEPIPIHYCAPAGFAILKCNDKKFNGTGPCTNVSTVQCTHGIRPVVSTQLLLNGSLAEEEVVIRSENFTDNAKTIIVQLNESVEINCTRPNNNTRKSIHIGPGRAFYTTGEIIGDIRQAHCNISRAKWNNTLKQIVKKLREQFGNKTIVFNQSSGGDPEIVMHSFNCGGEFFYCNTTQLFNSTWNGTWNNTEGNITLPCRIKQIINMWQEVGKAMYAPPIRGQIRCSSNITGLLLTRDGGNNETEIFRPGGGDMRDNWRSELYKYKVVKIEPLGVAPTKAKRRVVQREKRAVGIGAMFLGFLGAAGSTMGAASMTLTVQARQLLSGIVQQQNNLLRAIEAQQHLLQLTVWGIKQLQARVLAVERYLKDQQLLGIWGCSGKLICTTAVPWNASWSNKSLDEIWDNMTWMEWEREIDNYTSLIYTLIEESQNQQEKNEQELLELDKWASLWNWFDITNWLWYIKIFIMIVGGLVGLRIVFAVLSIVNRVRQGYSPLSFQTRLPAPRGPDRPEGIEEEGGERDRDRSGRLVDGFLALIWDDLRSLCLFSYHRLRDLLLIVTRIVELLGRRGWEVLKYWWNLLQYWSQELKNSAVSLLNATAIAVAEGTDRVIEVVQRACRAILHIPRRIRQGLERALL'"
       ]
      }
     ],
     "prompt_number": 81
    },
    {
     "cell_type": "code",
     "collapsed": false,
     "input": [],
     "language": "python",
     "metadata": {},
     "outputs": []
    }
   ],
   "metadata": {}
  }
 ]
}