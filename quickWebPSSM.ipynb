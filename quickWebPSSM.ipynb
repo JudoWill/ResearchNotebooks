{
 "metadata": {
  "name": "quickWebPSSM"
 },
 "nbformat": 3,
 "nbformat_minor": 0,
 "worksheets": [
  {
   "cells": [
    {
     "cell_type": "code",
     "collapsed": false,
     "input": [
      "import sys\n",
      "import os, os.path\n",
      "from concurrent.futures import ThreadPoolExecutor, ProcessPoolExecutor\n",
      "from itertools import chain\n",
      "from pandas import DataFrame, Series, merge, read_csv, MultiIndex, Index, concat\n",
      "\n",
      "sys.path.append('/home/will/PySeqUtils/')\n",
      "from GeneralSeqTools import fasta_reader, WebPSSM_V3_fasta, yield_chunks"
     ],
     "language": "python",
     "metadata": {},
     "outputs": [],
     "prompt_number": 1
    },
    {
     "cell_type": "code",
     "collapsed": false,
     "input": [
      "seq_path = '/home/will/HIVTropism/Harrigan_2012_V3.fasta'\n",
      "with open(seq_path) as handle:\n",
      "    v3_seqs = list(fasta_reader(handle))\n",
      "\n",
      "have_data = []\n",
      "need_data = set([name for name, _ in v3_seqs])\n",
      "count = 0\n",
      "print 'Getting WebPSSM scores'\n",
      "while need_data and count < 5:\n",
      "    count += 1\n",
      "    print len(need_data)\n",
      "    gen = ((name, seq) for name, seq in v3_seqs if name in need_data)\n",
      "    chunks = yield_chunks(gen, 50)\n",
      "    with ThreadPoolExecutor(max_workers = 10) as e:\n",
      "        res = e.map(WebPSSM_V3_fasta, chunks)\n",
      "        have_data += list(chain.from_iterable(res))\n",
      "    need_data -= set(row[0] for row in have_data)"
     ],
     "language": "python",
     "metadata": {},
     "outputs": [
      {
       "output_type": "stream",
       "stream": "stdout",
       "text": [
        "Getting WebPSSM scores\n",
        "2896\n",
        "500"
       ]
      },
      {
       "output_type": "stream",
       "stream": "stdout",
       "text": [
        "\n",
        "450"
       ]
      },
      {
       "output_type": "stream",
       "stream": "stdout",
       "text": [
        "\n",
        "450"
       ]
      },
      {
       "output_type": "stream",
       "stream": "stdout",
       "text": [
        "\n",
        "450"
       ]
      },
      {
       "output_type": "stream",
       "stream": "stdout",
       "text": [
        "\n"
       ]
      }
     ],
     "prompt_number": 2
    },
    {
     "cell_type": "code",
     "collapsed": false,
     "input": [
      "fields = ['name','score','pred','x4.pct','r5.pct','geno','pos.chg','net.chg','percentile']\n",
      "pssm_data = DataFrame(have_data, columns=fields)"
     ],
     "language": "python",
     "metadata": {},
     "outputs": [],
     "prompt_number": 3
    },
    {
     "cell_type": "code",
     "collapsed": false,
     "input": [
      "outpath = '/home/will/HIVTropism/Harrigan_2012_V3.csv'\n",
      "pssm_data.to_csv(outpath, index=False)"
     ],
     "language": "python",
     "metadata": {},
     "outputs": [],
     "prompt_number": 4
    }
   ],
   "metadata": {}
  }
 ]
}