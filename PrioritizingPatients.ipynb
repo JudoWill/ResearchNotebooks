{
 "metadata": {
  "name": "PrioritizingPatients"
 },
 "nbformat": 3,
 "nbformat_minor": 0,
 "worksheets": [
  {
   "cells": [
    {
     "cell_type": "code",
     "collapsed": false,
     "input": [
      "from pandas import *\n",
      "import os, os.path\n",
      "import sys\n",
      "\n",
      "sys.path.append('/home/will/HIVReportGen/AnalysisCode/')"
     ],
     "language": "python",
     "metadata": {},
     "outputs": [],
     "prompt_number": 1
    },
    {
     "cell_type": "code",
     "collapsed": false,
     "input": [
      "store = HDFStore('/home/will/HIVReportGen/Data/SplitRedcap/2013-01-16/EntireCohort.hdf')"
     ],
     "language": "python",
     "metadata": {},
     "outputs": [],
     "prompt_number": 2
    },
    {
     "cell_type": "code",
     "collapsed": false,
     "input": [
      "\n",
      "redcap_data = store['redcap']\n",
      "seq_data = store['seq_data']\n",
      "visit_data = store['visit_redcap']\n",
      "pat_data = store['pat_redcap']\n",
      "\n"
     ],
     "language": "python",
     "metadata": {},
     "outputs": [],
     "prompt_number": 3
    },
    {
     "cell_type": "code",
     "collapsed": false,
     "input": [
      "ofields = ['Latest viral load', 'Latest CD4 count (cells/uL)', 'Total Modified Hopkins Dementia Score']\n",
      "wanted_fields = ['CalcAge', 'Gender', 'Drug User Classification', 'Hepatitis C status (HCV)', 'Predicted-R5']\n",
      "seq_fields = ['LTR', 'Vpr', 'Tat', 'V3']\n"
     ],
     "language": "python",
     "metadata": {},
     "outputs": [],
     "prompt_number": 4
    },
    {
     "cell_type": "code",
     "collapsed": false,
     "input": [
      "have_seq = seq_data[seq_fields].apply(lambda x: x.notnull()).fillna(False)\n",
      "pat_fields = visit_data\n",
      "all_fields = concat([pat_fields, have_seq], axis = 1)\n",
      "all_fields['Predicted-R5'] = all_fields['Predicted-R5']>=0.8\n"
     ],
     "language": "python",
     "metadata": {},
     "outputs": [],
     "prompt_number": 5
    },
    {
     "cell_type": "code",
     "collapsed": false,
     "input": [
      "def check_fun(df):\n",
      "    wanted_drugs = [\"Current ART (choice='%s')\" % d for d in ['TDF', 'Truvada', 'Atripla']] \n",
      "    start_niave = df['Current ART status'][0] == 'naive'\n",
      "    on_therapy = (df['Current ART status'] == 'on').any()\n",
      "    \n",
      "    on_wanted = df[wanted_drugs].any().any()\n",
      "    return start_niave & on_therapy & on_wanted\n",
      "\n",
      "\n",
      "\n",
      "wanted_drugs = [\"Current ART (choice='%s')\" % d for d in ['TDF', 'Truvada', 'Atripla']] \n",
      "tdata = all_fields[['Current ART status'] + wanted_drugs]\n",
      "res = tdata.groupby(level = 0).apply(check_fun)\n",
      "\n"
     ],
     "language": "python",
     "metadata": {},
     "outputs": [],
     "prompt_number": 6
    },
    {
     "cell_type": "code",
     "collapsed": false,
     "input": [
      "all_fields.index.names = ['Patient ID', 'Visit Number']\n",
      "output = merge(all_fields[[]].reset_index(), DataFrame({'result':res}), left_on = 'Patient ID', right_index = True)\n",
      "print output[['Patient ID', 'Visit Number', 'result']].head(n = 20).to_string()"
     ],
     "language": "python",
     "metadata": {},
     "outputs": [
      {
       "output_type": "stream",
       "stream": "stdout",
       "text": [
        "   Patient ID Visit Number result\n",
        "0       A0001          R00  False\n",
        "1       A0001          R01  False\n",
        "2       A0001          R02  False\n",
        "3       A0001          R03  False\n",
        "4       A0001          R04  False\n",
        "5       A0001          R05  False\n",
        "6       A0001          R06  False\n",
        "7       A0002          R00  False\n",
        "8       A0002          R01  False\n",
        "9       A0002          R02  False\n",
        "10      A0002          R03  False\n",
        "11      A0002          R04  False\n",
        "12      A0002          R05  False\n",
        "13      A0002          R06  False\n",
        "14      A0002          R07  False\n",
        "15      A0002          R08  False\n",
        "16      A0002          R09  False\n",
        "17      A0002          R10  False\n",
        "18      A0003          R00  False\n",
        "19      A0004          R00  False\n"
       ]
      }
     ],
     "prompt_number": 7
    },
    {
     "cell_type": "code",
     "collapsed": false,
     "input": [
      "output.to_csv('/home/will/tmpstuf/drugged_data.csv')"
     ],
     "language": "python",
     "metadata": {},
     "outputs": [],
     "prompt_number": 63
    },
    {
     "cell_type": "code",
     "collapsed": false,
     "input": [
      "\n",
      "all_fields.fillna(False).to_csv('/home/will/HIVSystemsBio/NewPatientInfo_extreme.csv')"
     ],
     "language": "python",
     "metadata": {},
     "outputs": [],
     "prompt_number": 6
    },
    {
     "cell_type": "code",
     "collapsed": false,
     "input": [
      "ols?"
     ],
     "language": "python",
     "metadata": {},
     "outputs": [],
     "prompt_number": 29
    },
    {
     "cell_type": "code",
     "collapsed": false,
     "input": [
      "mask = redcap_data['Patient ID'] == 'A0008'\n",
      "ofields = ['Latest viral load', 'Latest CD4 count (cells/uL)', 'Total Modified Hopkins Dementia Score']\n",
      "other_fields = ['Gender', 'Current ART status', 'Age', 'Hepatitis C status (HCV)', 'Hepatitis B status (HBV)', 'Years seropositive', 'HIV seropositive date']\n",
      "race_fields = [\"Race (choice='Asian')\",\n",
      "\"Race (choice='American Indian/Alaska Native')\",\n",
      "\"Race (choice='Black or African American')\",\n",
      "\"Race (choice='Native Hawaiian or other Pacific Islander')\",\n",
      "\"Race (choice='White')\",\n",
      "\"Race (choice='More than one race')\",\n",
      "\"Race (choice='Unknown')\",\n",
      "]\n",
      "\n",
      "drug_fields = [\n",
      "'Amphetamines',\n",
      "'Barbiturates',\n",
      "'Benzodiazepines',\n",
      "'Cannabinoid',\n",
      "'Cocaine + metabolite',\n",
      "'Opiates',\n",
      "'Phencyclidine']\n",
      "\n",
      "print redcap_data[['Patient visit number', 'Date of visit']+ other_fields][mask].to_string(), '\\n\\n\\n\\n'\n",
      "print redcap_data[['Patient visit number', 'Date of visit']+ ofields][mask].to_string(), '\\n\\n\\n\\n'\n",
      "print redcap_data[['Patient visit number', 'Date of visit']+ race_fields][mask].T.to_string(), '\\n\\n\\n\\n'\n",
      "print redcap_data[['Patient visit number', 'Date of visit']+ drug_fields][mask].to_string(), '\\n\\n\\n\\n'"
     ],
     "language": "python",
     "metadata": {},
     "outputs": [
      {
       "output_type": "stream",
       "stream": "stdout",
       "text": [
        "   Patient visit number        Date of visit Gender Current ART status  Age Hepatitis C status (HCV) Hepatitis B status (HBV) Years seropositive HIV seropositive date\n",
        "34                  R00  2006-09-19 00:00:00   Male                 on   50                     True                      NaN                  9   1997-02-19 00:00:00\n",
        "35                  R01  2007-08-08 00:00:00   Male                 on   51                     True                      NaN                 11   1996-02-19 00:00:00\n",
        "36                  R02  2008-01-04 00:00:00   Male                 on   51                     True                      NaN                 12   1996-02-19 00:00:00\n",
        "37                  R03  2008-12-23 00:00:00   Male                 on   52                     True                    False                 12   1996-02-19 00:00:00\n",
        "38                  R04  2009-12-01 00:00:00   Male                 on   53                     True                    False                 15   1994-02-19 00:00:00\n",
        "39                  R05  2010-01-06 00:00:00   Male                 on   53                     True                    False                 16   1994-02-19 00:00:00 \n",
        "\n",
        "\n",
        "\n",
        "\n",
        "   Patient visit number        Date of visit  Latest viral load  Latest CD4 count (cells/uL)  Total Modified Hopkins Dementia Score\n",
        "34                  R00  2006-09-19 00:00:00                 59                          412                                    NaN\n",
        "35                  R01  2007-08-08 00:00:00                 50                          372                                    NaN\n",
        "36                  R02  2008-01-04 00:00:00                 96                          370                                      6\n",
        "37                  R03  2008-12-23 00:00:00                 50                          246                                     12\n",
        "38                  R04  2009-12-01 00:00:00                 48                          595                                     12\n",
        "39                  R05  2010-01-06 00:00:00                 48                          527                                     11 \n",
        "\n",
        "\n",
        "\n",
        "\n",
        "                                                                            34                   35                   36                   37                   38                   39\n",
        "Patient visit number                                                       R00                  R01                  R02                  R03                  R04                  R05\n",
        "Date of visit                                              2006-09-19 00:00:00  2007-08-08 00:00:00  2008-01-04 00:00:00  2008-12-23 00:00:00  2009-12-01 00:00:00  2010-01-06 00:00:00\n",
        "Race (choice='Asian')                                                    False                False                False                False                False                False\n",
        "Race (choice='American Indian/Alaska Native')                            False                False                False                False                False                False\n",
        "Race (choice='Black or African American')                                 True                 True                 True                 True                 True                 True\n",
        "Race (choice='Native Hawaiian or other Pacific Islander')                False                False                False                False                False                False\n",
        "Race (choice='White')                                                    False                False                False                False                False                False\n",
        "Race (choice='More than one race')                                       False                False                False                False                False                False\n",
        "Race (choice='Unknown')                                                  False                False                False                False                False                False \n",
        "\n",
        "\n",
        "\n",
        "\n",
        "   Patient visit number        Date of visit Amphetamines Barbiturates Benzodiazepines Cannabinoid Cocaine + metabolite Opiates Phencyclidine\n",
        "34                  R00  2006-09-19 00:00:00        False        False           False       False                 True   False         False\n",
        "35                  R01  2007-08-08 00:00:00        False        False           False       False                False   False         False\n",
        "36                  R02  2008-01-04 00:00:00        False        False           False        True                 True   False         False\n",
        "37                  R03  2008-12-23 00:00:00        False        False           False       False                False   False         False\n",
        "38                  R04  2009-12-01 00:00:00          NaN          NaN             NaN         NaN                  NaN     NaN           NaN\n",
        "39                  R05  2010-01-06 00:00:00          NaN          NaN             NaN         NaN                  NaN     NaN           NaN \n",
        "\n",
        "\n",
        "\n",
        "\n"
       ]
      }
     ],
     "prompt_number": 8
    },
    {
     "cell_type": "code",
     "collapsed": false,
     "input": [
      "t = redcap_data['Event Name'].apply(lambda x: int(x.split(' - ')[0][1:]))\n",
      "t.unique()\n",
      "redcap_data['VisitNum'] = redcap_data['VisitNum'].combine_first(t)"
     ],
     "language": "python",
     "metadata": {},
     "outputs": [],
     "prompt_number": 11
    },
    {
     "cell_type": "code",
     "collapsed": false,
     "input": [
      "\n",
      "t = all_fields['Event Name'].dropna().apply(lambda x: int(x.split(' - ')[0][1:]))\n",
      "\n",
      "all_fields['VisitNum'] = all_fields['VisitNum'].combine_first(t)\n"
     ],
     "language": "python",
     "metadata": {},
     "outputs": [],
     "prompt_number": 15
    },
    {
     "cell_type": "code",
     "collapsed": false,
     "input": [
      "all_fields['Drug User Classification'].unique()"
     ],
     "language": "python",
     "metadata": {},
     "outputs": [
      {
       "output_type": "pyout",
       "prompt_number": 20,
       "text": [
        "array([Supreme Barbiturates, Non-User but Admitted to something,\n",
        "       Supreme Cocaine, Multi-User, Ever Cocaine, Non-User,\n",
        "       Extreme Cannabinoid, Ever Cannabinoid, nan, Supreme Cannabinoid,\n",
        "       Pure Cocaine, Extreme Cocaine, Pure Opiates, Pure Cannabinoid,\n",
        "       Preferential Cocaine, Extreme Opiates, Supreme Benzodiazepines,\n",
        "       Supreme Amphetamines, Supreme Opiates, Untested,\n",
        "       Pure Benzodiazepines], dtype=object)"
       ]
      }
     ],
     "prompt_number": 20
    },
    {
     "cell_type": "code",
     "collapsed": false,
     "input": [
      "drug_fields = [\n",
      "'Cocaine + metabolite',\n",
      "'Amphetamines',\n",
      "'Barbiturates',\n",
      "'Benzodiazepines',\n",
      "'Cannabinoid',\n",
      "'Opiates',\n",
      "'Phencyclidine']\n",
      "\n",
      "drug_fields[1:]"
     ],
     "language": "python",
     "metadata": {},
     "outputs": [
      {
       "output_type": "pyout",
       "prompt_number": 33,
       "text": [
        "['Amphetamines',\n",
        " 'Barbiturates',\n",
        " 'Benzodiazepines',\n",
        " 'Cannabinoid',\n",
        " 'Opiates',\n",
        " 'Phencyclidine']"
       ]
      }
     ],
     "prompt_number": 33
    },
    {
     "cell_type": "code",
     "collapsed": false,
     "input": [
      "drug_fields = [\n",
      "'Cocaine + metabolite',\n",
      "'Amphetamines',\n",
      "'Barbiturates',\n",
      "'Benzodiazepines',\n",
      "'Cannabinoid',\n",
      "'Opiates',\n",
      "'Phencyclidine']\n",
      "\n",
      "admit_fields = [\n",
      "\"Drugs used (choice='Marijuana')\",\n",
      "\"Drugs used (choice='Cocaine (crack, nasal, smoke, inject)')\",\n",
      "\"Drugs used (choice='Heroin (nasal, inject)')\",\n",
      "\"Drugs used (choice='Methamphetamine (smoke, nasal, inject)')\",\n",
      "\"Drugs used (choice='Benzodiazapine (i.e. valium, ativan, xanax, klonipin, etc)')\",\n",
      "\"Drugs used (choice='Narcotics')\",\n",
      "\"Drugs used (choice='Ecstasy')\",\n",
      "\"Drugs used (choice='PCP')\",\n",
      "\"Drugs used (choice='Ritalin')\",\n",
      "\"Drugs used (choice='Other')\"]\n",
      "\n",
      "tmp = all_fields[drug_fields + admit_fields +['LTR']].reset_index()\n",
      "\n",
      "def check_PN(df):\n",
      "    any_pos = df[drug_fields].any().any()\n",
      "    any_admit = df[admit_fields].any().any()\n",
      "    return (any_admit | any_pos)\n",
      "\n",
      "def check_PC(df):\n",
      "    pos_coc = df[drug_fields[0]].any()\n",
      "    pos_other = df[drug_fields[1:]].any().any()\n",
      "    return pos_coc and ~pos_other\n",
      "\n",
      "def check_mdu(df):\n",
      "    num_pos = df[drug_fields].any().sum()\n",
      "    return num_pos > 1\n",
      "    \n",
      "def check_ltr(df):\n",
      "    return df['LTR'].values[-1]\n",
      "\n",
      "#print tmp\n",
      "checks = {'LTR': check_ltr,\n",
      "          'PN': check_PN,  \n",
      "           'PC': check_PC,         \n",
      "           'MDU': check_mdu,}\n",
      "nchecks = list(checks.items())\n",
      "res = []\n",
      "valid_visits = tmp['Visit Number']=='A'\n",
      "for visit in range(10):\n",
      "    visit_str = 'R%02i' % visit\n",
      "    visit_mask = tmp['Visit Number'] == visit_str\n",
      "    valid_visits |= visit_mask\n",
      "    res.append(('#Patients', visit_str, visit_mask.sum()))\n",
      "    \n",
      "    ntmp = tmp.ix[valid_visits]\n",
      "    pats = ntmp.groupby('Patient ID')\n",
      "    for pat, ndf in pats:\n",
      "        for name, func in checks.items():\n",
      "            nres = func(ndf)\n",
      "            print nres\n",
      "            raise KeyError\n",
      "    \n",
      "#df = DataFrame(res, columns = ['Header', 'VisitNum', 'Value'])\n",
      "#res = pivot_table(df, rows = ['VisitNum'], cols='Header', values= 'Value')\n",
      "#print res"
     ],
     "language": "python",
     "metadata": {},
     "outputs": [
      {
       "ename": "KeyError",
       "evalue": "",
       "output_type": "pyerr",
       "traceback": [
        "\u001b[1;31m---------------------------------------------------------------------------\u001b[0m\n\u001b[1;31mKeyError\u001b[0m                                  Traceback (most recent call last)",
        "\u001b[1;32m<ipython-input-39-65f7c10153e2>\u001b[0m in \u001b[0;36m<module>\u001b[1;34m()\u001b[0m\n\u001b[0;32m     59\u001b[0m             \u001b[0mnres\u001b[0m \u001b[1;33m=\u001b[0m \u001b[0mfunc\u001b[0m\u001b[1;33m(\u001b[0m\u001b[0mndf\u001b[0m\u001b[1;33m)\u001b[0m\u001b[1;33m\u001b[0m\u001b[0m\n\u001b[0;32m     60\u001b[0m             \u001b[1;32mprint\u001b[0m \u001b[0mnres\u001b[0m\u001b[1;33m\u001b[0m\u001b[0m\n\u001b[1;32m---> 61\u001b[1;33m             \u001b[1;32mraise\u001b[0m \u001b[0mKeyError\u001b[0m\u001b[1;33m\u001b[0m\u001b[0m\n\u001b[0m\u001b[0;32m     62\u001b[0m \u001b[1;33m\u001b[0m\u001b[0m\n\u001b[0;32m     63\u001b[0m \u001b[1;31m#df = DataFrame(res, columns = ['Header', 'VisitNum', 'Value'])\u001b[0m\u001b[1;33m\u001b[0m\u001b[1;33m\u001b[0m\u001b[0m\n",
        "\u001b[1;31mKeyError\u001b[0m: "
       ]
      },
      {
       "output_type": "stream",
       "stream": "stdout",
       "text": [
        "<class 'pandas.core.frame.DataFrame'>\n",
        "Int64Index: 1430 entries, 0 to 1429\n",
        "Data columns:\n",
        "Patient ID                                                                          1430  non-null values\n",
        "Visit Number                                                                        1430  non-null values\n",
        "Cocaine + metabolite                                                                761  non-null values\n",
        "Amphetamines                                                                        761  non-null values\n",
        "Barbiturates                                                                        761  non-null values\n",
        "Benzodiazepines                                                                     761  non-null values\n",
        "Cannabinoid                                                                         761  non-null values\n",
        "Opiates                                                                             761  non-null values\n",
        "Phencyclidine                                                                       761  non-null values\n",
        "Drugs used (choice='Marijuana')                                                     1399  non-null values\n",
        "Drugs used (choice='Cocaine (crack, nasal, smoke, inject)')                         1399  non-null values\n",
        "Drugs used (choice='Heroin (nasal, inject)')                                        1399  non-null values\n",
        "Drugs used (choice='Methamphetamine (smoke, nasal, inject)')                        1399  non-null values\n",
        "Drugs used (choice='Benzodiazapine (i.e. valium, ativan, xanax, klonipin, etc)')    1399  non-null values\n",
        "Drugs used (choice='Narcotics')                                                     1399  non-null values\n",
        "Drugs used (choice='Ecstasy')                                                       1399  non-null values\n",
        "Drugs used (choice='PCP')                                                           1399  non-null values\n",
        "Drugs used (choice='Ritalin')                                                       1399  non-null values\n",
        "Drugs used (choice='Other')                                                         1399  non-null values\n",
        "LTR                                                                                 1048  non-null values\n",
        "dtypes: object(20)\n",
        "False\n"
       ]
      }
     ],
     "prompt_number": 39
    },
    {
     "cell_type": "code",
     "collapsed": false,
     "input": [
      "tmp = read_csv('/home/will/HIVSystemsBio/NewCytokineAnalysis/CytoPatData.csv', sep = '\\t')\n",
      "wanted_pats = tmp['Patient ID']\n",
      "\n",
      "wanted_data = {}\n",
      "wanted_visits = dict([(p, v) for p,v in zip(tmp['Patient ID'].values, tmp['VisitNum'].values)])\n",
      "for key, group in redcap_data.groupby('Patient ID'):\n",
      "    if key in wanted_visits:\n",
      "        vname = wanted_visits[key]\n",
      "        wnum = int(vname[1:])\n",
      "        wdata = group['VisitNum']<= wnum\n",
      "        res = group[drug_fields].ix[wdata].mean(axis = 0)\n",
      "        wanted_data[key] = res\n",
      "\n",
      "print wanted_data.keys()[:5]\n",
      "drug_mean = DataFrame(wanted_data).T.rename(columns = dict([(col, 'TOSample-'+col) for col in drug_fields]))\n",
      "\n",
      "drug_mean.ix[wanted_pats].to_csv('/home/will/HIVSystemsBio/NewCytokineAnalysis/ToSampledrug.csv')\n"
     ],
     "language": "python",
     "metadata": {},
     "outputs": [
      {
       "output_type": "stream",
       "stream": "stdout",
       "text": [
        "['A0238', 'A0406', 'A0002', 'A0168', 'A0294']\n"
       ]
      }
     ],
     "prompt_number": 44
    },
    {
     "cell_type": "code",
     "collapsed": false,
     "input": [
      "from itertools import groupby\n",
      "import csv\n",
      "\n",
      "\n",
      "def missing_test(visit_nums, visit_dates, check_ser):\n",
      "    \n",
      "    for v, date, val in zip(visit_nums, visit_dates, check_ser):\n",
      "        if val != val:\n",
      "            yield v, date, 'Missing Value', 1\n",
      "    \n",
      "def consistency_test(visit_nums, visit_dates, check_ser):\n",
      "    \n",
      "    #print t\n",
      "    if len(check_ser.dropna().unique())>1:\n",
      "        for v, date, val in zip(visit_nums, visit_dates, check_ser):\n",
      "            yield v, date, 'Inconsitent Value', 1\n",
      "\n",
      "def diagnose_test(visit_nums, visit_dates, check_ser, debug = False):\n",
      "    \n",
      "    tmp = DataFrame({'Visit':visit_nums, 'Date':visit_dates, 'Check':check_ser}).dropna()\n",
      "    #print tmp\n",
      "    tmp.sort(columns = 'Date')\n",
      "    \n",
      "    is_sick = False\n",
      "    for _, row in tmp.iterrows():\n",
      "        if (row['Check'] == False) and (is_sick == True):\n",
      "            yield row['Visit'], row['Date'], 'Inconsistent Diagnosis', 1\n",
      "        is_sick |= row['Check']==1\n",
      "    \n",
      "    \n",
      "\n",
      "def nearby_date(check_dates, visit_dates):\n",
      "    \n",
      "    (check_dates - visit_dates).weeks\n",
      "\n",
      "\n",
      "with open('/home/will/tmpstuf/test_smells.csv') as handle:\n",
      "    junk = handle.next()\n",
      "    check_rules = [row for row in csv.reader(handle, delimiter = '\\t') if row[3].strip()]\n",
      "    \n",
      "messages = []\n",
      "for patid, df in redcap_data.groupby('Patient ID'):\n",
      "    for col, report_col, _, testfun in check_rules:\n",
      "        \n",
      "        if (testfun == 'consistency_test') or (testfun == 'date_consistency'):\n",
      "            msgs = list(consistency_test(df['Patient visit number'], df['Date of visit'], df[col]))\n",
      "        elif testfun == 'diagnose_test':\n",
      "            #if col == 'Hepatitis C status (HCV)':\n",
      "                #print col, df[col]\n",
      "                #print len(list(diagnose_test(df['Patient visit number'], df['Date of visit'], df[col], debug = True)))\n",
      "                #raise KeyError\n",
      "            msgs = list(diagnose_test(df['Patient visit number'], df['Date of visit'], df[col]))\n",
      "            \n",
      "        else:\n",
      "            msgs = list(missing_test(df['Patient visit number'], df['Date of visit'], df[col]))\n",
      "            \n",
      "        for v, date, msg, score in msgs:\n",
      "            messages.append((col, report_col, patid, v, date, msg, score))\n"
     ],
     "language": "python",
     "metadata": {},
     "outputs": [],
     "prompt_number": 248
    },
    {
     "cell_type": "code",
     "collapsed": false,
     "input": [
      "tmp = DataFrame(messages, columns = ['Colname', 'Grouping', 'Patient ID', 'Visit', 'VisitDate', 'Message', 'Wrongness'])\n",
      "\n",
      "print tmp.head(n= 100).to_string()\n",
      "\n"
     ],
     "language": "python",
     "metadata": {},
     "outputs": [
      {
       "output_type": "stream",
       "stream": "stdout",
       "text": [
        "                                              Colname            Grouping Patient ID Visit            VisitDate                 Message  Wrongness\n",
        "0           Race (choice='Black or African American')                Race      A0001   R00  2006-09-12 00:00:00       Inconsitent Value          1\n",
        "1           Race (choice='Black or African American')                Race      A0001   R01  2007-08-15 00:00:00       Inconsitent Value          1\n",
        "2           Race (choice='Black or African American')                Race      A0001   R02  2008-06-04 00:00:00       Inconsitent Value          1\n",
        "3           Race (choice='Black or African American')                Race      A0001   R03  2008-11-11 00:00:00       Inconsitent Value          1\n",
        "4           Race (choice='Black or African American')                Race      A0001   R04  2009-11-10 00:00:00       Inconsitent Value          1\n",
        "5           Race (choice='Black or African American')                Race      A0001   R05  2010-05-05 00:00:00       Inconsitent Value          1\n",
        "6           Race (choice='Black or African American')                Race      A0001   R06  2010-12-14 00:00:00       Inconsitent Value          1\n",
        "7                                              Weight              Weight      A0001   R00  2006-09-12 00:00:00           Missing Value          1\n",
        "8                                              Weight              Weight      A0001   R01  2007-08-15 00:00:00           Missing Value          1\n",
        "9                                              Weight              Weight      A0001   R02  2008-06-04 00:00:00           Missing Value          1\n",
        "10                                             Weight              Weight      A0001   R03  2008-11-11 00:00:00           Missing Value          1\n",
        "11                                             Weight              Weight      A0001   R04  2009-11-10 00:00:00           Missing Value          1\n",
        "12                                             Weight              Weight      A0001   R05  2010-05-05 00:00:00           Missing Value          1\n",
        "13  Exposure Category (choice='Injection drug use ...            Exposure      A0001   R00  2006-09-12 00:00:00       Inconsitent Value          1\n",
        "14  Exposure Category (choice='Injection drug use ...            Exposure      A0001   R01  2007-08-15 00:00:00       Inconsitent Value          1\n",
        "15  Exposure Category (choice='Injection drug use ...            Exposure      A0001   R02  2008-06-04 00:00:00       Inconsitent Value          1\n",
        "16  Exposure Category (choice='Injection drug use ...            Exposure      A0001   R03  2008-11-11 00:00:00       Inconsitent Value          1\n",
        "17  Exposure Category (choice='Injection drug use ...            Exposure      A0001   R04  2009-11-10 00:00:00       Inconsitent Value          1\n",
        "18  Exposure Category (choice='Injection drug use ...            Exposure      A0001   R05  2010-05-05 00:00:00       Inconsitent Value          1\n",
        "19  Exposure Category (choice='Injection drug use ...            Exposure      A0001   R06  2010-12-14 00:00:00       Inconsitent Value          1\n",
        "20          Exposure Category (choice='Heterosexual')            Exposure      A0001   R00  2006-09-12 00:00:00       Inconsitent Value          1\n",
        "21          Exposure Category (choice='Heterosexual')            Exposure      A0001   R01  2007-08-15 00:00:00       Inconsitent Value          1\n",
        "22          Exposure Category (choice='Heterosexual')            Exposure      A0001   R02  2008-06-04 00:00:00       Inconsitent Value          1\n",
        "23          Exposure Category (choice='Heterosexual')            Exposure      A0001   R03  2008-11-11 00:00:00       Inconsitent Value          1\n",
        "24          Exposure Category (choice='Heterosexual')            Exposure      A0001   R04  2009-11-10 00:00:00       Inconsitent Value          1\n",
        "25          Exposure Category (choice='Heterosexual')            Exposure      A0001   R05  2010-05-05 00:00:00       Inconsitent Value          1\n",
        "26          Exposure Category (choice='Heterosexual')            Exposure      A0001   R06  2010-12-14 00:00:00       Inconsitent Value          1\n",
        "27                       Initial CD8 count (cells/uL)  Clinical Variables      A0001   R00  2006-09-12 00:00:00           Missing Value          1\n",
        "28                       Initial CD8 count (cells/uL)  Clinical Variables      A0001   R01  2007-08-15 00:00:00           Missing Value          1\n",
        "29                         Nadir CD8 count (cells/uL)  Clinical Variables      A0001   R00  2006-09-12 00:00:00           Missing Value          1\n",
        "30                         Nadir CD8 count (cells/uL)  Clinical Variables      A0001   R01  2007-08-15 00:00:00           Missing Value          1\n",
        "31                           Hepatitis B status (HBV)          HBV Status      A0001   R03  2008-11-11 00:00:00  Inconsistent Diagnosis          1\n",
        "32                           Hepatitis B status (HBV)          HBV Status      A0001   R04  2009-11-10 00:00:00  Inconsistent Diagnosis          1\n",
        "33                           Hepatitis B status (HBV)          HBV Status      A0001   R05  2010-05-05 00:00:00  Inconsistent Diagnosis          1\n",
        "34                           Hepatitis B status (HBV)          HBV Status      A0001   R06  2010-12-14 00:00:00  Inconsistent Diagnosis          1\n",
        "35                        Year diagnosed HBV positive          HBV Status      A0001   R00  2006-09-12 00:00:00       Inconsitent Value          1\n",
        "36                        Year diagnosed HBV positive          HBV Status      A0001   R01  2007-08-15 00:00:00       Inconsitent Value          1\n",
        "37                        Year diagnosed HBV positive          HBV Status      A0001   R02  2008-06-04 00:00:00       Inconsitent Value          1\n",
        "38                        Year diagnosed HBV positive          HBV Status      A0001   R03  2008-11-11 00:00:00       Inconsitent Value          1\n",
        "39                        Year diagnosed HBV positive          HBV Status      A0001   R04  2009-11-10 00:00:00       Inconsitent Value          1\n",
        "40                        Year diagnosed HBV positive          HBV Status      A0001   R05  2010-05-05 00:00:00       Inconsitent Value          1\n",
        "41                        Year diagnosed HBV positive          HBV Status      A0001   R06  2010-12-14 00:00:00       Inconsitent Value          1\n",
        "42                           Hepatitis C status (HCV)          HCV Status      A0001   R03  2008-11-11 00:00:00  Inconsistent Diagnosis          1\n",
        "43                           Hepatitis C status (HCV)          HCV Status      A0001   R04  2009-11-10 00:00:00  Inconsistent Diagnosis          1\n",
        "44                        Year diagnosed HCV positive          HCV Status      A0001   R00  2006-09-12 00:00:00       Inconsitent Value          1\n",
        "45                        Year diagnosed HCV positive          HCV Status      A0001   R01  2007-08-15 00:00:00       Inconsitent Value          1\n",
        "46                        Year diagnosed HCV positive          HCV Status      A0001   R02  2008-06-04 00:00:00       Inconsitent Value          1\n",
        "47                        Year diagnosed HCV positive          HCV Status      A0001   R03  2008-11-11 00:00:00       Inconsitent Value          1\n",
        "48                        Year diagnosed HCV positive          HCV Status      A0001   R04  2009-11-10 00:00:00       Inconsitent Value          1\n",
        "49                        Year diagnosed HCV positive          HCV Status      A0001   R05  2010-05-05 00:00:00       Inconsitent Value          1\n",
        "50                        Year diagnosed HCV positive          HCV Status      A0001   R06  2010-12-14 00:00:00       Inconsitent Value          1\n",
        "51         Mental Health Issues (choice='Depression')       Mental Health      A0001   R00  2006-09-12 00:00:00       Inconsitent Value          1\n",
        "52         Mental Health Issues (choice='Depression')       Mental Health      A0001   R01  2007-08-15 00:00:00       Inconsitent Value          1\n",
        "53         Mental Health Issues (choice='Depression')       Mental Health      A0001   R02  2008-06-04 00:00:00       Inconsitent Value          1\n",
        "54         Mental Health Issues (choice='Depression')       Mental Health      A0001   R03  2008-11-11 00:00:00       Inconsitent Value          1\n",
        "55         Mental Health Issues (choice='Depression')       Mental Health      A0001   R04  2009-11-10 00:00:00       Inconsitent Value          1\n",
        "56         Mental Health Issues (choice='Depression')       Mental Health      A0001   R05  2010-05-05 00:00:00       Inconsitent Value          1\n",
        "57         Mental Health Issues (choice='Depression')       Mental Health      A0001   R06  2010-12-14 00:00:00       Inconsitent Value          1\n",
        "58           Mental Health Issues (choice='Dementia')       Mental Health      A0001   R00  2006-09-12 00:00:00       Inconsitent Value          1\n",
        "59           Mental Health Issues (choice='Dementia')       Mental Health      A0001   R01  2007-08-15 00:00:00       Inconsitent Value          1\n",
        "60           Mental Health Issues (choice='Dementia')       Mental Health      A0001   R02  2008-06-04 00:00:00       Inconsitent Value          1\n",
        "61           Mental Health Issues (choice='Dementia')       Mental Health      A0001   R03  2008-11-11 00:00:00       Inconsitent Value          1\n",
        "62           Mental Health Issues (choice='Dementia')       Mental Health      A0001   R04  2009-11-10 00:00:00       Inconsitent Value          1\n",
        "63           Mental Health Issues (choice='Dementia')       Mental Health      A0001   R05  2010-05-05 00:00:00       Inconsitent Value          1\n",
        "64           Mental Health Issues (choice='Dementia')       Mental Health      A0001   R06  2010-12-14 00:00:00       Inconsitent Value          1\n",
        "65             Mental Health Issues (choice='Stroke')       Mental Health      A0001   R00  2006-09-12 00:00:00       Inconsitent Value          1\n",
        "66             Mental Health Issues (choice='Stroke')       Mental Health      A0001   R01  2007-08-15 00:00:00       Inconsitent Value          1\n",
        "67             Mental Health Issues (choice='Stroke')       Mental Health      A0001   R02  2008-06-04 00:00:00       Inconsitent Value          1\n",
        "68             Mental Health Issues (choice='Stroke')       Mental Health      A0001   R03  2008-11-11 00:00:00       Inconsitent Value          1\n",
        "69             Mental Health Issues (choice='Stroke')       Mental Health      A0001   R04  2009-11-10 00:00:00       Inconsitent Value          1\n",
        "70             Mental Health Issues (choice='Stroke')       Mental Health      A0001   R05  2010-05-05 00:00:00       Inconsitent Value          1\n",
        "71             Mental Health Issues (choice='Stroke')       Mental Health      A0001   R06  2010-12-14 00:00:00       Inconsitent Value          1\n",
        "72  Mental Health Issues (choice='Other neurologic...       Mental Health      A0001   R00  2006-09-12 00:00:00       Inconsitent Value          1\n",
        "73  Mental Health Issues (choice='Other neurologic...       Mental Health      A0001   R01  2007-08-15 00:00:00       Inconsitent Value          1\n",
        "74  Mental Health Issues (choice='Other neurologic...       Mental Health      A0001   R02  2008-06-04 00:00:00       Inconsitent Value          1\n",
        "75  Mental Health Issues (choice='Other neurologic...       Mental Health      A0001   R03  2008-11-11 00:00:00       Inconsitent Value          1\n",
        "76  Mental Health Issues (choice='Other neurologic...       Mental Health      A0001   R04  2009-11-10 00:00:00       Inconsitent Value          1\n",
        "77  Mental Health Issues (choice='Other neurologic...       Mental Health      A0001   R05  2010-05-05 00:00:00       Inconsitent Value          1\n",
        "78  Mental Health Issues (choice='Other neurologic...       Mental Health      A0001   R06  2010-12-14 00:00:00       Inconsitent Value          1\n",
        "79                                             Weight              Weight      A0002   R00  2006-09-12 00:00:00           Missing Value          1\n",
        "80                                             Weight              Weight      A0002   R01  2007-07-11 00:00:00           Missing Value          1\n",
        "81                                             Weight              Weight      A0002   R02  2008-06-17 00:00:00           Missing Value          1\n",
        "82                                             Weight              Weight      A0002   R03  2008-11-12 00:00:00           Missing Value          1\n",
        "83                                             Weight              Weight      A0002   R04  2009-11-03 00:00:00           Missing Value          1\n",
        "84                                             Weight              Weight      A0002   R05  2010-04-10 00:00:00           Missing Value          1\n",
        "85  Exposure Category (choice='Injection drug use ...            Exposure      A0002   R00  2006-09-12 00:00:00       Inconsitent Value          1\n",
        "86  Exposure Category (choice='Injection drug use ...            Exposure      A0002   R01  2007-07-11 00:00:00       Inconsitent Value          1\n",
        "87  Exposure Category (choice='Injection drug use ...            Exposure      A0002   R02  2008-06-17 00:00:00       Inconsitent Value          1\n",
        "88  Exposure Category (choice='Injection drug use ...            Exposure      A0002   R03  2008-11-12 00:00:00       Inconsitent Value          1\n",
        "89  Exposure Category (choice='Injection drug use ...            Exposure      A0002   R04  2009-11-03 00:00:00       Inconsitent Value          1\n",
        "90  Exposure Category (choice='Injection drug use ...            Exposure      A0002   R05  2010-04-10 00:00:00       Inconsitent Value          1\n",
        "91  Exposure Category (choice='Injection drug use ...            Exposure      A0002   R06  2010-10-12 00:00:00       Inconsitent Value          1\n",
        "92  Exposure Category (choice='Injection drug use ...            Exposure      A0002   R07  2011-04-06 00:00:00       Inconsitent Value          1\n",
        "93  Exposure Category (choice='Injection drug use ...            Exposure      A0002   R08  2011-10-05 00:00:00       Inconsitent Value          1\n",
        "94  Exposure Category (choice='Injection drug use ...            Exposure      A0002   R09  2012-04-03 00:00:00       Inconsitent Value          1\n",
        "95  Exposure Category (choice='Injection drug use ...            Exposure      A0002   R10  2012-10-09 00:00:00       Inconsitent Value          1\n",
        "96                             Number of uses per day         Current Use      A0002   R01  2007-07-11 00:00:00           Missing Value          1\n",
        "97                             Number of uses per day         Current Use      A0002   R03  2008-11-12 00:00:00           Missing Value          1\n",
        "98                             Number of uses per day         Current Use      A0002   R04  2009-11-03 00:00:00           Missing Value          1\n",
        "99                             Number of uses per day         Current Use      A0002   R05  2010-04-10 00:00:00           Missing Value          1\n"
       ]
      }
     ],
     "prompt_number": 258
    },
    {
     "cell_type": "code",
     "collapsed": false,
     "input": [
      "res = pivot_table(tmp, rows = 'VisitDate', cols = 'Message', values = 'Wrongness', aggfunc=np.sum)\n",
      "#res['Inconsitent Value'].dropna()\n",
      "plt.figure(figsize = (10,10))\n",
      "rolling_mean(res, 30, min_periods=2).plot(ax = plt.gca())"
     ],
     "language": "python",
     "metadata": {},
     "outputs": [
      {
       "output_type": "pyout",
       "prompt_number": 259,
       "text": [
        "<matplotlib.axes.AxesSubplot at 0x8f0f910>"
       ]
      },
      {
       "output_type": "display_data",
       "png": "[encoded data removed]"
      }
     ],
     "prompt_number": 259
    },
    {
     "cell_type": "code",
     "collapsed": false,
     "input": [
      "tmp.groupby(['Patient ID']).sum().min()"
     ],
     "language": "python",
     "metadata": {},
     "outputs": [
      {
       "output_type": "pyout",
       "prompt_number": 263,
       "text": [
        "Wrongness    1"
       ]
      }
     ],
     "prompt_number": 263
    },
    {
     "cell_type": "code",
     "collapsed": false,
     "input": [
      "redcap_data['Hepatitis C status (HCV)'].dropna()"
     ],
     "language": "python",
     "metadata": {},
     "outputs": [
      {
       "output_type": "pyout",
       "prompt_number": 201,
       "text": [
        "0      True\n",
        "1      True\n",
        "2      True\n",
        "3     False\n",
        "4     False\n",
        "5      True\n",
        "6      True\n",
        "7      True\n",
        "8      True\n",
        "9      True\n",
        "10     True\n",
        "11     True\n",
        "12     True\n",
        "13     True\n",
        "14     True\n",
        "...\n",
        "1403    False\n",
        "1404    False\n",
        "1405    False\n",
        "1406    False\n",
        "1407     True\n",
        "1408     True\n",
        "1409    False\n",
        "1411     True\n",
        "1412     True\n",
        "1413     True\n",
        "1414     True\n",
        "1415    False\n",
        "1416    False\n",
        "1417    False\n",
        "1418    False\n",
        "Name: Hepatitis C status (HCV), Length: 1281"
       ]
      }
     ],
     "prompt_number": 201
    },
    {
     "cell_type": "code",
     "collapsed": false,
     "input": [],
     "language": "python",
     "metadata": {},
     "outputs": []
    }
   ],
   "metadata": {}
  }
 ]
}