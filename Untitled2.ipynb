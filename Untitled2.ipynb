{
 "metadata": {
  "name": "Untitled2"
 },
 "nbformat": 3,
 "nbformat_minor": 0,
 "worksheets": [
  {
   "cells": [
    {
     "cell_type": "code",
     "collapsed": false,
     "input": [
      "import sys\n",
      "sys.path.append('/home/will/PatientPicker/')\n",
      "import pandas as pd"
     ],
     "language": "python",
     "metadata": {},
     "outputs": [],
     "prompt_number": 2
    },
    {
     "cell_type": "code",
     "collapsed": false,
     "input": [
      "import LoadingTools\n",
      "\n",
      "store = pd.HDFStore('/home/will/HIVReportGen/Data/SplitRedcap/2013-01-16/EntireCohort.hdf')\n",
      "pat_data = store['redcap']"
     ],
     "language": "python",
     "metadata": {},
     "outputs": [],
     "prompt_number": 29
    },
    {
     "cell_type": "code",
     "collapsed": false,
     "input": [
      "drug_cols = ['Current Tobacco use',\n",
      "             'Current Alcohol use',\n",
      "             'Cocaine + metabolite',\n",
      "             'Amphetamines',\n",
      "             'Barbiturates',\n",
      "             'Benzodiazepines',\n",
      "             'Cannabinoid',\n",
      "             'Opiates',\n",
      "             'Phencyclidine',\n",
      "             \"Drugs used (choice='Ritalin')\"]\n",
      "gender_cols = ['Gender']\n",
      "age_cols = ['Age', 'Calc-Years-Seropositive']\n",
      "haart_cols = ['Current ART status']\n",
      "race_cols = [col for col in pat_data.columns if col.startswith('Race')]\n",
      "eth_cols = ['Ethnicity']\n",
      "\n",
      "wanted_cols = drug_cols+gender_cols+age_cols+haart_cols+race_cols+eth_cols+['Patient ID', 'Patient visit number']\n",
      "spat_data = pat_data[wanted_cols].sort(['Patient ID', 'Patient visit number'])"
     ],
     "language": "python",
     "metadata": {},
     "outputs": [],
     "prompt_number": 53
    },
    {
     "cell_type": "code",
     "collapsed": false,
     "input": [
      "intake_mask = spat_data['Patient visit number'] == 'R00'\n",
      "intake_data = spat_data[intake_mask].set_index('Patient ID').drop(['Patient visit number'], axis = 1)\n",
      "\n",
      "pc_pats = ['A0022','A0025','A0029','A0039',\n",
      "            'A0040','A0047','A0056','A0058',\n",
      "            'A0068','A0083','A0091','A0106',\n",
      "            'A0124','A0136','A0142','A0151',\n",
      "            'A0175','A0181','A0191','A0208',\n",
      "            'A0209','A0262','A0284','A0313',\n",
      "            'A0379','A0388','A0427']\n",
      "pn_pats = ['A0010','A0017','A0032','A0078',\n",
      "           'A0100','A0159','A0195','A0206',\n",
      "           'A0217','A0220','A0223','A0238',\n",
      "           'A0239','A0240','A0242','A0255',\n",
      "           'A0258','A0280','A0294','A0321',\n",
      "           'A0339','A0356','A0363','A0376',\n",
      "           'A0380','A0393','A0397','A0405',\n",
      "           'A0406','A0415','A0440','A0447',\n",
      "           'A0456']\n",
      "\n",
      "pc_data = intake_data.ix[pc_pats]\n",
      "pn_data = intake_data.ix[pn_pats]"
     ],
     "language": "python",
     "metadata": {},
     "outputs": [],
     "prompt_number": 54
    },
    {
     "cell_type": "code",
     "collapsed": false,
     "input": [
      "from itertools import product\n",
      "from copy import deepcopy\n",
      "\n",
      "def calc_gender(indata):\n",
      "    tdict = {\n",
      "             'Male':(indata['Gender']=='Male').sum(),\n",
      "             'Female':(indata['Gender']=='Female').sum(),\n",
      "             }\n",
      "    return tdict\n",
      "\n",
      "def calc_race(indata):\n",
      "    wcol = \"Race (choice='White')\"\n",
      "    bcol = \"Race (choice='Black or African American')\"\n",
      "    ucol = \"Race (choice='Unknown')\"\n",
      "    ocols = [\"Race (choice='Asian')\",\n",
      "             \"Race (choice='American Indian/Alaska Native')\",\n",
      "             \"Race (choice='Native Hawaiian or other Pacific Islander')\",\n",
      "             \"Race (choice='More than one race')\"]\n",
      " \n",
      "    tdict = {\n",
      "             'White': indata[wcol].sum(),\n",
      "             'Black/AA': indata[bcol].sum(),\n",
      "             'Unknown': indata[ucol].sum(),\n",
      "             'Other': indata[ocols].any(axis=1).sum()\n",
      "             }\n",
      "    return tdict\n",
      "\n",
      "def calc_drug_use(indata):\n",
      "    \n",
      "    groups = [('Tobacco', indata['Current Tobacco use']=='Yes'),\n",
      "              ('Alcohol', indata['Current Alcohol use']=='Yes'),\n",
      "              ('Cocaine', indata['Cocaine + metabolite']),\n",
      "              ('Cannabinoids', indata['Cannabinoid']),\n",
      "              ('Methamphetamines', indata['Amphetamines']),\n",
      "              ('Benzodiazepines', indata['Benzodiazepines']),\n",
      "              ('Narcotics', indata['Opiates']),\n",
      "              ('Ritalin', indata[\"Drugs used (choice='Ritalin')\"])]\n",
      "    tdict = {}\n",
      "    for key, col in groups:\n",
      "        tdict[key] = col.sum()\n",
      "    return tdict\n",
      "\n",
      "def calc_eth(indata):\n",
      "    \n",
      "    cols = ['Not Hispanic or Latino', 'Hispanic or Latino']\n",
      "    tdict = {}\n",
      "    for col in cols:\n",
      "        tdict[col] = (indata['Ethnicity']==col).sum()\n",
      "    tdict['Unknown'] = indata['Ethnicity'].isnull().sum()\n",
      "    return tdict\n",
      "\n",
      "\n",
      "def calc_haart(indata):\n",
      "    \n",
      "    col = 'Current ART status'\n",
      "    tdict = {\n",
      "             'cH': (indata[col] == 'on').sum(),\n",
      "             'dH': ((indata[col] == 'off') | (indata[col] == 'non-adherent')).sum(),\n",
      "             'nH': (indata[col] == 'naive').sum(),\n",
      "             }\n",
      "    return tdict\n",
      "\n",
      "def calc_age(indata):\n",
      "    \n",
      "    return {'':indata['Age'].mean()}\n",
      "\n",
      "def calc_sero(indata):\n",
      "    \n",
      "    return {'':indata['Calc-Years-Seropositive'].mean()}\n",
      "\n",
      "anal_list = [('Gender', calc_gender),\n",
      "             ('Race', calc_race),\n",
      "             ('Ethnicity', calc_eth),\n",
      "             ('Drug Use', calc_drug_use),\n",
      "             ('HAART', calc_haart),\n",
      "             ('Age', calc_age),\n",
      "             ('Years Seropsitive', calc_sero)]\n",
      "\n",
      "groups = [('All', intake_data), \n",
      "          ('PN', pn_data), \n",
      "          ('PC', pc_data)]\n",
      "out_groups = []\n",
      "for (gname, group), (varname, func) in product(groups, anal_list):\n",
      "    \n",
      "    odict = func(group)\n",
      "    for key, val in odict.items():\n",
      "        out_groups.append({\n",
      "                           'group':gname,\n",
      "                           'varname':varname,\n",
      "                           'itemname':key,\n",
      "                           'itemval':val\n",
      "                           })\n",
      "        \n",
      "    \n",
      "    "
     ],
     "language": "python",
     "metadata": {},
     "outputs": [],
     "prompt_number": 62
    },
    {
     "cell_type": "code",
     "collapsed": false,
     "input": [
      "ndf = pd.DataFrame(out_groups)\n",
      "table_data = pd.pivot_table(ndf, \n",
      "                            rows = ['varname', 'itemname'], \n",
      "                            cols = 'group',\n",
      "                            values = 'itemval')\n",
      "print table_data\n",
      "table_data.to_excel('/home/will/quickBrain/pat_groups.xlsx')"
     ],
     "language": "python",
     "metadata": {},
     "outputs": [
      {
       "output_type": "stream",
       "stream": "stdout",
       "text": [
        "group                                            All         PC         PN\n",
        "varname           itemname                                                \n",
        "Age                                        45.079681  46.814815  43.363636\n",
        "Drug Use          Alcohol                 157.000000  11.000000   6.000000\n",
        "                  Benzodiazepines          17.000000   0.000000   0.000000\n",
        "                  Cannabinoids             70.000000   0.000000   0.000000\n",
        "                  Cocaine                  96.000000  19.000000   0.000000\n",
        "                  Methamphetamines          2.000000   0.000000   0.000000\n",
        "                  Narcotics                 7.000000   0.000000   0.000000\n",
        "                  Ritalin                  20.000000   0.000000   0.000000\n",
        "                  Tobacco                 367.000000  23.000000   7.000000\n",
        "Ethnicity         Hispanic or Latino       33.000000   0.000000   3.000000\n",
        "                  Not Hispanic or Latino  410.000000  22.000000  26.000000\n",
        "                  Unknown                  59.000000   5.000000   4.000000\n",
        "Gender            Female                  167.000000  10.000000  15.000000\n",
        "                  Male                    329.000000  17.000000  17.000000\n",
        "HAART             cH                      389.000000  16.000000  29.000000\n",
        "                  dH                       51.000000   5.000000   2.000000\n",
        "                  nH                       58.000000   6.000000   2.000000\n",
        "Race              Black/AA                417.000000  27.000000  27.000000\n",
        "                  Other                    16.000000   1.000000   2.000000\n",
        "                  Unknown                   3.000000   0.000000   0.000000\n",
        "                  White                    56.000000   0.000000   4.000000\n",
        "Years Seropsitive                          11.920160  10.518519   9.757576\n"
       ]
      }
     ],
     "prompt_number": 63
    },
    {
     "cell_type": "code",
     "collapsed": false,
     "input": [
      "drug_cols = ['Current Tobacco use',\n",
      "             'Current Alcohol use',\n",
      "             'Cocaine + metabolite',\n",
      "             'Amphetamines',\n",
      "             'Barbiturates',\n",
      "             'Benzodiazepines',\n",
      "             'Cannabinoid',\n",
      "             'Opiates',\n",
      "             'Phencyclidine']\n",
      "intake_data['Ethnicity'].unique()"
     ],
     "language": "python",
     "metadata": {},
     "outputs": [
      {
       "metadata": {},
       "output_type": "pyout",
       "prompt_number": 56,
       "text": [
        "array(['Not Hispanic or Latino', nan, 'Hispanic or Latino'], dtype=object)"
       ]
      }
     ],
     "prompt_number": 56
    },
    {
     "cell_type": "code",
     "collapsed": false,
     "input": [
      "pat_data['Patient ID'].unique()"
     ],
     "language": "python",
     "metadata": {},
     "outputs": [
      {
       "metadata": {},
       "output_type": "pyout",
       "prompt_number": 28,
       "text": [
        "array(['R00 - First visit', 'R01 - Second visit', 'R02 - Third visit',\n",
        "       'R03 - Fourth visit', 'R04 - Fifth visit', 'R05 - Sixth visit',\n",
        "       'R06 - Seventh visit', 'R07 - Eighth visit', 'R08 - Ninth visit',\n",
        "       'R09 - Tenth visit', 'R10 - Eleventh visit'], dtype=object)"
       ]
      }
     ],
     "prompt_number": 28
    },
    {
     "cell_type": "code",
     "collapsed": false,
     "input": [],
     "language": "python",
     "metadata": {},
     "outputs": []
    }
   ],
   "metadata": {}
  }
 ]
}