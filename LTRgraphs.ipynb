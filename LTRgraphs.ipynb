{
 "metadata": {
  "name": "LTRgraphs"
 },
 "nbformat": 3,
 "nbformat_minor": 0,
 "worksheets": [
  {
   "cells": [
    {
     "cell_type": "code",
     "collapsed": false,
     "input": [
      "from __future__ import division\n",
      "import pandas as pd\n",
      "import numpy as np\n",
      "import os\n",
      "import sys\n",
      "import gspread\n",
      "from StringIO import StringIO\n",
      "import csv\n",
      "sys.path.append('/home/will/PySeqUtils/')\n",
      "sys.path.append('/home/will/PatientPicker/')\n",
      "os.chdir('/home/will/LTRGraphs/')"
     ],
     "language": "python",
     "metadata": {},
     "outputs": [],
     "prompt_number": 1
    },
    {
     "cell_type": "code",
     "collapsed": false,
     "input": [
      "import LoadingTools\n",
      "import GeneralSeqTools\n",
      "import TFSeqTools\n",
      "import ConSeqs"
     ],
     "language": "python",
     "metadata": {},
     "outputs": [],
     "prompt_number": 2
    },
    {
     "cell_type": "code",
     "collapsed": false,
     "input": [
      "redcap_data = LoadingTools.load_redcap_data()\n",
      "redcap_data['SingleID'] = redcap_data[['Patient ID', 'VisitNum']].apply(lambda x: '-'.join(x), axis = 1)"
     ],
     "language": "python",
     "metadata": {},
     "outputs": [],
     "prompt_number": 3
    },
    {
     "cell_type": "code",
     "collapsed": false,
     "input": [
      "\n",
      "def decide_tropism(inval):\n",
      "    if inval < -6.95:\n",
      "        return 'R5'\n",
      "    elif inval > -2.88:\n",
      "        return 'X4'\n",
      "    elif inval < -4.92:\n",
      "        return 'R5-P'\n",
      "    elif inval >= -4.92:\n",
      "        return 'X4-P'\n",
      "    \n",
      "    return 'Unk'\n",
      "\n",
      "gc = gspread.login('judowill@gmail.com', 'gfzasfxjagrxdmqq')\n",
      "spread = gc.open(\"V3 Project\")\n",
      "worksheet = spread.worksheet('PBMC Progress Report')\n",
      "handle = StringIO()\n",
      "writer = csv.writer(handle, delimiter = '\\t')\n",
      "rows = worksheet.get_all_values()\n",
      "writer.writerow(rows[0])\n",
      "for row in rows[1:]:\n",
      "    if row[0].startswith('A'):\n",
      "        try:\n",
      "            writer.writerow(row)\n",
      "        except UnicodeEncodeError:\n",
      "            print row\n",
      "handle.seek(0)\n",
      "\n",
      "df = pd.read_csv(handle, sep = '\\t', parse_dates = [5])\n",
      "df['HasSeq'] = df['V3 Amino Acid Sequence'].notnull()\n",
      "df['Date'] = df['Date'].map(pd.to_datetime)\n",
      "df['Date'][df['Date'] == 'nan'] = np.nan\n",
      "df['TropismPrediction'] = df['PSSM Score'].map(decide_tropism)\n",
      "df['SingleID'] = df[['Patient', 'Visit']].apply(lambda x: '-'.join(x), axis = 1)\n"
     ],
     "language": "python",
     "metadata": {},
     "outputs": [],
     "prompt_number": 4
    },
    {
     "cell_type": "code",
     "collapsed": false,
     "input": [
      "pat_data = pd.merge(redcap_data, df,\n",
      "                    left_on ='SingleID',\n",
      "                    right_on = 'SingleID',\n",
      "                    how = 'outer').groupby('SingleID').first()"
     ],
     "language": "python",
     "metadata": {},
     "outputs": [],
     "prompt_number": 5
    },
    {
     "cell_type": "code",
     "collapsed": false,
     "input": [
      "import glob\n",
      "ltr_files = sorted(glob.glob('/home/will/HIVReportGen/Data/PatientFasta/*LTR.fasta'))\n",
      "ltr_seqs = {}\n",
      "for f in ltr_files:\n",
      "    with open(f) as handle:\n",
      "        _, seq = GeneralSeqTools.fasta_reader(handle).next()\n",
      "        fname = os.path.basename(f).rsplit('-', 1)[0]\n",
      "        ltr_seqs[fname] = seq"
     ],
     "language": "python",
     "metadata": {},
     "outputs": [],
     "prompt_number": 6
    },
    {
     "cell_type": "code",
     "collapsed": false,
     "input": [
      "ltr_df = pd.DataFrame({\n",
      "                       'LTR':pd.Series(ltr_seqs)\n",
      "                       })\n",
      "ltr_df.head()"
     ],
     "language": "python",
     "metadata": {},
     "outputs": [
      {
       "html": [
        "<div style=\"max-height:1000px;max-width:1500px;overflow:auto;\">\n",
        "<table border=\"1\" class=\"dataframe\">\n",
        "  <thead>\n",
        "    <tr style=\"text-align: right;\">\n",
        "      <th></th>\n",
        "      <th>LTR</th>\n",
        "    </tr>\n",
        "  </thead>\n",
        "  <tbody>\n",
        "    <tr>\n",
        "      <th>A0001-R01</th>\n",
        "      <td> TACACACCAGGGCCAGGAGTCAGATATCCACTGACCTTTGGATGGT...</td>\n",
        "    </tr>\n",
        "    <tr>\n",
        "      <th>A0001-R04</th>\n",
        "      <td> CTAGTACCAGTTGAGCCAGAGAAGTTAGAAGAAGCCAACAAAGGAG...</td>\n",
        "    </tr>\n",
        "    <tr>\n",
        "      <th>A0002-R00</th>\n",
        "      <td> GGTCAGATATCCACTGACCTTTGGATGGTGCTACAAGCTAGTACCA...</td>\n",
        "    </tr>\n",
        "    <tr>\n",
        "      <th>A0002-R01</th>\n",
        "      <td> CAGGGCCAGGGGTCAGATATCCACTGACCTTTGGATGGTGCTACAA...</td>\n",
        "    </tr>\n",
        "    <tr>\n",
        "      <th>A0002-R03</th>\n",
        "      <td>                         TTGTTACACCCTGTGAGCCTGCATG</td>\n",
        "    </tr>\n",
        "  </tbody>\n",
        "</table>\n",
        "</div>"
       ],
       "metadata": {},
       "output_type": "pyout",
       "prompt_number": 7,
       "text": [
        "                                                         LTR\n",
        "A0001-R01  TACACACCAGGGCCAGGAGTCAGATATCCACTGACCTTTGGATGGT...\n",
        "A0001-R04  CTAGTACCAGTTGAGCCAGAGAAGTTAGAAGAAGCCAACAAAGGAG...\n",
        "A0002-R00  GGTCAGATATCCACTGACCTTTGGATGGTGCTACAAGCTAGTACCA...\n",
        "A0002-R01  CAGGGCCAGGGGTCAGATATCCACTGACCTTTGGATGGTGCTACAA...\n",
        "A0002-R03                          TTGTTACACCCTGTGAGCCTGCATG"
       ]
      }
     ],
     "prompt_number": 7
    },
    {
     "cell_type": "code",
     "collapsed": false,
     "input": [
      "conb_ltr = ConSeqs.GetConSeq('ltr')\n",
      "conb_ltr"
     ],
     "language": "python",
     "metadata": {},
     "outputs": [
      {
       "metadata": {},
       "output_type": "pyout",
       "prompt_number": 8,
       "text": [
        "'tGGAaGGGcTaaTttacTCcCaaaaaAgacAagAtATcCTTGAtcTGTGGgtctAccAcAcaCAaGGCTacTTCCCtGAtTgGCAgAAcTACACAccAGGgccaGGgatcAGaTatCCacTgaccTTTGGaTGgTGcTtcAAgcTAGTACCAgTtgAgCcAGagaaggTagAagagGccAatgaaggagagaacaacagctTGtTaCAcCCtatgagCCtgCATGGgatgGAgGAcccgGAgaaagAAGtgtTagtgTGGAagTttGACAgccgccTaGcatttcatCAcatggCccgaGAgctgcATCCggAgTactacaaggActGcTGACatcgagctttctacaaGGGACTTTCCgCtgGGGACTTTccagggagGcGtggcctGGgcgggaCtggGGAgtggCgagCCCtcAGAtgcTgCATATAAGCAGCtGCttTttGccTGTACtGGgTCTCTCTggttaGaCCAGATCtGAGCctGGGAGcTCtctggctaactagggaacccactgcttaagcctcaataaagcttgccttgagtgcttcaagtagtgtgtgcccgtctgttgtgtgactctggtaactagagatccctcagacccttttagtcagtgtggaaaatctctagca'"
       ]
      }
     ],
     "prompt_number": 8
    },
    {
     "cell_type": "code",
     "collapsed": false,
     "input": [
      "from functools import partial\n",
      "def scan_seq(mot, name, seq):\n",
      "    if len(seq) < len(mot):\n",
      "        return pd.Series([np.nan, np.nan], index = [name+'-Score', name+'-Seq'])\n",
      "    score, _, seq = TFSeqTools.simple_score_pwm(seq, mot)\n",
      "    return pd.Series([score, seq], index = [name+'-Score', name+'-Seq'])\n",
      "\n",
      "def region_extractor(conb_ltr, start, stop, seq):\n",
      "    oseq = TFSeqTools.slice_to_ref(seq, conb_ltr, start, stop)\n",
      "    nseq = oseq.replace('-', '')\n",
      "    if len(nseq):\n",
      "        return nseq\n",
      "    else:\n",
      "        return np.nan\n",
      "\n",
      "pwm_dict = TFSeqTools.Load_PWMS()\n",
      "             \n",
      "regions = [('AP1-IV', 104-5, 104+15, pwm_dict['ap1']),\n",
      "           ('AP1-III', 119-5, 119+15, pwm_dict['ap1']),\n",
      "           ('AP1-II', 154-5, 154+15, pwm_dict['ap1']),\n",
      "           ('AP1-I', 213-5, 213+15, pwm_dict['ap1']),\n",
      "           ('CEBP-II', 280-5, 280+15, pwm_dict['cebpa']),\n",
      "           ('ETS', 304-5, 304+15, pwm_dict['ets1']),\n",
      "           ('ATF/Creb', 329-5, 329+15, pwm_dict['creb1']),\n",
      "           ('CEBP-I', 329-5, 329+15, pwm_dict['cebpa']),\n",
      "           ('NFKB-II', 349-5, 349+15, pwm_dict['nf-kappab']),\n",
      "           ('NFKB-I', 362-5, 362+15, pwm_dict['nf-kappab']),\n",
      "           ('SpIII', 376-5, 376+15, pwm_dict['sp1']),\n",
      "           ('SPII', 387-5, 387+15, pwm_dict['sp1']),\n",
      "           ('SPI', 398-5, 398+15, pwm_dict['sp1'])]\n",
      "\n",
      "ltr_df_cp = ltr_df.copy()\n",
      "for tfname, start, stop, mot in regions:\n",
      "    r_ex = partial(region_extractor, conb_ltr, start, stop)\n",
      "    tf_checker = partial(scan_seq, mot, tfname)\n",
      "    ltr_df_cp[tfname+'-Region'] = ltr_df_cp['LTR'].map(r_ex)\n",
      "    out = ltr_df_cp[tfname+'-Region'].dropna().apply(tf_checker)\n",
      "    ltr_df_cp = pd.merge(ltr_df_cp, out,\n",
      "                         left_index=True,\n",
      "                         right_index=True,\n",
      "                         how='left')\n",
      "    "
     ],
     "language": "python",
     "metadata": {},
     "outputs": [],
     "prompt_number": 9
    },
    {
     "cell_type": "code",
     "collapsed": false,
     "input": [
      "cols = dict([('Patient ID', 'PatientID'),\n",
      "        ('VisitNum', 'VisitNum'),\n",
      "        ('Age', 'Age'),\n",
      "        ('Gender', 'Gender'),\n",
      "        ('Latest viral load', 'VL'),\n",
      "        ('Latest CD4 count (cells/uL)', 'CD4'),\n",
      "        ('Latest CD8 count (cells/uL)', 'CD8'),\n",
      "        ('Current ART status', 'ART'),\n",
      "        ('Hepatitis C status (HCV)', 'HCV'),\n",
      "        ('TropismPrediction', 'Tropism')\n",
      "        ])\n",
      "\n",
      "tfnames = [tf for tf, _, _, _ in regions]\n",
      "score_cols = [tf+'-Score' for tf, _, _, _ in regions]\n",
      "seq_cols = [tf+'-Seq' for tf, _, _, _ in regions]\n",
      "\n",
      "wanted_pat = pat_data[cols.keys()].dropna()\n",
      "wanted_scores = ltr_df_cp[score_cols+seq_cols].dropna()\n",
      "wanted_scores['TFJoin'] = wanted_scores[seq_cols].apply(lambda x: ''.join(x), axis=1)\n",
      "#wanted_scores = wanted_scores.drop(seq_cols, axis=1)\n",
      "\n",
      "check_data = pd.concat(wanted_pat.align(wanted_scores, axis=0, join='inner'), axis=1).rename(columns = cols)\n",
      "check_data = check_data.fillna(check_data[score_cols].min())\n",
      "\n",
      "ncols = dict((col, col.replace('-', '_').replace('/', '_')) for col in check_data.columns)\n",
      "check_data = check_data.rename(columns = ncols)"
     ],
     "language": "python",
     "metadata": {},
     "outputs": [],
     "prompt_number": 10
    },
    {
     "cell_type": "code",
     "collapsed": false,
     "input": [
      "import TreeingTools\n",
      "\n",
      "tree = TreeingTools.run_FastTree(check_data['TFJoin'].to_dict().items(),\n",
      "                                 alphabet=TreeingTools.generic_dna)\n"
     ],
     "language": "python",
     "metadata": {},
     "outputs": [],
     "prompt_number": 11
    },
    {
     "cell_type": "code",
     "collapsed": false,
     "input": [
      "import networkx as nx\n",
      "from itertools import combinations\n",
      "import csv\n",
      "with open('ltr_tree.nwk', 'w') as handle:\n",
      "    tree.write_to_stream(handle, schema = 'phylip', exclude_chars=True)\n"
     ],
     "language": "python",
     "metadata": {},
     "outputs": [],
     "prompt_number": 23
    },
    {
     "cell_type": "code",
     "collapsed": false,
     "input": [
      "\n"
     ],
     "language": "python",
     "metadata": {},
     "outputs": [],
     "prompt_number": 32
    },
    {
     "cell_type": "code",
     "collapsed": false,
     "input": [
      "def get_node_names(node):\n",
      "    if node.taxon is None:\n",
      "        return node.oid\n",
      "    else:\n",
      "        return node.taxon.label\n",
      "        \n",
      "names = [get_node_names(node) for node in tree.nodes()]\n",
      "\n",
      "tree_graph = nx.DiGraph()\n",
      "tree_graph.add_nodes_from(names)\n",
      "\n",
      "for parent_tree_node in tree.nodes():\n",
      "    parent_graph_name = get_node_names(parent_tree_node)\n",
      "    for child_node in parent_tree_node.child_nodes():\n",
      "        edge_len = child_node.edge_length\n",
      "        child_graph_name = get_node_names(child_node)\n",
      "        tree_graph.add_edge(parent_graph_name, child_graph_name, weight=edge_len)\n"
     ],
     "language": "python",
     "metadata": {},
     "outputs": [],
     "prompt_number": 37
    },
    {
     "cell_type": "code",
     "collapsed": false,
     "input": [
      "check_data['LogVL'] = check_data['VL'].map(np.log10)\n",
      "check_data.to_csv('ltr_node_attr.csv')\n",
      "nx.write_gml(tree_graph, 'tree_graph.gml')"
     ],
     "language": "python",
     "metadata": {},
     "outputs": [],
     "prompt_number": 41
    },
    {
     "cell_type": "code",
     "collapsed": false,
     "input": [
      "check_data.std()"
     ],
     "language": "python",
     "metadata": {},
     "outputs": [
      {
       "metadata": {},
       "output_type": "pyout",
       "prompt_number": 44,
       "text": [
        "CD8                 717.468733\n",
        "Age                   8.063528\n",
        "CD4                 274.584899\n",
        "VL                92871.898151\n",
        "AP1_IV_Score          2.496936\n",
        "AP1_III_Score         0.840058\n",
        "AP1_II_Score          2.382229\n",
        "AP1_I_Score           2.069136\n",
        "CEBP_II_Score         1.818473\n",
        "ETS_Score             1.085574\n",
        "ATF_Creb_Score        1.630819\n",
        "CEBP_I_Score          1.782758\n",
        "NFKB_II_Score         1.751523\n",
        "NFKB_I_Score          1.251658\n",
        "SpIII_Score           1.203220\n",
        "SPII_Score            1.011706\n",
        "SPI_Score             0.761576\n",
        "LogVL                 1.157234\n",
        "dtype: float64"
       ]
      }
     ],
     "prompt_number": 44
    },
    {
     "cell_type": "code",
     "collapsed": false,
     "input": [
      "check_data['AP1_I_Score'].describe()"
     ],
     "language": "python",
     "metadata": {},
     "outputs": [
      {
       "metadata": {},
       "output_type": "pyout",
       "prompt_number": 45,
       "text": [
        "count    454.000000\n",
        "mean       2.711878\n",
        "std        2.069136\n",
        "min       -4.104490\n",
        "25%        1.721269\n",
        "50%        1.721269\n",
        "75%        5.704474\n",
        "max        8.215880\n",
        "dtype: float64"
       ]
      }
     ],
     "prompt_number": 45
    },
    {
     "cell_type": "code",
     "collapsed": false,
     "input": [
      "\n",
      "\n",
      "nscore_cols = [col for col in check_data.columns if 'Score' in col]\n",
      "pat_graph = nx.Graph()\n",
      "with open('node_attributes.csv', 'w') as handle:\n",
      "    writer = csv.DictWriter(handle, check_data.columns)\n",
      "    for key, row in check_data.iterrows():\n",
      "        pat_graph.add_node(key, **row.dropna().to_dict())\n",
      "        writer.writerow(row.dropna().to_dict())\n",
      "    \n",
      "with open('edge_table.csv', 'w') as handle:\n",
      "    writer = csv.DictWriter(handle, ['Source', 'Target']+nscore_cols)\n",
      "    for (key1, row1), (key2, row2) in combinations(check_data.iterrows(), 2):\n",
      "    \n",
      "        tdists = (row1[nscore_cols]-row2[nscore_cols])\n",
      "        tdict = tdists.dropna().to_dict()\n",
      "        tdict['Source'], tdict['Target'] = (key1, key2)\n",
      "        writer.writerow(tdict)\n",
      "        mean_dists = tdists.mean()\n",
      "        if mean_dists == 0:\n",
      "            pat_graph.add_edge(key1, key2)\n",
      "\n"
     ],
     "language": "python",
     "metadata": {},
     "outputs": [],
     "prompt_number": 107
    },
    {
     "cell_type": "code",
     "collapsed": false,
     "input": [
      "nx.write_gml(pat_graph, 'ltr_tf_graph.gml')"
     ],
     "language": "python",
     "metadata": {},
     "outputs": [],
     "prompt_number": 108
    },
    {
     "cell_type": "code",
     "collapsed": false,
     "input": [
      "dists = []\n",
      "for (key1, row1), (key2, row2) in combinations(check_data.iterrows(), 2):\n",
      "    \n",
      "    dists.append(row1[score_cols]-row2[score_cols])\n",
      "dists_df = pd.DataFrame(dists)\n",
      "    "
     ],
     "language": "python",
     "metadata": {},
     "outputs": [],
     "prompt_number": 91
    },
    {
     "cell_type": "code",
     "collapsed": false,
     "input": [
      "print diffs_df.std()"
     ],
     "language": "python",
     "metadata": {},
     "outputs": [
      {
       "output_type": "stream",
       "stream": "stdout",
       "text": [
        "AP1-I       2.162032\n",
        "AP1-II      2.667938\n",
        "AP1-III     0.985831\n",
        "AP1-IV      2.541642\n",
        "ATF/Creb    2.102272\n",
        "CEBP-I      2.114661\n",
        "CEBP-II     2.361735\n",
        "ETS         1.787472\n",
        "NFKB-I      4.248597\n",
        "NFKB-II     5.451791\n",
        "SPI         1.692703\n",
        "SPII        2.695668\n",
        "SpIII       2.695507\n",
        "dtype: float64\n"
       ]
      }
     ],
     "prompt_number": 92
    },
    {
     "cell_type": "code",
     "collapsed": false,
     "input": [
      "from scipy.stats import gaussian_kde\n",
      "#fig, ax = plt.subplots(1,1, figsize=(20,5))\n",
      "vals = diffs_df.fillna(diffs_df.min()).mean(axis=1)\n",
      "#kde = gaussian_kde(vals)\n",
      "rank_vals = vals.rank()\n",
      "\n",
      "\n",
      "\n",
      "#ax.set_xticks(np.arange(0, 10, 0.5))"
     ],
     "language": "python",
     "metadata": {},
     "outputs": [],
     "prompt_number": 101
    },
    {
     "cell_type": "code",
     "collapsed": false,
     "input": [
      "print vals[rank_vals.idxmax()], vals[rank_vals.idxmin()]"
     ],
     "language": "python",
     "metadata": {},
     "outputs": [
      {
       "output_type": "stream",
       "stream": "stdout",
       "text": [
        "9.93954424102 0.0\n"
       ]
      }
     ],
     "prompt_number": 105
    },
    {
     "cell_type": "code",
     "collapsed": false,
     "input": [
      "vals"
     ],
     "language": "python",
     "metadata": {},
     "outputs": []
    }
   ],
   "metadata": {}
  }
 ]
}