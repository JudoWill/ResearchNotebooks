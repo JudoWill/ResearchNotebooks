{
 "metadata": {
  "name": "Dream2Problem"
 },
 "nbformat": 3,
 "nbformat_minor": 0,
 "worksheets": [
  {
   "cells": [
    {
     "cell_type": "code",
     "collapsed": false,
     "input": [
      "from __future__ import division\n",
      "import os, os.path\n",
      "from pandas import read_csv, DataFrame, Series, Index, MultiIndex, concat\n",
      "import csv\n",
      "from collections import defaultdict\n",
      "from itertools import islice\n",
      "from StringIO import StringIO"
     ],
     "language": "python",
     "metadata": {},
     "outputs": [],
     "prompt_number": 1
    },
    {
     "cell_type": "code",
     "collapsed": false,
     "input": [
      "import sys\n",
      "sys.path.append('/home/will/tdlData/will/IpythonNotebook/')\n",
      "import DreamMicroUtils\n",
      "\n",
      "os.chdir('/home/will/Dropbox/DREAMLargeData/WillStuff/')\n",
      "datafile = '/home/will/Dropbox/DREAMProject/DREAM7_DrugSensitivity2/ACalifano_DLBCL_Ly3_14Comp_treatment.txt'\n"
     ],
     "language": "python",
     "metadata": {},
     "outputs": [],
     "prompt_number": 2
    },
    {
     "cell_type": "code",
     "collapsed": false,
     "input": [
      "def get_headers(handle):\n",
      "    reader = csv.reader(handle, delimiter = '\\t')\n",
      "    ids = reader.next() #junk-line\n",
      "    drugnames = reader.next()[2:]\n",
      "    timepoints = reader.next()[2:]\n",
      "    concs = reader.next()[2:]\n",
      "    headers = [('probeid',  '', '', ''),\n",
      "               ('genename', '', '', '')]\n",
      "    found = set()\n",
      "    for tup in zip(drugnames, [int(x) for x in timepoints], concs):\n",
      "        num = 0\n",
      "        while tup + (num,) in found:\n",
      "            num += 1\n",
      "        found.add(tup + (num,))\n",
      "        headers.append(tup + (num,))\n",
      "        \n",
      "    headerindex = MultiIndex.from_tuples(headers, \n",
      "                                         names = ['drug', 'timepoint', \n",
      "                                                  'concentration', 'replicate'])\n",
      "    return ids, headerindex\n",
      "\n",
      "def iterate_lines(handle):\n",
      "    reader = csv.reader(handle, delimiter = '\\t')\n",
      "    for row in reader:\n",
      "        if ' /// ' not in row[1]:\n",
      "            yield '\\t'.join(row)\n",
      "    \n",
      "\n",
      "with open(datafile) as handle:\n",
      "    ids, headers = get_headers(handle)\n",
      "    odf = read_csv(StringIO('\\n'.join(iterate_lines(handle))), sep = '\\t', names = ids)\n",
      "#odf.columns = headers"
     ],
     "language": "python",
     "metadata": {},
     "outputs": [],
     "prompt_number": 17
    },
    {
     "cell_type": "code",
     "collapsed": false,
     "input": [
      "gene_level_data = odf.drop(['AffyID'], axis = 1).groupby('Genename').agg('median')"
     ],
     "language": "python",
     "metadata": {},
     "outputs": [],
     "prompt_number": 19
    },
    {
     "cell_type": "code",
     "collapsed": false,
     "input": [
      "gene_level_data.columns = headers[2:]"
     ],
     "language": "python",
     "metadata": {},
     "outputs": [],
     "prompt_number": 22
    },
    {
     "cell_type": "code",
     "collapsed": false,
     "input": [
      "gene_level_data = gene_level_data.reorder_levels([0,2,1,3], axis=1)\n"
     ],
     "language": "python",
     "metadata": {},
     "outputs": [],
     "prompt_number": 23
    },
    {
     "cell_type": "code",
     "collapsed": false,
     "input": [
      "drugs = sorted(set(gene_level_data.columns.get_level_values(0))- set(['DMSO', 'Media']))\n",
      "timepoints = sorted(set(gene_level_data.columns.get_level_values(2)))"
     ],
     "language": "python",
     "metadata": {},
     "outputs": [],
     "prompt_number": 24
    },
    {
     "cell_type": "code",
     "collapsed": false,
     "input": [
      "from itertools import product\n",
      "from pandas import Panel\n",
      "\n",
      "mi = MultiIndex.from_tuples(list(product(drugs, timepoints)), \n",
      "                            names = ['Drug', 'TimePoint'])\n",
      "fold_change_panel = Panel(items = ['IC20', '1/10 of IC20'], \n",
      "                          major_axis = gene_level_data.index, \n",
      "                          minor_axis = mi)\n",
      "pval_panel = Panel(items = ['IC20', '1/10 of IC20'], \n",
      "                          major_axis = gene_level_data.index, \n",
      "                          minor_axis = mi)"
     ],
     "language": "python",
     "metadata": {},
     "outputs": [],
     "prompt_number": 25
    },
    {
     "cell_type": "code",
     "collapsed": false,
     "input": [
      "import numpy as np\n",
      "from scipy.stats import ttest_ind\n",
      "\n",
      "untreated = concat([gene_level_data['DMSO'], \n",
      "                    gene_level_data['Media']],\n",
      "                   axis = 1)\n",
      "\n",
      "for drug, tp, c in product(drugs, timepoints, ['IC20', '1/10 of IC20']):\n",
      "    \n",
      "    m1 = gene_level_data[drug][c][tp]\n",
      "    \n",
      "    \n",
      "    fold_change_panel[c][drug][tp] = np.log2(m1.mean(axis=1)/untreated.mean(axis=1))\n",
      "    _, pvals = ttest_ind(m1, untreated, axis=1)\n",
      "    #print pvals.shape, l.values.shape\n",
      "    #raise KeyError\n",
      "    pval_panel[c][drug][tp] = Series(pvals, index = untreated.index)"
     ],
     "language": "python",
     "metadata": {},
     "outputs": [],
     "prompt_number": 26
    },
    {
     "cell_type": "code",
     "collapsed": false,
     "input": [
      "pval_panel['IC20'].to_csv('/home/will/Downloads/Dream2pvals.csv')"
     ],
     "language": "python",
     "metadata": {},
     "outputs": [],
     "prompt_number": 30
    },
    {
     "cell_type": "code",
     "collapsed": false,
     "input": [],
     "language": "python",
     "metadata": {},
     "outputs": []
    }
   ],
   "metadata": {}
  }
 ]
}