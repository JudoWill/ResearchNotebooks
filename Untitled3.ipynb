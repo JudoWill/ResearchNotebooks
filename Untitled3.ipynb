{
 "metadata": {
  "name": "Untitled3"
 },
 "nbformat": 3,
 "nbformat_minor": 0,
 "worksheets": [
  {
   "cells": [
    {
     "cell_type": "code",
     "collapsed": false,
     "input": [
      "import os\n",
      "import sys\n",
      "sys.path.append('/home/will/PySeqUtils/')"
     ],
     "language": "python",
     "metadata": {},
     "outputs": [],
     "prompt_number": 1
    },
    {
     "cell_type": "code",
     "collapsed": false,
     "input": [
      "import GeneralSeqTools\n",
      "import glob"
     ],
     "language": "python",
     "metadata": {},
     "outputs": [],
     "prompt_number": 2
    },
    {
     "cell_type": "code",
     "collapsed": false,
     "input": [
      "import pandas as pd\n",
      "files = sorted(glob.glob('/home/will/HIVTropism/LANLdata/SubB*.fasta'))\n",
      "\n",
      "seqs = []\n",
      "for f in files:\n",
      "    prot_name = f.split('/')[-1].split('.')[0].split('-')[1]\n",
      "    print prot_name\n",
      "    with open(f) as handle:\n",
      "        for name, seq in GeneralSeqTools.fasta_reader(handle):\n",
      "            seqs.append({\n",
      "                         'GI':name,\n",
      "                         'Seq':seq.replace('-', '').upper(),\n",
      "                         'Prot':prot_name\n",
      "                         })\n",
      "            \n"
     ],
     "language": "python",
     "metadata": {},
     "outputs": [
      {
       "output_type": "stream",
       "stream": "stdout",
       "text": [
        "Int\n",
        "LTR"
       ]
      },
      {
       "output_type": "stream",
       "stream": "stdout",
       "text": [
        "\n",
        "Nef\n",
        "PR"
       ]
      },
      {
       "output_type": "stream",
       "stream": "stdout",
       "text": [
        "\n",
        "RT"
       ]
      },
      {
       "output_type": "stream",
       "stream": "stdout",
       "text": [
        "\n",
        "Tat_1"
       ]
      },
      {
       "output_type": "stream",
       "stream": "stdout",
       "text": [
        "\n",
        "Tat_2\n",
        "V3"
       ]
      },
      {
       "output_type": "stream",
       "stream": "stdout",
       "text": [
        "\n",
        "Vif"
       ]
      },
      {
       "output_type": "stream",
       "stream": "stdout",
       "text": [
        "\n",
        "Vpr\n",
        "gp120"
       ]
      },
      {
       "output_type": "stream",
       "stream": "stdout",
       "text": [
        "\n",
        "gp41"
       ]
      },
      {
       "output_type": "stream",
       "stream": "stdout",
       "text": [
        "\n"
       ]
      }
     ],
     "prompt_number": 3
    },
    {
     "cell_type": "code",
     "collapsed": false,
     "input": [
      "seq_df = pd.pivot_table(pd.DataFrame(seqs),\n",
      "                        rows = 'GI',\n",
      "                        cols = 'Prot',\n",
      "                        values = 'Seq',\n",
      "                        aggfunc = 'first')"
     ],
     "language": "python",
     "metadata": {},
     "outputs": [],
     "prompt_number": 4
    },
    {
     "cell_type": "code",
     "collapsed": false,
     "input": [
      "from Bio import Seq\n",
      "from Bio.Alphabet import generic_dna\n",
      "res = Seq.Seq('ATG', alphabet=generic_dna).translate()\n",
      "res.tostring()"
     ],
     "language": "python",
     "metadata": {},
     "outputs": [
      {
       "metadata": {},
       "output_type": "pyout",
       "prompt_number": 14,
       "text": [
        "'M'"
       ]
      }
     ],
     "prompt_number": 14
    },
    {
     "cell_type": "code",
     "collapsed": false,
     "input": [
      "def translate(inseq):\n",
      "    return Seq.Seq(inseq, alphabet=generic_dna).translate().tostring()\n",
      "benj_seqs = seq_df[['LTR', 'Tat_1', 'Tat_2', 'Vpr', 'V3']].dropna()['Tat_2'].map(translate)"
     ],
     "language": "python",
     "metadata": {},
     "outputs": [],
     "prompt_number": 16
    },
    {
     "cell_type": "code",
     "collapsed": false,
     "input": [
      "with open('/home/will/Downloads/tat2_for_benj.fasta', 'w') as handle:\n",
      "    GeneralSeqTools.fasta_writer(handle, benj_seqs.to_dict().items())"
     ],
     "language": "python",
     "metadata": {},
     "outputs": [],
     "prompt_number": 18
    },
    {
     "cell_type": "code",
     "collapsed": false,
     "input": [],
     "language": "python",
     "metadata": {},
     "outputs": []
    }
   ],
   "metadata": {}
  }
 ]
}