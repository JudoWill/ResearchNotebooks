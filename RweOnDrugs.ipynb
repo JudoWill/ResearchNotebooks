{
 "metadata": {
  "name": "RweOnDrugs"
 },
 "nbformat": 3,
 "nbformat_minor": 0,
 "worksheets": [
  {
   "cells": [
    {
     "cell_type": "heading",
     "level": 1,
     "metadata": {},
     "source": [
      "Are We On Drugs"
     ]
    },
    {
     "cell_type": "markdown",
     "metadata": {},
     "source": [
      "I want to look at wether the patients Total Modified Hopkins Dementia Score is altered by whether the patient tested positive AT the visit. There has been some nominal concern that patients who are testing positive for Cocaine (or anything else) are still high (or recovering) and that could artificially lower thier TMHDS. The doctors in the clinic should be sending innebriated people home instead of testing them, but this is a nice second check.\n",
      "\n",
      "So to look for this effect I am finding a set of patients in which they tested positive at one (or more visits) and then tested negative at one (or more visits) and had TMHDS at the corresponding visits. Using a Wilcoxen test (since the scores are non-normal) I'll look to see whether the visits with a positive drug test are lower then visits with a negative drug test."
     ]
    },
    {
     "cell_type": "code",
     "collapsed": false,
     "input": [
      "import os, os.path\n",
      "from pandas import *\n",
      "from matplotlib import pyplot as plt"
     ],
     "language": "python",
     "metadata": {},
     "outputs": [],
     "prompt_number": 1
    },
    {
     "cell_type": "code",
     "collapsed": false,
     "input": [
      "from pandas import HDFStore #This is a file storage format for large collections of data\n",
      "\n",
      "\n",
      "store = HDFStore('/home/will/HIVReportGen/Data/BaseRedcap/HIVAIDSGeneticAnalys_DATA_LABELS_2013-01-16_1211.hdf')\n",
      "redcap_data = store['redcap']\n",
      "store.close()"
     ],
     "language": "python",
     "metadata": {},
     "outputs": [],
     "prompt_number": 2
    },
    {
     "cell_type": "raw",
     "metadata": {},
     "source": [
      "We need to pull out the columns with a drug-test, the TMHDS, and the patient visit information."
     ]
    },
    {
     "cell_type": "code",
     "collapsed": false,
     "input": [
      "drug_cols = [\n",
      "'Amphetamines',\n",
      "'Barbiturates',\n",
      "'Benzodiazepines',\n",
      "#'Cannabinoid', #remove Cannabus since the test can be positive for weeks after use.\n",
      "'Cocaine + metabolite',\n",
      "'Opiates',\n",
      "'Phencyclidine'\n",
      "]\n",
      "\n",
      "data = redcap_data[drug_cols + ['Patient ID', 'Patient visit number', 'Total Modified Hopkins Dementia Score']]\n",
      "data = data.rename(columns = {\n",
      "                        'Patient visit number':'VisitNum',\n",
      "                        'Total Modified Hopkins Dementia Score':'HIVDI'}).dropna()"
     ],
     "language": "python",
     "metadata": {},
     "outputs": [],
     "prompt_number": 3
    },
    {
     "cell_type": "raw",
     "metadata": {},
     "source": [
      "Look for rows with a positive drug test. Then group by Patient ID to calculate the mean of TMHDS with a positive test and the mean of the negative test. Then merge the datasets so we can find patients where we hav examples of both."
     ]
    },
    {
     "cell_type": "code",
     "collapsed": false,
     "input": [
      "pos_mask = data[drug_cols].any(axis = 1)\n",
      "pos_scores = data[['Patient ID', 'VisitNum', 'HIVDI']][pos_mask]\n",
      "neg_scores = data[['Patient ID', 'VisitNum', 'HIVDI']][~pos_mask]\n",
      "\n",
      "pat_neg = neg_scores.groupby('Patient ID').mean()\n",
      "pat_pos = pos_scores.groupby('Patient ID').mean()\n",
      "\n",
      "merged_data = merge(pat_neg, pat_pos, \n",
      "                    left_index = True, \n",
      "                    right_index = True,\n",
      "                    suffixes = ('_neg', '_pos'))"
     ],
     "language": "python",
     "metadata": {},
     "outputs": [],
     "prompt_number": 4
    },
    {
     "cell_type": "code",
     "collapsed": false,
     "input": [
      "merged_data.boxplot();\n",
      "plt.ylabel('TMHDS');"
     ],
     "language": "python",
     "metadata": {},
     "outputs": [
      {
       "output_type": "display_data",
       "png": "[encoded data removed]"
      }
     ],
     "prompt_number": 5
    },
    {
     "cell_type": "raw",
     "metadata": {},
     "source": [
      "The boxplot shows the TMHDS for the SAME set of patients during a positive drug-test and a negitive drug test. \n",
      "From looking at the Boxplot I don't see anything at all but I'll check anyways."
     ]
    },
    {
     "cell_type": "code",
     "collapsed": false,
     "input": [
      "from scipy.stats import wilcoxon\n",
      "\n",
      "_, pval = wilcoxon(merged_data['HIVDI_neg'], merged_data['HIVDI_pos'])\n",
      "print 'P-value:', pval\n",
      "print 'Num Patients:', len(merged_data.index)"
     ],
     "language": "python",
     "metadata": {},
     "outputs": [
      {
       "output_type": "stream",
       "stream": "stdout",
       "text": [
        "P-value: 0.777051337653\n",
        "Num Patients: 34\n"
       ]
      }
     ],
     "prompt_number": 6
    },
    {
     "cell_type": "raw",
     "metadata": {},
     "source": [
      "Not even close! But this requires that a patient have BOTH a positive and a negative test. Our extreme drug users never have a negative test and are excluded from this test. I should also check to see whether the TMHDS is different between samples with a positive test vs. a negative test."
     ]
    },
    {
     "cell_type": "code",
     "collapsed": false,
     "input": [
      "data['Was-pos'] = pos_mask\n",
      "data.boxplot(by = 'Was-pos');\n",
      "plt.ylabel('TMHDS');"
     ],
     "language": "python",
     "metadata": {},
     "outputs": [
      {
       "output_type": "display_data",
       "png": "[encoded data removed]"
      }
     ],
     "prompt_number": 7
    },
    {
     "cell_type": "raw",
     "metadata": {},
     "source": [
      "In this boxplot I grouped all TMHDS from visits with a positive score (True-label) vs with a negative score (False label). "
     ]
    },
    {
     "cell_type": "code",
     "collapsed": false,
     "input": [
      "from scipy.stats import ks_2samp\n",
      "\n",
      "_, pval = ks_2samp(pos_scores['HIVDI'], neg_scores['HIVDI'])\n",
      "print 'P-value:', pval"
     ],
     "language": "python",
     "metadata": {},
     "outputs": [
      {
       "output_type": "stream",
       "stream": "stdout",
       "text": [
        "P-value: 0.903877307631\n"
       ]
      }
     ],
     "prompt_number": 8
    },
    {
     "cell_type": "markdown",
     "metadata": {},
     "source": [
      "Nope, I don't think the positive test alters the TMHDS. When I look at the same patient I don't see an effect of the positive test."
     ]
    },
    {
     "cell_type": "code",
     "collapsed": false,
     "input": [],
     "language": "python",
     "metadata": {},
     "outputs": [],
     "prompt_number": 8
    }
   ],
   "metadata": {}
  }
 ]
}